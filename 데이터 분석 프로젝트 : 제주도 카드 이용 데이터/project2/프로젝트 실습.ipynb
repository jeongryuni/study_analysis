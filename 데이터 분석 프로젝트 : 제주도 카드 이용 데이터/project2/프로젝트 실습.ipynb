{
 "cells": [
  {
   "cell_type": "code",
   "execution_count": 23,
   "id": "initial_id",
   "metadata": {
    "collapsed": true,
    "ExecuteTime": {
     "end_time": "2024-05-14T09:03:19.222131Z",
     "start_time": "2024-05-14T09:03:19.143199Z"
    }
   },
   "outputs": [],
   "source": [
    "%matplotlib inline\n",
    "import pandas as pd\n",
    "import matplotlib.pyplot as plt   # as in Pycharm\n",
    "import seaborn as sns\n",
    "\n",
    "from matplotlib import rc \n",
    "\n",
    "rc('font', family='AppleGothic')\n",
    "plt.rcParams['axes.unicode_minus'] = False"
   ]
  },
  {
   "cell_type": "code",
   "outputs": [],
   "source": [
    "jeju_reg_17_df = pd.read_csv('data/jeju_card_region_2017.csv')\n",
    "jeju_reg_18_df = pd.read_csv('data/jeju_card_region_2018.csv')\n",
    "jeju_pop_df = pd.read_csv('data/jeju_population.csv')"
   ],
   "metadata": {
    "collapsed": false,
    "ExecuteTime": {
     "end_time": "2024-05-14T09:03:19.481339Z",
     "start_time": "2024-05-14T09:03:19.219490Z"
    }
   },
   "id": "f7ed7d1793556126",
   "execution_count": 24
  },
  {
   "cell_type": "code",
   "outputs": [
    {
     "name": "stdout",
     "output_type": "stream",
     "text": [
      "(26968, 7)\n",
      "(27183, 7)\n",
      "(527026, 6)\n"
     ]
    }
   ],
   "source": [
    "print(jeju_reg_17_df.shape) \n",
    "print(jeju_reg_18_df.shape)\n",
    "print(jeju_pop_df.shape)   "
   ],
   "metadata": {
    "collapsed": false,
    "ExecuteTime": {
     "end_time": "2024-05-14T09:03:19.486386Z",
     "start_time": "2024-05-14T09:03:19.482635Z"
    }
   },
   "id": "a9fffb19555b8242",
   "execution_count": 25
  },
  {
   "cell_type": "code",
   "outputs": [
    {
     "name": "stdout",
     "output_type": "stream",
     "text": [
      "<class 'pandas.core.frame.DataFrame'>\n",
      "RangeIndex: 26968 entries, 0 to 26967\n",
      "Data columns (total 7 columns):\n",
      " #   Column  Non-Null Count  Dtype \n",
      "---  ------  --------------  ----- \n",
      " 0   연월      26968 non-null  object\n",
      " 1   시군구명    26968 non-null  object\n",
      " 2   읍면동명    26968 non-null  object\n",
      " 3   업종명     26968 non-null  object\n",
      " 4   성별      26968 non-null  object\n",
      " 5   이용자수    26968 non-null  int64 \n",
      " 6   이용금액    26968 non-null  int64 \n",
      "dtypes: int64(2), object(5)\n",
      "memory usage: 1.4+ MB\n"
     ]
    }
   ],
   "source": [
    "jeju_reg_17_df.info()"
   ],
   "metadata": {
    "collapsed": false,
    "ExecuteTime": {
     "end_time": "2024-05-14T09:03:19.497708Z",
     "start_time": "2024-05-14T09:03:19.487432Z"
    }
   },
   "id": "248b07fb8e81e262",
   "execution_count": 26
  },
  {
   "cell_type": "code",
   "outputs": [
    {
     "name": "stdout",
     "output_type": "stream",
     "text": [
      "<class 'pandas.core.frame.DataFrame'>\n",
      "RangeIndex: 27183 entries, 0 to 27182\n",
      "Data columns (total 7 columns):\n",
      " #   Column  Non-Null Count  Dtype \n",
      "---  ------  --------------  ----- \n",
      " 0   연월      27183 non-null  object\n",
      " 1   시군구명    27183 non-null  object\n",
      " 2   읍면동명    27183 non-null  object\n",
      " 3   업종명     27183 non-null  object\n",
      " 4   성별      27183 non-null  object\n",
      " 5   이용자수    27183 non-null  int64 \n",
      " 6   이용금액    27183 non-null  int64 \n",
      "dtypes: int64(2), object(5)\n",
      "memory usage: 1.5+ MB\n"
     ]
    }
   ],
   "source": [
    "jeju_reg_18_df.info()"
   ],
   "metadata": {
    "collapsed": false,
    "ExecuteTime": {
     "end_time": "2024-05-14T09:03:19.520521Z",
     "start_time": "2024-05-14T09:03:19.497983Z"
    }
   },
   "id": "9e90ea5a0bd76a66",
   "execution_count": 27
  },
  {
   "cell_type": "code",
   "outputs": [
    {
     "name": "stdout",
     "output_type": "stream",
     "text": [
      "<class 'pandas.core.frame.DataFrame'>\n",
      "RangeIndex: 527026 entries, 0 to 527025\n",
      "Data columns (total 6 columns):\n",
      " #   Column  Non-Null Count   Dtype \n",
      "---  ------  --------------   ----- \n",
      " 0   연월일     527026 non-null  int64 \n",
      " 1   시군구명    527026 non-null  object\n",
      " 2   읍면동명    527026 non-null  object\n",
      " 3   성별      527026 non-null  object\n",
      " 4   연령대     527026 non-null  object\n",
      " 5   방문인구    527026 non-null  int64 \n",
      "dtypes: int64(2), object(4)\n",
      "memory usage: 24.1+ MB\n"
     ]
    }
   ],
   "source": [
    "jeju_pop_df.info()"
   ],
   "metadata": {
    "collapsed": false,
    "ExecuteTime": {
     "end_time": "2024-05-14T09:03:19.551689Z",
     "start_time": "2024-05-14T09:03:19.542268Z"
    }
   },
   "id": "e6985571d1a95c29",
   "execution_count": 28
  },
  {
   "cell_type": "code",
   "outputs": [
    {
     "data": {
      "text/plain": "                연월   시군구명   읍면동명    업종명     성별      이용자수           이용금액\ncount        26968  26968  26968  26968  26968 26968.000      26968.000\nunique          12      2     43     41      2       NaN            NaN\ntop     2017-11-01    제주시    노형동   슈퍼마켓     남성       NaN            NaN\nfreq          2265  16076    795   1032  13518       NaN            NaN\nmean           NaN    NaN    NaN    NaN    NaN  1703.495   63231393.341\nstd            NaN    NaN    NaN    NaN    NaN  4313.161  198798394.063\nmin            NaN    NaN    NaN    NaN    NaN     1.000         10.000\n25%            NaN    NaN    NaN    NaN    NaN    43.000    2635000.000\n50%            NaN    NaN    NaN    NaN    NaN   281.000   12125170.000\n75%            NaN    NaN    NaN    NaN    NaN  1333.250   49059281.000\nmax            NaN    NaN    NaN    NaN    NaN 62761.000 5092989749.000",
      "text/html": "<div>\n<style scoped>\n    .dataframe tbody tr th:only-of-type {\n        vertical-align: middle;\n    }\n\n    .dataframe tbody tr th {\n        vertical-align: top;\n    }\n\n    .dataframe thead th {\n        text-align: right;\n    }\n</style>\n<table border=\"1\" class=\"dataframe\">\n  <thead>\n    <tr style=\"text-align: right;\">\n      <th></th>\n      <th>연월</th>\n      <th>시군구명</th>\n      <th>읍면동명</th>\n      <th>업종명</th>\n      <th>성별</th>\n      <th>이용자수</th>\n      <th>이용금액</th>\n    </tr>\n  </thead>\n  <tbody>\n    <tr>\n      <th>count</th>\n      <td>26968</td>\n      <td>26968</td>\n      <td>26968</td>\n      <td>26968</td>\n      <td>26968</td>\n      <td>26968.000</td>\n      <td>26968.000</td>\n    </tr>\n    <tr>\n      <th>unique</th>\n      <td>12</td>\n      <td>2</td>\n      <td>43</td>\n      <td>41</td>\n      <td>2</td>\n      <td>NaN</td>\n      <td>NaN</td>\n    </tr>\n    <tr>\n      <th>top</th>\n      <td>2017-11-01</td>\n      <td>제주시</td>\n      <td>노형동</td>\n      <td>슈퍼마켓</td>\n      <td>남성</td>\n      <td>NaN</td>\n      <td>NaN</td>\n    </tr>\n    <tr>\n      <th>freq</th>\n      <td>2265</td>\n      <td>16076</td>\n      <td>795</td>\n      <td>1032</td>\n      <td>13518</td>\n      <td>NaN</td>\n      <td>NaN</td>\n    </tr>\n    <tr>\n      <th>mean</th>\n      <td>NaN</td>\n      <td>NaN</td>\n      <td>NaN</td>\n      <td>NaN</td>\n      <td>NaN</td>\n      <td>1703.495</td>\n      <td>63231393.341</td>\n    </tr>\n    <tr>\n      <th>std</th>\n      <td>NaN</td>\n      <td>NaN</td>\n      <td>NaN</td>\n      <td>NaN</td>\n      <td>NaN</td>\n      <td>4313.161</td>\n      <td>198798394.063</td>\n    </tr>\n    <tr>\n      <th>min</th>\n      <td>NaN</td>\n      <td>NaN</td>\n      <td>NaN</td>\n      <td>NaN</td>\n      <td>NaN</td>\n      <td>1.000</td>\n      <td>10.000</td>\n    </tr>\n    <tr>\n      <th>25%</th>\n      <td>NaN</td>\n      <td>NaN</td>\n      <td>NaN</td>\n      <td>NaN</td>\n      <td>NaN</td>\n      <td>43.000</td>\n      <td>2635000.000</td>\n    </tr>\n    <tr>\n      <th>50%</th>\n      <td>NaN</td>\n      <td>NaN</td>\n      <td>NaN</td>\n      <td>NaN</td>\n      <td>NaN</td>\n      <td>281.000</td>\n      <td>12125170.000</td>\n    </tr>\n    <tr>\n      <th>75%</th>\n      <td>NaN</td>\n      <td>NaN</td>\n      <td>NaN</td>\n      <td>NaN</td>\n      <td>NaN</td>\n      <td>1333.250</td>\n      <td>49059281.000</td>\n    </tr>\n    <tr>\n      <th>max</th>\n      <td>NaN</td>\n      <td>NaN</td>\n      <td>NaN</td>\n      <td>NaN</td>\n      <td>NaN</td>\n      <td>62761.000</td>\n      <td>5092989749.000</td>\n    </tr>\n  </tbody>\n</table>\n</div>"
     },
     "execution_count": 29,
     "metadata": {},
     "output_type": "execute_result"
    }
   ],
   "source": [
    "jeju_reg_17_df.describe(include='all')"
   ],
   "metadata": {
    "collapsed": false,
    "ExecuteTime": {
     "end_time": "2024-05-14T09:03:19.569051Z",
     "start_time": "2024-05-14T09:03:19.550661Z"
    }
   },
   "id": "51deabd8005d0008",
   "execution_count": 29
  },
  {
   "cell_type": "code",
   "outputs": [],
   "source": [
    "pd.options.display.float_format = '{:.3f}'.format"
   ],
   "metadata": {
    "collapsed": false,
    "ExecuteTime": {
     "end_time": "2024-05-14T09:03:19.569473Z",
     "start_time": "2024-05-14T09:03:19.564152Z"
    }
   },
   "id": "cb3d6619142ecdd1",
   "execution_count": 30
  },
  {
   "cell_type": "code",
   "outputs": [
    {
     "data": {
      "text/plain": "                연월   시군구명   읍면동명    업종명     성별      이용자수           이용금액\ncount        26968  26968  26968  26968  26968 26968.000      26968.000\nunique          12      2     43     41      2       NaN            NaN\ntop     2017-11-01    제주시    노형동   슈퍼마켓     남성       NaN            NaN\nfreq          2265  16076    795   1032  13518       NaN            NaN\nmean           NaN    NaN    NaN    NaN    NaN  1703.495   63231393.341\nstd            NaN    NaN    NaN    NaN    NaN  4313.161  198798394.063\nmin            NaN    NaN    NaN    NaN    NaN     1.000         10.000\n25%            NaN    NaN    NaN    NaN    NaN    43.000    2635000.000\n50%            NaN    NaN    NaN    NaN    NaN   281.000   12125170.000\n75%            NaN    NaN    NaN    NaN    NaN  1333.250   49059281.000\nmax            NaN    NaN    NaN    NaN    NaN 62761.000 5092989749.000",
      "text/html": "<div>\n<style scoped>\n    .dataframe tbody tr th:only-of-type {\n        vertical-align: middle;\n    }\n\n    .dataframe tbody tr th {\n        vertical-align: top;\n    }\n\n    .dataframe thead th {\n        text-align: right;\n    }\n</style>\n<table border=\"1\" class=\"dataframe\">\n  <thead>\n    <tr style=\"text-align: right;\">\n      <th></th>\n      <th>연월</th>\n      <th>시군구명</th>\n      <th>읍면동명</th>\n      <th>업종명</th>\n      <th>성별</th>\n      <th>이용자수</th>\n      <th>이용금액</th>\n    </tr>\n  </thead>\n  <tbody>\n    <tr>\n      <th>count</th>\n      <td>26968</td>\n      <td>26968</td>\n      <td>26968</td>\n      <td>26968</td>\n      <td>26968</td>\n      <td>26968.000</td>\n      <td>26968.000</td>\n    </tr>\n    <tr>\n      <th>unique</th>\n      <td>12</td>\n      <td>2</td>\n      <td>43</td>\n      <td>41</td>\n      <td>2</td>\n      <td>NaN</td>\n      <td>NaN</td>\n    </tr>\n    <tr>\n      <th>top</th>\n      <td>2017-11-01</td>\n      <td>제주시</td>\n      <td>노형동</td>\n      <td>슈퍼마켓</td>\n      <td>남성</td>\n      <td>NaN</td>\n      <td>NaN</td>\n    </tr>\n    <tr>\n      <th>freq</th>\n      <td>2265</td>\n      <td>16076</td>\n      <td>795</td>\n      <td>1032</td>\n      <td>13518</td>\n      <td>NaN</td>\n      <td>NaN</td>\n    </tr>\n    <tr>\n      <th>mean</th>\n      <td>NaN</td>\n      <td>NaN</td>\n      <td>NaN</td>\n      <td>NaN</td>\n      <td>NaN</td>\n      <td>1703.495</td>\n      <td>63231393.341</td>\n    </tr>\n    <tr>\n      <th>std</th>\n      <td>NaN</td>\n      <td>NaN</td>\n      <td>NaN</td>\n      <td>NaN</td>\n      <td>NaN</td>\n      <td>4313.161</td>\n      <td>198798394.063</td>\n    </tr>\n    <tr>\n      <th>min</th>\n      <td>NaN</td>\n      <td>NaN</td>\n      <td>NaN</td>\n      <td>NaN</td>\n      <td>NaN</td>\n      <td>1.000</td>\n      <td>10.000</td>\n    </tr>\n    <tr>\n      <th>25%</th>\n      <td>NaN</td>\n      <td>NaN</td>\n      <td>NaN</td>\n      <td>NaN</td>\n      <td>NaN</td>\n      <td>43.000</td>\n      <td>2635000.000</td>\n    </tr>\n    <tr>\n      <th>50%</th>\n      <td>NaN</td>\n      <td>NaN</td>\n      <td>NaN</td>\n      <td>NaN</td>\n      <td>NaN</td>\n      <td>281.000</td>\n      <td>12125170.000</td>\n    </tr>\n    <tr>\n      <th>75%</th>\n      <td>NaN</td>\n      <td>NaN</td>\n      <td>NaN</td>\n      <td>NaN</td>\n      <td>NaN</td>\n      <td>1333.250</td>\n      <td>49059281.000</td>\n    </tr>\n    <tr>\n      <th>max</th>\n      <td>NaN</td>\n      <td>NaN</td>\n      <td>NaN</td>\n      <td>NaN</td>\n      <td>NaN</td>\n      <td>62761.000</td>\n      <td>5092989749.000</td>\n    </tr>\n  </tbody>\n</table>\n</div>"
     },
     "execution_count": 31,
     "metadata": {},
     "output_type": "execute_result"
    }
   ],
   "source": [
    "jeju_reg_17_df.describe(include='all')"
   ],
   "metadata": {
    "collapsed": false,
    "ExecuteTime": {
     "end_time": "2024-05-14T09:03:19.611296Z",
     "start_time": "2024-05-14T09:03:19.568995Z"
    }
   },
   "id": "b7d824a9f8e9089",
   "execution_count": 31
  },
  {
   "cell_type": "code",
   "outputs": [
    {
     "data": {
      "text/plain": "                연월   시군구명   읍면동명      업종명     성별      이용자수           이용금액\ncount        27183  27183  27183    27183  27183 27183.000      27183.000\nunique          12      2     43       41      2       NaN            NaN\ntop     2018-09-01    제주시    노형동  체인화 편의점     남성       NaN            NaN\nfreq          2285  16228    812     1032  13645       NaN            NaN\nmean           NaN    NaN    NaN      NaN    NaN  1726.604   62044256.570\nstd            NaN    NaN    NaN      NaN    NaN  4399.634  190042848.439\nmin            NaN    NaN    NaN      NaN    NaN     1.000         10.000\n25%            NaN    NaN    NaN      NaN    NaN    45.000    2706600.000\n50%            NaN    NaN    NaN      NaN    NaN   288.000   12311900.000\n75%            NaN    NaN    NaN      NaN    NaN  1339.000   49426169.000\nmax            NaN    NaN    NaN      NaN    NaN 63621.000 4836250309.000",
      "text/html": "<div>\n<style scoped>\n    .dataframe tbody tr th:only-of-type {\n        vertical-align: middle;\n    }\n\n    .dataframe tbody tr th {\n        vertical-align: top;\n    }\n\n    .dataframe thead th {\n        text-align: right;\n    }\n</style>\n<table border=\"1\" class=\"dataframe\">\n  <thead>\n    <tr style=\"text-align: right;\">\n      <th></th>\n      <th>연월</th>\n      <th>시군구명</th>\n      <th>읍면동명</th>\n      <th>업종명</th>\n      <th>성별</th>\n      <th>이용자수</th>\n      <th>이용금액</th>\n    </tr>\n  </thead>\n  <tbody>\n    <tr>\n      <th>count</th>\n      <td>27183</td>\n      <td>27183</td>\n      <td>27183</td>\n      <td>27183</td>\n      <td>27183</td>\n      <td>27183.000</td>\n      <td>27183.000</td>\n    </tr>\n    <tr>\n      <th>unique</th>\n      <td>12</td>\n      <td>2</td>\n      <td>43</td>\n      <td>41</td>\n      <td>2</td>\n      <td>NaN</td>\n      <td>NaN</td>\n    </tr>\n    <tr>\n      <th>top</th>\n      <td>2018-09-01</td>\n      <td>제주시</td>\n      <td>노형동</td>\n      <td>체인화 편의점</td>\n      <td>남성</td>\n      <td>NaN</td>\n      <td>NaN</td>\n    </tr>\n    <tr>\n      <th>freq</th>\n      <td>2285</td>\n      <td>16228</td>\n      <td>812</td>\n      <td>1032</td>\n      <td>13645</td>\n      <td>NaN</td>\n      <td>NaN</td>\n    </tr>\n    <tr>\n      <th>mean</th>\n      <td>NaN</td>\n      <td>NaN</td>\n      <td>NaN</td>\n      <td>NaN</td>\n      <td>NaN</td>\n      <td>1726.604</td>\n      <td>62044256.570</td>\n    </tr>\n    <tr>\n      <th>std</th>\n      <td>NaN</td>\n      <td>NaN</td>\n      <td>NaN</td>\n      <td>NaN</td>\n      <td>NaN</td>\n      <td>4399.634</td>\n      <td>190042848.439</td>\n    </tr>\n    <tr>\n      <th>min</th>\n      <td>NaN</td>\n      <td>NaN</td>\n      <td>NaN</td>\n      <td>NaN</td>\n      <td>NaN</td>\n      <td>1.000</td>\n      <td>10.000</td>\n    </tr>\n    <tr>\n      <th>25%</th>\n      <td>NaN</td>\n      <td>NaN</td>\n      <td>NaN</td>\n      <td>NaN</td>\n      <td>NaN</td>\n      <td>45.000</td>\n      <td>2706600.000</td>\n    </tr>\n    <tr>\n      <th>50%</th>\n      <td>NaN</td>\n      <td>NaN</td>\n      <td>NaN</td>\n      <td>NaN</td>\n      <td>NaN</td>\n      <td>288.000</td>\n      <td>12311900.000</td>\n    </tr>\n    <tr>\n      <th>75%</th>\n      <td>NaN</td>\n      <td>NaN</td>\n      <td>NaN</td>\n      <td>NaN</td>\n      <td>NaN</td>\n      <td>1339.000</td>\n      <td>49426169.000</td>\n    </tr>\n    <tr>\n      <th>max</th>\n      <td>NaN</td>\n      <td>NaN</td>\n      <td>NaN</td>\n      <td>NaN</td>\n      <td>NaN</td>\n      <td>63621.000</td>\n      <td>4836250309.000</td>\n    </tr>\n  </tbody>\n</table>\n</div>"
     },
     "execution_count": 32,
     "metadata": {},
     "output_type": "execute_result"
    }
   ],
   "source": [
    "jeju_reg_18_df.describe(include='all')"
   ],
   "metadata": {
    "collapsed": false,
    "ExecuteTime": {
     "end_time": "2024-05-14T09:03:19.642447Z",
     "start_time": "2024-05-14T09:03:19.584938Z"
    }
   },
   "id": "49e7e5a7e8f65770",
   "execution_count": 32
  },
  {
   "cell_type": "code",
   "outputs": [
    {
     "data": {
      "text/plain": "                연월일    시군구명    읍면동명      성별     연령대       방문인구\ncount    527026.000  527026  527026  527026  527026 527026.000\nunique          NaN       2      43       2       9        NaN\ntop             NaN     제주시    삼도1동       여     60대        NaN\nfreq            NaN  318669   12264  263533   58592        NaN\nmean   20175307.456     NaN     NaN     NaN     NaN   9931.281\nstd        4999.286     NaN     NaN     NaN     NaN   9974.524\nmin    20170101.000     NaN     NaN     NaN     NaN      0.000\n25%    20170620.000     NaN     NaN     NaN     NaN   3292.000\n50%    20171207.000     NaN     NaN     NaN     NaN   6811.000\n75%    20180526.000     NaN     NaN     NaN     NaN  12783.000\nmax    20181231.000     NaN     NaN     NaN     NaN  98444.000",
      "text/html": "<div>\n<style scoped>\n    .dataframe tbody tr th:only-of-type {\n        vertical-align: middle;\n    }\n\n    .dataframe tbody tr th {\n        vertical-align: top;\n    }\n\n    .dataframe thead th {\n        text-align: right;\n    }\n</style>\n<table border=\"1\" class=\"dataframe\">\n  <thead>\n    <tr style=\"text-align: right;\">\n      <th></th>\n      <th>연월일</th>\n      <th>시군구명</th>\n      <th>읍면동명</th>\n      <th>성별</th>\n      <th>연령대</th>\n      <th>방문인구</th>\n    </tr>\n  </thead>\n  <tbody>\n    <tr>\n      <th>count</th>\n      <td>527026.000</td>\n      <td>527026</td>\n      <td>527026</td>\n      <td>527026</td>\n      <td>527026</td>\n      <td>527026.000</td>\n    </tr>\n    <tr>\n      <th>unique</th>\n      <td>NaN</td>\n      <td>2</td>\n      <td>43</td>\n      <td>2</td>\n      <td>9</td>\n      <td>NaN</td>\n    </tr>\n    <tr>\n      <th>top</th>\n      <td>NaN</td>\n      <td>제주시</td>\n      <td>삼도1동</td>\n      <td>여</td>\n      <td>60대</td>\n      <td>NaN</td>\n    </tr>\n    <tr>\n      <th>freq</th>\n      <td>NaN</td>\n      <td>318669</td>\n      <td>12264</td>\n      <td>263533</td>\n      <td>58592</td>\n      <td>NaN</td>\n    </tr>\n    <tr>\n      <th>mean</th>\n      <td>20175307.456</td>\n      <td>NaN</td>\n      <td>NaN</td>\n      <td>NaN</td>\n      <td>NaN</td>\n      <td>9931.281</td>\n    </tr>\n    <tr>\n      <th>std</th>\n      <td>4999.286</td>\n      <td>NaN</td>\n      <td>NaN</td>\n      <td>NaN</td>\n      <td>NaN</td>\n      <td>9974.524</td>\n    </tr>\n    <tr>\n      <th>min</th>\n      <td>20170101.000</td>\n      <td>NaN</td>\n      <td>NaN</td>\n      <td>NaN</td>\n      <td>NaN</td>\n      <td>0.000</td>\n    </tr>\n    <tr>\n      <th>25%</th>\n      <td>20170620.000</td>\n      <td>NaN</td>\n      <td>NaN</td>\n      <td>NaN</td>\n      <td>NaN</td>\n      <td>3292.000</td>\n    </tr>\n    <tr>\n      <th>50%</th>\n      <td>20171207.000</td>\n      <td>NaN</td>\n      <td>NaN</td>\n      <td>NaN</td>\n      <td>NaN</td>\n      <td>6811.000</td>\n    </tr>\n    <tr>\n      <th>75%</th>\n      <td>20180526.000</td>\n      <td>NaN</td>\n      <td>NaN</td>\n      <td>NaN</td>\n      <td>NaN</td>\n      <td>12783.000</td>\n    </tr>\n    <tr>\n      <th>max</th>\n      <td>20181231.000</td>\n      <td>NaN</td>\n      <td>NaN</td>\n      <td>NaN</td>\n      <td>NaN</td>\n      <td>98444.000</td>\n    </tr>\n  </tbody>\n</table>\n</div>"
     },
     "execution_count": 33,
     "metadata": {},
     "output_type": "execute_result"
    }
   ],
   "source": [
    "jeju_pop_df.describe(include='all')"
   ],
   "metadata": {
    "collapsed": false,
    "ExecuteTime": {
     "end_time": "2024-05-14T09:03:19.736326Z",
     "start_time": "2024-05-14T09:03:19.597633Z"
    }
   },
   "id": "ae4d7aa22dc837a7",
   "execution_count": 33
  },
  {
   "cell_type": "markdown",
   "source": [
    "## 2017년과 2018년 데이터 비교 및 전처리"
   ],
   "metadata": {
    "collapsed": false
   },
   "id": "1686a1bd46774619"
  },
  {
   "cell_type": "code",
   "outputs": [],
   "source": [
    "def print_unique_values(df):\n",
    "    object_columns = df.columns[df.dtypes == 'object']\n",
    "    for col in object_columns:\n",
    "        print(f'{col} 컬럼의 unique 값 개수: {df[col].nunique()}')\n",
    "        print(sorted(df[col].unique()), '\\n')"
   ],
   "metadata": {
    "collapsed": false,
    "ExecuteTime": {
     "end_time": "2024-05-14T09:03:19.736718Z",
     "start_time": "2024-05-14T09:03:19.726408Z"
    }
   },
   "id": "a830ff5042caa83e",
   "execution_count": 34
  },
  {
   "cell_type": "code",
   "outputs": [
    {
     "name": "stdout",
     "output_type": "stream",
     "text": [
      "연월 컬럼의 unique 값 개수: 12\n",
      "['2017-01-01', '2017-02-01', '2017-03-01', '2017-04-01', '2017-05-01', '2017-06-01', '2017-07-01', '2017-08-01', '2017-09-01', '2017-10-01', '2017-11-01', '2017-12-01'] \n",
      "\n",
      "시군구명 컬럼의 unique 값 개수: 2\n",
      "['서귀포시', '제주시'] \n",
      "\n",
      "읍면동명 컬럼의 unique 값 개수: 43\n",
      "['건입동', '구좌읍', '남원읍', '노형동', '대륜동', '대정읍', '대천동', '도두동', '동홍동', '봉개동', '삼도1동', '삼도2동', '삼양동', '서홍동', '성산읍', '송산동', '아라동', '안덕면', '애월읍', '연동', '영천동', '예래동', '오라동', '외도동', '용담1동', '용담2동', '우도면', '이도1동', '이도2동', '이호동', '일도1동', '일도2동', '정방동', '조천읍', '중문동', '중앙동', '천지동', '추자면', '표선면', '한경면', '한림읍', '화북동', '효돈동'] \n",
      "\n",
      "업종명 컬럼의 unique 값 개수: 41\n",
      "['건강보조식품 소매업', '골프장 운영업', '과실 및 채소 소매업', '관광 민예품 및 선물용품 소매업', '그외 기타 분류안된 오락관련 서비스업', '그외 기타 스포츠시설 운영업', '그외 기타 종합 소매업', '기타 갬블링 및 베팅업', '기타 대형 종합 소매업', '기타 수상오락 서비스업', '기타 외국식 음식점업', '기타 주점업', '기타음식료품위주종합소매업', '내항 여객 운송업', '마사지업', '면세점', '버스 운송업', '비알콜 음료점업', '빵 및 과자류 소매업', '서양식 음식점업', '수산물 소매업', '슈퍼마켓', '스포츠 및 레크레이션 용품 임대업', '여관업', '여행사업', '욕탕업', '육류 소매업', '일반유흥 주점업', '일식 음식점업', '자동차 임대업', '전시 및 행사 대행업', '정기 항공 운송업', '중식 음식점업', '차량용 가스 충전업', '차량용 주유소 운영업', '체인화 편의점', '피자, 햄버거, 샌드위치 및 유사 음식점업', '한식 음식점업', '호텔업', '화장품 및 방향제 소매업', '휴양콘도 운영업'] \n",
      "\n",
      "성별 컬럼의 unique 값 개수: 2\n",
      "['남성', '여성'] \n"
     ]
    }
   ],
   "source": [
    "print_unique_values(jeju_reg_17_df)"
   ],
   "metadata": {
    "collapsed": false,
    "ExecuteTime": {
     "end_time": "2024-05-14T09:03:19.744319Z",
     "start_time": "2024-05-14T09:03:19.729567Z"
    }
   },
   "id": "e524b1db3a91fcaf",
   "execution_count": 35
  },
  {
   "cell_type": "code",
   "outputs": [
    {
     "name": "stdout",
     "output_type": "stream",
     "text": [
      "연월 컬럼의 unique 값 개수: 12\n",
      "['2018-01-01', '2018-02-01', '2018-03-01', '2018-04-01', '2018-05-01', '2018-06-01', '2018-07-01', '2018-08-01', '2018-09-01', '2018-10-01', '2018-11-01', '2018-12-01'] \n",
      "\n",
      "시군구명 컬럼의 unique 값 개수: 2\n",
      "['서귀포시', '제주시'] \n",
      "\n",
      "읍면동명 컬럼의 unique 값 개수: 43\n",
      "['건입동', '구좌읍', '남원읍', '노형동', '대륜동', '대정읍', '대천동', '도두동', '동홍동', '봉개동', '삼도1동', '삼도2동', '삼양동', '서홍동', '성산읍', '송산동', '아라동', '안덕면', '애월읍', '연동', '영천동', '예래동', '오라동', '외도동', '용담1동', '용담2동', '우도면', '이도1동', '이도2동', '이호동', '일도1동', '일도2동', '정방동', '조천읍', '중문동', '중앙동', '천지동', '추자면', '표선면', '한경면', '한림읍', '화북동', '효돈동'] \n",
      "\n",
      "업종명 컬럼의 unique 값 개수: 41\n",
      "['건강보조식품 소매업', '골프장 운영업', '과실 및 채소 소매업', '관광 민예품 및 선물용품 소매업', '그외 기타 분류안된 오락관련 서비스업', '그외 기타 스포츠시설 운영업', '그외 기타 종합 소매업', '기타 대형 종합 소매업', '기타 수상오락 서비스업', '기타 외국식 음식점업', '기타 주점업', '기타음식료품위주종합소매업', '내항 여객 운송업', '마사지업', '면세점', '버스 운송업', '비알콜 음료점업', '빵 및 과자류 소매업', '서양식 음식점업', '수산물 소매업', '슈퍼마켓', '스포츠 및 레크레이션 용품 임대업', '여관업', '여행사업', '욕탕업', '육류 소매업', '일반유흥 주점업', '일식 음식점업', '자동차 임대업', '전시 및 행사 대행업', '정기 항공 운송업', '중식 음식점업', '차량용 가스 충전업', '차량용 주유소 운영업', '체인화 편의점', '택시 운송업', '피자, 햄버거, 샌드위치 및 유사 음식점업', '한식 음식점업', '호텔업', '화장품 및 방향제 소매업', '휴양콘도 운영업'] \n",
      "\n",
      "성별 컬럼의 unique 값 개수: 2\n",
      "['남성', '여성'] \n"
     ]
    }
   ],
   "source": [
    "print_unique_values(jeju_reg_18_df)"
   ],
   "metadata": {
    "collapsed": false,
    "ExecuteTime": {
     "end_time": "2024-05-14T09:03:19.761816Z",
     "start_time": "2024-05-14T09:03:19.740245Z"
    }
   },
   "id": "5fe96169ee4dbdd5",
   "execution_count": 36
  },
  {
   "cell_type": "code",
   "outputs": [
    {
     "name": "stdout",
     "output_type": "stream",
     "text": [
      "2017년에만 있는 값: 기타 갬블링 및 베팅업\n",
      "2018년에만 있는 값: 택시 운송업\n"
     ]
    }
   ],
   "source": [
    "for item in jeju_reg_17_df['업종명'].unique():\n",
    "    if item not in jeju_reg_18_df['업종명'].unique():\n",
    "        print(f'2017년에만 있는 값: {item}')\n",
    "        \n",
    "for item in jeju_reg_18_df['업종명'].unique():\n",
    "    if item not in jeju_reg_17_df['업종명'].unique():\n",
    "        print(f'2018년에만 있는 값: {item}')"
   ],
   "metadata": {
    "collapsed": false,
    "ExecuteTime": {
     "end_time": "2024-05-14T09:03:19.851668Z",
     "start_time": "2024-05-14T09:03:19.752984Z"
    }
   },
   "id": "d01df97fa2fc13a9",
   "execution_count": 37
  },
  {
   "cell_type": "markdown",
   "source": [
    "즉, 지금 기타 갬블링 및 베팅업은 2017년 데이터에만 있고, 택시 운송업은 2018년 데이터에만 있는데요. 이 두 가지 업종은 한쪽 데이터에만 포함되어 있으니까, 이용 금액이나 이용자 수 등을 제대로 비교하기가 어렵겠죠? 일단 각 업종의 데이터 개수는 몇 개 정도 되는지도 확인해 봅시다."
   ],
   "metadata": {
    "collapsed": false
   },
   "id": "11342ed2b589a58a"
  },
  {
   "cell_type": "code",
   "outputs": [
    {
     "name": "stdout",
     "output_type": "stream",
     "text": [
      "(1, 7)\n",
      "(4, 7)\n"
     ]
    }
   ],
   "source": [
    "print(jeju_reg_17_df[jeju_reg_17_df['업종명'] == '기타 갬블링 및 베팅업'].shape) # (1, 7)\n",
    "print(jeju_reg_18_df[jeju_reg_18_df['업종명'] == '택시 운송업'].shape)         # (4, 7)"
   ],
   "metadata": {
    "collapsed": false,
    "ExecuteTime": {
     "end_time": "2024-05-14T09:03:19.856403Z",
     "start_time": "2024-05-14T09:03:19.852001Z"
    }
   },
   "id": "938ad6cc98abcace",
   "execution_count": 38
  },
  {
   "cell_type": "code",
   "outputs": [],
   "source": [
    "jeju_reg_17_df = jeju_reg_17_df[jeju_reg_17_df['업종명'] != '기타 갬블링 및 베팅업']\n",
    "jeju_reg_18_df = jeju_reg_18_df[jeju_reg_18_df['업종명'] != '택시 운송업']"
   ],
   "metadata": {
    "collapsed": false,
    "ExecuteTime": {
     "end_time": "2024-05-14T09:03:19.862318Z",
     "start_time": "2024-05-14T09:03:19.855993Z"
    }
   },
   "id": "58a2c6ee8fb10167",
   "execution_count": 39
  },
  {
   "cell_type": "markdown",
   "source": [
    "위 출력 결과를 보면, 기타 갬블링 및 베팅업은 데이터가 1개, 택시 운송업은 4개뿐이라 그냥 빼버려도 문제가 없을 것 같죠? 아래와 같이 두 업종의 데이터를 각각 빼 주도록 할게요."
   ],
   "metadata": {
    "collapsed": false
   },
   "id": "f65613b247c252ae"
  },
  {
   "cell_type": "code",
   "outputs": [],
   "source": [
    "for item in jeju_reg_17_df['읍면동명'].unique():\n",
    "    if item not in jeju_reg_18_df['읍면동명'].unique():\n",
    "        print(f'2017년에만 있는 값: {item}')\n",
    "        \n",
    "for item in jeju_reg_18_df['읍면동명'].unique():\n",
    "    if item not in jeju_reg_17_df['읍면동명'].unique():\n",
    "        print(f'2018년에만 있는 값: {item}')"
   ],
   "metadata": {
    "collapsed": false,
    "ExecuteTime": {
     "end_time": "2024-05-14T09:03:19.921709Z",
     "start_time": "2024-05-14T09:03:19.865959Z"
    }
   },
   "id": "7c565af184a064",
   "execution_count": 40
  },
  {
   "cell_type": "markdown",
   "source": [
    "데이터 합치기"
   ],
   "metadata": {
    "collapsed": false
   },
   "id": "eb36d5fa343b7935"
  },
  {
   "cell_type": "code",
   "outputs": [
    {
     "data": {
      "text/plain": "(54146, 7)"
     },
     "execution_count": 41,
     "metadata": {},
     "output_type": "execute_result"
    }
   ],
   "source": [
    "jeju_reg_df = pd.concat([jeju_reg_17_df, jeju_reg_18_df])\n",
    "jeju_reg_df.shape"
   ],
   "metadata": {
    "collapsed": false,
    "ExecuteTime": {
     "end_time": "2024-05-14T09:03:19.926568Z",
     "start_time": "2024-05-14T09:03:19.922513Z"
    }
   },
   "id": "7d580adb6027edaf",
   "execution_count": 41
  },
  {
   "cell_type": "markdown",
   "source": [
    "### 연월 컬럼 전처리"
   ],
   "metadata": {
    "collapsed": false
   },
   "id": "ab577dcd1a324dcf"
  },
  {
   "cell_type": "code",
   "outputs": [
    {
     "data": {
      "text/plain": "array(['2017-01-01', '2017-02-01', '2017-03-01', '2017-04-01',\n       '2017-05-01', '2017-06-01', '2017-07-01', '2017-08-01',\n       '2017-09-01', '2017-10-01', '2017-11-01', '2017-12-01',\n       '2018-01-01', '2018-02-01', '2018-03-01', '2018-04-01',\n       '2018-05-01', '2018-06-01', '2018-07-01', '2018-08-01',\n       '2018-09-01', '2018-10-01', '2018-11-01', '2018-12-01'],\n      dtype=object)"
     },
     "execution_count": 42,
     "metadata": {},
     "output_type": "execute_result"
    }
   ],
   "source": [
    "jeju_reg_df['연월'].unique()"
   ],
   "metadata": {
    "collapsed": false,
    "ExecuteTime": {
     "end_time": "2024-05-14T09:03:19.933472Z",
     "start_time": "2024-05-14T09:03:19.926669Z"
    }
   },
   "id": "dd7182b889b18705",
   "execution_count": 42
  },
  {
   "cell_type": "code",
   "outputs": [
    {
     "data": {
      "text/plain": "        연월  시군구명 읍면동명            업종명  성별  이용자수      이용금액\n0  2017-01  서귀포시  남원읍     건강보조식품 소매업  남성    11    137500\n1  2017-01  서귀포시  천지동     건강보조식품 소매업  여성    61  12334400\n2  2017-01  서귀포시  대정읍  기타음식료품위주종합소매업  남성   555  17301300\n3  2017-01  서귀포시  대정읍         기타 주점업  남성   324  71843080\n4  2017-01  서귀포시  대정읍    기타 외국식 음식점업  남성    40    971000",
      "text/html": "<div>\n<style scoped>\n    .dataframe tbody tr th:only-of-type {\n        vertical-align: middle;\n    }\n\n    .dataframe tbody tr th {\n        vertical-align: top;\n    }\n\n    .dataframe thead th {\n        text-align: right;\n    }\n</style>\n<table border=\"1\" class=\"dataframe\">\n  <thead>\n    <tr style=\"text-align: right;\">\n      <th></th>\n      <th>연월</th>\n      <th>시군구명</th>\n      <th>읍면동명</th>\n      <th>업종명</th>\n      <th>성별</th>\n      <th>이용자수</th>\n      <th>이용금액</th>\n    </tr>\n  </thead>\n  <tbody>\n    <tr>\n      <th>0</th>\n      <td>2017-01</td>\n      <td>서귀포시</td>\n      <td>남원읍</td>\n      <td>건강보조식품 소매업</td>\n      <td>남성</td>\n      <td>11</td>\n      <td>137500</td>\n    </tr>\n    <tr>\n      <th>1</th>\n      <td>2017-01</td>\n      <td>서귀포시</td>\n      <td>천지동</td>\n      <td>건강보조식품 소매업</td>\n      <td>여성</td>\n      <td>61</td>\n      <td>12334400</td>\n    </tr>\n    <tr>\n      <th>2</th>\n      <td>2017-01</td>\n      <td>서귀포시</td>\n      <td>대정읍</td>\n      <td>기타음식료품위주종합소매업</td>\n      <td>남성</td>\n      <td>555</td>\n      <td>17301300</td>\n    </tr>\n    <tr>\n      <th>3</th>\n      <td>2017-01</td>\n      <td>서귀포시</td>\n      <td>대정읍</td>\n      <td>기타 주점업</td>\n      <td>남성</td>\n      <td>324</td>\n      <td>71843080</td>\n    </tr>\n    <tr>\n      <th>4</th>\n      <td>2017-01</td>\n      <td>서귀포시</td>\n      <td>대정읍</td>\n      <td>기타 외국식 음식점업</td>\n      <td>남성</td>\n      <td>40</td>\n      <td>971000</td>\n    </tr>\n  </tbody>\n</table>\n</div>"
     },
     "execution_count": 43,
     "metadata": {},
     "output_type": "execute_result"
    }
   ],
   "source": [
    "jeju_reg_df['연월'] = jeju_reg_df['연월'].str[:7]\n",
    "jeju_reg_df.head()"
   ],
   "metadata": {
    "collapsed": false,
    "ExecuteTime": {
     "end_time": "2024-05-14T09:03:37.941389Z",
     "start_time": "2024-05-14T09:03:37.925650Z"
    }
   },
   "id": "71d73d6c17897e1",
   "execution_count": 43
  },
  {
   "cell_type": "markdown",
   "source": [
    "## 카드이용이 많은 지역과 업종"
   ],
   "metadata": {
    "collapsed": false
   },
   "id": "bb16d7d5c80a4e2c"
  },
  {
   "cell_type": "code",
   "outputs": [],
   "source": [
    "groupby_sector = jeju_reg_df.groupby('업종명').sum(numeric_only=True)"
   ],
   "metadata": {
    "collapsed": false,
    "ExecuteTime": {
     "end_time": "2024-05-14T09:06:02.607927Z",
     "start_time": "2024-05-14T09:06:02.588438Z"
    }
   },
   "id": "74b42d489520bcae",
   "execution_count": 44
  },
  {
   "cell_type": "code",
   "outputs": [
    {
     "data": {
      "text/plain": "                        이용자수          이용금액\n업종명                                       \n한식 음식점업             18828766  764903591034\n슈퍼마켓                11427536  303567124207\n차량용 주유소 운영업          5683264  302282701948\n면세점                  2122760  216084015155\n체인화 편의점             22577070  208385597308\n기타 대형 종합 소매업         3026355  176181070237\n일반유흥 주점업              541603  116184655729\n스포츠 및 레크레이션 용품 임대업    991236  112011498985\n정기 항공 운송업             640930  102803758104\n기타음식료품위주종합소매업        2238649   94161392029",
      "text/html": "<div>\n<style scoped>\n    .dataframe tbody tr th:only-of-type {\n        vertical-align: middle;\n    }\n\n    .dataframe tbody tr th {\n        vertical-align: top;\n    }\n\n    .dataframe thead th {\n        text-align: right;\n    }\n</style>\n<table border=\"1\" class=\"dataframe\">\n  <thead>\n    <tr style=\"text-align: right;\">\n      <th></th>\n      <th>이용자수</th>\n      <th>이용금액</th>\n    </tr>\n    <tr>\n      <th>업종명</th>\n      <th></th>\n      <th></th>\n    </tr>\n  </thead>\n  <tbody>\n    <tr>\n      <th>한식 음식점업</th>\n      <td>18828766</td>\n      <td>764903591034</td>\n    </tr>\n    <tr>\n      <th>슈퍼마켓</th>\n      <td>11427536</td>\n      <td>303567124207</td>\n    </tr>\n    <tr>\n      <th>차량용 주유소 운영업</th>\n      <td>5683264</td>\n      <td>302282701948</td>\n    </tr>\n    <tr>\n      <th>면세점</th>\n      <td>2122760</td>\n      <td>216084015155</td>\n    </tr>\n    <tr>\n      <th>체인화 편의점</th>\n      <td>22577070</td>\n      <td>208385597308</td>\n    </tr>\n    <tr>\n      <th>기타 대형 종합 소매업</th>\n      <td>3026355</td>\n      <td>176181070237</td>\n    </tr>\n    <tr>\n      <th>일반유흥 주점업</th>\n      <td>541603</td>\n      <td>116184655729</td>\n    </tr>\n    <tr>\n      <th>스포츠 및 레크레이션 용품 임대업</th>\n      <td>991236</td>\n      <td>112011498985</td>\n    </tr>\n    <tr>\n      <th>정기 항공 운송업</th>\n      <td>640930</td>\n      <td>102803758104</td>\n    </tr>\n    <tr>\n      <th>기타음식료품위주종합소매업</th>\n      <td>2238649</td>\n      <td>94161392029</td>\n    </tr>\n  </tbody>\n</table>\n</div>"
     },
     "execution_count": 45,
     "metadata": {},
     "output_type": "execute_result"
    }
   ],
   "source": [
    "groupby_sector.sort_values(by='이용금액', ascending=False).head(10)"
   ],
   "metadata": {
    "collapsed": false,
    "ExecuteTime": {
     "end_time": "2024-05-14T09:06:08.149763Z",
     "start_time": "2024-05-14T09:06:08.142690Z"
    }
   },
   "id": "3d2ecc2e2ab1dd65",
   "execution_count": 45
  },
  {
   "cell_type": "code",
   "outputs": [
    {
     "data": {
      "text/plain": "                             이용자수          이용금액\n업종명                                            \n체인화 편의점                  22577070  208385597308\n한식 음식점업                  18828766  764903591034\n슈퍼마켓                     11427536  303567124207\n차량용 주유소 운영업               5683264  302282701948\n서양식 음식점업                  3483836   82613944504\n빵 및 과자류 소매업               3295046   45801876571\n기타 대형 종합 소매업              3026355  176181070237\n비알콜 음료점업                  2990107   32196462878\n피자, 햄버거, 샌드위치 및 유사 음식점업   2963257   38337318851\n기타음식료품위주종합소매업             2238649   94161392029",
      "text/html": "<div>\n<style scoped>\n    .dataframe tbody tr th:only-of-type {\n        vertical-align: middle;\n    }\n\n    .dataframe tbody tr th {\n        vertical-align: top;\n    }\n\n    .dataframe thead th {\n        text-align: right;\n    }\n</style>\n<table border=\"1\" class=\"dataframe\">\n  <thead>\n    <tr style=\"text-align: right;\">\n      <th></th>\n      <th>이용자수</th>\n      <th>이용금액</th>\n    </tr>\n    <tr>\n      <th>업종명</th>\n      <th></th>\n      <th></th>\n    </tr>\n  </thead>\n  <tbody>\n    <tr>\n      <th>체인화 편의점</th>\n      <td>22577070</td>\n      <td>208385597308</td>\n    </tr>\n    <tr>\n      <th>한식 음식점업</th>\n      <td>18828766</td>\n      <td>764903591034</td>\n    </tr>\n    <tr>\n      <th>슈퍼마켓</th>\n      <td>11427536</td>\n      <td>303567124207</td>\n    </tr>\n    <tr>\n      <th>차량용 주유소 운영업</th>\n      <td>5683264</td>\n      <td>302282701948</td>\n    </tr>\n    <tr>\n      <th>서양식 음식점업</th>\n      <td>3483836</td>\n      <td>82613944504</td>\n    </tr>\n    <tr>\n      <th>빵 및 과자류 소매업</th>\n      <td>3295046</td>\n      <td>45801876571</td>\n    </tr>\n    <tr>\n      <th>기타 대형 종합 소매업</th>\n      <td>3026355</td>\n      <td>176181070237</td>\n    </tr>\n    <tr>\n      <th>비알콜 음료점업</th>\n      <td>2990107</td>\n      <td>32196462878</td>\n    </tr>\n    <tr>\n      <th>피자, 햄버거, 샌드위치 및 유사 음식점업</th>\n      <td>2963257</td>\n      <td>38337318851</td>\n    </tr>\n    <tr>\n      <th>기타음식료품위주종합소매업</th>\n      <td>2238649</td>\n      <td>94161392029</td>\n    </tr>\n  </tbody>\n</table>\n</div>"
     },
     "execution_count": 46,
     "metadata": {},
     "output_type": "execute_result"
    }
   ],
   "source": [
    "groupby_sector.sort_values(by='이용자수', ascending=False).head(10)"
   ],
   "metadata": {
    "collapsed": false,
    "ExecuteTime": {
     "end_time": "2024-05-14T09:06:15.791316Z",
     "start_time": "2024-05-14T09:06:15.787815Z"
    }
   },
   "id": "b922b272cb6a5aed",
   "execution_count": 46
  },
  {
   "cell_type": "code",
   "outputs": [],
   "source": [
    "groupby_sector['인당이용금액'] = groupby_sector['이용금액'] / groupby_sector['이용자수']"
   ],
   "metadata": {
    "collapsed": false,
    "ExecuteTime": {
     "end_time": "2024-05-14T09:06:59.642868Z",
     "start_time": "2024-05-14T09:06:59.640595Z"
    }
   },
   "id": "e733b4fe873f44fe",
   "execution_count": 48
  },
  {
   "cell_type": "code",
   "outputs": [
    {
     "data": {
      "text/plain": "                             이용자수          이용금액    인당이용금액\n업종명                                                      \n체인화 편의점                  22577070  208385597308  9229.966\n한식 음식점업                  18828766  764903591034 40624.202\n슈퍼마켓                     11427536  303567124207 26564.530\n차량용 주유소 운영업               5683264  302282701948 53188.221\n서양식 음식점업                  3483836   82613944504 23713.500\n빵 및 과자류 소매업               3295046   45801876571 13900.224\n기타 대형 종합 소매업              3026355  176181070237 58215.599\n비알콜 음료점업                  2990107   32196462878 10767.662\n피자, 햄버거, 샌드위치 및 유사 음식점업   2963257   38337318851 12937.561\n기타음식료품위주종합소매업             2238649   94161392029 42061.704",
      "text/html": "<div>\n<style scoped>\n    .dataframe tbody tr th:only-of-type {\n        vertical-align: middle;\n    }\n\n    .dataframe tbody tr th {\n        vertical-align: top;\n    }\n\n    .dataframe thead th {\n        text-align: right;\n    }\n</style>\n<table border=\"1\" class=\"dataframe\">\n  <thead>\n    <tr style=\"text-align: right;\">\n      <th></th>\n      <th>이용자수</th>\n      <th>이용금액</th>\n      <th>인당이용금액</th>\n    </tr>\n    <tr>\n      <th>업종명</th>\n      <th></th>\n      <th></th>\n      <th></th>\n    </tr>\n  </thead>\n  <tbody>\n    <tr>\n      <th>체인화 편의점</th>\n      <td>22577070</td>\n      <td>208385597308</td>\n      <td>9229.966</td>\n    </tr>\n    <tr>\n      <th>한식 음식점업</th>\n      <td>18828766</td>\n      <td>764903591034</td>\n      <td>40624.202</td>\n    </tr>\n    <tr>\n      <th>슈퍼마켓</th>\n      <td>11427536</td>\n      <td>303567124207</td>\n      <td>26564.530</td>\n    </tr>\n    <tr>\n      <th>차량용 주유소 운영업</th>\n      <td>5683264</td>\n      <td>302282701948</td>\n      <td>53188.221</td>\n    </tr>\n    <tr>\n      <th>서양식 음식점업</th>\n      <td>3483836</td>\n      <td>82613944504</td>\n      <td>23713.500</td>\n    </tr>\n    <tr>\n      <th>빵 및 과자류 소매업</th>\n      <td>3295046</td>\n      <td>45801876571</td>\n      <td>13900.224</td>\n    </tr>\n    <tr>\n      <th>기타 대형 종합 소매업</th>\n      <td>3026355</td>\n      <td>176181070237</td>\n      <td>58215.599</td>\n    </tr>\n    <tr>\n      <th>비알콜 음료점업</th>\n      <td>2990107</td>\n      <td>32196462878</td>\n      <td>10767.662</td>\n    </tr>\n    <tr>\n      <th>피자, 햄버거, 샌드위치 및 유사 음식점업</th>\n      <td>2963257</td>\n      <td>38337318851</td>\n      <td>12937.561</td>\n    </tr>\n    <tr>\n      <th>기타음식료품위주종합소매업</th>\n      <td>2238649</td>\n      <td>94161392029</td>\n      <td>42061.704</td>\n    </tr>\n  </tbody>\n</table>\n</div>"
     },
     "execution_count": 49,
     "metadata": {},
     "output_type": "execute_result"
    }
   ],
   "source": [
    "groupby_sector.sort_values(by='이용자수', ascending=False).head(10)"
   ],
   "metadata": {
    "collapsed": false,
    "ExecuteTime": {
     "end_time": "2024-05-14T09:07:05.132757Z",
     "start_time": "2024-05-14T09:07:05.130469Z"
    }
   },
   "id": "1953bdd466c4cf12",
   "execution_count": 49
  },
  {
   "cell_type": "code",
   "outputs": [
    {
     "data": {
      "text/plain": "                      이용자수          이용금액      인당이용금액\n업종명                                                 \n버스 운송업                   5       6564000 1312800.000\n일반유흥 주점업            541603  116184655729  214519.963\n호텔업                 261891   55612663219  212350.418\n기타 주점업              262989   51724117734  196677.875\n기타 수상오락 서비스업          1188     214491300  180548.232\n건강보조식품 소매업           43738    7042351269  161012.192\n정기 항공 운송업           640930  102803758104  160397.794\n골프장 운영업             454602   63978385373  140734.940\n마사지업                  3621     441834050  122019.898\n스포츠 및 레크레이션 용품 임대업  991236  112011498985  113001.847",
      "text/html": "<div>\n<style scoped>\n    .dataframe tbody tr th:only-of-type {\n        vertical-align: middle;\n    }\n\n    .dataframe tbody tr th {\n        vertical-align: top;\n    }\n\n    .dataframe thead th {\n        text-align: right;\n    }\n</style>\n<table border=\"1\" class=\"dataframe\">\n  <thead>\n    <tr style=\"text-align: right;\">\n      <th></th>\n      <th>이용자수</th>\n      <th>이용금액</th>\n      <th>인당이용금액</th>\n    </tr>\n    <tr>\n      <th>업종명</th>\n      <th></th>\n      <th></th>\n      <th></th>\n    </tr>\n  </thead>\n  <tbody>\n    <tr>\n      <th>버스 운송업</th>\n      <td>5</td>\n      <td>6564000</td>\n      <td>1312800.000</td>\n    </tr>\n    <tr>\n      <th>일반유흥 주점업</th>\n      <td>541603</td>\n      <td>116184655729</td>\n      <td>214519.963</td>\n    </tr>\n    <tr>\n      <th>호텔업</th>\n      <td>261891</td>\n      <td>55612663219</td>\n      <td>212350.418</td>\n    </tr>\n    <tr>\n      <th>기타 주점업</th>\n      <td>262989</td>\n      <td>51724117734</td>\n      <td>196677.875</td>\n    </tr>\n    <tr>\n      <th>기타 수상오락 서비스업</th>\n      <td>1188</td>\n      <td>214491300</td>\n      <td>180548.232</td>\n    </tr>\n    <tr>\n      <th>건강보조식품 소매업</th>\n      <td>43738</td>\n      <td>7042351269</td>\n      <td>161012.192</td>\n    </tr>\n    <tr>\n      <th>정기 항공 운송업</th>\n      <td>640930</td>\n      <td>102803758104</td>\n      <td>160397.794</td>\n    </tr>\n    <tr>\n      <th>골프장 운영업</th>\n      <td>454602</td>\n      <td>63978385373</td>\n      <td>140734.940</td>\n    </tr>\n    <tr>\n      <th>마사지업</th>\n      <td>3621</td>\n      <td>441834050</td>\n      <td>122019.898</td>\n    </tr>\n    <tr>\n      <th>스포츠 및 레크레이션 용품 임대업</th>\n      <td>991236</td>\n      <td>112011498985</td>\n      <td>113001.847</td>\n    </tr>\n  </tbody>\n</table>\n</div>"
     },
     "execution_count": 50,
     "metadata": {},
     "output_type": "execute_result"
    }
   ],
   "source": [
    "groupby_sector.sort_values(by='인당이용금액', ascending=False).head(10)"
   ],
   "metadata": {
    "collapsed": false,
    "ExecuteTime": {
     "end_time": "2024-05-14T09:07:12.239664Z",
     "start_time": "2024-05-14T09:07:12.231646Z"
    }
   },
   "id": "d7a2b0d677a8e08a",
   "execution_count": 50
  },
  {
   "cell_type": "code",
   "outputs": [
    {
     "data": {
      "text/plain": "                        이용자수         이용금액      인당이용금액\n업종명                                                  \n버스 운송업                     5      6564000 1312800.000\n기타 수상오락 서비스업            1188    214491300  180548.232\n그외 기타 분류안된 오락관련 서비스업    2361    116100063   49174.105\n마사지업                    3621    441834050  122019.898\n그외 기타 스포츠시설 운영업        18761   1191623694   63516.001\n건강보조식품 소매업             43738   7042351269  161012.192\n여행사업                   63548   5790670098   91122.775\n내항 여객 운송업             239458   7749726604   32363.615\n호텔업                   261891  55612663219  212350.418\n기타 주점업                262989  51724117734  196677.875",
      "text/html": "<div>\n<style scoped>\n    .dataframe tbody tr th:only-of-type {\n        vertical-align: middle;\n    }\n\n    .dataframe tbody tr th {\n        vertical-align: top;\n    }\n\n    .dataframe thead th {\n        text-align: right;\n    }\n</style>\n<table border=\"1\" class=\"dataframe\">\n  <thead>\n    <tr style=\"text-align: right;\">\n      <th></th>\n      <th>이용자수</th>\n      <th>이용금액</th>\n      <th>인당이용금액</th>\n    </tr>\n    <tr>\n      <th>업종명</th>\n      <th></th>\n      <th></th>\n      <th></th>\n    </tr>\n  </thead>\n  <tbody>\n    <tr>\n      <th>버스 운송업</th>\n      <td>5</td>\n      <td>6564000</td>\n      <td>1312800.000</td>\n    </tr>\n    <tr>\n      <th>기타 수상오락 서비스업</th>\n      <td>1188</td>\n      <td>214491300</td>\n      <td>180548.232</td>\n    </tr>\n    <tr>\n      <th>그외 기타 분류안된 오락관련 서비스업</th>\n      <td>2361</td>\n      <td>116100063</td>\n      <td>49174.105</td>\n    </tr>\n    <tr>\n      <th>마사지업</th>\n      <td>3621</td>\n      <td>441834050</td>\n      <td>122019.898</td>\n    </tr>\n    <tr>\n      <th>그외 기타 스포츠시설 운영업</th>\n      <td>18761</td>\n      <td>1191623694</td>\n      <td>63516.001</td>\n    </tr>\n    <tr>\n      <th>건강보조식품 소매업</th>\n      <td>43738</td>\n      <td>7042351269</td>\n      <td>161012.192</td>\n    </tr>\n    <tr>\n      <th>여행사업</th>\n      <td>63548</td>\n      <td>5790670098</td>\n      <td>91122.775</td>\n    </tr>\n    <tr>\n      <th>내항 여객 운송업</th>\n      <td>239458</td>\n      <td>7749726604</td>\n      <td>32363.615</td>\n    </tr>\n    <tr>\n      <th>호텔업</th>\n      <td>261891</td>\n      <td>55612663219</td>\n      <td>212350.418</td>\n    </tr>\n    <tr>\n      <th>기타 주점업</th>\n      <td>262989</td>\n      <td>51724117734</td>\n      <td>196677.875</td>\n    </tr>\n  </tbody>\n</table>\n</div>"
     },
     "execution_count": 51,
     "metadata": {},
     "output_type": "execute_result"
    }
   ],
   "source": [
    "groupby_sector.sort_values(by='이용자수').head(10)"
   ],
   "metadata": {
    "collapsed": false,
    "ExecuteTime": {
     "end_time": "2024-05-14T09:07:19.352470Z",
     "start_time": "2024-05-14T09:07:19.344162Z"
    }
   },
   "id": "78342137ee1d8f67",
   "execution_count": 51
  },
  {
   "cell_type": "markdown",
   "source": [
    "이용자수를 기준으로 오름차순 정렬해서 보니, 나머지 업종들은 이용자 수가 천 명에서 만 명대 정도인데 버스 운송업만 5명밖에 되지 않아 제외"
   ],
   "metadata": {
    "collapsed": false
   },
   "id": "868505af945a6554"
  },
  {
   "cell_type": "code",
   "outputs": [],
   "source": [
    "jeju_reg_df = jeju_reg_df[jeju_reg_df['업종명'] != '버스 운송업']"
   ],
   "metadata": {
    "collapsed": false,
    "ExecuteTime": {
     "end_time": "2024-05-14T09:08:09.864751Z",
     "start_time": "2024-05-14T09:08:09.855968Z"
    }
   },
   "id": "1e11445919a332f6",
   "execution_count": 53
  },
  {
   "cell_type": "code",
   "outputs": [
    {
     "data": {
      "text/plain": "                       이용자수          이용금액     인당이용금액\n업종명                                                 \n일반유흥 주점업             541603  116184655729 214519.963\n호텔업                  261891   55612663219 212350.418\n기타 주점업               262989   51724117734 196677.875\n기타 수상오락 서비스업           1188     214491300 180548.232\n건강보조식품 소매업            43738    7042351269 161012.192\n정기 항공 운송업            640930  102803758104 160397.794\n골프장 운영업              454602   63978385373 140734.940\n마사지업                   3621     441834050 122019.898\n스포츠 및 레크레이션 용품 임대업   991236  112011498985 113001.847\n면세점                 2122760  216084015155 101793.898",
      "text/html": "<div>\n<style scoped>\n    .dataframe tbody tr th:only-of-type {\n        vertical-align: middle;\n    }\n\n    .dataframe tbody tr th {\n        vertical-align: top;\n    }\n\n    .dataframe thead th {\n        text-align: right;\n    }\n</style>\n<table border=\"1\" class=\"dataframe\">\n  <thead>\n    <tr style=\"text-align: right;\">\n      <th></th>\n      <th>이용자수</th>\n      <th>이용금액</th>\n      <th>인당이용금액</th>\n    </tr>\n    <tr>\n      <th>업종명</th>\n      <th></th>\n      <th></th>\n      <th></th>\n    </tr>\n  </thead>\n  <tbody>\n    <tr>\n      <th>일반유흥 주점업</th>\n      <td>541603</td>\n      <td>116184655729</td>\n      <td>214519.963</td>\n    </tr>\n    <tr>\n      <th>호텔업</th>\n      <td>261891</td>\n      <td>55612663219</td>\n      <td>212350.418</td>\n    </tr>\n    <tr>\n      <th>기타 주점업</th>\n      <td>262989</td>\n      <td>51724117734</td>\n      <td>196677.875</td>\n    </tr>\n    <tr>\n      <th>기타 수상오락 서비스업</th>\n      <td>1188</td>\n      <td>214491300</td>\n      <td>180548.232</td>\n    </tr>\n    <tr>\n      <th>건강보조식품 소매업</th>\n      <td>43738</td>\n      <td>7042351269</td>\n      <td>161012.192</td>\n    </tr>\n    <tr>\n      <th>정기 항공 운송업</th>\n      <td>640930</td>\n      <td>102803758104</td>\n      <td>160397.794</td>\n    </tr>\n    <tr>\n      <th>골프장 운영업</th>\n      <td>454602</td>\n      <td>63978385373</td>\n      <td>140734.940</td>\n    </tr>\n    <tr>\n      <th>마사지업</th>\n      <td>3621</td>\n      <td>441834050</td>\n      <td>122019.898</td>\n    </tr>\n    <tr>\n      <th>스포츠 및 레크레이션 용품 임대업</th>\n      <td>991236</td>\n      <td>112011498985</td>\n      <td>113001.847</td>\n    </tr>\n    <tr>\n      <th>면세점</th>\n      <td>2122760</td>\n      <td>216084015155</td>\n      <td>101793.898</td>\n    </tr>\n  </tbody>\n</table>\n</div>"
     },
     "execution_count": 54,
     "metadata": {},
     "output_type": "execute_result"
    }
   ],
   "source": [
    "# 업종별 합계 및 인당 이용금액 계산\n",
    "groupby_sector = jeju_reg_df.groupby('업종명').sum(numeric_only=True)\n",
    "groupby_sector['인당이용금액'] = groupby_sector['이용금액'] / groupby_sector['이용자수']\n",
    "\n",
    "# 인당 이용금액 상위 10개 업종\n",
    "groupby_sector.sort_values(by='인당이용금액', ascending=False).head(10)"
   ],
   "metadata": {
    "collapsed": false,
    "ExecuteTime": {
     "end_time": "2024-05-14T09:08:18.853789Z",
     "start_time": "2024-05-14T09:08:18.836618Z"
    }
   },
   "id": "f9eee07dfeba0ffc",
   "execution_count": 54
  },
  {
   "cell_type": "markdown",
   "source": [
    "## 카드 이용이 많은 지역은?"
   ],
   "metadata": {
    "collapsed": false
   },
   "id": "740b1c99421ecc06"
  },
  {
   "cell_type": "code",
   "outputs": [],
   "source": [
    "groupby_reg = jeju_reg_df.groupby('읍면동명').sum(numeric_only=True)"
   ],
   "metadata": {
    "collapsed": false,
    "ExecuteTime": {
     "end_time": "2024-05-14T09:08:45.685940Z",
     "start_time": "2024-05-14T09:08:45.678914Z"
    }
   },
   "id": "a0a567b8937470dc",
   "execution_count": 55
  },
  {
   "cell_type": "code",
   "outputs": [
    {
     "data": {
      "text/plain": "         이용자수          이용금액\n읍면동명                       \n연동    7100596  340461915654\n용담2동  5820083  289912196043\n노형동   7642921  245644045189\n송산동   5468346  205357714141\n이도2동  6742075  201304448132\n천지동   3683576  132477575549\n애월읍   3397281  120988320522\n중앙동   3053162  118137020208\n정방동   3053162  118137020208\n일도2동  3145294  106631315225",
      "text/html": "<div>\n<style scoped>\n    .dataframe tbody tr th:only-of-type {\n        vertical-align: middle;\n    }\n\n    .dataframe tbody tr th {\n        vertical-align: top;\n    }\n\n    .dataframe thead th {\n        text-align: right;\n    }\n</style>\n<table border=\"1\" class=\"dataframe\">\n  <thead>\n    <tr style=\"text-align: right;\">\n      <th></th>\n      <th>이용자수</th>\n      <th>이용금액</th>\n    </tr>\n    <tr>\n      <th>읍면동명</th>\n      <th></th>\n      <th></th>\n    </tr>\n  </thead>\n  <tbody>\n    <tr>\n      <th>연동</th>\n      <td>7100596</td>\n      <td>340461915654</td>\n    </tr>\n    <tr>\n      <th>용담2동</th>\n      <td>5820083</td>\n      <td>289912196043</td>\n    </tr>\n    <tr>\n      <th>노형동</th>\n      <td>7642921</td>\n      <td>245644045189</td>\n    </tr>\n    <tr>\n      <th>송산동</th>\n      <td>5468346</td>\n      <td>205357714141</td>\n    </tr>\n    <tr>\n      <th>이도2동</th>\n      <td>6742075</td>\n      <td>201304448132</td>\n    </tr>\n    <tr>\n      <th>천지동</th>\n      <td>3683576</td>\n      <td>132477575549</td>\n    </tr>\n    <tr>\n      <th>애월읍</th>\n      <td>3397281</td>\n      <td>120988320522</td>\n    </tr>\n    <tr>\n      <th>중앙동</th>\n      <td>3053162</td>\n      <td>118137020208</td>\n    </tr>\n    <tr>\n      <th>정방동</th>\n      <td>3053162</td>\n      <td>118137020208</td>\n    </tr>\n    <tr>\n      <th>일도2동</th>\n      <td>3145294</td>\n      <td>106631315225</td>\n    </tr>\n  </tbody>\n</table>\n</div>"
     },
     "execution_count": 56,
     "metadata": {},
     "output_type": "execute_result"
    }
   ],
   "source": [
    "groupby_reg.sort_values(by='이용금액', ascending=False).head(10)"
   ],
   "metadata": {
    "collapsed": false,
    "ExecuteTime": {
     "end_time": "2024-05-14T09:08:52.462766Z",
     "start_time": "2024-05-14T09:08:52.459287Z"
    }
   },
   "id": "41c2092d781d7e3b",
   "execution_count": 56
  },
  {
   "cell_type": "code",
   "outputs": [
    {
     "data": {
      "text/plain": "         이용자수          이용금액\n읍면동명                       \n노형동   7642921  245644045189\n연동    7100596  340461915654\n이도2동  6742075  201304448132\n용담2동  5820083  289912196043\n송산동   5468346  205357714141\n천지동   3683576  132477575549\n아라동   3653006   80280971143\n애월읍   3397281  120988320522\n일도2동  3145294  106631315225\n중앙동   3053162  118137020208",
      "text/html": "<div>\n<style scoped>\n    .dataframe tbody tr th:only-of-type {\n        vertical-align: middle;\n    }\n\n    .dataframe tbody tr th {\n        vertical-align: top;\n    }\n\n    .dataframe thead th {\n        text-align: right;\n    }\n</style>\n<table border=\"1\" class=\"dataframe\">\n  <thead>\n    <tr style=\"text-align: right;\">\n      <th></th>\n      <th>이용자수</th>\n      <th>이용금액</th>\n    </tr>\n    <tr>\n      <th>읍면동명</th>\n      <th></th>\n      <th></th>\n    </tr>\n  </thead>\n  <tbody>\n    <tr>\n      <th>노형동</th>\n      <td>7642921</td>\n      <td>245644045189</td>\n    </tr>\n    <tr>\n      <th>연동</th>\n      <td>7100596</td>\n      <td>340461915654</td>\n    </tr>\n    <tr>\n      <th>이도2동</th>\n      <td>6742075</td>\n      <td>201304448132</td>\n    </tr>\n    <tr>\n      <th>용담2동</th>\n      <td>5820083</td>\n      <td>289912196043</td>\n    </tr>\n    <tr>\n      <th>송산동</th>\n      <td>5468346</td>\n      <td>205357714141</td>\n    </tr>\n    <tr>\n      <th>천지동</th>\n      <td>3683576</td>\n      <td>132477575549</td>\n    </tr>\n    <tr>\n      <th>아라동</th>\n      <td>3653006</td>\n      <td>80280971143</td>\n    </tr>\n    <tr>\n      <th>애월읍</th>\n      <td>3397281</td>\n      <td>120988320522</td>\n    </tr>\n    <tr>\n      <th>일도2동</th>\n      <td>3145294</td>\n      <td>106631315225</td>\n    </tr>\n    <tr>\n      <th>중앙동</th>\n      <td>3053162</td>\n      <td>118137020208</td>\n    </tr>\n  </tbody>\n</table>\n</div>"
     },
     "execution_count": 57,
     "metadata": {},
     "output_type": "execute_result"
    }
   ],
   "source": [
    "groupby_reg.sort_values(by='이용자수', ascending=False).head(10)"
   ],
   "metadata": {
    "collapsed": false,
    "ExecuteTime": {
     "end_time": "2024-05-14T09:09:02.219924Z",
     "start_time": "2024-05-14T09:09:02.205749Z"
    }
   },
   "id": "c9f181d0f25085c6",
   "execution_count": 57
  },
  {
   "cell_type": "markdown",
   "source": [
    "인당 소비가 많은 지역에서 활성화된 업종은?\n",
    "그러면 이번에는 인당 이용 금액이 높은 지역은 어딘지도 알아봅시다. 또, 인당 소비가 많은 지역에서는 주로 어떤 업종에서 소비가 활발하게 이루어지는 지도 함께 살펴볼 건데요. 일단 groupby_reg에 인당이용금액 컬럼을 추가한 뒤, 이 컬럼을 기준으로 내림차순 정렬해서 상위 5개 업종만 확인해 봅시다."
   ],
   "metadata": {
    "collapsed": false
   },
   "id": "dff3a2e601b3e560"
  },
  {
   "cell_type": "code",
   "outputs": [
    {
     "data": {
      "text/plain": "         이용자수          이용금액    인당이용금액\n읍면동명                                 \n예래동   1259725   72430813294 57497.321\n영천동    652686   35970307258 55111.198\n용담2동  5820083  289912196043 49812.382\n연동    7100596  340461915654 47948.358\n일도1동  1161659   55313193619 47615.689",
      "text/html": "<div>\n<style scoped>\n    .dataframe tbody tr th:only-of-type {\n        vertical-align: middle;\n    }\n\n    .dataframe tbody tr th {\n        vertical-align: top;\n    }\n\n    .dataframe thead th {\n        text-align: right;\n    }\n</style>\n<table border=\"1\" class=\"dataframe\">\n  <thead>\n    <tr style=\"text-align: right;\">\n      <th></th>\n      <th>이용자수</th>\n      <th>이용금액</th>\n      <th>인당이용금액</th>\n    </tr>\n    <tr>\n      <th>읍면동명</th>\n      <th></th>\n      <th></th>\n      <th></th>\n    </tr>\n  </thead>\n  <tbody>\n    <tr>\n      <th>예래동</th>\n      <td>1259725</td>\n      <td>72430813294</td>\n      <td>57497.321</td>\n    </tr>\n    <tr>\n      <th>영천동</th>\n      <td>652686</td>\n      <td>35970307258</td>\n      <td>55111.198</td>\n    </tr>\n    <tr>\n      <th>용담2동</th>\n      <td>5820083</td>\n      <td>289912196043</td>\n      <td>49812.382</td>\n    </tr>\n    <tr>\n      <th>연동</th>\n      <td>7100596</td>\n      <td>340461915654</td>\n      <td>47948.358</td>\n    </tr>\n    <tr>\n      <th>일도1동</th>\n      <td>1161659</td>\n      <td>55313193619</td>\n      <td>47615.689</td>\n    </tr>\n  </tbody>\n</table>\n</div>"
     },
     "execution_count": 58,
     "metadata": {},
     "output_type": "execute_result"
    }
   ],
   "source": [
    "groupby_reg['인당이용금액'] = groupby_reg['이용금액'] / groupby_reg['이용자수']\n",
    "groupby_reg.sort_values(by='인당이용금액', ascending=False).iloc[:5]"
   ],
   "metadata": {
    "collapsed": false,
    "ExecuteTime": {
     "end_time": "2024-05-14T09:09:23.575069Z",
     "start_time": "2024-05-14T09:09:23.567027Z"
    }
   },
   "id": "2c1e2959367f3790",
   "execution_count": 58
  },
  {
   "cell_type": "code",
   "outputs": [
    {
     "data": {
      "text/plain": "Index(['예래동', '영천동', '용담2동', '연동', '일도1동'], dtype='object', name='읍면동명')"
     },
     "execution_count": 59,
     "metadata": {},
     "output_type": "execute_result"
    }
   ],
   "source": [
    "top5_region = groupby_reg.sort_values(by='인당이용금액', ascending=False).iloc[:5].index\n",
    "top5_region"
   ],
   "metadata": {
    "collapsed": false,
    "ExecuteTime": {
     "end_time": "2024-05-14T09:09:30.017919Z",
     "start_time": "2024-05-14T09:09:30.007498Z"
    }
   },
   "id": "d95907e09954080f",
   "execution_count": 59
  },
  {
   "cell_type": "code",
   "outputs": [
    {
     "name": "stdout",
     "output_type": "stream",
     "text": [
      "예래동 ['호텔업', '한식 음식점업', '차량용 주유소 운영업', '골프장 운영업', '체인화 편의점']\n",
      "영천동 ['차량용 주유소 운영업', '슈퍼마켓', '한식 음식점업', '골프장 운영업', '호텔업']\n",
      "용담2동 ['면세점', '한식 음식점업', '자동차 임대업', '차량용 주유소 운영업', '관광 민예품 및 선물용품 소매업']\n",
      "연동 ['정기 항공 운송업', '한식 음식점업', '일반유흥 주점업', '슈퍼마켓', '체인화 편의점']\n",
      "일도1동 ['스포츠 및 레크레이션 용품 임대업', '수산물 소매업', '한식 음식점업', '과실 및 채소 소매업', '체인화 편의점']\n"
     ]
    }
   ],
   "source": [
    "groupby_reg_sec = jeju_reg_df.groupby(['읍면동명', '업종명']).sum(numeric_only=True).reset_index()\n",
    "\n",
    "for reg in top5_region:\n",
    "    reg_df = groupby_reg_sec[groupby_reg_sec['읍면동명'] == reg]\n",
    "    print(reg, reg_df.sort_values(by='이용금액', ascending=False).iloc[:5]['업종명'].tolist())"
   ],
   "metadata": {
    "collapsed": false,
    "ExecuteTime": {
     "end_time": "2024-05-14T09:09:59.924279Z",
     "start_time": "2024-05-14T09:09:59.912269Z"
    }
   },
   "id": "2c2f75abbb5a216e",
   "execution_count": 61
  },
  {
   "cell_type": "markdown",
   "source": [
    "## 유동인구가 많은 지역은?"
   ],
   "metadata": {
    "collapsed": false
   },
   "id": "756e533c4f6844cd"
  },
  {
   "cell_type": "code",
   "outputs": [
    {
     "data": {
      "text/plain": "        연월일 시군구명 읍면동명 성별  연령대   방문인구\n0  20170101  제주시  한림읍  남  40대  19424\n1  20170101  제주시  애월읍  여  20대  27747\n2  20170101  제주시  구좌읍  남  70대   3459\n3  20170101  제주시  조천읍  남  40대  36695\n4  20170101  제주시  한경면  남  70대   1174",
      "text/html": "<div>\n<style scoped>\n    .dataframe tbody tr th:only-of-type {\n        vertical-align: middle;\n    }\n\n    .dataframe tbody tr th {\n        vertical-align: top;\n    }\n\n    .dataframe thead th {\n        text-align: right;\n    }\n</style>\n<table border=\"1\" class=\"dataframe\">\n  <thead>\n    <tr style=\"text-align: right;\">\n      <th></th>\n      <th>연월일</th>\n      <th>시군구명</th>\n      <th>읍면동명</th>\n      <th>성별</th>\n      <th>연령대</th>\n      <th>방문인구</th>\n    </tr>\n  </thead>\n  <tbody>\n    <tr>\n      <th>0</th>\n      <td>20170101</td>\n      <td>제주시</td>\n      <td>한림읍</td>\n      <td>남</td>\n      <td>40대</td>\n      <td>19424</td>\n    </tr>\n    <tr>\n      <th>1</th>\n      <td>20170101</td>\n      <td>제주시</td>\n      <td>애월읍</td>\n      <td>여</td>\n      <td>20대</td>\n      <td>27747</td>\n    </tr>\n    <tr>\n      <th>2</th>\n      <td>20170101</td>\n      <td>제주시</td>\n      <td>구좌읍</td>\n      <td>남</td>\n      <td>70대</td>\n      <td>3459</td>\n    </tr>\n    <tr>\n      <th>3</th>\n      <td>20170101</td>\n      <td>제주시</td>\n      <td>조천읍</td>\n      <td>남</td>\n      <td>40대</td>\n      <td>36695</td>\n    </tr>\n    <tr>\n      <th>4</th>\n      <td>20170101</td>\n      <td>제주시</td>\n      <td>한경면</td>\n      <td>남</td>\n      <td>70대</td>\n      <td>1174</td>\n    </tr>\n  </tbody>\n</table>\n</div>"
     },
     "execution_count": 62,
     "metadata": {},
     "output_type": "execute_result"
    }
   ],
   "source": [
    "jeju_pop_df.head()"
   ],
   "metadata": {
    "collapsed": false,
    "ExecuteTime": {
     "end_time": "2024-05-14T09:10:20.820672Z",
     "start_time": "2024-05-14T09:10:20.814351Z"
    }
   },
   "id": "ca418108c37b3130",
   "execution_count": 62
  },
  {
   "cell_type": "code",
   "outputs": [
    {
     "name": "stdout",
     "output_type": "stream",
     "text": [
      "시군구명 컬럼의 unique 값 개수: 2\n",
      "['서귀포시', '제주시'] \n",
      "\n",
      "읍면동명 컬럼의 unique 값 개수: 43\n",
      "['건입동', '구좌읍', '남원읍', '노형동', '대륜동', '대정읍', '대천동', '도두동', '동홍동', '봉개동', '삼도1동', '삼도2동', '삼양동', '서홍동', '성산읍', '송산동', '아라동', '안덕면', '애월읍', '연동', '영천동', '예래동', '오라동', '외도동', '용담1동', '용담2동', '우도면', '이도1동', '이도2동', '이호동', '일도1동', '일도2동', '정방동', '조천읍', '중문동', '중앙동', '천지동', '추자면', '표선면', '한경면', '한림읍', '화북동', '효돈동'] \n",
      "\n",
      "성별 컬럼의 unique 값 개수: 2\n",
      "['남', '여'] \n",
      "\n",
      "연령대 컬럼의 unique 값 개수: 9\n",
      "['10대', '10세미만', '20대', '30대', '40대', '50대', '60대', '70대', '80대이상'] \n"
     ]
    }
   ],
   "source": [
    "print_unique_values(jeju_pop_df)"
   ],
   "metadata": {
    "collapsed": false,
    "ExecuteTime": {
     "end_time": "2024-05-14T09:10:28.749568Z",
     "start_time": "2024-05-14T09:10:28.651180Z"
    }
   },
   "id": "63ab331eb9b687bb",
   "execution_count": 63
  },
  {
   "cell_type": "code",
   "outputs": [
    {
     "data": {
      "text/plain": "               연월일       방문인구\n읍면동명                         \n이도2동  247228204540  401706305\n연동    247288746728  357324427\n애월읍   247268565877  342324032\n노형동   247329108136  335579872\n아라동   247187842812  220585732\n조천읍   247349289145  196158122\n오라동   247268565758  190946435\n용담2동  247248384963  183787396\n일도2동  247409831256  171495766\n한림읍   247329108478  153562850",
      "text/html": "<div>\n<style scoped>\n    .dataframe tbody tr th:only-of-type {\n        vertical-align: middle;\n    }\n\n    .dataframe tbody tr th {\n        vertical-align: top;\n    }\n\n    .dataframe thead th {\n        text-align: right;\n    }\n</style>\n<table border=\"1\" class=\"dataframe\">\n  <thead>\n    <tr style=\"text-align: right;\">\n      <th></th>\n      <th>연월일</th>\n      <th>방문인구</th>\n    </tr>\n    <tr>\n      <th>읍면동명</th>\n      <th></th>\n      <th></th>\n    </tr>\n  </thead>\n  <tbody>\n    <tr>\n      <th>이도2동</th>\n      <td>247228204540</td>\n      <td>401706305</td>\n    </tr>\n    <tr>\n      <th>연동</th>\n      <td>247288746728</td>\n      <td>357324427</td>\n    </tr>\n    <tr>\n      <th>애월읍</th>\n      <td>247268565877</td>\n      <td>342324032</td>\n    </tr>\n    <tr>\n      <th>노형동</th>\n      <td>247329108136</td>\n      <td>335579872</td>\n    </tr>\n    <tr>\n      <th>아라동</th>\n      <td>247187842812</td>\n      <td>220585732</td>\n    </tr>\n    <tr>\n      <th>조천읍</th>\n      <td>247349289145</td>\n      <td>196158122</td>\n    </tr>\n    <tr>\n      <th>오라동</th>\n      <td>247268565758</td>\n      <td>190946435</td>\n    </tr>\n    <tr>\n      <th>용담2동</th>\n      <td>247248384963</td>\n      <td>183787396</td>\n    </tr>\n    <tr>\n      <th>일도2동</th>\n      <td>247409831256</td>\n      <td>171495766</td>\n    </tr>\n    <tr>\n      <th>한림읍</th>\n      <td>247329108478</td>\n      <td>153562850</td>\n    </tr>\n  </tbody>\n</table>\n</div>"
     },
     "execution_count": 64,
     "metadata": {},
     "output_type": "execute_result"
    }
   ],
   "source": [
    "jeju_pop_df.groupby('읍면동명').sum(numeric_only=True).sort_values(by='방문인구', ascending=False).iloc[:10]"
   ],
   "metadata": {
    "collapsed": false,
    "ExecuteTime": {
     "end_time": "2024-05-14T09:10:36.622623Z",
     "start_time": "2024-05-14T09:10:36.574773Z"
    }
   },
   "id": "f55dd7a1f33e9bba",
   "execution_count": 64
  },
  {
   "cell_type": "markdown",
   "source": [
    "데이터 합치기"
   ],
   "metadata": {
    "collapsed": false
   },
   "id": "68fc83a7cd878db1"
  },
  {
   "cell_type": "code",
   "outputs": [
    {
     "data": {
      "text/plain": "        연월  시군구명 읍면동명            업종명  성별  이용자수      이용금액\n0  2017-01  서귀포시  남원읍     건강보조식품 소매업  남성    11    137500\n1  2017-01  서귀포시  천지동     건강보조식품 소매업  여성    61  12334400\n2  2017-01  서귀포시  대정읍  기타음식료품위주종합소매업  남성   555  17301300\n3  2017-01  서귀포시  대정읍         기타 주점업  남성   324  71843080\n4  2017-01  서귀포시  대정읍    기타 외국식 음식점업  남성    40    971000",
      "text/html": "<div>\n<style scoped>\n    .dataframe tbody tr th:only-of-type {\n        vertical-align: middle;\n    }\n\n    .dataframe tbody tr th {\n        vertical-align: top;\n    }\n\n    .dataframe thead th {\n        text-align: right;\n    }\n</style>\n<table border=\"1\" class=\"dataframe\">\n  <thead>\n    <tr style=\"text-align: right;\">\n      <th></th>\n      <th>연월</th>\n      <th>시군구명</th>\n      <th>읍면동명</th>\n      <th>업종명</th>\n      <th>성별</th>\n      <th>이용자수</th>\n      <th>이용금액</th>\n    </tr>\n  </thead>\n  <tbody>\n    <tr>\n      <th>0</th>\n      <td>2017-01</td>\n      <td>서귀포시</td>\n      <td>남원읍</td>\n      <td>건강보조식품 소매업</td>\n      <td>남성</td>\n      <td>11</td>\n      <td>137500</td>\n    </tr>\n    <tr>\n      <th>1</th>\n      <td>2017-01</td>\n      <td>서귀포시</td>\n      <td>천지동</td>\n      <td>건강보조식품 소매업</td>\n      <td>여성</td>\n      <td>61</td>\n      <td>12334400</td>\n    </tr>\n    <tr>\n      <th>2</th>\n      <td>2017-01</td>\n      <td>서귀포시</td>\n      <td>대정읍</td>\n      <td>기타음식료품위주종합소매업</td>\n      <td>남성</td>\n      <td>555</td>\n      <td>17301300</td>\n    </tr>\n    <tr>\n      <th>3</th>\n      <td>2017-01</td>\n      <td>서귀포시</td>\n      <td>대정읍</td>\n      <td>기타 주점업</td>\n      <td>남성</td>\n      <td>324</td>\n      <td>71843080</td>\n    </tr>\n    <tr>\n      <th>4</th>\n      <td>2017-01</td>\n      <td>서귀포시</td>\n      <td>대정읍</td>\n      <td>기타 외국식 음식점업</td>\n      <td>남성</td>\n      <td>40</td>\n      <td>971000</td>\n    </tr>\n  </tbody>\n</table>\n</div>"
     },
     "execution_count": 65,
     "metadata": {},
     "output_type": "execute_result"
    }
   ],
   "source": [
    "jeju_reg_df.head()"
   ],
   "metadata": {
    "collapsed": false,
    "ExecuteTime": {
     "end_time": "2024-05-14T09:10:57.043520Z",
     "start_time": "2024-05-14T09:10:57.031713Z"
    }
   },
   "id": "46adf069b08c16a0",
   "execution_count": 65
  },
  {
   "cell_type": "code",
   "outputs": [
    {
     "data": {
      "text/plain": "        연월일 시군구명 읍면동명 성별  연령대   방문인구\n0  20170101  제주시  한림읍  남  40대  19424\n1  20170101  제주시  애월읍  여  20대  27747\n2  20170101  제주시  구좌읍  남  70대   3459\n3  20170101  제주시  조천읍  남  40대  36695\n4  20170101  제주시  한경면  남  70대   1174",
      "text/html": "<div>\n<style scoped>\n    .dataframe tbody tr th:only-of-type {\n        vertical-align: middle;\n    }\n\n    .dataframe tbody tr th {\n        vertical-align: top;\n    }\n\n    .dataframe thead th {\n        text-align: right;\n    }\n</style>\n<table border=\"1\" class=\"dataframe\">\n  <thead>\n    <tr style=\"text-align: right;\">\n      <th></th>\n      <th>연월일</th>\n      <th>시군구명</th>\n      <th>읍면동명</th>\n      <th>성별</th>\n      <th>연령대</th>\n      <th>방문인구</th>\n    </tr>\n  </thead>\n  <tbody>\n    <tr>\n      <th>0</th>\n      <td>20170101</td>\n      <td>제주시</td>\n      <td>한림읍</td>\n      <td>남</td>\n      <td>40대</td>\n      <td>19424</td>\n    </tr>\n    <tr>\n      <th>1</th>\n      <td>20170101</td>\n      <td>제주시</td>\n      <td>애월읍</td>\n      <td>여</td>\n      <td>20대</td>\n      <td>27747</td>\n    </tr>\n    <tr>\n      <th>2</th>\n      <td>20170101</td>\n      <td>제주시</td>\n      <td>구좌읍</td>\n      <td>남</td>\n      <td>70대</td>\n      <td>3459</td>\n    </tr>\n    <tr>\n      <th>3</th>\n      <td>20170101</td>\n      <td>제주시</td>\n      <td>조천읍</td>\n      <td>남</td>\n      <td>40대</td>\n      <td>36695</td>\n    </tr>\n    <tr>\n      <th>4</th>\n      <td>20170101</td>\n      <td>제주시</td>\n      <td>한경면</td>\n      <td>남</td>\n      <td>70대</td>\n      <td>1174</td>\n    </tr>\n  </tbody>\n</table>\n</div>"
     },
     "execution_count": 66,
     "metadata": {},
     "output_type": "execute_result"
    }
   ],
   "source": [
    "jeju_pop_df.head()"
   ],
   "metadata": {
    "collapsed": false,
    "ExecuteTime": {
     "end_time": "2024-05-14T09:11:03.349257Z",
     "start_time": "2024-05-14T09:11:03.341886Z"
    }
   },
   "id": "599067bc7333e513",
   "execution_count": 66
  },
  {
   "cell_type": "code",
   "outputs": [
    {
     "data": {
      "text/plain": "array([20170101, 20170102, 20170103, 20170104, 20170105, 20170106,\n       20170107, 20170108, 20170109, 20170110, 20170111, 20170112,\n       20170113, 20170114, 20170115, 20170116, 20170117, 20170118,\n       20170119, 20170120, 20170121, 20170122, 20170123, 20170124,\n       20170125, 20170126, 20170127, 20170128, 20170129, 20170130,\n       20170131, 20170201, 20170202, 20170203, 20170204, 20170205,\n       20170206, 20170207, 20170208, 20170209, 20170210, 20170211,\n       20170212, 20170213, 20170214, 20170215, 20170216, 20170217,\n       20170218, 20170219, 20170220, 20170221, 20170222, 20170223,\n       20170224, 20170225, 20170226, 20170227, 20170228, 20170301,\n       20170302, 20170303, 20170304, 20170305, 20170306, 20170307,\n       20170308, 20170309, 20170310, 20170311, 20170312, 20170313,\n       20170314, 20170315, 20170316, 20170317, 20170318, 20170319,\n       20170320, 20170321, 20170322, 20170323, 20170324, 20170325,\n       20170326, 20170327, 20170328, 20170329, 20170330, 20170331,\n       20170401, 20170402, 20170403, 20170404, 20170405, 20170406,\n       20170407, 20170408, 20170409, 20170410, 20170411, 20170412,\n       20170413, 20170414, 20170415, 20170416, 20170417, 20170418,\n       20170419, 20170420, 20170421, 20170422, 20170423, 20170424,\n       20170425, 20170426, 20170427, 20170428, 20170429, 20170430,\n       20170501, 20170502, 20170503, 20170504, 20170505, 20170506,\n       20170507, 20170508, 20170509, 20170510, 20170511, 20170512,\n       20170513, 20170514, 20170515, 20170516, 20170517, 20170518,\n       20170519, 20170520, 20170521, 20170522, 20170523, 20170524,\n       20170525, 20170526, 20170527, 20170528, 20170529, 20170530,\n       20170531, 20170601, 20170602, 20170603, 20170604, 20170605,\n       20170606, 20170607, 20170608, 20170609, 20170610, 20170611,\n       20170612, 20170613, 20170614, 20170615, 20170616, 20170617,\n       20170618, 20170619, 20170620, 20170621, 20170622, 20170623,\n       20170624, 20170625, 20170626, 20170627, 20170628, 20170629,\n       20170630, 20170701, 20170702, 20170703, 20170704, 20170705,\n       20170706, 20170707, 20170708, 20170709, 20170710, 20170711,\n       20170712, 20170713, 20170714, 20170715, 20170716, 20170717,\n       20170718, 20170719, 20170720, 20170721, 20170722, 20170723,\n       20170724, 20170725, 20170726, 20170727, 20170728, 20170729,\n       20170730, 20170731, 20170801, 20170802, 20170803, 20170804,\n       20170805, 20170806, 20170807, 20170808, 20170809, 20170810,\n       20170811, 20170812, 20170813, 20170814, 20170815, 20170816,\n       20170817, 20170818, 20170819, 20170820, 20170821, 20170822,\n       20170823, 20170824, 20170825, 20170826, 20170827, 20170828,\n       20170829, 20170830, 20170831, 20170901, 20170902, 20170903,\n       20170904, 20170905, 20170906, 20170907, 20170908, 20170909,\n       20170910, 20170911, 20170912, 20170913, 20170914, 20170915,\n       20170916, 20170917, 20170918, 20170919, 20170920, 20170921,\n       20170922, 20170923, 20170924, 20170925, 20170926, 20170927,\n       20170928, 20170929, 20170930, 20171001, 20171002, 20171003,\n       20171004, 20171005, 20171006, 20171007, 20171008, 20171009,\n       20171010, 20171011, 20171012, 20171013, 20171014, 20171015,\n       20171016, 20171017, 20171018, 20171019, 20171020, 20171021,\n       20171022, 20171023, 20171024, 20171025, 20171026, 20171027,\n       20171028, 20171029, 20171030, 20171031, 20171101, 20171102,\n       20171103, 20171104, 20171105, 20171106, 20171107, 20171108,\n       20171109, 20171110, 20171111, 20171112, 20171113, 20171114,\n       20171115, 20171116, 20171117, 20171118, 20171119, 20171120,\n       20171121, 20171122, 20171123, 20171124, 20171125, 20171126,\n       20171127, 20171128, 20171129, 20171130, 20171201, 20171202,\n       20171203, 20171204, 20171205, 20171206, 20171207, 20171208,\n       20171209, 20171210, 20171211, 20171212, 20171213, 20171214,\n       20171215, 20171216, 20171217, 20171218, 20171219, 20171220,\n       20171221, 20171222, 20171223, 20171224, 20171225, 20171226,\n       20171227, 20171228, 20171229, 20171230, 20171231, 20180101,\n       20180102, 20180103, 20180104, 20180105, 20180106, 20180107,\n       20180108, 20180109, 20180110, 20180111, 20180112, 20180113,\n       20180114, 20180115, 20180116, 20180117, 20180118, 20180119,\n       20180120, 20180121, 20180122, 20180123, 20180124, 20180125,\n       20180126, 20180127, 20180128, 20180129, 20180130, 20180131,\n       20180201, 20180202, 20180203, 20180204, 20180205, 20180206,\n       20180207, 20180208, 20180209, 20180210, 20180211, 20180212,\n       20180213, 20180214, 20180215, 20180216, 20180217, 20180218,\n       20180219, 20180220, 20180221, 20180222, 20180223, 20180224,\n       20180225, 20180226, 20180227, 20180228, 20180301, 20180302,\n       20180303, 20180304, 20180305, 20180306, 20180307, 20180308,\n       20180309, 20180310, 20180311, 20180312, 20180313, 20180314,\n       20180315, 20180316, 20180317, 20180318, 20180319, 20180320,\n       20180321, 20180322, 20180323, 20180324, 20180325, 20180326,\n       20180327, 20180328, 20180329, 20180330, 20180331, 20180401,\n       20180402, 20180403, 20180404, 20180405, 20180406, 20180407,\n       20180408, 20180409, 20180410, 20180411, 20180412, 20180413,\n       20180414, 20180415, 20180416, 20180417, 20180418, 20180419,\n       20180420, 20180421, 20180422, 20180423, 20180424, 20180425,\n       20180426, 20180427, 20180428, 20180429, 20180430, 20180501,\n       20180502, 20180503, 20180504, 20180505, 20180506, 20180507,\n       20180508, 20180509, 20180510, 20180511, 20180512, 20180513,\n       20180514, 20180515, 20180516, 20180517, 20180518, 20180519,\n       20180520, 20180521, 20180522, 20180523, 20180524, 20180525,\n       20180526, 20180527, 20180528, 20180529, 20180530, 20180531,\n       20180701, 20180702, 20180703, 20180704, 20180705, 20180706,\n       20180707, 20180708, 20180709, 20180710, 20180711, 20180712,\n       20180713, 20180714, 20180715, 20180716, 20180717, 20180718,\n       20180719, 20180720, 20180721, 20180722, 20180723, 20180724,\n       20180725, 20180726, 20180727, 20180728, 20180729, 20180730,\n       20180731, 20180801, 20180802, 20180803, 20180804, 20180805,\n       20180806, 20180807, 20180808, 20180809, 20180810, 20180811,\n       20180812, 20180813, 20180814, 20180815, 20180816, 20180817,\n       20180818, 20180819, 20180820, 20180821, 20180822, 20180823,\n       20180824, 20180825, 20180826, 20180827, 20180828, 20180829,\n       20180830, 20180831, 20181001, 20181002, 20181003, 20181004,\n       20181005, 20181006, 20181007, 20181008, 20181009, 20181010,\n       20181011, 20181012, 20181013, 20181014, 20181015, 20181016,\n       20181017, 20181018, 20181019, 20181020, 20181021, 20181022,\n       20181023, 20181024, 20181025, 20181026, 20181027, 20181028,\n       20181029, 20181030, 20181031, 20181101, 20181102, 20181103,\n       20181104, 20181105, 20181106, 20181107, 20181108, 20181109,\n       20181110, 20181111, 20181112, 20181113, 20181114, 20181115,\n       20181116, 20181117, 20181118, 20181119, 20181120, 20181121,\n       20181122, 20181123, 20181124, 20181125, 20181126, 20181127,\n       20181128, 20181129, 20181130, 20181201, 20180901, 20180902,\n       20180903, 20180904, 20180905, 20180906, 20180907, 20180908,\n       20180909, 20180910, 20180911, 20180912, 20180913, 20180914,\n       20180915, 20180916, 20180917, 20180918, 20180919, 20180920,\n       20180921, 20180922, 20180923, 20180924, 20180925, 20180926,\n       20180927, 20180928, 20180929, 20180930, 20181202, 20181203,\n       20181204, 20181205, 20181206, 20181207, 20181208, 20181209,\n       20181210, 20181211, 20181212, 20181213, 20181214, 20181215,\n       20181216, 20181217, 20181218, 20181219, 20181220, 20181221,\n       20181222, 20181223, 20181224, 20181225, 20181226, 20181227,\n       20181228, 20181229, 20181230, 20181231])"
     },
     "execution_count": 67,
     "metadata": {},
     "output_type": "execute_result"
    }
   ],
   "source": [
    "jeju_pop_df['연월일'].unique()"
   ],
   "metadata": {
    "collapsed": false,
    "ExecuteTime": {
     "end_time": "2024-05-14T09:11:14.601260Z",
     "start_time": "2024-05-14T09:11:14.581750Z"
    }
   },
   "id": "631ebfda8cd3c818",
   "execution_count": 67
  },
  {
   "cell_type": "code",
   "outputs": [],
   "source": [
    "jeju_pop_df['연월일'] = jeju_pop_df['연월일'].astype('string')\n",
    "jeju_pop_df['연월'] = jeju_pop_df['연월일'].str[:4] + '-' + jeju_pop_df['연월일'].str[4:6]"
   ],
   "metadata": {
    "collapsed": false,
    "ExecuteTime": {
     "end_time": "2024-05-14T09:11:28.531815Z",
     "start_time": "2024-05-14T09:11:28.221969Z"
    }
   },
   "id": "8c2e8311f4e30f94",
   "execution_count": 68
  },
  {
   "cell_type": "code",
   "outputs": [
    {
     "data": {
      "text/plain": "        연월일 시군구명 읍면동명 성별  연령대   방문인구       연월\n0  20170101  제주시  한림읍  남  40대  19424  2017-01\n1  20170101  제주시  애월읍  여  20대  27747  2017-01\n2  20170101  제주시  구좌읍  남  70대   3459  2017-01\n3  20170101  제주시  조천읍  남  40대  36695  2017-01\n4  20170101  제주시  한경면  남  70대   1174  2017-01",
      "text/html": "<div>\n<style scoped>\n    .dataframe tbody tr th:only-of-type {\n        vertical-align: middle;\n    }\n\n    .dataframe tbody tr th {\n        vertical-align: top;\n    }\n\n    .dataframe thead th {\n        text-align: right;\n    }\n</style>\n<table border=\"1\" class=\"dataframe\">\n  <thead>\n    <tr style=\"text-align: right;\">\n      <th></th>\n      <th>연월일</th>\n      <th>시군구명</th>\n      <th>읍면동명</th>\n      <th>성별</th>\n      <th>연령대</th>\n      <th>방문인구</th>\n      <th>연월</th>\n    </tr>\n  </thead>\n  <tbody>\n    <tr>\n      <th>0</th>\n      <td>20170101</td>\n      <td>제주시</td>\n      <td>한림읍</td>\n      <td>남</td>\n      <td>40대</td>\n      <td>19424</td>\n      <td>2017-01</td>\n    </tr>\n    <tr>\n      <th>1</th>\n      <td>20170101</td>\n      <td>제주시</td>\n      <td>애월읍</td>\n      <td>여</td>\n      <td>20대</td>\n      <td>27747</td>\n      <td>2017-01</td>\n    </tr>\n    <tr>\n      <th>2</th>\n      <td>20170101</td>\n      <td>제주시</td>\n      <td>구좌읍</td>\n      <td>남</td>\n      <td>70대</td>\n      <td>3459</td>\n      <td>2017-01</td>\n    </tr>\n    <tr>\n      <th>3</th>\n      <td>20170101</td>\n      <td>제주시</td>\n      <td>조천읍</td>\n      <td>남</td>\n      <td>40대</td>\n      <td>36695</td>\n      <td>2017-01</td>\n    </tr>\n    <tr>\n      <th>4</th>\n      <td>20170101</td>\n      <td>제주시</td>\n      <td>한경면</td>\n      <td>남</td>\n      <td>70대</td>\n      <td>1174</td>\n      <td>2017-01</td>\n    </tr>\n  </tbody>\n</table>\n</div>"
     },
     "execution_count": 69,
     "metadata": {},
     "output_type": "execute_result"
    }
   ],
   "source": [
    "jeju_pop_df.head()"
   ],
   "metadata": {
    "collapsed": false,
    "ExecuteTime": {
     "end_time": "2024-05-14T09:11:44.041853Z",
     "start_time": "2024-05-14T09:11:44.040646Z"
    }
   },
   "id": "768bdc17006d9389",
   "execution_count": 69
  },
  {
   "cell_type": "code",
   "outputs": [],
   "source": [
    "jeju_pop_df['성별'] = jeju_pop_df['성별'] + '성'"
   ],
   "metadata": {
    "collapsed": false,
    "ExecuteTime": {
     "end_time": "2024-05-14T09:11:50.731391Z",
     "start_time": "2024-05-14T09:11:50.698425Z"
    }
   },
   "id": "93df16ec46aceb69",
   "execution_count": 70
  },
  {
   "cell_type": "code",
   "outputs": [
    {
     "data": {
      "text/plain": "        연월일 시군구명 읍면동명  성별  연령대   방문인구       연월\n0  20170101  제주시  한림읍  남성  40대  19424  2017-01\n1  20170101  제주시  애월읍  여성  20대  27747  2017-01\n2  20170101  제주시  구좌읍  남성  70대   3459  2017-01\n3  20170101  제주시  조천읍  남성  40대  36695  2017-01\n4  20170101  제주시  한경면  남성  70대   1174  2017-01",
      "text/html": "<div>\n<style scoped>\n    .dataframe tbody tr th:only-of-type {\n        vertical-align: middle;\n    }\n\n    .dataframe tbody tr th {\n        vertical-align: top;\n    }\n\n    .dataframe thead th {\n        text-align: right;\n    }\n</style>\n<table border=\"1\" class=\"dataframe\">\n  <thead>\n    <tr style=\"text-align: right;\">\n      <th></th>\n      <th>연월일</th>\n      <th>시군구명</th>\n      <th>읍면동명</th>\n      <th>성별</th>\n      <th>연령대</th>\n      <th>방문인구</th>\n      <th>연월</th>\n    </tr>\n  </thead>\n  <tbody>\n    <tr>\n      <th>0</th>\n      <td>20170101</td>\n      <td>제주시</td>\n      <td>한림읍</td>\n      <td>남성</td>\n      <td>40대</td>\n      <td>19424</td>\n      <td>2017-01</td>\n    </tr>\n    <tr>\n      <th>1</th>\n      <td>20170101</td>\n      <td>제주시</td>\n      <td>애월읍</td>\n      <td>여성</td>\n      <td>20대</td>\n      <td>27747</td>\n      <td>2017-01</td>\n    </tr>\n    <tr>\n      <th>2</th>\n      <td>20170101</td>\n      <td>제주시</td>\n      <td>구좌읍</td>\n      <td>남성</td>\n      <td>70대</td>\n      <td>3459</td>\n      <td>2017-01</td>\n    </tr>\n    <tr>\n      <th>3</th>\n      <td>20170101</td>\n      <td>제주시</td>\n      <td>조천읍</td>\n      <td>남성</td>\n      <td>40대</td>\n      <td>36695</td>\n      <td>2017-01</td>\n    </tr>\n    <tr>\n      <th>4</th>\n      <td>20170101</td>\n      <td>제주시</td>\n      <td>한경면</td>\n      <td>남성</td>\n      <td>70대</td>\n      <td>1174</td>\n      <td>2017-01</td>\n    </tr>\n  </tbody>\n</table>\n</div>"
     },
     "execution_count": 71,
     "metadata": {},
     "output_type": "execute_result"
    }
   ],
   "source": [
    "jeju_pop_df.head()"
   ],
   "metadata": {
    "collapsed": false,
    "ExecuteTime": {
     "end_time": "2024-05-14T09:12:05.697181Z",
     "start_time": "2024-05-14T09:12:05.686016Z"
    }
   },
   "id": "fe81b2bddc1e0c7f",
   "execution_count": 71
  },
  {
   "cell_type": "code",
   "outputs": [
    {
     "data": {
      "text/plain": "        연월  시군구명 읍면동명  성별     방문인구\n0  2017-01  서귀포시  남원읍  남성  2844830\n1  2017-01  서귀포시  남원읍  여성  2430535\n2  2017-01  서귀포시  대륜동  남성  2643763\n3  2017-01  서귀포시  대륜동  여성  2293711\n4  2017-01  서귀포시  대정읍  남성  2346595",
      "text/html": "<div>\n<style scoped>\n    .dataframe tbody tr th:only-of-type {\n        vertical-align: middle;\n    }\n\n    .dataframe tbody tr th {\n        vertical-align: top;\n    }\n\n    .dataframe thead th {\n        text-align: right;\n    }\n</style>\n<table border=\"1\" class=\"dataframe\">\n  <thead>\n    <tr style=\"text-align: right;\">\n      <th></th>\n      <th>연월</th>\n      <th>시군구명</th>\n      <th>읍면동명</th>\n      <th>성별</th>\n      <th>방문인구</th>\n    </tr>\n  </thead>\n  <tbody>\n    <tr>\n      <th>0</th>\n      <td>2017-01</td>\n      <td>서귀포시</td>\n      <td>남원읍</td>\n      <td>남성</td>\n      <td>2844830</td>\n    </tr>\n    <tr>\n      <th>1</th>\n      <td>2017-01</td>\n      <td>서귀포시</td>\n      <td>남원읍</td>\n      <td>여성</td>\n      <td>2430535</td>\n    </tr>\n    <tr>\n      <th>2</th>\n      <td>2017-01</td>\n      <td>서귀포시</td>\n      <td>대륜동</td>\n      <td>남성</td>\n      <td>2643763</td>\n    </tr>\n    <tr>\n      <th>3</th>\n      <td>2017-01</td>\n      <td>서귀포시</td>\n      <td>대륜동</td>\n      <td>여성</td>\n      <td>2293711</td>\n    </tr>\n    <tr>\n      <th>4</th>\n      <td>2017-01</td>\n      <td>서귀포시</td>\n      <td>대정읍</td>\n      <td>남성</td>\n      <td>2346595</td>\n    </tr>\n  </tbody>\n</table>\n</div>"
     },
     "execution_count": 72,
     "metadata": {},
     "output_type": "execute_result"
    }
   ],
   "source": [
    "groupby_pop = jeju_pop_df.groupby(['연월', '시군구명', '읍면동명', '성별']).sum(numeric_only=True).reset_index()\n",
    "groupby_pop.head()"
   ],
   "metadata": {
    "collapsed": false,
    "ExecuteTime": {
     "end_time": "2024-05-14T09:12:17.475459Z",
     "start_time": "2024-05-14T09:12:17.296267Z"
    }
   },
   "id": "4575ddce15c492b4",
   "execution_count": 72
  },
  {
   "cell_type": "code",
   "outputs": [
    {
     "data": {
      "text/plain": "        연월  시군구명 읍면동명            업종명  성별  이용자수      이용금액        방문인구\n0  2017-01  서귀포시  남원읍     건강보조식품 소매업  남성    11    137500 2844830.000\n1  2017-01  서귀포시  천지동     건강보조식품 소매업  여성    61  12334400  685754.000\n2  2017-01  서귀포시  대정읍  기타음식료품위주종합소매업  남성   555  17301300 2346595.000\n3  2017-01  서귀포시  대정읍         기타 주점업  남성   324  71843080 2346595.000\n4  2017-01  서귀포시  대정읍    기타 외국식 음식점업  남성    40    971000 2346595.000",
      "text/html": "<div>\n<style scoped>\n    .dataframe tbody tr th:only-of-type {\n        vertical-align: middle;\n    }\n\n    .dataframe tbody tr th {\n        vertical-align: top;\n    }\n\n    .dataframe thead th {\n        text-align: right;\n    }\n</style>\n<table border=\"1\" class=\"dataframe\">\n  <thead>\n    <tr style=\"text-align: right;\">\n      <th></th>\n      <th>연월</th>\n      <th>시군구명</th>\n      <th>읍면동명</th>\n      <th>업종명</th>\n      <th>성별</th>\n      <th>이용자수</th>\n      <th>이용금액</th>\n      <th>방문인구</th>\n    </tr>\n  </thead>\n  <tbody>\n    <tr>\n      <th>0</th>\n      <td>2017-01</td>\n      <td>서귀포시</td>\n      <td>남원읍</td>\n      <td>건강보조식품 소매업</td>\n      <td>남성</td>\n      <td>11</td>\n      <td>137500</td>\n      <td>2844830.000</td>\n    </tr>\n    <tr>\n      <th>1</th>\n      <td>2017-01</td>\n      <td>서귀포시</td>\n      <td>천지동</td>\n      <td>건강보조식품 소매업</td>\n      <td>여성</td>\n      <td>61</td>\n      <td>12334400</td>\n      <td>685754.000</td>\n    </tr>\n    <tr>\n      <th>2</th>\n      <td>2017-01</td>\n      <td>서귀포시</td>\n      <td>대정읍</td>\n      <td>기타음식료품위주종합소매업</td>\n      <td>남성</td>\n      <td>555</td>\n      <td>17301300</td>\n      <td>2346595.000</td>\n    </tr>\n    <tr>\n      <th>3</th>\n      <td>2017-01</td>\n      <td>서귀포시</td>\n      <td>대정읍</td>\n      <td>기타 주점업</td>\n      <td>남성</td>\n      <td>324</td>\n      <td>71843080</td>\n      <td>2346595.000</td>\n    </tr>\n    <tr>\n      <th>4</th>\n      <td>2017-01</td>\n      <td>서귀포시</td>\n      <td>대정읍</td>\n      <td>기타 외국식 음식점업</td>\n      <td>남성</td>\n      <td>40</td>\n      <td>971000</td>\n      <td>2346595.000</td>\n    </tr>\n  </tbody>\n</table>\n</div>"
     },
     "execution_count": 73,
     "metadata": {},
     "output_type": "execute_result"
    }
   ],
   "source": [
    "jeju_df = pd.merge(jeju_reg_df, groupby_pop, how='left', on=['연월', '시군구명', '읍면동명', '성별'])\n",
    "jeju_df.head()"
   ],
   "metadata": {
    "collapsed": false,
    "ExecuteTime": {
     "end_time": "2024-05-14T09:12:28.773971Z",
     "start_time": "2024-05-14T09:12:28.738705Z"
    }
   },
   "id": "8069050c380a621",
   "execution_count": 73
  },
  {
   "cell_type": "markdown",
   "source": [
    "## 카페 업종의 소비가 활성화된 지역은?\n"
   ],
   "metadata": {
    "collapsed": false
   },
   "id": "98a74cf07d795a70"
  },
  {
   "cell_type": "code",
   "outputs": [
    {
     "data": {
      "text/plain": "array(['건강보조식품 소매업', '기타음식료품위주종합소매업', '기타 주점업', '기타 외국식 음식점업',\n       '그외 기타 종합 소매업', '그외 기타 분류안된 오락관련 서비스업', '일반유흥 주점업', '비알콜 음료점업',\n       '일식 음식점업', '중식 음식점업', '차량용 가스 충전업', '차량용 주유소 운영업',\n       '스포츠 및 레크레이션 용품 임대업', '체인화 편의점', '한식 음식점업', '전시 및 행사 대행업', '호텔업',\n       '빵 및 과자류 소매업', '수산물 소매업', '여행사업', '여관업', '화장품 및 방향제 소매업', '욕탕업',\n       '육류 소매업', '서양식 음식점업', '슈퍼마켓', '과실 및 채소 소매업', '골프장 운영업', '자동차 임대업',\n       '관광 민예품 및 선물용품 소매업', '피자, 햄버거, 샌드위치 및 유사 음식점업', '휴양콘도 운영업',\n       '그외 기타 스포츠시설 운영업', '기타 대형 종합 소매업', '내항 여객 운송업', '마사지업',\n       '기타 수상오락 서비스업', '면세점', '정기 항공 운송업'], dtype=object)"
     },
     "execution_count": 74,
     "metadata": {},
     "output_type": "execute_result"
    }
   ],
   "source": [
    "jeju_df['업종명'].unique()"
   ],
   "metadata": {
    "collapsed": false,
    "ExecuteTime": {
     "end_time": "2024-05-14T09:12:50.094789Z",
     "start_time": "2024-05-14T09:12:50.068344Z"
    }
   },
   "id": "d6b3b6ec511ea435",
   "execution_count": 74
  },
  {
   "cell_type": "code",
   "outputs": [
    {
     "data": {
      "text/plain": "        이용자수        이용금액          방문인구\n읍면동명                                  \n용담2동  447461  4056159850 183787396.000\n이도2동  347756  3647080260 401706305.000\n노형동   300088  2738692471 335579872.000\n연동    216716  2387394344 357324427.000\n애월읍   118980  1593771610 342324032.000\n송산동   138608  1536821323  26699487.000\n천지동   132038  1425763713  30105838.000\n아라동   134662  1322616147 220585732.000\n중앙동    95624  1102646313  70051079.000\n정방동    95624  1102646313  64064157.000",
      "text/html": "<div>\n<style scoped>\n    .dataframe tbody tr th:only-of-type {\n        vertical-align: middle;\n    }\n\n    .dataframe tbody tr th {\n        vertical-align: top;\n    }\n\n    .dataframe thead th {\n        text-align: right;\n    }\n</style>\n<table border=\"1\" class=\"dataframe\">\n  <thead>\n    <tr style=\"text-align: right;\">\n      <th></th>\n      <th>이용자수</th>\n      <th>이용금액</th>\n      <th>방문인구</th>\n    </tr>\n    <tr>\n      <th>읍면동명</th>\n      <th></th>\n      <th></th>\n      <th></th>\n    </tr>\n  </thead>\n  <tbody>\n    <tr>\n      <th>용담2동</th>\n      <td>447461</td>\n      <td>4056159850</td>\n      <td>183787396.000</td>\n    </tr>\n    <tr>\n      <th>이도2동</th>\n      <td>347756</td>\n      <td>3647080260</td>\n      <td>401706305.000</td>\n    </tr>\n    <tr>\n      <th>노형동</th>\n      <td>300088</td>\n      <td>2738692471</td>\n      <td>335579872.000</td>\n    </tr>\n    <tr>\n      <th>연동</th>\n      <td>216716</td>\n      <td>2387394344</td>\n      <td>357324427.000</td>\n    </tr>\n    <tr>\n      <th>애월읍</th>\n      <td>118980</td>\n      <td>1593771610</td>\n      <td>342324032.000</td>\n    </tr>\n    <tr>\n      <th>송산동</th>\n      <td>138608</td>\n      <td>1536821323</td>\n      <td>26699487.000</td>\n    </tr>\n    <tr>\n      <th>천지동</th>\n      <td>132038</td>\n      <td>1425763713</td>\n      <td>30105838.000</td>\n    </tr>\n    <tr>\n      <th>아라동</th>\n      <td>134662</td>\n      <td>1322616147</td>\n      <td>220585732.000</td>\n    </tr>\n    <tr>\n      <th>중앙동</th>\n      <td>95624</td>\n      <td>1102646313</td>\n      <td>70051079.000</td>\n    </tr>\n    <tr>\n      <th>정방동</th>\n      <td>95624</td>\n      <td>1102646313</td>\n      <td>64064157.000</td>\n    </tr>\n  </tbody>\n</table>\n</div>"
     },
     "execution_count": 75,
     "metadata": {},
     "output_type": "execute_result"
    }
   ],
   "source": [
    "cafe_df = jeju_df[jeju_df['업종명'] == '비알콜 음료점업']\n",
    "cafe_df.groupby('읍면동명').sum(numeric_only=True).sort_values(by='이용금액', ascending=False).iloc[:10]"
   ],
   "metadata": {
    "collapsed": false,
    "ExecuteTime": {
     "end_time": "2024-05-14T09:12:58.231965Z",
     "start_time": "2024-05-14T09:12:58.202347Z"
    }
   },
   "id": "cdf779646b10dbd7",
   "execution_count": 75
  },
  {
   "cell_type": "markdown",
   "source": [
    "## 카페와 유동인구의 관계 시각화"
   ],
   "metadata": {
    "collapsed": false
   },
   "id": "555ff78c248b23b6"
  },
  {
   "cell_type": "code",
   "outputs": [
    {
     "data": {
      "text/plain": "Text(0.5, 1.0, '비알코올 음료점업의 방문 인구와 카드 이용 금액')"
     },
     "execution_count": 76,
     "metadata": {},
     "output_type": "execute_result"
    },
    {
     "data": {
      "text/plain": "<Figure size 640x480 with 1 Axes>",
      "image/png": "[encoded data removed]"
     },
     "metadata": {},
     "output_type": "display_data"
    }
   ],
   "source": [
    "sns.scatterplot(cafe_df, x='방문인구', y='이용금액')\n",
    "plt.title('비알코올 음료점업의 방문 인구와 카드 이용 금액')"
   ],
   "metadata": {
    "collapsed": false,
    "ExecuteTime": {
     "end_time": "2024-05-14T09:13:21.621003Z",
     "start_time": "2024-05-14T09:13:21.282161Z"
    }
   },
   "id": "90a306e621e1bc6f",
   "execution_count": 76
  },
  {
   "cell_type": "code",
   "outputs": [
    {
     "data": {
      "text/plain": "      이용자수  이용금액  방문인구\n이용자수 1.000 0.984 0.599\n이용금액 0.984 1.000 0.633\n방문인구 0.599 0.633 1.000",
      "text/html": "<div>\n<style scoped>\n    .dataframe tbody tr th:only-of-type {\n        vertical-align: middle;\n    }\n\n    .dataframe tbody tr th {\n        vertical-align: top;\n    }\n\n    .dataframe thead th {\n        text-align: right;\n    }\n</style>\n<table border=\"1\" class=\"dataframe\">\n  <thead>\n    <tr style=\"text-align: right;\">\n      <th></th>\n      <th>이용자수</th>\n      <th>이용금액</th>\n      <th>방문인구</th>\n    </tr>\n  </thead>\n  <tbody>\n    <tr>\n      <th>이용자수</th>\n      <td>1.000</td>\n      <td>0.984</td>\n      <td>0.599</td>\n    </tr>\n    <tr>\n      <th>이용금액</th>\n      <td>0.984</td>\n      <td>1.000</td>\n      <td>0.633</td>\n    </tr>\n    <tr>\n      <th>방문인구</th>\n      <td>0.599</td>\n      <td>0.633</td>\n      <td>1.000</td>\n    </tr>\n  </tbody>\n</table>\n</div>"
     },
     "execution_count": 77,
     "metadata": {},
     "output_type": "execute_result"
    }
   ],
   "source": [
    "cafe_df.corr(numeric_only=True)"
   ],
   "metadata": {
    "collapsed": false,
    "ExecuteTime": {
     "end_time": "2024-05-14T09:13:28.978847Z",
     "start_time": "2024-05-14T09:13:28.953246Z"
    }
   },
   "id": "b5f4f0bd1a8d315e",
   "execution_count": 77
  }
 ],
 "metadata": {
  "kernelspec": {
   "display_name": "Python 3",
   "language": "python",
   "name": "python3"
  },
  "language_info": {
   "codemirror_mode": {
    "name": "ipython",
    "version": 2
   },
   "file_extension": ".py",
   "mimetype": "text/x-python",
   "name": "python",
   "nbconvert_exporter": "python",
   "pygments_lexer": "ipython2",
   "version": "2.7.6"
  }
 },
 "nbformat": 4,
 "nbformat_minor": 5
}
