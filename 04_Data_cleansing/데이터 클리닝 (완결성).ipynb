{
 "cells": [
  {
   "cell_type": "code",
   "execution_count": 10,
   "id": "initial_id",
   "metadata": {
    "collapsed": true,
    "ExecuteTime": {
     "end_time": "2024-06-04T11:02:27.020309Z",
     "start_time": "2024-06-04T11:02:26.806309Z"
    }
   },
   "outputs": [],
   "source": [
    "import pandas as pd"
   ]
  },
  {
   "cell_type": "code",
   "outputs": [
    {
     "data": {
      "text/plain": "         야구     축구      배구  남자농구  여자농구\n연도                                    \n2008  10881  11642  1253.0  4208  1329\n2009  11562  10983  1471.0  4152  1206\n2010  11402  12873     NaN  3870   705\n2011  13055  10709  1774.0  3955  1445\n2012  13747   7157     NaN  4537  1150\n2013  11373   7656     NaN  4092  1237\n2014  11429   8115  1967.0  4458  1417\n2015  10357   7720  2311.0  3953  1480\n2016  11583   7854  2336.0  3543  1425\n2017  11668   6502  2425.0  3188  1097",
      "text/html": "<div>\n<style scoped>\n    .dataframe tbody tr th:only-of-type {\n        vertical-align: middle;\n    }\n\n    .dataframe tbody tr th {\n        vertical-align: top;\n    }\n\n    .dataframe thead th {\n        text-align: right;\n    }\n</style>\n<table border=\"1\" class=\"dataframe\">\n  <thead>\n    <tr style=\"text-align: right;\">\n      <th></th>\n      <th>야구</th>\n      <th>축구</th>\n      <th>배구</th>\n      <th>남자농구</th>\n      <th>여자농구</th>\n    </tr>\n    <tr>\n      <th>연도</th>\n      <th></th>\n      <th></th>\n      <th></th>\n      <th></th>\n      <th></th>\n    </tr>\n  </thead>\n  <tbody>\n    <tr>\n      <th>2008</th>\n      <td>10881</td>\n      <td>11642</td>\n      <td>1253.0</td>\n      <td>4208</td>\n      <td>1329</td>\n    </tr>\n    <tr>\n      <th>2009</th>\n      <td>11562</td>\n      <td>10983</td>\n      <td>1471.0</td>\n      <td>4152</td>\n      <td>1206</td>\n    </tr>\n    <tr>\n      <th>2010</th>\n      <td>11402</td>\n      <td>12873</td>\n      <td>NaN</td>\n      <td>3870</td>\n      <td>705</td>\n    </tr>\n    <tr>\n      <th>2011</th>\n      <td>13055</td>\n      <td>10709</td>\n      <td>1774.0</td>\n      <td>3955</td>\n      <td>1445</td>\n    </tr>\n    <tr>\n      <th>2012</th>\n      <td>13747</td>\n      <td>7157</td>\n      <td>NaN</td>\n      <td>4537</td>\n      <td>1150</td>\n    </tr>\n    <tr>\n      <th>2013</th>\n      <td>11373</td>\n      <td>7656</td>\n      <td>NaN</td>\n      <td>4092</td>\n      <td>1237</td>\n    </tr>\n    <tr>\n      <th>2014</th>\n      <td>11429</td>\n      <td>8115</td>\n      <td>1967.0</td>\n      <td>4458</td>\n      <td>1417</td>\n    </tr>\n    <tr>\n      <th>2015</th>\n      <td>10357</td>\n      <td>7720</td>\n      <td>2311.0</td>\n      <td>3953</td>\n      <td>1480</td>\n    </tr>\n    <tr>\n      <th>2016</th>\n      <td>11583</td>\n      <td>7854</td>\n      <td>2336.0</td>\n      <td>3543</td>\n      <td>1425</td>\n    </tr>\n    <tr>\n      <th>2017</th>\n      <td>11668</td>\n      <td>6502</td>\n      <td>2425.0</td>\n      <td>3188</td>\n      <td>1097</td>\n    </tr>\n  </tbody>\n</table>\n</div>"
     },
     "execution_count": 11,
     "metadata": {},
     "output_type": "execute_result"
    }
   ],
   "source": [
    "df = pd.read_csv('data/attendance.csv', index_col=0)\n",
    "df"
   ],
   "metadata": {
    "collapsed": false,
    "ExecuteTime": {
     "end_time": "2024-06-04T11:02:27.098494Z",
     "start_time": "2024-06-04T11:02:27.021239Z"
    }
   },
   "id": "9816b777912a9b50",
   "execution_count": 11
  },
  {
   "cell_type": "code",
   "outputs": [
    {
     "data": {
      "text/plain": "         야구     축구     배구   남자농구   여자농구\n연도                                     \n2008  False  False  False  False  False\n2009  False  False  False  False  False\n2010  False  False   True  False  False\n2011  False  False  False  False  False\n2012  False  False   True  False  False\n2013  False  False   True  False  False\n2014  False  False  False  False  False\n2015  False  False  False  False  False\n2016  False  False  False  False  False\n2017  False  False  False  False  False",
      "text/html": "<div>\n<style scoped>\n    .dataframe tbody tr th:only-of-type {\n        vertical-align: middle;\n    }\n\n    .dataframe tbody tr th {\n        vertical-align: top;\n    }\n\n    .dataframe thead th {\n        text-align: right;\n    }\n</style>\n<table border=\"1\" class=\"dataframe\">\n  <thead>\n    <tr style=\"text-align: right;\">\n      <th></th>\n      <th>야구</th>\n      <th>축구</th>\n      <th>배구</th>\n      <th>남자농구</th>\n      <th>여자농구</th>\n    </tr>\n    <tr>\n      <th>연도</th>\n      <th></th>\n      <th></th>\n      <th></th>\n      <th></th>\n      <th></th>\n    </tr>\n  </thead>\n  <tbody>\n    <tr>\n      <th>2008</th>\n      <td>False</td>\n      <td>False</td>\n      <td>False</td>\n      <td>False</td>\n      <td>False</td>\n    </tr>\n    <tr>\n      <th>2009</th>\n      <td>False</td>\n      <td>False</td>\n      <td>False</td>\n      <td>False</td>\n      <td>False</td>\n    </tr>\n    <tr>\n      <th>2010</th>\n      <td>False</td>\n      <td>False</td>\n      <td>True</td>\n      <td>False</td>\n      <td>False</td>\n    </tr>\n    <tr>\n      <th>2011</th>\n      <td>False</td>\n      <td>False</td>\n      <td>False</td>\n      <td>False</td>\n      <td>False</td>\n    </tr>\n    <tr>\n      <th>2012</th>\n      <td>False</td>\n      <td>False</td>\n      <td>True</td>\n      <td>False</td>\n      <td>False</td>\n    </tr>\n    <tr>\n      <th>2013</th>\n      <td>False</td>\n      <td>False</td>\n      <td>True</td>\n      <td>False</td>\n      <td>False</td>\n    </tr>\n    <tr>\n      <th>2014</th>\n      <td>False</td>\n      <td>False</td>\n      <td>False</td>\n      <td>False</td>\n      <td>False</td>\n    </tr>\n    <tr>\n      <th>2015</th>\n      <td>False</td>\n      <td>False</td>\n      <td>False</td>\n      <td>False</td>\n      <td>False</td>\n    </tr>\n    <tr>\n      <th>2016</th>\n      <td>False</td>\n      <td>False</td>\n      <td>False</td>\n      <td>False</td>\n      <td>False</td>\n    </tr>\n    <tr>\n      <th>2017</th>\n      <td>False</td>\n      <td>False</td>\n      <td>False</td>\n      <td>False</td>\n      <td>False</td>\n    </tr>\n  </tbody>\n</table>\n</div>"
     },
     "execution_count": 12,
     "metadata": {},
     "output_type": "execute_result"
    }
   ],
   "source": [
    "# 결측값이 있는 위차만 True\n",
    "df.isnull()"
   ],
   "metadata": {
    "collapsed": false,
    "ExecuteTime": {
     "end_time": "2024-06-04T11:02:27.140536Z",
     "start_time": "2024-06-04T11:02:27.103864Z"
    }
   },
   "id": "e0f3dc75950c23f6",
   "execution_count": 12
  },
  {
   "cell_type": "code",
   "outputs": [
    {
     "data": {
      "text/plain": "야구      0\n축구      0\n배구      3\n남자농구    0\n여자농구    0\ndtype: int64"
     },
     "execution_count": 13,
     "metadata": {},
     "output_type": "execute_result"
    }
   ],
   "source": [
    "df.isnull().sum()"
   ],
   "metadata": {
    "collapsed": false,
    "ExecuteTime": {
     "end_time": "2024-06-04T11:02:27.187258Z",
     "start_time": "2024-06-04T11:02:27.124153Z"
    }
   },
   "id": "2af917dfba82116f",
   "execution_count": 13
  },
  {
   "cell_type": "markdown",
   "source": [
    "## 결측값 해결방법\n",
    "\n",
    "### 1. 그대로 두기\n",
    "### 2. 결측값 레코드 지우기 dropna()"
   ],
   "metadata": {
    "collapsed": false
   },
   "id": "9c0946c86ceeac80"
  },
  {
   "cell_type": "code",
   "outputs": [
    {
     "data": {
      "text/plain": "         야구     축구      배구  남자농구  여자농구\n연도                                    \n2008  10881  11642  1253.0  4208  1329\n2009  11562  10983  1471.0  4152  1206\n2011  13055  10709  1774.0  3955  1445\n2014  11429   8115  1967.0  4458  1417\n2015  10357   7720  2311.0  3953  1480\n2016  11583   7854  2336.0  3543  1425\n2017  11668   6502  2425.0  3188  1097",
      "text/html": "<div>\n<style scoped>\n    .dataframe tbody tr th:only-of-type {\n        vertical-align: middle;\n    }\n\n    .dataframe tbody tr th {\n        vertical-align: top;\n    }\n\n    .dataframe thead th {\n        text-align: right;\n    }\n</style>\n<table border=\"1\" class=\"dataframe\">\n  <thead>\n    <tr style=\"text-align: right;\">\n      <th></th>\n      <th>야구</th>\n      <th>축구</th>\n      <th>배구</th>\n      <th>남자농구</th>\n      <th>여자농구</th>\n    </tr>\n    <tr>\n      <th>연도</th>\n      <th></th>\n      <th></th>\n      <th></th>\n      <th></th>\n      <th></th>\n    </tr>\n  </thead>\n  <tbody>\n    <tr>\n      <th>2008</th>\n      <td>10881</td>\n      <td>11642</td>\n      <td>1253.0</td>\n      <td>4208</td>\n      <td>1329</td>\n    </tr>\n    <tr>\n      <th>2009</th>\n      <td>11562</td>\n      <td>10983</td>\n      <td>1471.0</td>\n      <td>4152</td>\n      <td>1206</td>\n    </tr>\n    <tr>\n      <th>2011</th>\n      <td>13055</td>\n      <td>10709</td>\n      <td>1774.0</td>\n      <td>3955</td>\n      <td>1445</td>\n    </tr>\n    <tr>\n      <th>2014</th>\n      <td>11429</td>\n      <td>8115</td>\n      <td>1967.0</td>\n      <td>4458</td>\n      <td>1417</td>\n    </tr>\n    <tr>\n      <th>2015</th>\n      <td>10357</td>\n      <td>7720</td>\n      <td>2311.0</td>\n      <td>3953</td>\n      <td>1480</td>\n    </tr>\n    <tr>\n      <th>2016</th>\n      <td>11583</td>\n      <td>7854</td>\n      <td>2336.0</td>\n      <td>3543</td>\n      <td>1425</td>\n    </tr>\n    <tr>\n      <th>2017</th>\n      <td>11668</td>\n      <td>6502</td>\n      <td>2425.0</td>\n      <td>3188</td>\n      <td>1097</td>\n    </tr>\n  </tbody>\n</table>\n</div>"
     },
     "execution_count": 14,
     "metadata": {},
     "output_type": "execute_result"
    }
   ],
   "source": [
    "# 결측값 레코드 지우기\n",
    "df.dropna()"
   ],
   "metadata": {
    "collapsed": false,
    "ExecuteTime": {
     "end_time": "2024-06-04T11:02:27.256067Z",
     "start_time": "2024-06-04T11:02:27.178711Z"
    }
   },
   "id": "64edf9c1802330b1",
   "execution_count": 14
  },
  {
   "cell_type": "code",
   "outputs": [
    {
     "data": {
      "text/plain": "         야구     축구      배구  남자농구  여자농구\n연도                                    \n2008  10881  11642  1253.0  4208  1329\n2009  11562  10983  1471.0  4152  1206\n2011  13055  10709  1774.0  3955  1445\n2014  11429   8115  1967.0  4458  1417\n2015  10357   7720  2311.0  3953  1480\n2016  11583   7854  2336.0  3543  1425\n2017  11668   6502  2425.0  3188  1097",
      "text/html": "<div>\n<style scoped>\n    .dataframe tbody tr th:only-of-type {\n        vertical-align: middle;\n    }\n\n    .dataframe tbody tr th {\n        vertical-align: top;\n    }\n\n    .dataframe thead th {\n        text-align: right;\n    }\n</style>\n<table border=\"1\" class=\"dataframe\">\n  <thead>\n    <tr style=\"text-align: right;\">\n      <th></th>\n      <th>야구</th>\n      <th>축구</th>\n      <th>배구</th>\n      <th>남자농구</th>\n      <th>여자농구</th>\n    </tr>\n    <tr>\n      <th>연도</th>\n      <th></th>\n      <th></th>\n      <th></th>\n      <th></th>\n      <th></th>\n    </tr>\n  </thead>\n  <tbody>\n    <tr>\n      <th>2008</th>\n      <td>10881</td>\n      <td>11642</td>\n      <td>1253.0</td>\n      <td>4208</td>\n      <td>1329</td>\n    </tr>\n    <tr>\n      <th>2009</th>\n      <td>11562</td>\n      <td>10983</td>\n      <td>1471.0</td>\n      <td>4152</td>\n      <td>1206</td>\n    </tr>\n    <tr>\n      <th>2011</th>\n      <td>13055</td>\n      <td>10709</td>\n      <td>1774.0</td>\n      <td>3955</td>\n      <td>1445</td>\n    </tr>\n    <tr>\n      <th>2014</th>\n      <td>11429</td>\n      <td>8115</td>\n      <td>1967.0</td>\n      <td>4458</td>\n      <td>1417</td>\n    </tr>\n    <tr>\n      <th>2015</th>\n      <td>10357</td>\n      <td>7720</td>\n      <td>2311.0</td>\n      <td>3953</td>\n      <td>1480</td>\n    </tr>\n    <tr>\n      <th>2016</th>\n      <td>11583</td>\n      <td>7854</td>\n      <td>2336.0</td>\n      <td>3543</td>\n      <td>1425</td>\n    </tr>\n    <tr>\n      <th>2017</th>\n      <td>11668</td>\n      <td>6502</td>\n      <td>2425.0</td>\n      <td>3188</td>\n      <td>1097</td>\n    </tr>\n  </tbody>\n</table>\n</div>"
     },
     "execution_count": 15,
     "metadata": {},
     "output_type": "execute_result"
    }
   ],
   "source": [
    "df.dropna(inplace=True)\n",
    "df"
   ],
   "metadata": {
    "collapsed": false,
    "ExecuteTime": {
     "end_time": "2024-06-04T11:02:27.311391Z",
     "start_time": "2024-06-04T11:02:27.226878Z"
    }
   },
   "id": "839cc799621a8ce",
   "execution_count": 15
  },
  {
   "cell_type": "markdown",
   "source": [
    "기존데이터에서 2010, 2012, 2013년 데이터가 완전히 사라진다."
   ],
   "metadata": {
    "collapsed": false
   },
   "id": "2a4263ee537ec5b0"
  },
  {
   "cell_type": "markdown",
   "source": [
    "## 결측값이 많은 컬럼의 데이터만 포기하기\n",
    "\n",
    "### df.dropna(axis='columns')"
   ],
   "metadata": {
    "collapsed": false
   },
   "id": "7c688c08477c350b"
  },
  {
   "cell_type": "code",
   "outputs": [
    {
     "data": {
      "text/plain": "         야구     축구      배구  남자농구  여자농구\n연도                                    \n2008  10881  11642  1253.0  4208  1329\n2009  11562  10983  1471.0  4152  1206\n2010  11402  12873     NaN  3870   705\n2011  13055  10709  1774.0  3955  1445\n2012  13747   7157     NaN  4537  1150\n2013  11373   7656     NaN  4092  1237\n2014  11429   8115  1967.0  4458  1417\n2015  10357   7720  2311.0  3953  1480\n2016  11583   7854  2336.0  3543  1425\n2017  11668   6502  2425.0  3188  1097",
      "text/html": "<div>\n<style scoped>\n    .dataframe tbody tr th:only-of-type {\n        vertical-align: middle;\n    }\n\n    .dataframe tbody tr th {\n        vertical-align: top;\n    }\n\n    .dataframe thead th {\n        text-align: right;\n    }\n</style>\n<table border=\"1\" class=\"dataframe\">\n  <thead>\n    <tr style=\"text-align: right;\">\n      <th></th>\n      <th>야구</th>\n      <th>축구</th>\n      <th>배구</th>\n      <th>남자농구</th>\n      <th>여자농구</th>\n    </tr>\n    <tr>\n      <th>연도</th>\n      <th></th>\n      <th></th>\n      <th></th>\n      <th></th>\n      <th></th>\n    </tr>\n  </thead>\n  <tbody>\n    <tr>\n      <th>2008</th>\n      <td>10881</td>\n      <td>11642</td>\n      <td>1253.0</td>\n      <td>4208</td>\n      <td>1329</td>\n    </tr>\n    <tr>\n      <th>2009</th>\n      <td>11562</td>\n      <td>10983</td>\n      <td>1471.0</td>\n      <td>4152</td>\n      <td>1206</td>\n    </tr>\n    <tr>\n      <th>2010</th>\n      <td>11402</td>\n      <td>12873</td>\n      <td>NaN</td>\n      <td>3870</td>\n      <td>705</td>\n    </tr>\n    <tr>\n      <th>2011</th>\n      <td>13055</td>\n      <td>10709</td>\n      <td>1774.0</td>\n      <td>3955</td>\n      <td>1445</td>\n    </tr>\n    <tr>\n      <th>2012</th>\n      <td>13747</td>\n      <td>7157</td>\n      <td>NaN</td>\n      <td>4537</td>\n      <td>1150</td>\n    </tr>\n    <tr>\n      <th>2013</th>\n      <td>11373</td>\n      <td>7656</td>\n      <td>NaN</td>\n      <td>4092</td>\n      <td>1237</td>\n    </tr>\n    <tr>\n      <th>2014</th>\n      <td>11429</td>\n      <td>8115</td>\n      <td>1967.0</td>\n      <td>4458</td>\n      <td>1417</td>\n    </tr>\n    <tr>\n      <th>2015</th>\n      <td>10357</td>\n      <td>7720</td>\n      <td>2311.0</td>\n      <td>3953</td>\n      <td>1480</td>\n    </tr>\n    <tr>\n      <th>2016</th>\n      <td>11583</td>\n      <td>7854</td>\n      <td>2336.0</td>\n      <td>3543</td>\n      <td>1425</td>\n    </tr>\n    <tr>\n      <th>2017</th>\n      <td>11668</td>\n      <td>6502</td>\n      <td>2425.0</td>\n      <td>3188</td>\n      <td>1097</td>\n    </tr>\n  </tbody>\n</table>\n</div>"
     },
     "execution_count": 26,
     "metadata": {},
     "output_type": "execute_result"
    }
   ],
   "source": [
    "df = pd.read_csv('data/attendance.csv', index_col=0)\n",
    "df"
   ],
   "metadata": {
    "collapsed": false,
    "ExecuteTime": {
     "end_time": "2024-06-04T11:22:07.800721Z",
     "start_time": "2024-06-04T11:22:07.784329Z"
    }
   },
   "id": "7edf49ceec94a346",
   "execution_count": 26
  },
  {
   "cell_type": "code",
   "outputs": [
    {
     "data": {
      "text/plain": "         야구     축구  남자농구  여자농구\n연도                            \n2008  10881  11642  4208  1329\n2009  11562  10983  4152  1206\n2010  11402  12873  3870   705\n2011  13055  10709  3955  1445\n2012  13747   7157  4537  1150\n2013  11373   7656  4092  1237\n2014  11429   8115  4458  1417\n2015  10357   7720  3953  1480\n2016  11583   7854  3543  1425\n2017  11668   6502  3188  1097",
      "text/html": "<div>\n<style scoped>\n    .dataframe tbody tr th:only-of-type {\n        vertical-align: middle;\n    }\n\n    .dataframe tbody tr th {\n        vertical-align: top;\n    }\n\n    .dataframe thead th {\n        text-align: right;\n    }\n</style>\n<table border=\"1\" class=\"dataframe\">\n  <thead>\n    <tr style=\"text-align: right;\">\n      <th></th>\n      <th>야구</th>\n      <th>축구</th>\n      <th>남자농구</th>\n      <th>여자농구</th>\n    </tr>\n    <tr>\n      <th>연도</th>\n      <th></th>\n      <th></th>\n      <th></th>\n      <th></th>\n    </tr>\n  </thead>\n  <tbody>\n    <tr>\n      <th>2008</th>\n      <td>10881</td>\n      <td>11642</td>\n      <td>4208</td>\n      <td>1329</td>\n    </tr>\n    <tr>\n      <th>2009</th>\n      <td>11562</td>\n      <td>10983</td>\n      <td>4152</td>\n      <td>1206</td>\n    </tr>\n    <tr>\n      <th>2010</th>\n      <td>11402</td>\n      <td>12873</td>\n      <td>3870</td>\n      <td>705</td>\n    </tr>\n    <tr>\n      <th>2011</th>\n      <td>13055</td>\n      <td>10709</td>\n      <td>3955</td>\n      <td>1445</td>\n    </tr>\n    <tr>\n      <th>2012</th>\n      <td>13747</td>\n      <td>7157</td>\n      <td>4537</td>\n      <td>1150</td>\n    </tr>\n    <tr>\n      <th>2013</th>\n      <td>11373</td>\n      <td>7656</td>\n      <td>4092</td>\n      <td>1237</td>\n    </tr>\n    <tr>\n      <th>2014</th>\n      <td>11429</td>\n      <td>8115</td>\n      <td>4458</td>\n      <td>1417</td>\n    </tr>\n    <tr>\n      <th>2015</th>\n      <td>10357</td>\n      <td>7720</td>\n      <td>3953</td>\n      <td>1480</td>\n    </tr>\n    <tr>\n      <th>2016</th>\n      <td>11583</td>\n      <td>7854</td>\n      <td>3543</td>\n      <td>1425</td>\n    </tr>\n    <tr>\n      <th>2017</th>\n      <td>11668</td>\n      <td>6502</td>\n      <td>3188</td>\n      <td>1097</td>\n    </tr>\n  </tbody>\n</table>\n</div>"
     },
     "execution_count": 27,
     "metadata": {},
     "output_type": "execute_result"
    }
   ],
   "source": [
    "df.dropna(axis=1)"
   ],
   "metadata": {
    "collapsed": false,
    "ExecuteTime": {
     "end_time": "2024-06-04T11:22:09.796457Z",
     "start_time": "2024-06-04T11:22:09.791841Z"
    }
   },
   "id": "d5d731d08c523d5f",
   "execution_count": 27
  },
  {
   "cell_type": "code",
   "outputs": [
    {
     "data": {
      "text/plain": "         야구     축구  남자농구  여자농구\n연도                            \n2008  10881  11642  4208  1329\n2009  11562  10983  4152  1206\n2010  11402  12873  3870   705\n2011  13055  10709  3955  1445\n2012  13747   7157  4537  1150\n2013  11373   7656  4092  1237\n2014  11429   8115  4458  1417\n2015  10357   7720  3953  1480\n2016  11583   7854  3543  1425\n2017  11668   6502  3188  1097",
      "text/html": "<div>\n<style scoped>\n    .dataframe tbody tr th:only-of-type {\n        vertical-align: middle;\n    }\n\n    .dataframe tbody tr th {\n        vertical-align: top;\n    }\n\n    .dataframe thead th {\n        text-align: right;\n    }\n</style>\n<table border=\"1\" class=\"dataframe\">\n  <thead>\n    <tr style=\"text-align: right;\">\n      <th></th>\n      <th>야구</th>\n      <th>축구</th>\n      <th>남자농구</th>\n      <th>여자농구</th>\n    </tr>\n    <tr>\n      <th>연도</th>\n      <th></th>\n      <th></th>\n      <th></th>\n      <th></th>\n    </tr>\n  </thead>\n  <tbody>\n    <tr>\n      <th>2008</th>\n      <td>10881</td>\n      <td>11642</td>\n      <td>4208</td>\n      <td>1329</td>\n    </tr>\n    <tr>\n      <th>2009</th>\n      <td>11562</td>\n      <td>10983</td>\n      <td>4152</td>\n      <td>1206</td>\n    </tr>\n    <tr>\n      <th>2010</th>\n      <td>11402</td>\n      <td>12873</td>\n      <td>3870</td>\n      <td>705</td>\n    </tr>\n    <tr>\n      <th>2011</th>\n      <td>13055</td>\n      <td>10709</td>\n      <td>3955</td>\n      <td>1445</td>\n    </tr>\n    <tr>\n      <th>2012</th>\n      <td>13747</td>\n      <td>7157</td>\n      <td>4537</td>\n      <td>1150</td>\n    </tr>\n    <tr>\n      <th>2013</th>\n      <td>11373</td>\n      <td>7656</td>\n      <td>4092</td>\n      <td>1237</td>\n    </tr>\n    <tr>\n      <th>2014</th>\n      <td>11429</td>\n      <td>8115</td>\n      <td>4458</td>\n      <td>1417</td>\n    </tr>\n    <tr>\n      <th>2015</th>\n      <td>10357</td>\n      <td>7720</td>\n      <td>3953</td>\n      <td>1480</td>\n    </tr>\n    <tr>\n      <th>2016</th>\n      <td>11583</td>\n      <td>7854</td>\n      <td>3543</td>\n      <td>1425</td>\n    </tr>\n    <tr>\n      <th>2017</th>\n      <td>11668</td>\n      <td>6502</td>\n      <td>3188</td>\n      <td>1097</td>\n    </tr>\n  </tbody>\n</table>\n</div>"
     },
     "execution_count": 17,
     "metadata": {},
     "output_type": "execute_result"
    }
   ],
   "source": [
    "df.dropna(axis='columns')"
   ],
   "metadata": {
    "collapsed": false,
    "ExecuteTime": {
     "end_time": "2024-06-04T11:02:27.411235Z",
     "start_time": "2024-06-04T11:02:27.327689Z"
    }
   },
   "id": "25d5b88e903b60eb",
   "execution_count": 17
  },
  {
   "cell_type": "markdown",
   "source": [
    "결측값이 있던 배구 컬럼이 사라졌다."
   ],
   "metadata": {
    "collapsed": false
   },
   "id": "d1464bcd61228a4c"
  },
  {
   "cell_type": "markdown",
   "source": [
    "## 현재 가진 데이터를 보존하기 : 결측값 대체하기\n",
    "\n",
    "### 1. df.fillna(0) : 0으로 채우기\n",
    "### 2. df.fillna(df.mean()) : 평균으로 채우기\n",
    "### 3. df.fillna(df.median()) : 중앙값으로 채우기\n",
    "\n",
    "\n",
    "기존 데이터를 변경하려면 inplace=True"
   ],
   "metadata": {
    "collapsed": false
   },
   "id": "d1f4ceb7b832497e"
  },
  {
   "cell_type": "code",
   "outputs": [
    {
     "data": {
      "text/plain": "         야구     축구      배구  남자농구  여자농구\n연도                                    \n2008  10881  11642  1253.0  4208  1329\n2009  11562  10983  1471.0  4152  1206\n2010  11402  12873     0.0  3870   705\n2011  13055  10709  1774.0  3955  1445\n2012  13747   7157     0.0  4537  1150\n2013  11373   7656     0.0  4092  1237\n2014  11429   8115  1967.0  4458  1417\n2015  10357   7720  2311.0  3953  1480\n2016  11583   7854  2336.0  3543  1425\n2017  11668   6502  2425.0  3188  1097",
      "text/html": "<div>\n<style scoped>\n    .dataframe tbody tr th:only-of-type {\n        vertical-align: middle;\n    }\n\n    .dataframe tbody tr th {\n        vertical-align: top;\n    }\n\n    .dataframe thead th {\n        text-align: right;\n    }\n</style>\n<table border=\"1\" class=\"dataframe\">\n  <thead>\n    <tr style=\"text-align: right;\">\n      <th></th>\n      <th>야구</th>\n      <th>축구</th>\n      <th>배구</th>\n      <th>남자농구</th>\n      <th>여자농구</th>\n    </tr>\n    <tr>\n      <th>연도</th>\n      <th></th>\n      <th></th>\n      <th></th>\n      <th></th>\n      <th></th>\n    </tr>\n  </thead>\n  <tbody>\n    <tr>\n      <th>2008</th>\n      <td>10881</td>\n      <td>11642</td>\n      <td>1253.0</td>\n      <td>4208</td>\n      <td>1329</td>\n    </tr>\n    <tr>\n      <th>2009</th>\n      <td>11562</td>\n      <td>10983</td>\n      <td>1471.0</td>\n      <td>4152</td>\n      <td>1206</td>\n    </tr>\n    <tr>\n      <th>2010</th>\n      <td>11402</td>\n      <td>12873</td>\n      <td>0.0</td>\n      <td>3870</td>\n      <td>705</td>\n    </tr>\n    <tr>\n      <th>2011</th>\n      <td>13055</td>\n      <td>10709</td>\n      <td>1774.0</td>\n      <td>3955</td>\n      <td>1445</td>\n    </tr>\n    <tr>\n      <th>2012</th>\n      <td>13747</td>\n      <td>7157</td>\n      <td>0.0</td>\n      <td>4537</td>\n      <td>1150</td>\n    </tr>\n    <tr>\n      <th>2013</th>\n      <td>11373</td>\n      <td>7656</td>\n      <td>0.0</td>\n      <td>4092</td>\n      <td>1237</td>\n    </tr>\n    <tr>\n      <th>2014</th>\n      <td>11429</td>\n      <td>8115</td>\n      <td>1967.0</td>\n      <td>4458</td>\n      <td>1417</td>\n    </tr>\n    <tr>\n      <th>2015</th>\n      <td>10357</td>\n      <td>7720</td>\n      <td>2311.0</td>\n      <td>3953</td>\n      <td>1480</td>\n    </tr>\n    <tr>\n      <th>2016</th>\n      <td>11583</td>\n      <td>7854</td>\n      <td>2336.0</td>\n      <td>3543</td>\n      <td>1425</td>\n    </tr>\n    <tr>\n      <th>2017</th>\n      <td>11668</td>\n      <td>6502</td>\n      <td>2425.0</td>\n      <td>3188</td>\n      <td>1097</td>\n    </tr>\n  </tbody>\n</table>\n</div>"
     },
     "execution_count": 18,
     "metadata": {},
     "output_type": "execute_result"
    }
   ],
   "source": [
    "df.fillna(0)"
   ],
   "metadata": {
    "collapsed": false,
    "ExecuteTime": {
     "end_time": "2024-06-04T11:02:27.450529Z",
     "start_time": "2024-06-04T11:02:27.375901Z"
    }
   },
   "id": "d0a571580b4d98af",
   "execution_count": 18
  },
  {
   "cell_type": "code",
   "outputs": [
    {
     "data": {
      "text/plain": "         야구     축구           배구  남자농구  여자농구\n연도                                         \n2008  10881  11642  1253.000000  4208  1329\n2009  11562  10983  1471.000000  4152  1206\n2010  11402  12873  1933.857143  3870   705\n2011  13055  10709  1774.000000  3955  1445\n2012  13747   7157  1933.857143  4537  1150\n2013  11373   7656  1933.857143  4092  1237\n2014  11429   8115  1967.000000  4458  1417\n2015  10357   7720  2311.000000  3953  1480\n2016  11583   7854  2336.000000  3543  1425\n2017  11668   6502  2425.000000  3188  1097",
      "text/html": "<div>\n<style scoped>\n    .dataframe tbody tr th:only-of-type {\n        vertical-align: middle;\n    }\n\n    .dataframe tbody tr th {\n        vertical-align: top;\n    }\n\n    .dataframe thead th {\n        text-align: right;\n    }\n</style>\n<table border=\"1\" class=\"dataframe\">\n  <thead>\n    <tr style=\"text-align: right;\">\n      <th></th>\n      <th>야구</th>\n      <th>축구</th>\n      <th>배구</th>\n      <th>남자농구</th>\n      <th>여자농구</th>\n    </tr>\n    <tr>\n      <th>연도</th>\n      <th></th>\n      <th></th>\n      <th></th>\n      <th></th>\n      <th></th>\n    </tr>\n  </thead>\n  <tbody>\n    <tr>\n      <th>2008</th>\n      <td>10881</td>\n      <td>11642</td>\n      <td>1253.000000</td>\n      <td>4208</td>\n      <td>1329</td>\n    </tr>\n    <tr>\n      <th>2009</th>\n      <td>11562</td>\n      <td>10983</td>\n      <td>1471.000000</td>\n      <td>4152</td>\n      <td>1206</td>\n    </tr>\n    <tr>\n      <th>2010</th>\n      <td>11402</td>\n      <td>12873</td>\n      <td>1933.857143</td>\n      <td>3870</td>\n      <td>705</td>\n    </tr>\n    <tr>\n      <th>2011</th>\n      <td>13055</td>\n      <td>10709</td>\n      <td>1774.000000</td>\n      <td>3955</td>\n      <td>1445</td>\n    </tr>\n    <tr>\n      <th>2012</th>\n      <td>13747</td>\n      <td>7157</td>\n      <td>1933.857143</td>\n      <td>4537</td>\n      <td>1150</td>\n    </tr>\n    <tr>\n      <th>2013</th>\n      <td>11373</td>\n      <td>7656</td>\n      <td>1933.857143</td>\n      <td>4092</td>\n      <td>1237</td>\n    </tr>\n    <tr>\n      <th>2014</th>\n      <td>11429</td>\n      <td>8115</td>\n      <td>1967.000000</td>\n      <td>4458</td>\n      <td>1417</td>\n    </tr>\n    <tr>\n      <th>2015</th>\n      <td>10357</td>\n      <td>7720</td>\n      <td>2311.000000</td>\n      <td>3953</td>\n      <td>1480</td>\n    </tr>\n    <tr>\n      <th>2016</th>\n      <td>11583</td>\n      <td>7854</td>\n      <td>2336.000000</td>\n      <td>3543</td>\n      <td>1425</td>\n    </tr>\n    <tr>\n      <th>2017</th>\n      <td>11668</td>\n      <td>6502</td>\n      <td>2425.000000</td>\n      <td>3188</td>\n      <td>1097</td>\n    </tr>\n  </tbody>\n</table>\n</div>"
     },
     "execution_count": 19,
     "metadata": {},
     "output_type": "execute_result"
    }
   ],
   "source": [
    "df.fillna(df.mean())"
   ],
   "metadata": {
    "collapsed": false,
    "ExecuteTime": {
     "end_time": "2024-06-04T11:02:27.519379Z",
     "start_time": "2024-06-04T11:02:27.438654Z"
    }
   },
   "id": "4c492226f945ae7",
   "execution_count": 19
  },
  {
   "cell_type": "code",
   "outputs": [
    {
     "data": {
      "text/plain": "         야구     축구      배구  남자농구  여자농구\n연도                                    \n2008  10881  11642  1253.0  4208  1329\n2009  11562  10983  1471.0  4152  1206\n2010  11402  12873  1967.0  3870   705\n2011  13055  10709  1774.0  3955  1445\n2012  13747   7157  1967.0  4537  1150\n2013  11373   7656  1967.0  4092  1237\n2014  11429   8115  1967.0  4458  1417\n2015  10357   7720  2311.0  3953  1480\n2016  11583   7854  2336.0  3543  1425\n2017  11668   6502  2425.0  3188  1097",
      "text/html": "<div>\n<style scoped>\n    .dataframe tbody tr th:only-of-type {\n        vertical-align: middle;\n    }\n\n    .dataframe tbody tr th {\n        vertical-align: top;\n    }\n\n    .dataframe thead th {\n        text-align: right;\n    }\n</style>\n<table border=\"1\" class=\"dataframe\">\n  <thead>\n    <tr style=\"text-align: right;\">\n      <th></th>\n      <th>야구</th>\n      <th>축구</th>\n      <th>배구</th>\n      <th>남자농구</th>\n      <th>여자농구</th>\n    </tr>\n    <tr>\n      <th>연도</th>\n      <th></th>\n      <th></th>\n      <th></th>\n      <th></th>\n      <th></th>\n    </tr>\n  </thead>\n  <tbody>\n    <tr>\n      <th>2008</th>\n      <td>10881</td>\n      <td>11642</td>\n      <td>1253.0</td>\n      <td>4208</td>\n      <td>1329</td>\n    </tr>\n    <tr>\n      <th>2009</th>\n      <td>11562</td>\n      <td>10983</td>\n      <td>1471.0</td>\n      <td>4152</td>\n      <td>1206</td>\n    </tr>\n    <tr>\n      <th>2010</th>\n      <td>11402</td>\n      <td>12873</td>\n      <td>1967.0</td>\n      <td>3870</td>\n      <td>705</td>\n    </tr>\n    <tr>\n      <th>2011</th>\n      <td>13055</td>\n      <td>10709</td>\n      <td>1774.0</td>\n      <td>3955</td>\n      <td>1445</td>\n    </tr>\n    <tr>\n      <th>2012</th>\n      <td>13747</td>\n      <td>7157</td>\n      <td>1967.0</td>\n      <td>4537</td>\n      <td>1150</td>\n    </tr>\n    <tr>\n      <th>2013</th>\n      <td>11373</td>\n      <td>7656</td>\n      <td>1967.0</td>\n      <td>4092</td>\n      <td>1237</td>\n    </tr>\n    <tr>\n      <th>2014</th>\n      <td>11429</td>\n      <td>8115</td>\n      <td>1967.0</td>\n      <td>4458</td>\n      <td>1417</td>\n    </tr>\n    <tr>\n      <th>2015</th>\n      <td>10357</td>\n      <td>7720</td>\n      <td>2311.0</td>\n      <td>3953</td>\n      <td>1480</td>\n    </tr>\n    <tr>\n      <th>2016</th>\n      <td>11583</td>\n      <td>7854</td>\n      <td>2336.0</td>\n      <td>3543</td>\n      <td>1425</td>\n    </tr>\n    <tr>\n      <th>2017</th>\n      <td>11668</td>\n      <td>6502</td>\n      <td>2425.0</td>\n      <td>3188</td>\n      <td>1097</td>\n    </tr>\n  </tbody>\n</table>\n</div>"
     },
     "execution_count": 20,
     "metadata": {},
     "output_type": "execute_result"
    }
   ],
   "source": [
    "df.fillna(df.median())"
   ],
   "metadata": {
    "collapsed": false,
    "ExecuteTime": {
     "end_time": "2024-06-04T11:02:27.622015Z",
     "start_time": "2024-06-04T11:02:27.526297Z"
    }
   },
   "id": "ce21d1ddb934f998",
   "execution_count": 20
  },
  {
   "cell_type": "code",
   "outputs": [
    {
     "data": {
      "text/plain": "         야구     축구      배구  남자농구  여자농구\n연도                                    \n2008  10881  11642  1253.0  4208  1329\n2009  11562  10983  1471.0  4152  1206\n2010  11402  12873  1967.0  3870   705\n2011  13055  10709  1774.0  3955  1445\n2012  13747   7157  1967.0  4537  1150\n2013  11373   7656  1967.0  4092  1237\n2014  11429   8115  1967.0  4458  1417\n2015  10357   7720  2311.0  3953  1480\n2016  11583   7854  2336.0  3543  1425\n2017  11668   6502  2425.0  3188  1097",
      "text/html": "<div>\n<style scoped>\n    .dataframe tbody tr th:only-of-type {\n        vertical-align: middle;\n    }\n\n    .dataframe tbody tr th {\n        vertical-align: top;\n    }\n\n    .dataframe thead th {\n        text-align: right;\n    }\n</style>\n<table border=\"1\" class=\"dataframe\">\n  <thead>\n    <tr style=\"text-align: right;\">\n      <th></th>\n      <th>야구</th>\n      <th>축구</th>\n      <th>배구</th>\n      <th>남자농구</th>\n      <th>여자농구</th>\n    </tr>\n    <tr>\n      <th>연도</th>\n      <th></th>\n      <th></th>\n      <th></th>\n      <th></th>\n      <th></th>\n    </tr>\n  </thead>\n  <tbody>\n    <tr>\n      <th>2008</th>\n      <td>10881</td>\n      <td>11642</td>\n      <td>1253.0</td>\n      <td>4208</td>\n      <td>1329</td>\n    </tr>\n    <tr>\n      <th>2009</th>\n      <td>11562</td>\n      <td>10983</td>\n      <td>1471.0</td>\n      <td>4152</td>\n      <td>1206</td>\n    </tr>\n    <tr>\n      <th>2010</th>\n      <td>11402</td>\n      <td>12873</td>\n      <td>1967.0</td>\n      <td>3870</td>\n      <td>705</td>\n    </tr>\n    <tr>\n      <th>2011</th>\n      <td>13055</td>\n      <td>10709</td>\n      <td>1774.0</td>\n      <td>3955</td>\n      <td>1445</td>\n    </tr>\n    <tr>\n      <th>2012</th>\n      <td>13747</td>\n      <td>7157</td>\n      <td>1967.0</td>\n      <td>4537</td>\n      <td>1150</td>\n    </tr>\n    <tr>\n      <th>2013</th>\n      <td>11373</td>\n      <td>7656</td>\n      <td>1967.0</td>\n      <td>4092</td>\n      <td>1237</td>\n    </tr>\n    <tr>\n      <th>2014</th>\n      <td>11429</td>\n      <td>8115</td>\n      <td>1967.0</td>\n      <td>4458</td>\n      <td>1417</td>\n    </tr>\n    <tr>\n      <th>2015</th>\n      <td>10357</td>\n      <td>7720</td>\n      <td>2311.0</td>\n      <td>3953</td>\n      <td>1480</td>\n    </tr>\n    <tr>\n      <th>2016</th>\n      <td>11583</td>\n      <td>7854</td>\n      <td>2336.0</td>\n      <td>3543</td>\n      <td>1425</td>\n    </tr>\n    <tr>\n      <th>2017</th>\n      <td>11668</td>\n      <td>6502</td>\n      <td>2425.0</td>\n      <td>3188</td>\n      <td>1097</td>\n    </tr>\n  </tbody>\n</table>\n</div>"
     },
     "execution_count": 21,
     "metadata": {},
     "output_type": "execute_result"
    }
   ],
   "source": [
    "df.fillna(df.median(), inplace=True)\n",
    "df"
   ],
   "metadata": {
    "collapsed": false,
    "ExecuteTime": {
     "end_time": "2024-06-04T11:02:27.680732Z",
     "start_time": "2024-06-04T11:02:27.563486Z"
    }
   },
   "id": "92fddf24da4b48a",
   "execution_count": 21
  }
 ],
 "metadata": {
  "kernelspec": {
   "display_name": "Python 3",
   "language": "python",
   "name": "python3"
  },
  "language_info": {
   "codemirror_mode": {
    "name": "ipython",
    "version": 2
   },
   "file_extension": ".py",
   "mimetype": "text/x-python",
   "name": "python",
   "nbconvert_exporter": "python",
   "pygments_lexer": "ipython2",
   "version": "2.7.6"
  }
 },
 "nbformat": 4,
 "nbformat_minor": 5
}
