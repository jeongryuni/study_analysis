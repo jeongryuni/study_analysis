{
 "cells": [
  {
   "cell_type": "raw",
   "source": [
    "완결성 (Completeness): 필수적인 데이터는 모두 기록되어 있어야함, 결측값이 처리\n",
    "유일성 (Uniqueness): 동일한 데이터가 불필요하게 중복되어 있으면 안됨\n",
    "통일성 (Conformity): 데이터가 동일한 형식으로 저장되어 있어야 함\n",
    "정확성 (Accuracy): 데이터가 정확해야 함"
   ],
   "metadata": {
    "collapsed": false
   },
   "id": "921255727236e051"
  },
  {
   "cell_type": "markdown",
   "source": [
    "결측값 \n",
    "- 없는것이 제일 좋다\n",
    "- 자주 발생한다면 원인을 파악해야 한다."
   ],
   "metadata": {
    "collapsed": false
   },
   "id": "9d275473ce503555"
  },
  {
   "cell_type": "markdown",
   "source": [
    "이상점 (Outlier) : 다른 값들과 너무 동떨어져 있는 데이터\n",
    "\n",
    "이상점을 판단하는 기준\n",
    "1. boxplot : 25%, 75% 지점에서 1.5 * IQR 넘게 밑으로 떨어지면 이상점\n",
    "\n",
    "\n",
    "이상점이 제대로 된 데이터\n",
    "- 분석에 방해가 되면 제거\n",
    "- 의미있는 정보라면 그냥 두기"
   ],
   "metadata": {
    "collapsed": false
   },
   "id": "e44e29617606f800"
  },
  {
   "cell_type": "markdown",
   "source": [
    "관계적 이상점 (Realational Outlier) : 두 변수의 관계를 고려했을 때 이상한 데이터"
   ],
   "metadata": {
    "collapsed": false
   },
   "id": "e3664a4bdb236d49"
  }
 ],
 "metadata": {
  "kernelspec": {
   "display_name": "Python 3",
   "language": "python",
   "name": "python3"
  },
  "language_info": {
   "codemirror_mode": {
    "name": "ipython",
    "version": 2
   },
   "file_extension": ".py",
   "mimetype": "text/x-python",
   "name": "python",
   "nbconvert_exporter": "python",
   "pygments_lexer": "ipython2",
   "version": "2.7.6"
  }
 },
 "nbformat": 4,
 "nbformat_minor": 5
}
