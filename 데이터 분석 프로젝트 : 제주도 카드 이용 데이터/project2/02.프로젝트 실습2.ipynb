{
 "cells": [
  {
   "cell_type": "markdown",
   "source": [
    "## 실습 설명\n",
    "이번에는 읍면동 단위 및 상세 업종별로 카드 이용 현황을 좀 더 자세히 살펴볼 수 있는 데이터를 사용할 건데요. 이와 함께 어느 지역에 유동 인구가 많은지도 함께 살펴볼 겁니다. 지난 실습과 비교해서 어떤 정보를 추가로 얻을 수 있을지, 어떤 식으로 데이터에 접근하면 좋을지 한번 고민해 보세요! 어떻게 해야 할지 잘 모르겠다면 아래 가이드라인을 참고하시면 됩니다.\n",
    "\n"
   ],
   "metadata": {
    "collapsed": false
   },
   "id": "1b78701b27ec5f13"
  },
  {
   "cell_type": "markdown",
   "source": [
    "1. 데이터 불러오기\n",
    "data 폴더 안에 있는 csv 파일을 DataFrame으로 불러옵시다.\n",
    "읍면동별, 상세 업종별 카드 이용 데이터(2017년): jeju_card_region_2017.csv\n",
    "읍면동별, 상세 업종별 카드 이용 데이터(2018년): jeju_card_region_2018.csv\n",
    "읍면동 단위 내국인 유동인구 데이터: jeju_population.csv\n",
    "\n",
    "\n",
    "2. 데이터 탐색 및 전처리\n",
    "데이터를 간단히 탐색하고 전처리해 봅시다.\n",
    "데이터 개수, 컬럼별 데이터 타입, 통계 정보, 결측값 존재 여부 등을 확인해 보세요.\n",
    "각 컬럼이 어떤 값들로 이루어져 있는지 확인해 보세요.\n",
    "2017년과 2018년 카드 데이터를 하나로 합쳐 주세요.\n",
    "\n",
    "3. 데이터 분석\n",
    "이용금액과 이용자수가 많은 업종과 지역 Top 10을 각각 뽑아 보세요.\n",
    "인당 이용금액이 많은 지역 Top 10도 뽑아 봅시다.\n",
    "각 지역에서 어떤 업종들이 활성화되어 있는지도 함께 확인해 보세요.\n",
    "데이터를 기반으로 카페 이용자수와 유동인구의 관계에 대해 살펴보세요.\n",
    "카드 매출액 데이터와 유동인구 데이터를 하나로 합쳐서 보면 되겠죠? 어떻게 데이터를 합치는 게 좋을지 한번 고민해 보세요!\n",
    "더 알아보고 싶은 게 있다면 원하는 대로 자유롭게 데이터를 탐색해 보세요!\n"
   ],
   "metadata": {
    "collapsed": false
   },
   "id": "f747d720440d15f2"
  },
  {
   "cell_type": "markdown",
   "source": [
    "## 1. 데이터 불러오"
   ],
   "metadata": {
    "collapsed": false
   },
   "id": "b62e873451f982ad"
  },
  {
   "cell_type": "code",
   "outputs": [],
   "source": [
    "%matplotlib inline\n",
    "import pandas as pd\n",
    "import matplotlib.pyplot as plt   # as in Pycharm\n",
    "import seaborn as sns\n",
    "\n",
    "from matplotlib import rc \n",
    "\n",
    "rc('font', family='AppleGothic')\n",
    "plt.rcParams['axes.unicode_minus'] = False"
   ],
   "metadata": {
    "collapsed": false,
    "ExecuteTime": {
     "end_time": "2024-06-03T05:44:06.827647Z",
     "start_time": "2024-06-03T05:44:06.804462Z"
    }
   },
   "id": "c53c0eca23502b76",
   "execution_count": 1
  },
  {
   "cell_type": "code",
   "outputs": [
    {
     "data": {
      "text/plain": "               연월  시군구명 읍면동명              업종명  성별  이용자수       이용금액\n0      2017-01-01  서귀포시  남원읍       건강보조식품 소매업  남성    11     137500\n1      2017-01-01  서귀포시  천지동       건강보조식품 소매업  여성    61   12334400\n2      2017-01-01  서귀포시  대정읍    기타음식료품위주종합소매업  남성   555   17301300\n3      2017-01-01  서귀포시  대정읍           기타 주점업  남성   324   71843080\n4      2017-01-01  서귀포시  대정읍      기타 외국식 음식점업  남성    40     971000\n...           ...   ...  ...              ...  ..   ...        ...\n26963  2017-12-01   제주시  오라동  그외 기타 스포츠시설 운영업  여성     2      11000\n26964  2017-12-01   제주시  애월읍      차량용 주유소 운영업  여성  5715  354088518\n26965  2017-12-01   제주시  애월읍       차량용 가스 충전업  여성   161   13180590\n26966  2017-12-01   제주시  애월읍          중식 음식점업  여성   321    8899500\n26967  2017-12-01   제주시  애월읍      전시 및 행사 대행업  여성   424    9898930\n\n[26968 rows x 7 columns]",
      "text/html": "<div>\n<style scoped>\n    .dataframe tbody tr th:only-of-type {\n        vertical-align: middle;\n    }\n\n    .dataframe tbody tr th {\n        vertical-align: top;\n    }\n\n    .dataframe thead th {\n        text-align: right;\n    }\n</style>\n<table border=\"1\" class=\"dataframe\">\n  <thead>\n    <tr style=\"text-align: right;\">\n      <th></th>\n      <th>연월</th>\n      <th>시군구명</th>\n      <th>읍면동명</th>\n      <th>업종명</th>\n      <th>성별</th>\n      <th>이용자수</th>\n      <th>이용금액</th>\n    </tr>\n  </thead>\n  <tbody>\n    <tr>\n      <th>0</th>\n      <td>2017-01-01</td>\n      <td>서귀포시</td>\n      <td>남원읍</td>\n      <td>건강보조식품 소매업</td>\n      <td>남성</td>\n      <td>11</td>\n      <td>137500</td>\n    </tr>\n    <tr>\n      <th>1</th>\n      <td>2017-01-01</td>\n      <td>서귀포시</td>\n      <td>천지동</td>\n      <td>건강보조식품 소매업</td>\n      <td>여성</td>\n      <td>61</td>\n      <td>12334400</td>\n    </tr>\n    <tr>\n      <th>2</th>\n      <td>2017-01-01</td>\n      <td>서귀포시</td>\n      <td>대정읍</td>\n      <td>기타음식료품위주종합소매업</td>\n      <td>남성</td>\n      <td>555</td>\n      <td>17301300</td>\n    </tr>\n    <tr>\n      <th>3</th>\n      <td>2017-01-01</td>\n      <td>서귀포시</td>\n      <td>대정읍</td>\n      <td>기타 주점업</td>\n      <td>남성</td>\n      <td>324</td>\n      <td>71843080</td>\n    </tr>\n    <tr>\n      <th>4</th>\n      <td>2017-01-01</td>\n      <td>서귀포시</td>\n      <td>대정읍</td>\n      <td>기타 외국식 음식점업</td>\n      <td>남성</td>\n      <td>40</td>\n      <td>971000</td>\n    </tr>\n    <tr>\n      <th>...</th>\n      <td>...</td>\n      <td>...</td>\n      <td>...</td>\n      <td>...</td>\n      <td>...</td>\n      <td>...</td>\n      <td>...</td>\n    </tr>\n    <tr>\n      <th>26963</th>\n      <td>2017-12-01</td>\n      <td>제주시</td>\n      <td>오라동</td>\n      <td>그외 기타 스포츠시설 운영업</td>\n      <td>여성</td>\n      <td>2</td>\n      <td>11000</td>\n    </tr>\n    <tr>\n      <th>26964</th>\n      <td>2017-12-01</td>\n      <td>제주시</td>\n      <td>애월읍</td>\n      <td>차량용 주유소 운영업</td>\n      <td>여성</td>\n      <td>5715</td>\n      <td>354088518</td>\n    </tr>\n    <tr>\n      <th>26965</th>\n      <td>2017-12-01</td>\n      <td>제주시</td>\n      <td>애월읍</td>\n      <td>차량용 가스 충전업</td>\n      <td>여성</td>\n      <td>161</td>\n      <td>13180590</td>\n    </tr>\n    <tr>\n      <th>26966</th>\n      <td>2017-12-01</td>\n      <td>제주시</td>\n      <td>애월읍</td>\n      <td>중식 음식점업</td>\n      <td>여성</td>\n      <td>321</td>\n      <td>8899500</td>\n    </tr>\n    <tr>\n      <th>26967</th>\n      <td>2017-12-01</td>\n      <td>제주시</td>\n      <td>애월읍</td>\n      <td>전시 및 행사 대행업</td>\n      <td>여성</td>\n      <td>424</td>\n      <td>9898930</td>\n    </tr>\n  </tbody>\n</table>\n<p>26968 rows × 7 columns</p>\n</div>"
     },
     "execution_count": 2,
     "metadata": {},
     "output_type": "execute_result"
    }
   ],
   "source": [
    "jeju_card_region_2017 = pd.read_csv('data/jeju_card_region_2017.csv')\n",
    "jeju_card_region_2017"
   ],
   "metadata": {
    "collapsed": true,
    "ExecuteTime": {
     "end_time": "2024-06-03T05:44:06.858725Z",
     "start_time": "2024-06-03T05:44:06.826539Z"
    }
   },
   "id": "initial_id",
   "execution_count": 2
  },
  {
   "cell_type": "code",
   "outputs": [
    {
     "data": {
      "text/plain": "               연월 시군구명  읍면동명                 업종명  성별  이용자수       이용금액\n0      2018-01-01  제주시   아라동         차량용 주유소 운영업  남성  3954  205339045\n1      2018-01-01  제주시  삼도1동         차량용 주유소 운영업  남성   490   29469792\n2      2018-01-01  제주시  삼도2동              육류 소매업  여성    89    2386740\n3      2018-01-01  제주시  삼도1동  스포츠 및 레크레이션 용품 임대업  남성   106   12517300\n4      2018-01-01  제주시  삼도1동             수산물 소매업  남성    37    2621000\n...           ...  ...   ...                 ...  ..   ...        ...\n27178  2018-12-01  제주시   오라동             중식 음식점업  여성   110    3043250\n27179  2018-12-01  제주시    연동  스포츠 및 레크레이션 용품 임대업  여성  2317  365724920\n27180  2018-12-01  제주시    연동                 호텔업  여성   810  232661992\n27181  2018-12-01  제주시   오라동       기타음식료품위주종합소매업  남성    25    1225510\n27182  2018-12-01  제주시    연동       화장품 및 방향제 소매업  여성  2351   84518980\n\n[27183 rows x 7 columns]",
      "text/html": "<div>\n<style scoped>\n    .dataframe tbody tr th:only-of-type {\n        vertical-align: middle;\n    }\n\n    .dataframe tbody tr th {\n        vertical-align: top;\n    }\n\n    .dataframe thead th {\n        text-align: right;\n    }\n</style>\n<table border=\"1\" class=\"dataframe\">\n  <thead>\n    <tr style=\"text-align: right;\">\n      <th></th>\n      <th>연월</th>\n      <th>시군구명</th>\n      <th>읍면동명</th>\n      <th>업종명</th>\n      <th>성별</th>\n      <th>이용자수</th>\n      <th>이용금액</th>\n    </tr>\n  </thead>\n  <tbody>\n    <tr>\n      <th>0</th>\n      <td>2018-01-01</td>\n      <td>제주시</td>\n      <td>아라동</td>\n      <td>차량용 주유소 운영업</td>\n      <td>남성</td>\n      <td>3954</td>\n      <td>205339045</td>\n    </tr>\n    <tr>\n      <th>1</th>\n      <td>2018-01-01</td>\n      <td>제주시</td>\n      <td>삼도1동</td>\n      <td>차량용 주유소 운영업</td>\n      <td>남성</td>\n      <td>490</td>\n      <td>29469792</td>\n    </tr>\n    <tr>\n      <th>2</th>\n      <td>2018-01-01</td>\n      <td>제주시</td>\n      <td>삼도2동</td>\n      <td>육류 소매업</td>\n      <td>여성</td>\n      <td>89</td>\n      <td>2386740</td>\n    </tr>\n    <tr>\n      <th>3</th>\n      <td>2018-01-01</td>\n      <td>제주시</td>\n      <td>삼도1동</td>\n      <td>스포츠 및 레크레이션 용품 임대업</td>\n      <td>남성</td>\n      <td>106</td>\n      <td>12517300</td>\n    </tr>\n    <tr>\n      <th>4</th>\n      <td>2018-01-01</td>\n      <td>제주시</td>\n      <td>삼도1동</td>\n      <td>수산물 소매업</td>\n      <td>남성</td>\n      <td>37</td>\n      <td>2621000</td>\n    </tr>\n    <tr>\n      <th>...</th>\n      <td>...</td>\n      <td>...</td>\n      <td>...</td>\n      <td>...</td>\n      <td>...</td>\n      <td>...</td>\n      <td>...</td>\n    </tr>\n    <tr>\n      <th>27178</th>\n      <td>2018-12-01</td>\n      <td>제주시</td>\n      <td>오라동</td>\n      <td>중식 음식점업</td>\n      <td>여성</td>\n      <td>110</td>\n      <td>3043250</td>\n    </tr>\n    <tr>\n      <th>27179</th>\n      <td>2018-12-01</td>\n      <td>제주시</td>\n      <td>연동</td>\n      <td>스포츠 및 레크레이션 용품 임대업</td>\n      <td>여성</td>\n      <td>2317</td>\n      <td>365724920</td>\n    </tr>\n    <tr>\n      <th>27180</th>\n      <td>2018-12-01</td>\n      <td>제주시</td>\n      <td>연동</td>\n      <td>호텔업</td>\n      <td>여성</td>\n      <td>810</td>\n      <td>232661992</td>\n    </tr>\n    <tr>\n      <th>27181</th>\n      <td>2018-12-01</td>\n      <td>제주시</td>\n      <td>오라동</td>\n      <td>기타음식료품위주종합소매업</td>\n      <td>남성</td>\n      <td>25</td>\n      <td>1225510</td>\n    </tr>\n    <tr>\n      <th>27182</th>\n      <td>2018-12-01</td>\n      <td>제주시</td>\n      <td>연동</td>\n      <td>화장품 및 방향제 소매업</td>\n      <td>여성</td>\n      <td>2351</td>\n      <td>84518980</td>\n    </tr>\n  </tbody>\n</table>\n<p>27183 rows × 7 columns</p>\n</div>"
     },
     "execution_count": 3,
     "metadata": {},
     "output_type": "execute_result"
    }
   ],
   "source": [
    "jeju_card_region_2018 = pd.read_csv('data/jeju_card_region_2018.csv')\n",
    "jeju_card_region_2018"
   ],
   "metadata": {
    "collapsed": false,
    "ExecuteTime": {
     "end_time": "2024-06-03T05:44:06.882570Z",
     "start_time": "2024-06-03T05:44:06.852569Z"
    }
   },
   "id": "5c1ba112e374b16b",
   "execution_count": 3
  },
  {
   "cell_type": "code",
   "outputs": [
    {
     "data": {
      "text/plain": "             연월일  시군구명 읍면동명 성별    연령대   방문인구\n0       20170101   제주시  한림읍  남    40대  19424\n1       20170101   제주시  애월읍  여    20대  27747\n2       20170101   제주시  구좌읍  남    70대   3459\n3       20170101   제주시  조천읍  남    40대  36695\n4       20170101   제주시  한경면  남    70대   1174\n...          ...   ...  ... ..    ...    ...\n527021  20181231  서귀포시  대륜동  남    40대  22791\n527022  20181231  서귀포시  대천동  여    60대   7060\n527023  20181231  서귀포시  중문동  남  10세미만   6061\n527024  20181231  서귀포시  중문동  여    20대   9482\n527025  20181231  서귀포시  예래동  여    50대  12314\n\n[527026 rows x 6 columns]",
      "text/html": "<div>\n<style scoped>\n    .dataframe tbody tr th:only-of-type {\n        vertical-align: middle;\n    }\n\n    .dataframe tbody tr th {\n        vertical-align: top;\n    }\n\n    .dataframe thead th {\n        text-align: right;\n    }\n</style>\n<table border=\"1\" class=\"dataframe\">\n  <thead>\n    <tr style=\"text-align: right;\">\n      <th></th>\n      <th>연월일</th>\n      <th>시군구명</th>\n      <th>읍면동명</th>\n      <th>성별</th>\n      <th>연령대</th>\n      <th>방문인구</th>\n    </tr>\n  </thead>\n  <tbody>\n    <tr>\n      <th>0</th>\n      <td>20170101</td>\n      <td>제주시</td>\n      <td>한림읍</td>\n      <td>남</td>\n      <td>40대</td>\n      <td>19424</td>\n    </tr>\n    <tr>\n      <th>1</th>\n      <td>20170101</td>\n      <td>제주시</td>\n      <td>애월읍</td>\n      <td>여</td>\n      <td>20대</td>\n      <td>27747</td>\n    </tr>\n    <tr>\n      <th>2</th>\n      <td>20170101</td>\n      <td>제주시</td>\n      <td>구좌읍</td>\n      <td>남</td>\n      <td>70대</td>\n      <td>3459</td>\n    </tr>\n    <tr>\n      <th>3</th>\n      <td>20170101</td>\n      <td>제주시</td>\n      <td>조천읍</td>\n      <td>남</td>\n      <td>40대</td>\n      <td>36695</td>\n    </tr>\n    <tr>\n      <th>4</th>\n      <td>20170101</td>\n      <td>제주시</td>\n      <td>한경면</td>\n      <td>남</td>\n      <td>70대</td>\n      <td>1174</td>\n    </tr>\n    <tr>\n      <th>...</th>\n      <td>...</td>\n      <td>...</td>\n      <td>...</td>\n      <td>...</td>\n      <td>...</td>\n      <td>...</td>\n    </tr>\n    <tr>\n      <th>527021</th>\n      <td>20181231</td>\n      <td>서귀포시</td>\n      <td>대륜동</td>\n      <td>남</td>\n      <td>40대</td>\n      <td>22791</td>\n    </tr>\n    <tr>\n      <th>527022</th>\n      <td>20181231</td>\n      <td>서귀포시</td>\n      <td>대천동</td>\n      <td>여</td>\n      <td>60대</td>\n      <td>7060</td>\n    </tr>\n    <tr>\n      <th>527023</th>\n      <td>20181231</td>\n      <td>서귀포시</td>\n      <td>중문동</td>\n      <td>남</td>\n      <td>10세미만</td>\n      <td>6061</td>\n    </tr>\n    <tr>\n      <th>527024</th>\n      <td>20181231</td>\n      <td>서귀포시</td>\n      <td>중문동</td>\n      <td>여</td>\n      <td>20대</td>\n      <td>9482</td>\n    </tr>\n    <tr>\n      <th>527025</th>\n      <td>20181231</td>\n      <td>서귀포시</td>\n      <td>예래동</td>\n      <td>여</td>\n      <td>50대</td>\n      <td>12314</td>\n    </tr>\n  </tbody>\n</table>\n<p>527026 rows × 6 columns</p>\n</div>"
     },
     "execution_count": 4,
     "metadata": {},
     "output_type": "execute_result"
    }
   ],
   "source": [
    "df_pop = pd.read_csv('data/jeju_population.csv')\n",
    "df_pop"
   ],
   "metadata": {
    "collapsed": false,
    "ExecuteTime": {
     "end_time": "2024-06-03T05:44:07.098825Z",
     "start_time": "2024-06-03T05:44:06.875597Z"
    }
   },
   "id": "9e9422272ea02a65",
   "execution_count": 4
  },
  {
   "cell_type": "markdown",
   "source": [
    "## 2. 데이터 탐색 및 전처리"
   ],
   "metadata": {
    "collapsed": false
   },
   "id": "6835040c90811fee"
  },
  {
   "cell_type": "markdown",
   "source": [
    "### 2017년 데이터"
   ],
   "metadata": {
    "collapsed": false
   },
   "id": "7ec4cefc1a30902d"
  },
  {
   "cell_type": "code",
   "outputs": [
    {
     "data": {
      "text/plain": "(26968, 7)"
     },
     "execution_count": 5,
     "metadata": {},
     "output_type": "execute_result"
    }
   ],
   "source": [
    "# 데이터개수\n",
    "jeju_card_region_2017.shape"
   ],
   "metadata": {
    "collapsed": false,
    "ExecuteTime": {
     "end_time": "2024-06-03T05:44:07.100441Z",
     "start_time": "2024-06-03T05:44:07.095993Z"
    }
   },
   "id": "8235467785296812",
   "execution_count": 5
  },
  {
   "cell_type": "code",
   "outputs": [
    {
     "data": {
      "text/plain": "연월      object\n시군구명    object\n읍면동명    object\n업종명     object\n성별      object\n이용자수     int64\n이용금액     int64\ndtype: object"
     },
     "execution_count": 6,
     "metadata": {},
     "output_type": "execute_result"
    }
   ],
   "source": [
    "# 컬럼별 데이터 타입\n",
    "jeju_card_region_2017.dtypes"
   ],
   "metadata": {
    "collapsed": false,
    "ExecuteTime": {
     "end_time": "2024-06-03T05:44:07.104184Z",
     "start_time": "2024-06-03T05:44:07.099915Z"
    }
   },
   "id": "51920d45ce17bc8f",
   "execution_count": 6
  },
  {
   "cell_type": "code",
   "outputs": [
    {
     "data": {
      "text/plain": "               이용자수          이용금액\ncount  26968.000000  2.696800e+04\nmean    1703.495179  6.323139e+07\nstd     4313.160764  1.987984e+08\nmin        1.000000  1.000000e+01\n25%       43.000000  2.635000e+06\n50%      281.000000  1.212517e+07\n75%     1333.250000  4.905928e+07\nmax    62761.000000  5.092990e+09",
      "text/html": "<div>\n<style scoped>\n    .dataframe tbody tr th:only-of-type {\n        vertical-align: middle;\n    }\n\n    .dataframe tbody tr th {\n        vertical-align: top;\n    }\n\n    .dataframe thead th {\n        text-align: right;\n    }\n</style>\n<table border=\"1\" class=\"dataframe\">\n  <thead>\n    <tr style=\"text-align: right;\">\n      <th></th>\n      <th>이용자수</th>\n      <th>이용금액</th>\n    </tr>\n  </thead>\n  <tbody>\n    <tr>\n      <th>count</th>\n      <td>26968.000000</td>\n      <td>2.696800e+04</td>\n    </tr>\n    <tr>\n      <th>mean</th>\n      <td>1703.495179</td>\n      <td>6.323139e+07</td>\n    </tr>\n    <tr>\n      <th>std</th>\n      <td>4313.160764</td>\n      <td>1.987984e+08</td>\n    </tr>\n    <tr>\n      <th>min</th>\n      <td>1.000000</td>\n      <td>1.000000e+01</td>\n    </tr>\n    <tr>\n      <th>25%</th>\n      <td>43.000000</td>\n      <td>2.635000e+06</td>\n    </tr>\n    <tr>\n      <th>50%</th>\n      <td>281.000000</td>\n      <td>1.212517e+07</td>\n    </tr>\n    <tr>\n      <th>75%</th>\n      <td>1333.250000</td>\n      <td>4.905928e+07</td>\n    </tr>\n    <tr>\n      <th>max</th>\n      <td>62761.000000</td>\n      <td>5.092990e+09</td>\n    </tr>\n  </tbody>\n</table>\n</div>"
     },
     "execution_count": 7,
     "metadata": {},
     "output_type": "execute_result"
    }
   ],
   "source": [
    "# 통계 정보\n",
    "jeju_card_region_2017.describe()"
   ],
   "metadata": {
    "collapsed": false,
    "ExecuteTime": {
     "end_time": "2024-06-03T05:44:07.147287Z",
     "start_time": "2024-06-03T05:44:07.104747Z"
    }
   },
   "id": "591617986640ecd",
   "execution_count": 7
  },
  {
   "cell_type": "code",
   "outputs": [
    {
     "data": {
      "text/plain": "연월      0\n시군구명    0\n읍면동명    0\n업종명     0\n성별      0\n이용자수    0\n이용금액    0\ndtype: int64"
     },
     "execution_count": 8,
     "metadata": {},
     "output_type": "execute_result"
    }
   ],
   "source": [
    "# 결측값\n",
    "jeju_card_region_2017.isnull().sum()"
   ],
   "metadata": {
    "collapsed": false,
    "ExecuteTime": {
     "end_time": "2024-06-03T05:44:07.160551Z",
     "start_time": "2024-06-03T05:44:07.118836Z"
    }
   },
   "id": "b8e4a5fc00b803cf",
   "execution_count": 8
  },
  {
   "cell_type": "markdown",
   "source": [
    "### 2018년 데이터"
   ],
   "metadata": {
    "collapsed": false
   },
   "id": "7d6d217052b325dc"
  },
  {
   "cell_type": "code",
   "outputs": [
    {
     "data": {
      "text/plain": "(27183, 7)"
     },
     "execution_count": 9,
     "metadata": {},
     "output_type": "execute_result"
    }
   ],
   "source": [
    "# 데이터 개수\n",
    "jeju_card_region_2018.shape"
   ],
   "metadata": {
    "collapsed": false,
    "ExecuteTime": {
     "end_time": "2024-06-03T05:44:07.161802Z",
     "start_time": "2024-06-03T05:44:07.122435Z"
    }
   },
   "id": "b020d7480679999d",
   "execution_count": 9
  },
  {
   "cell_type": "code",
   "outputs": [
    {
     "data": {
      "text/plain": "연월      object\n시군구명    object\n읍면동명    object\n업종명     object\n성별      object\n이용자수     int64\n이용금액     int64\ndtype: object"
     },
     "execution_count": 10,
     "metadata": {},
     "output_type": "execute_result"
    }
   ],
   "source": [
    "# 컬럼별 타입\n",
    "jeju_card_region_2018.dtypes"
   ],
   "metadata": {
    "collapsed": false,
    "ExecuteTime": {
     "end_time": "2024-06-03T05:44:07.162756Z",
     "start_time": "2024-06-03T05:44:07.126146Z"
    }
   },
   "id": "86e4a4fef94936d8",
   "execution_count": 10
  },
  {
   "cell_type": "code",
   "outputs": [
    {
     "data": {
      "text/plain": "               이용자수          이용금액\ncount  27183.000000  2.718300e+04\nmean    1726.604164  6.204426e+07\nstd     4399.634438  1.900428e+08\nmin        1.000000  1.000000e+01\n25%       45.000000  2.706600e+06\n50%      288.000000  1.231190e+07\n75%     1339.000000  4.942617e+07\nmax    63621.000000  4.836250e+09",
      "text/html": "<div>\n<style scoped>\n    .dataframe tbody tr th:only-of-type {\n        vertical-align: middle;\n    }\n\n    .dataframe tbody tr th {\n        vertical-align: top;\n    }\n\n    .dataframe thead th {\n        text-align: right;\n    }\n</style>\n<table border=\"1\" class=\"dataframe\">\n  <thead>\n    <tr style=\"text-align: right;\">\n      <th></th>\n      <th>이용자수</th>\n      <th>이용금액</th>\n    </tr>\n  </thead>\n  <tbody>\n    <tr>\n      <th>count</th>\n      <td>27183.000000</td>\n      <td>2.718300e+04</td>\n    </tr>\n    <tr>\n      <th>mean</th>\n      <td>1726.604164</td>\n      <td>6.204426e+07</td>\n    </tr>\n    <tr>\n      <th>std</th>\n      <td>4399.634438</td>\n      <td>1.900428e+08</td>\n    </tr>\n    <tr>\n      <th>min</th>\n      <td>1.000000</td>\n      <td>1.000000e+01</td>\n    </tr>\n    <tr>\n      <th>25%</th>\n      <td>45.000000</td>\n      <td>2.706600e+06</td>\n    </tr>\n    <tr>\n      <th>50%</th>\n      <td>288.000000</td>\n      <td>1.231190e+07</td>\n    </tr>\n    <tr>\n      <th>75%</th>\n      <td>1339.000000</td>\n      <td>4.942617e+07</td>\n    </tr>\n    <tr>\n      <th>max</th>\n      <td>63621.000000</td>\n      <td>4.836250e+09</td>\n    </tr>\n  </tbody>\n</table>\n</div>"
     },
     "execution_count": 11,
     "metadata": {},
     "output_type": "execute_result"
    }
   ],
   "source": [
    "# 통계 정보\n",
    "jeju_card_region_2018.describe()"
   ],
   "metadata": {
    "collapsed": false,
    "ExecuteTime": {
     "end_time": "2024-06-03T05:44:07.185815Z",
     "start_time": "2024-06-03T05:44:07.128613Z"
    }
   },
   "id": "9091dc743ea7ff2a",
   "execution_count": 11
  },
  {
   "cell_type": "code",
   "outputs": [
    {
     "data": {
      "text/plain": "연월      0\n시군구명    0\n읍면동명    0\n업종명     0\n성별      0\n이용자수    0\n이용금액    0\ndtype: int64"
     },
     "execution_count": 12,
     "metadata": {},
     "output_type": "execute_result"
    }
   ],
   "source": [
    "# 결측값\n",
    "jeju_card_region_2018.isnull().sum()"
   ],
   "metadata": {
    "collapsed": false,
    "ExecuteTime": {
     "end_time": "2024-06-03T05:44:07.211298Z",
     "start_time": "2024-06-03T05:44:07.140359Z"
    }
   },
   "id": "938465e9eee30afd",
   "execution_count": 12
  },
  {
   "cell_type": "markdown",
   "source": [
    "## 읍면동 단위 유동인구 데이터"
   ],
   "metadata": {
    "collapsed": false
   },
   "id": "1140d60f3c4a2719"
  },
  {
   "cell_type": "code",
   "outputs": [
    {
     "data": {
      "text/plain": "(527026, 6)"
     },
     "execution_count": 13,
     "metadata": {},
     "output_type": "execute_result"
    }
   ],
   "source": [
    "# 데이터 크기\n",
    "df_pop.shape"
   ],
   "metadata": {
    "collapsed": false,
    "ExecuteTime": {
     "end_time": "2024-06-03T05:44:07.212338Z",
     "start_time": "2024-06-03T05:44:07.143691Z"
    }
   },
   "id": "e3ada62734a270e6",
   "execution_count": 13
  },
  {
   "cell_type": "code",
   "outputs": [
    {
     "data": {
      "text/plain": "연월일      int64\n시군구명    object\n읍면동명    object\n성별      object\n연령대     object\n방문인구     int64\ndtype: object"
     },
     "execution_count": 14,
     "metadata": {},
     "output_type": "execute_result"
    }
   ],
   "source": [
    "# 데이터 타입\n",
    "df_pop.dtypes"
   ],
   "metadata": {
    "collapsed": false,
    "ExecuteTime": {
     "end_time": "2024-06-03T05:44:07.229183Z",
     "start_time": "2024-06-03T05:44:07.148030Z"
    }
   },
   "id": "7e8864483fa951b5",
   "execution_count": 14
  },
  {
   "cell_type": "code",
   "outputs": [
    {
     "data": {
      "text/plain": "                연월일           방문인구\ncount  5.270260e+05  527026.000000\nmean   2.017531e+07    9931.281117\nstd    4.999286e+03    9974.524031\nmin    2.017010e+07       0.000000\n25%    2.017062e+07    3292.000000\n50%    2.017121e+07    6811.000000\n75%    2.018053e+07   12783.000000\nmax    2.018123e+07   98444.000000",
      "text/html": "<div>\n<style scoped>\n    .dataframe tbody tr th:only-of-type {\n        vertical-align: middle;\n    }\n\n    .dataframe tbody tr th {\n        vertical-align: top;\n    }\n\n    .dataframe thead th {\n        text-align: right;\n    }\n</style>\n<table border=\"1\" class=\"dataframe\">\n  <thead>\n    <tr style=\"text-align: right;\">\n      <th></th>\n      <th>연월일</th>\n      <th>방문인구</th>\n    </tr>\n  </thead>\n  <tbody>\n    <tr>\n      <th>count</th>\n      <td>5.270260e+05</td>\n      <td>527026.000000</td>\n    </tr>\n    <tr>\n      <th>mean</th>\n      <td>2.017531e+07</td>\n      <td>9931.281117</td>\n    </tr>\n    <tr>\n      <th>std</th>\n      <td>4.999286e+03</td>\n      <td>9974.524031</td>\n    </tr>\n    <tr>\n      <th>min</th>\n      <td>2.017010e+07</td>\n      <td>0.000000</td>\n    </tr>\n    <tr>\n      <th>25%</th>\n      <td>2.017062e+07</td>\n      <td>3292.000000</td>\n    </tr>\n    <tr>\n      <th>50%</th>\n      <td>2.017121e+07</td>\n      <td>6811.000000</td>\n    </tr>\n    <tr>\n      <th>75%</th>\n      <td>2.018053e+07</td>\n      <td>12783.000000</td>\n    </tr>\n    <tr>\n      <th>max</th>\n      <td>2.018123e+07</td>\n      <td>98444.000000</td>\n    </tr>\n  </tbody>\n</table>\n</div>"
     },
     "execution_count": 15,
     "metadata": {},
     "output_type": "execute_result"
    }
   ],
   "source": [
    "# 통계 정보\n",
    "df_pop.describe()"
   ],
   "metadata": {
    "collapsed": false,
    "ExecuteTime": {
     "end_time": "2024-06-03T05:44:07.277664Z",
     "start_time": "2024-06-03T05:44:07.152910Z"
    }
   },
   "id": "af6eb04ab435fcd8",
   "execution_count": 15
  },
  {
   "cell_type": "code",
   "outputs": [
    {
     "data": {
      "text/plain": "연월일     0\n시군구명    0\n읍면동명    0\n성별      0\n연령대     0\n방문인구    0\ndtype: int64"
     },
     "execution_count": 16,
     "metadata": {},
     "output_type": "execute_result"
    }
   ],
   "source": [
    "# 결측값\n",
    "df_pop.isnull().sum()"
   ],
   "metadata": {
    "collapsed": false,
    "ExecuteTime": {
     "end_time": "2024-06-03T05:44:07.297847Z",
     "start_time": "2024-06-03T05:44:07.175451Z"
    }
   },
   "id": "2854507029401429",
   "execution_count": 16
  },
  {
   "cell_type": "markdown",
   "source": [
    "2017년 2018년 데이터 합치기"
   ],
   "metadata": {
    "collapsed": false
   },
   "id": "ed7bbe9bb6cc67b2"
  },
  {
   "cell_type": "code",
   "outputs": [
    {
     "data": {
      "text/plain": "               연월  시군구명 읍면동명                 업종명  성별  이용자수       이용금액\n0      2017-01-01  서귀포시  남원읍          건강보조식품 소매업  남성    11     137500\n1      2017-01-01  서귀포시  천지동          건강보조식품 소매업  여성    61   12334400\n2      2017-01-01  서귀포시  대정읍       기타음식료품위주종합소매업  남성   555   17301300\n3      2017-01-01  서귀포시  대정읍              기타 주점업  남성   324   71843080\n4      2017-01-01  서귀포시  대정읍         기타 외국식 음식점업  남성    40     971000\n...           ...   ...  ...                 ...  ..   ...        ...\n54146  2018-12-01   제주시  오라동             중식 음식점업  여성   110    3043250\n54147  2018-12-01   제주시   연동  스포츠 및 레크레이션 용품 임대업  여성  2317  365724920\n54148  2018-12-01   제주시   연동                 호텔업  여성   810  232661992\n54149  2018-12-01   제주시  오라동       기타음식료품위주종합소매업  남성    25    1225510\n54150  2018-12-01   제주시   연동       화장품 및 방향제 소매업  여성  2351   84518980\n\n[54151 rows x 7 columns]",
      "text/html": "<div>\n<style scoped>\n    .dataframe tbody tr th:only-of-type {\n        vertical-align: middle;\n    }\n\n    .dataframe tbody tr th {\n        vertical-align: top;\n    }\n\n    .dataframe thead th {\n        text-align: right;\n    }\n</style>\n<table border=\"1\" class=\"dataframe\">\n  <thead>\n    <tr style=\"text-align: right;\">\n      <th></th>\n      <th>연월</th>\n      <th>시군구명</th>\n      <th>읍면동명</th>\n      <th>업종명</th>\n      <th>성별</th>\n      <th>이용자수</th>\n      <th>이용금액</th>\n    </tr>\n  </thead>\n  <tbody>\n    <tr>\n      <th>0</th>\n      <td>2017-01-01</td>\n      <td>서귀포시</td>\n      <td>남원읍</td>\n      <td>건강보조식품 소매업</td>\n      <td>남성</td>\n      <td>11</td>\n      <td>137500</td>\n    </tr>\n    <tr>\n      <th>1</th>\n      <td>2017-01-01</td>\n      <td>서귀포시</td>\n      <td>천지동</td>\n      <td>건강보조식품 소매업</td>\n      <td>여성</td>\n      <td>61</td>\n      <td>12334400</td>\n    </tr>\n    <tr>\n      <th>2</th>\n      <td>2017-01-01</td>\n      <td>서귀포시</td>\n      <td>대정읍</td>\n      <td>기타음식료품위주종합소매업</td>\n      <td>남성</td>\n      <td>555</td>\n      <td>17301300</td>\n    </tr>\n    <tr>\n      <th>3</th>\n      <td>2017-01-01</td>\n      <td>서귀포시</td>\n      <td>대정읍</td>\n      <td>기타 주점업</td>\n      <td>남성</td>\n      <td>324</td>\n      <td>71843080</td>\n    </tr>\n    <tr>\n      <th>4</th>\n      <td>2017-01-01</td>\n      <td>서귀포시</td>\n      <td>대정읍</td>\n      <td>기타 외국식 음식점업</td>\n      <td>남성</td>\n      <td>40</td>\n      <td>971000</td>\n    </tr>\n    <tr>\n      <th>...</th>\n      <td>...</td>\n      <td>...</td>\n      <td>...</td>\n      <td>...</td>\n      <td>...</td>\n      <td>...</td>\n      <td>...</td>\n    </tr>\n    <tr>\n      <th>54146</th>\n      <td>2018-12-01</td>\n      <td>제주시</td>\n      <td>오라동</td>\n      <td>중식 음식점업</td>\n      <td>여성</td>\n      <td>110</td>\n      <td>3043250</td>\n    </tr>\n    <tr>\n      <th>54147</th>\n      <td>2018-12-01</td>\n      <td>제주시</td>\n      <td>연동</td>\n      <td>스포츠 및 레크레이션 용품 임대업</td>\n      <td>여성</td>\n      <td>2317</td>\n      <td>365724920</td>\n    </tr>\n    <tr>\n      <th>54148</th>\n      <td>2018-12-01</td>\n      <td>제주시</td>\n      <td>연동</td>\n      <td>호텔업</td>\n      <td>여성</td>\n      <td>810</td>\n      <td>232661992</td>\n    </tr>\n    <tr>\n      <th>54149</th>\n      <td>2018-12-01</td>\n      <td>제주시</td>\n      <td>오라동</td>\n      <td>기타음식료품위주종합소매업</td>\n      <td>남성</td>\n      <td>25</td>\n      <td>1225510</td>\n    </tr>\n    <tr>\n      <th>54150</th>\n      <td>2018-12-01</td>\n      <td>제주시</td>\n      <td>연동</td>\n      <td>화장품 및 방향제 소매업</td>\n      <td>여성</td>\n      <td>2351</td>\n      <td>84518980</td>\n    </tr>\n  </tbody>\n</table>\n<p>54151 rows × 7 columns</p>\n</div>"
     },
     "execution_count": 17,
     "metadata": {},
     "output_type": "execute_result"
    }
   ],
   "source": [
    "df = pd.merge(jeju_card_region_2017, jeju_card_region_2018, how='outer')\n",
    "df"
   ],
   "metadata": {
    "collapsed": false,
    "ExecuteTime": {
     "end_time": "2024-06-03T05:44:07.347439Z",
     "start_time": "2024-06-03T05:44:07.219040Z"
    }
   },
   "id": "f636fcf8192542e0",
   "execution_count": 17
  },
  {
   "cell_type": "markdown",
   "source": [
    "## 3. 데이터 분석"
   ],
   "metadata": {
    "collapsed": false
   },
   "id": "e5c6c01d93b5c7f7"
  },
  {
   "cell_type": "markdown",
   "source": [
    "이용금액과 이용자수가 많은 업종과 지역 Top 10을 각각 뽑아 보세요."
   ],
   "metadata": {
    "collapsed": false
   },
   "id": "7a4711498dac723d"
  },
  {
   "cell_type": "markdown",
   "source": [
    "이용금액과 이용자수가 많은 업종"
   ],
   "metadata": {
    "collapsed": false
   },
   "id": "c885510e6c5a84e"
  },
  {
   "cell_type": "code",
   "outputs": [
    {
     "data": {
      "text/plain": "                             이용자수          이용금액\n업종명                                            \n건강보조식품 소매업                  43738    7042351269\n골프장 운영업                    454602   63978385373\n과실 및 채소 소매업               1088336   70647018956\n관광 민예품 및 선물용품 소매업          611692   20571366644\n그외 기타 분류안된 오락관련 서비스업         2361     116100063\n그외 기타 스포츠시설 운영업             18761    1191623694\n그외 기타 종합 소매업               920327   61397685585\n기타 갬블링 및 베팅업                    3       5736038\n기타 대형 종합 소매업              3026355  176181070237\n기타 수상오락 서비스업                 1188     214491300\n기타 외국식 음식점업                515110   18630892911\n기타 주점업                     262989   51724117734\n기타음식료품위주종합소매업             2238649   94161392029\n내항 여객 운송업                  239458    7749726604\n마사지업                         3621     441834050\n면세점                       2122760  216084015155\n버스 운송업                          5       6564000\n비알콜 음료점업                  2990107   32196462878\n빵 및 과자류 소매업               3295046   45801876571\n서양식 음식점업                  3483836   82613944504\n수산물 소매업                    804683   56999528206\n슈퍼마켓                     11427536  303567124207\n스포츠 및 레크레이션 용품 임대업         991236  112011498985\n여관업                        953862   72403114967\n여행사업                        63548    5790670098\n욕탕업                        268457    5920642458\n육류 소매업                     695049   40759962062\n일반유흥 주점업                   541603  116184655729\n일식 음식점업                   1294471   92915797327\n자동차 임대업                    375290   29386903192\n전시 및 행사 대행업                868990   26877644577\n정기 항공 운송업                  640930  102803758104\n중식 음식점업                   1017353   28747667386\n차량용 가스 충전업                 318051   15997899960\n차량용 주유소 운영업               5683264  302282701948\n체인화 편의점                  22577070  208385597308\n택시 운송업                          7        227000\n피자, 햄버거, 샌드위치 및 유사 음식점업   2963257   38337318851\n한식 음식점업                  18828766  764903591034\n호텔업                        261891   55612663219\n화장품 및 방향제 소매업              662329   31541757654\n휴양콘도 운영업                   317552   29585862101",
      "text/html": "<div>\n<style scoped>\n    .dataframe tbody tr th:only-of-type {\n        vertical-align: middle;\n    }\n\n    .dataframe tbody tr th {\n        vertical-align: top;\n    }\n\n    .dataframe thead th {\n        text-align: right;\n    }\n</style>\n<table border=\"1\" class=\"dataframe\">\n  <thead>\n    <tr style=\"text-align: right;\">\n      <th></th>\n      <th>이용자수</th>\n      <th>이용금액</th>\n    </tr>\n    <tr>\n      <th>업종명</th>\n      <th></th>\n      <th></th>\n    </tr>\n  </thead>\n  <tbody>\n    <tr>\n      <th>건강보조식품 소매업</th>\n      <td>43738</td>\n      <td>7042351269</td>\n    </tr>\n    <tr>\n      <th>골프장 운영업</th>\n      <td>454602</td>\n      <td>63978385373</td>\n    </tr>\n    <tr>\n      <th>과실 및 채소 소매업</th>\n      <td>1088336</td>\n      <td>70647018956</td>\n    </tr>\n    <tr>\n      <th>관광 민예품 및 선물용품 소매업</th>\n      <td>611692</td>\n      <td>20571366644</td>\n    </tr>\n    <tr>\n      <th>그외 기타 분류안된 오락관련 서비스업</th>\n      <td>2361</td>\n      <td>116100063</td>\n    </tr>\n    <tr>\n      <th>그외 기타 스포츠시설 운영업</th>\n      <td>18761</td>\n      <td>1191623694</td>\n    </tr>\n    <tr>\n      <th>그외 기타 종합 소매업</th>\n      <td>920327</td>\n      <td>61397685585</td>\n    </tr>\n    <tr>\n      <th>기타 갬블링 및 베팅업</th>\n      <td>3</td>\n      <td>5736038</td>\n    </tr>\n    <tr>\n      <th>기타 대형 종합 소매업</th>\n      <td>3026355</td>\n      <td>176181070237</td>\n    </tr>\n    <tr>\n      <th>기타 수상오락 서비스업</th>\n      <td>1188</td>\n      <td>214491300</td>\n    </tr>\n    <tr>\n      <th>기타 외국식 음식점업</th>\n      <td>515110</td>\n      <td>18630892911</td>\n    </tr>\n    <tr>\n      <th>기타 주점업</th>\n      <td>262989</td>\n      <td>51724117734</td>\n    </tr>\n    <tr>\n      <th>기타음식료품위주종합소매업</th>\n      <td>2238649</td>\n      <td>94161392029</td>\n    </tr>\n    <tr>\n      <th>내항 여객 운송업</th>\n      <td>239458</td>\n      <td>7749726604</td>\n    </tr>\n    <tr>\n      <th>마사지업</th>\n      <td>3621</td>\n      <td>441834050</td>\n    </tr>\n    <tr>\n      <th>면세점</th>\n      <td>2122760</td>\n      <td>216084015155</td>\n    </tr>\n    <tr>\n      <th>버스 운송업</th>\n      <td>5</td>\n      <td>6564000</td>\n    </tr>\n    <tr>\n      <th>비알콜 음료점업</th>\n      <td>2990107</td>\n      <td>32196462878</td>\n    </tr>\n    <tr>\n      <th>빵 및 과자류 소매업</th>\n      <td>3295046</td>\n      <td>45801876571</td>\n    </tr>\n    <tr>\n      <th>서양식 음식점업</th>\n      <td>3483836</td>\n      <td>82613944504</td>\n    </tr>\n    <tr>\n      <th>수산물 소매업</th>\n      <td>804683</td>\n      <td>56999528206</td>\n    </tr>\n    <tr>\n      <th>슈퍼마켓</th>\n      <td>11427536</td>\n      <td>303567124207</td>\n    </tr>\n    <tr>\n      <th>스포츠 및 레크레이션 용품 임대업</th>\n      <td>991236</td>\n      <td>112011498985</td>\n    </tr>\n    <tr>\n      <th>여관업</th>\n      <td>953862</td>\n      <td>72403114967</td>\n    </tr>\n    <tr>\n      <th>여행사업</th>\n      <td>63548</td>\n      <td>5790670098</td>\n    </tr>\n    <tr>\n      <th>욕탕업</th>\n      <td>268457</td>\n      <td>5920642458</td>\n    </tr>\n    <tr>\n      <th>육류 소매업</th>\n      <td>695049</td>\n      <td>40759962062</td>\n    </tr>\n    <tr>\n      <th>일반유흥 주점업</th>\n      <td>541603</td>\n      <td>116184655729</td>\n    </tr>\n    <tr>\n      <th>일식 음식점업</th>\n      <td>1294471</td>\n      <td>92915797327</td>\n    </tr>\n    <tr>\n      <th>자동차 임대업</th>\n      <td>375290</td>\n      <td>29386903192</td>\n    </tr>\n    <tr>\n      <th>전시 및 행사 대행업</th>\n      <td>868990</td>\n      <td>26877644577</td>\n    </tr>\n    <tr>\n      <th>정기 항공 운송업</th>\n      <td>640930</td>\n      <td>102803758104</td>\n    </tr>\n    <tr>\n      <th>중식 음식점업</th>\n      <td>1017353</td>\n      <td>28747667386</td>\n    </tr>\n    <tr>\n      <th>차량용 가스 충전업</th>\n      <td>318051</td>\n      <td>15997899960</td>\n    </tr>\n    <tr>\n      <th>차량용 주유소 운영업</th>\n      <td>5683264</td>\n      <td>302282701948</td>\n    </tr>\n    <tr>\n      <th>체인화 편의점</th>\n      <td>22577070</td>\n      <td>208385597308</td>\n    </tr>\n    <tr>\n      <th>택시 운송업</th>\n      <td>7</td>\n      <td>227000</td>\n    </tr>\n    <tr>\n      <th>피자, 햄버거, 샌드위치 및 유사 음식점업</th>\n      <td>2963257</td>\n      <td>38337318851</td>\n    </tr>\n    <tr>\n      <th>한식 음식점업</th>\n      <td>18828766</td>\n      <td>764903591034</td>\n    </tr>\n    <tr>\n      <th>호텔업</th>\n      <td>261891</td>\n      <td>55612663219</td>\n    </tr>\n    <tr>\n      <th>화장품 및 방향제 소매업</th>\n      <td>662329</td>\n      <td>31541757654</td>\n    </tr>\n    <tr>\n      <th>휴양콘도 운영업</th>\n      <td>317552</td>\n      <td>29585862101</td>\n    </tr>\n  </tbody>\n</table>\n</div>"
     },
     "execution_count": 18,
     "metadata": {},
     "output_type": "execute_result"
    }
   ],
   "source": [
    "# 이용금액과 이용자수가 많은 업종\n",
    "sector = df.groupby('업종명').sum(numeric_only=True)\n",
    "sector"
   ],
   "metadata": {
    "collapsed": false,
    "ExecuteTime": {
     "end_time": "2024-06-03T05:44:07.350462Z",
     "start_time": "2024-06-03T05:44:07.259842Z"
    }
   },
   "id": "c424867aec98cc9f",
   "execution_count": 18
  },
  {
   "cell_type": "code",
   "outputs": [
    {
     "data": {
      "text/plain": "업종명\n체인화 편의점                    22577070\n한식 음식점업                    18828766\n슈퍼마켓                       11427536\n차량용 주유소 운영업                 5683264\n서양식 음식점업                    3483836\n빵 및 과자류 소매업                 3295046\n기타 대형 종합 소매업                3026355\n비알콜 음료점업                    2990107\n피자, 햄버거, 샌드위치 및 유사 음식점업     2963257\n기타음식료품위주종합소매업               2238649\nName: 이용자수, dtype: int64"
     },
     "execution_count": 19,
     "metadata": {},
     "output_type": "execute_result"
    }
   ],
   "source": [
    "sector['이용자수'].sort_values(ascending=False).head(10)"
   ],
   "metadata": {
    "collapsed": false,
    "ExecuteTime": {
     "end_time": "2024-06-03T05:44:07.351428Z",
     "start_time": "2024-06-03T05:44:07.267870Z"
    }
   },
   "id": "2705e05178368648",
   "execution_count": 19
  },
  {
   "cell_type": "code",
   "outputs": [
    {
     "data": {
      "text/plain": "업종명\n한식 음식점업               764903591034\n슈퍼마켓                  303567124207\n차량용 주유소 운영업           302282701948\n면세점                   216084015155\n체인화 편의점               208385597308\n기타 대형 종합 소매업          176181070237\n일반유흥 주점업              116184655729\n스포츠 및 레크레이션 용품 임대업    112011498985\n정기 항공 운송업             102803758104\n기타음식료품위주종합소매업          94161392029\nName: 이용금액, dtype: int64"
     },
     "execution_count": 20,
     "metadata": {},
     "output_type": "execute_result"
    }
   ],
   "source": [
    "sector['이용금액'].sort_values(ascending=False).head(10)"
   ],
   "metadata": {
    "collapsed": false,
    "ExecuteTime": {
     "end_time": "2024-06-03T05:44:07.363523Z",
     "start_time": "2024-06-03T05:44:07.273719Z"
    }
   },
   "id": "4d1d2db6b89b82e3",
   "execution_count": 20
  },
  {
   "cell_type": "markdown",
   "source": [
    "이용금액과 이용자수가 많은 지역"
   ],
   "metadata": {
    "collapsed": false
   },
   "id": "aac25ca14ed7c16"
  },
  {
   "cell_type": "code",
   "outputs": [
    {
     "data": {
      "text/plain": "         이용자수          이용금액\n읍면동명                       \n건입동   1247860   46077137130\n구좌읍   1593134   48035516926\n남원읍   1209827   52349473146\n노형동   7642921  245644045189\n대륜동   1735095   67069487603\n대정읍   1715861   56164010423\n대천동   1221892   33847001011\n도두동    741136   29033944428\n동홍동   1959703   65748200288\n봉개동    631429   24768113201\n삼도1동  1094904   34275405385\n삼도2동  1436285   63127792729\n삼양동   1571391   40040100193\n서홍동    630414   14340555341\n성산읍   2361002   79796700869\n송산동   5468346  205357714141\n아라동   3653006   80280971143\n안덕면   2057774   69668716092\n애월읍   3397281  120988320522\n연동    7100596  340461915654\n영천동    652686   35970307258\n예래동   1259725   72430813294\n오라동   1339046   46704908156\n외도동   1574154   42808089522\n용담1동   482876   19326144801\n용담2동  5820083  289912196043\n우도면    600163   14336890907\n이도1동  1082146   45553719645\n이도2동  6742075  201304448132\n이호동    423538   12463690048\n일도1동  1161659   55313193619\n일도2동  3145294  106631315225\n정방동   3053162  118137020208\n조천읍   2475693   81088770827\n중문동   1599439   66174146830\n중앙동   3053162  118137020208\n천지동   3683576  132477575549\n추자면     63461    2495633607\n표선면   1278988   50551227038\n한경면    572525   22391791132\n한림읍   2195237   80368290420\n화북동   1723143   48701154512\n효돈동    422451   11419773573",
      "text/html": "<div>\n<style scoped>\n    .dataframe tbody tr th:only-of-type {\n        vertical-align: middle;\n    }\n\n    .dataframe tbody tr th {\n        vertical-align: top;\n    }\n\n    .dataframe thead th {\n        text-align: right;\n    }\n</style>\n<table border=\"1\" class=\"dataframe\">\n  <thead>\n    <tr style=\"text-align: right;\">\n      <th></th>\n      <th>이용자수</th>\n      <th>이용금액</th>\n    </tr>\n    <tr>\n      <th>읍면동명</th>\n      <th></th>\n      <th></th>\n    </tr>\n  </thead>\n  <tbody>\n    <tr>\n      <th>건입동</th>\n      <td>1247860</td>\n      <td>46077137130</td>\n    </tr>\n    <tr>\n      <th>구좌읍</th>\n      <td>1593134</td>\n      <td>48035516926</td>\n    </tr>\n    <tr>\n      <th>남원읍</th>\n      <td>1209827</td>\n      <td>52349473146</td>\n    </tr>\n    <tr>\n      <th>노형동</th>\n      <td>7642921</td>\n      <td>245644045189</td>\n    </tr>\n    <tr>\n      <th>대륜동</th>\n      <td>1735095</td>\n      <td>67069487603</td>\n    </tr>\n    <tr>\n      <th>대정읍</th>\n      <td>1715861</td>\n      <td>56164010423</td>\n    </tr>\n    <tr>\n      <th>대천동</th>\n      <td>1221892</td>\n      <td>33847001011</td>\n    </tr>\n    <tr>\n      <th>도두동</th>\n      <td>741136</td>\n      <td>29033944428</td>\n    </tr>\n    <tr>\n      <th>동홍동</th>\n      <td>1959703</td>\n      <td>65748200288</td>\n    </tr>\n    <tr>\n      <th>봉개동</th>\n      <td>631429</td>\n      <td>24768113201</td>\n    </tr>\n    <tr>\n      <th>삼도1동</th>\n      <td>1094904</td>\n      <td>34275405385</td>\n    </tr>\n    <tr>\n      <th>삼도2동</th>\n      <td>1436285</td>\n      <td>63127792729</td>\n    </tr>\n    <tr>\n      <th>삼양동</th>\n      <td>1571391</td>\n      <td>40040100193</td>\n    </tr>\n    <tr>\n      <th>서홍동</th>\n      <td>630414</td>\n      <td>14340555341</td>\n    </tr>\n    <tr>\n      <th>성산읍</th>\n      <td>2361002</td>\n      <td>79796700869</td>\n    </tr>\n    <tr>\n      <th>송산동</th>\n      <td>5468346</td>\n      <td>205357714141</td>\n    </tr>\n    <tr>\n      <th>아라동</th>\n      <td>3653006</td>\n      <td>80280971143</td>\n    </tr>\n    <tr>\n      <th>안덕면</th>\n      <td>2057774</td>\n      <td>69668716092</td>\n    </tr>\n    <tr>\n      <th>애월읍</th>\n      <td>3397281</td>\n      <td>120988320522</td>\n    </tr>\n    <tr>\n      <th>연동</th>\n      <td>7100596</td>\n      <td>340461915654</td>\n    </tr>\n    <tr>\n      <th>영천동</th>\n      <td>652686</td>\n      <td>35970307258</td>\n    </tr>\n    <tr>\n      <th>예래동</th>\n      <td>1259725</td>\n      <td>72430813294</td>\n    </tr>\n    <tr>\n      <th>오라동</th>\n      <td>1339046</td>\n      <td>46704908156</td>\n    </tr>\n    <tr>\n      <th>외도동</th>\n      <td>1574154</td>\n      <td>42808089522</td>\n    </tr>\n    <tr>\n      <th>용담1동</th>\n      <td>482876</td>\n      <td>19326144801</td>\n    </tr>\n    <tr>\n      <th>용담2동</th>\n      <td>5820083</td>\n      <td>289912196043</td>\n    </tr>\n    <tr>\n      <th>우도면</th>\n      <td>600163</td>\n      <td>14336890907</td>\n    </tr>\n    <tr>\n      <th>이도1동</th>\n      <td>1082146</td>\n      <td>45553719645</td>\n    </tr>\n    <tr>\n      <th>이도2동</th>\n      <td>6742075</td>\n      <td>201304448132</td>\n    </tr>\n    <tr>\n      <th>이호동</th>\n      <td>423538</td>\n      <td>12463690048</td>\n    </tr>\n    <tr>\n      <th>일도1동</th>\n      <td>1161659</td>\n      <td>55313193619</td>\n    </tr>\n    <tr>\n      <th>일도2동</th>\n      <td>3145294</td>\n      <td>106631315225</td>\n    </tr>\n    <tr>\n      <th>정방동</th>\n      <td>3053162</td>\n      <td>118137020208</td>\n    </tr>\n    <tr>\n      <th>조천읍</th>\n      <td>2475693</td>\n      <td>81088770827</td>\n    </tr>\n    <tr>\n      <th>중문동</th>\n      <td>1599439</td>\n      <td>66174146830</td>\n    </tr>\n    <tr>\n      <th>중앙동</th>\n      <td>3053162</td>\n      <td>118137020208</td>\n    </tr>\n    <tr>\n      <th>천지동</th>\n      <td>3683576</td>\n      <td>132477575549</td>\n    </tr>\n    <tr>\n      <th>추자면</th>\n      <td>63461</td>\n      <td>2495633607</td>\n    </tr>\n    <tr>\n      <th>표선면</th>\n      <td>1278988</td>\n      <td>50551227038</td>\n    </tr>\n    <tr>\n      <th>한경면</th>\n      <td>572525</td>\n      <td>22391791132</td>\n    </tr>\n    <tr>\n      <th>한림읍</th>\n      <td>2195237</td>\n      <td>80368290420</td>\n    </tr>\n    <tr>\n      <th>화북동</th>\n      <td>1723143</td>\n      <td>48701154512</td>\n    </tr>\n    <tr>\n      <th>효돈동</th>\n      <td>422451</td>\n      <td>11419773573</td>\n    </tr>\n  </tbody>\n</table>\n</div>"
     },
     "execution_count": 21,
     "metadata": {},
     "output_type": "execute_result"
    }
   ],
   "source": [
    "place = df.groupby('읍면동명').sum(numeric_only=True)\n",
    "place"
   ],
   "metadata": {
    "collapsed": false,
    "ExecuteTime": {
     "end_time": "2024-06-03T05:44:07.367103Z",
     "start_time": "2024-06-03T05:44:07.278361Z"
    }
   },
   "id": "90330e2a76179320",
   "execution_count": 21
  },
  {
   "cell_type": "code",
   "outputs": [
    {
     "data": {
      "text/plain": "읍면동명\n연동      340461915654\n용담2동    289912196043\n노형동     245644045189\n송산동     205357714141\n이도2동    201304448132\n천지동     132477575549\n애월읍     120988320522\n중앙동     118137020208\n정방동     118137020208\n일도2동    106631315225\nName: 이용금액, dtype: int64"
     },
     "execution_count": 22,
     "metadata": {},
     "output_type": "execute_result"
    }
   ],
   "source": [
    "place['이용금액'].sort_values(ascending=False).head(10)"
   ],
   "metadata": {
    "collapsed": false,
    "ExecuteTime": {
     "end_time": "2024-06-03T05:44:07.388801Z",
     "start_time": "2024-06-03T05:44:07.283921Z"
    }
   },
   "id": "5d9bc44db51b804d",
   "execution_count": 22
  },
  {
   "cell_type": "code",
   "outputs": [
    {
     "data": {
      "text/plain": "읍면동명\n노형동     7642921\n연동      7100596\n이도2동    6742075\n용담2동    5820083\n송산동     5468346\n천지동     3683576\n아라동     3653006\n애월읍     3397281\n일도2동    3145294\n중앙동     3053162\nName: 이용자수, dtype: int64"
     },
     "execution_count": 23,
     "metadata": {},
     "output_type": "execute_result"
    }
   ],
   "source": [
    "place['이용자수'].sort_values(ascending=False).head(10)"
   ],
   "metadata": {
    "collapsed": false,
    "ExecuteTime": {
     "end_time": "2024-06-03T05:44:07.402978Z",
     "start_time": "2024-06-03T05:44:07.287891Z"
    }
   },
   "id": "a7dd73f10ee6d0ba",
   "execution_count": 23
  },
  {
   "cell_type": "markdown",
   "source": [
    "인당 이용금액이 많은 지역 Top 10도 뽑아 봅시다."
   ],
   "metadata": {
    "collapsed": false
   },
   "id": "427cbadcfea32036"
  },
  {
   "cell_type": "code",
   "outputs": [
    {
     "data": {
      "text/plain": "         이용자수          이용금액        인당이용금액\n읍면동명                                     \n건입동   1247860   46077137130  36924.925176\n구좌읍   1593134   48035516926  30151.586072\n남원읍   1209827   52349473146  43270.213961\n노형동   7642921  245644045189  32140.073826\n대륜동   1735095   67069487603  38654.648652\n대정읍   1715861   56164010423  32732.261193\n대천동   1221892   33847001011  27700.484995\n도두동    741136   29033944428  39174.921240\n동홍동   1959703   65748200288  33550.084012\n봉개동    631429   24768113201  39225.492020\n삼도1동  1094904   34275405385  31304.484580\n삼도2동  1436285   63127792729  43952.135355\n삼양동   1571391   40040100193  25480.672979\n서홍동    630414   14340555341  22747.837677\n성산읍   2361002   79796700869  33797.811636\n송산동   5468346  205357714141  37553.899139\n아라동   3653006   80280971143  21976.687458\n안덕면   2057774   69668716092  33856.349673\n애월읍   3397281  120988320522  35613.280303\n연동    7100596  340461915654  47948.357526\n영천동    652686   35970307258  55111.197816\n예래동   1259725   72430813294  57497.321474\n오라동   1339046   46704908156  34879.241009\n외도동   1574154   42808089522  27194.346628\n용담1동   482876   19326144801  40022.997210\n용담2동  5820083  289912196043  49812.381721\n우도면    600163   14336890907  23888.328516\n이도1동  1082146   45553719645  42095.724278\n이도2동  6742075  201304448132  29857.936634\n이호동    423538   12463690048  29427.560332\n일도1동  1161659   55313193619  47615.688958\n일도2동  3145294  106631315225  33901.859484\n정방동   3053162  118137020208  38693.335043\n조천읍   2475693   81088770827  32753.968617\n중문동   1599439   66174146830  41373.348299\n중앙동   3053162  118137020208  38693.335043\n천지동   3683576  132477575549  35964.393174\n추자면     63461    2495633607  39325.469296\n표선면   1278988   50551227038  39524.395098\n한경면    572525   22391791132  39110.591034\n한림읍   2195237   80368290420  36610.302405\n화북동   1723143   48701154512  28262.979052\n효돈동    422451   11419773573  27032.184971",
      "text/html": "<div>\n<style scoped>\n    .dataframe tbody tr th:only-of-type {\n        vertical-align: middle;\n    }\n\n    .dataframe tbody tr th {\n        vertical-align: top;\n    }\n\n    .dataframe thead th {\n        text-align: right;\n    }\n</style>\n<table border=\"1\" class=\"dataframe\">\n  <thead>\n    <tr style=\"text-align: right;\">\n      <th></th>\n      <th>이용자수</th>\n      <th>이용금액</th>\n      <th>인당이용금액</th>\n    </tr>\n    <tr>\n      <th>읍면동명</th>\n      <th></th>\n      <th></th>\n      <th></th>\n    </tr>\n  </thead>\n  <tbody>\n    <tr>\n      <th>건입동</th>\n      <td>1247860</td>\n      <td>46077137130</td>\n      <td>36924.925176</td>\n    </tr>\n    <tr>\n      <th>구좌읍</th>\n      <td>1593134</td>\n      <td>48035516926</td>\n      <td>30151.586072</td>\n    </tr>\n    <tr>\n      <th>남원읍</th>\n      <td>1209827</td>\n      <td>52349473146</td>\n      <td>43270.213961</td>\n    </tr>\n    <tr>\n      <th>노형동</th>\n      <td>7642921</td>\n      <td>245644045189</td>\n      <td>32140.073826</td>\n    </tr>\n    <tr>\n      <th>대륜동</th>\n      <td>1735095</td>\n      <td>67069487603</td>\n      <td>38654.648652</td>\n    </tr>\n    <tr>\n      <th>대정읍</th>\n      <td>1715861</td>\n      <td>56164010423</td>\n      <td>32732.261193</td>\n    </tr>\n    <tr>\n      <th>대천동</th>\n      <td>1221892</td>\n      <td>33847001011</td>\n      <td>27700.484995</td>\n    </tr>\n    <tr>\n      <th>도두동</th>\n      <td>741136</td>\n      <td>29033944428</td>\n      <td>39174.921240</td>\n    </tr>\n    <tr>\n      <th>동홍동</th>\n      <td>1959703</td>\n      <td>65748200288</td>\n      <td>33550.084012</td>\n    </tr>\n    <tr>\n      <th>봉개동</th>\n      <td>631429</td>\n      <td>24768113201</td>\n      <td>39225.492020</td>\n    </tr>\n    <tr>\n      <th>삼도1동</th>\n      <td>1094904</td>\n      <td>34275405385</td>\n      <td>31304.484580</td>\n    </tr>\n    <tr>\n      <th>삼도2동</th>\n      <td>1436285</td>\n      <td>63127792729</td>\n      <td>43952.135355</td>\n    </tr>\n    <tr>\n      <th>삼양동</th>\n      <td>1571391</td>\n      <td>40040100193</td>\n      <td>25480.672979</td>\n    </tr>\n    <tr>\n      <th>서홍동</th>\n      <td>630414</td>\n      <td>14340555341</td>\n      <td>22747.837677</td>\n    </tr>\n    <tr>\n      <th>성산읍</th>\n      <td>2361002</td>\n      <td>79796700869</td>\n      <td>33797.811636</td>\n    </tr>\n    <tr>\n      <th>송산동</th>\n      <td>5468346</td>\n      <td>205357714141</td>\n      <td>37553.899139</td>\n    </tr>\n    <tr>\n      <th>아라동</th>\n      <td>3653006</td>\n      <td>80280971143</td>\n      <td>21976.687458</td>\n    </tr>\n    <tr>\n      <th>안덕면</th>\n      <td>2057774</td>\n      <td>69668716092</td>\n      <td>33856.349673</td>\n    </tr>\n    <tr>\n      <th>애월읍</th>\n      <td>3397281</td>\n      <td>120988320522</td>\n      <td>35613.280303</td>\n    </tr>\n    <tr>\n      <th>연동</th>\n      <td>7100596</td>\n      <td>340461915654</td>\n      <td>47948.357526</td>\n    </tr>\n    <tr>\n      <th>영천동</th>\n      <td>652686</td>\n      <td>35970307258</td>\n      <td>55111.197816</td>\n    </tr>\n    <tr>\n      <th>예래동</th>\n      <td>1259725</td>\n      <td>72430813294</td>\n      <td>57497.321474</td>\n    </tr>\n    <tr>\n      <th>오라동</th>\n      <td>1339046</td>\n      <td>46704908156</td>\n      <td>34879.241009</td>\n    </tr>\n    <tr>\n      <th>외도동</th>\n      <td>1574154</td>\n      <td>42808089522</td>\n      <td>27194.346628</td>\n    </tr>\n    <tr>\n      <th>용담1동</th>\n      <td>482876</td>\n      <td>19326144801</td>\n      <td>40022.997210</td>\n    </tr>\n    <tr>\n      <th>용담2동</th>\n      <td>5820083</td>\n      <td>289912196043</td>\n      <td>49812.381721</td>\n    </tr>\n    <tr>\n      <th>우도면</th>\n      <td>600163</td>\n      <td>14336890907</td>\n      <td>23888.328516</td>\n    </tr>\n    <tr>\n      <th>이도1동</th>\n      <td>1082146</td>\n      <td>45553719645</td>\n      <td>42095.724278</td>\n    </tr>\n    <tr>\n      <th>이도2동</th>\n      <td>6742075</td>\n      <td>201304448132</td>\n      <td>29857.936634</td>\n    </tr>\n    <tr>\n      <th>이호동</th>\n      <td>423538</td>\n      <td>12463690048</td>\n      <td>29427.560332</td>\n    </tr>\n    <tr>\n      <th>일도1동</th>\n      <td>1161659</td>\n      <td>55313193619</td>\n      <td>47615.688958</td>\n    </tr>\n    <tr>\n      <th>일도2동</th>\n      <td>3145294</td>\n      <td>106631315225</td>\n      <td>33901.859484</td>\n    </tr>\n    <tr>\n      <th>정방동</th>\n      <td>3053162</td>\n      <td>118137020208</td>\n      <td>38693.335043</td>\n    </tr>\n    <tr>\n      <th>조천읍</th>\n      <td>2475693</td>\n      <td>81088770827</td>\n      <td>32753.968617</td>\n    </tr>\n    <tr>\n      <th>중문동</th>\n      <td>1599439</td>\n      <td>66174146830</td>\n      <td>41373.348299</td>\n    </tr>\n    <tr>\n      <th>중앙동</th>\n      <td>3053162</td>\n      <td>118137020208</td>\n      <td>38693.335043</td>\n    </tr>\n    <tr>\n      <th>천지동</th>\n      <td>3683576</td>\n      <td>132477575549</td>\n      <td>35964.393174</td>\n    </tr>\n    <tr>\n      <th>추자면</th>\n      <td>63461</td>\n      <td>2495633607</td>\n      <td>39325.469296</td>\n    </tr>\n    <tr>\n      <th>표선면</th>\n      <td>1278988</td>\n      <td>50551227038</td>\n      <td>39524.395098</td>\n    </tr>\n    <tr>\n      <th>한경면</th>\n      <td>572525</td>\n      <td>22391791132</td>\n      <td>39110.591034</td>\n    </tr>\n    <tr>\n      <th>한림읍</th>\n      <td>2195237</td>\n      <td>80368290420</td>\n      <td>36610.302405</td>\n    </tr>\n    <tr>\n      <th>화북동</th>\n      <td>1723143</td>\n      <td>48701154512</td>\n      <td>28262.979052</td>\n    </tr>\n    <tr>\n      <th>효돈동</th>\n      <td>422451</td>\n      <td>11419773573</td>\n      <td>27032.184971</td>\n    </tr>\n  </tbody>\n</table>\n</div>"
     },
     "execution_count": 24,
     "metadata": {},
     "output_type": "execute_result"
    }
   ],
   "source": [
    "place['인당이용금액'] = place['이용금액']/place['이용자수']\n",
    "place"
   ],
   "metadata": {
    "collapsed": false,
    "ExecuteTime": {
     "end_time": "2024-06-03T05:44:07.411874Z",
     "start_time": "2024-06-03T05:44:07.298012Z"
    }
   },
   "id": "432742d240cc42dc",
   "execution_count": 24
  },
  {
   "cell_type": "code",
   "outputs": [
    {
     "data": {
      "text/plain": "읍면동명\n예래동     57497.321474\n영천동     55111.197816\n용담2동    49812.381721\n연동      47948.357526\n일도1동    47615.688958\n삼도2동    43952.135355\n남원읍     43270.213961\n이도1동    42095.724278\n중문동     41373.348299\n용담1동    40022.997210\nName: 인당이용금액, dtype: float64"
     },
     "execution_count": 25,
     "metadata": {},
     "output_type": "execute_result"
    }
   ],
   "source": [
    "place['인당이용금액'].sort_values(ascending=False).head(10)"
   ],
   "metadata": {
    "collapsed": false,
    "ExecuteTime": {
     "end_time": "2024-06-03T05:44:07.412997Z",
     "start_time": "2024-06-03T05:44:07.303379Z"
    }
   },
   "id": "da38245a160baf85",
   "execution_count": 25
  },
  {
   "cell_type": "code",
   "outputs": [
    {
     "data": {
      "text/plain": "     읍면동명                      업종명    이용자수        이용금액\n0     건입동               건강보조식품 소매업      49     4587000\n1     건입동              과실 및 채소 소매업    2501   391500342\n2     건입동        관광 민예품 및 선물용품 소매업    3502    75545640\n3     건입동             그외 기타 종합 소매업       3      275000\n4     건입동              기타 외국식 음식점업    5293   181635728\n...   ...                      ...     ...         ...\n1229  효돈동              차량용 주유소 운영업   80406  3618787777\n1230  효돈동                  체인화 편의점  110730  1044920210\n1231  효돈동  피자, 햄버거, 샌드위치 및 유사 음식점업   14501   122548910\n1232  효돈동                  한식 음식점업   50203  2056391378\n1233  효돈동            화장품 및 방향제 소매업       2      600000\n\n[1234 rows x 4 columns]",
      "text/html": "<div>\n<style scoped>\n    .dataframe tbody tr th:only-of-type {\n        vertical-align: middle;\n    }\n\n    .dataframe tbody tr th {\n        vertical-align: top;\n    }\n\n    .dataframe thead th {\n        text-align: right;\n    }\n</style>\n<table border=\"1\" class=\"dataframe\">\n  <thead>\n    <tr style=\"text-align: right;\">\n      <th></th>\n      <th>읍면동명</th>\n      <th>업종명</th>\n      <th>이용자수</th>\n      <th>이용금액</th>\n    </tr>\n  </thead>\n  <tbody>\n    <tr>\n      <th>0</th>\n      <td>건입동</td>\n      <td>건강보조식품 소매업</td>\n      <td>49</td>\n      <td>4587000</td>\n    </tr>\n    <tr>\n      <th>1</th>\n      <td>건입동</td>\n      <td>과실 및 채소 소매업</td>\n      <td>2501</td>\n      <td>391500342</td>\n    </tr>\n    <tr>\n      <th>2</th>\n      <td>건입동</td>\n      <td>관광 민예품 및 선물용품 소매업</td>\n      <td>3502</td>\n      <td>75545640</td>\n    </tr>\n    <tr>\n      <th>3</th>\n      <td>건입동</td>\n      <td>그외 기타 종합 소매업</td>\n      <td>3</td>\n      <td>275000</td>\n    </tr>\n    <tr>\n      <th>4</th>\n      <td>건입동</td>\n      <td>기타 외국식 음식점업</td>\n      <td>5293</td>\n      <td>181635728</td>\n    </tr>\n    <tr>\n      <th>...</th>\n      <td>...</td>\n      <td>...</td>\n      <td>...</td>\n      <td>...</td>\n    </tr>\n    <tr>\n      <th>1229</th>\n      <td>효돈동</td>\n      <td>차량용 주유소 운영업</td>\n      <td>80406</td>\n      <td>3618787777</td>\n    </tr>\n    <tr>\n      <th>1230</th>\n      <td>효돈동</td>\n      <td>체인화 편의점</td>\n      <td>110730</td>\n      <td>1044920210</td>\n    </tr>\n    <tr>\n      <th>1231</th>\n      <td>효돈동</td>\n      <td>피자, 햄버거, 샌드위치 및 유사 음식점업</td>\n      <td>14501</td>\n      <td>122548910</td>\n    </tr>\n    <tr>\n      <th>1232</th>\n      <td>효돈동</td>\n      <td>한식 음식점업</td>\n      <td>50203</td>\n      <td>2056391378</td>\n    </tr>\n    <tr>\n      <th>1233</th>\n      <td>효돈동</td>\n      <td>화장품 및 방향제 소매업</td>\n      <td>2</td>\n      <td>600000</td>\n    </tr>\n  </tbody>\n</table>\n<p>1234 rows × 4 columns</p>\n</div>"
     },
     "execution_count": 26,
     "metadata": {},
     "output_type": "execute_result"
    }
   ],
   "source": [
    "# 각 지역에서 어떤 업종들이 활성화되어 있는지도 함께 확인해 보세요.\n",
    "groupby_region_sector = df.groupby(['읍면동명', '업종명']).sum(numeric_only=True).reset_index()\n",
    "groupby_region_sector"
   ],
   "metadata": {
    "collapsed": false,
    "ExecuteTime": {
     "end_time": "2024-06-03T05:44:07.414623Z",
     "start_time": "2024-06-03T05:44:07.309773Z"
    }
   },
   "id": "5f3e951695eabaff",
   "execution_count": 26
  },
  {
   "cell_type": "code",
   "outputs": [
    {
     "name": "stdout",
     "output_type": "stream",
     "text": [
      "   읍면동명                      업종명    이용자수         이용금액\n",
      "24  건입동                  체인화 편의점  289677   2507213130\n",
      "26  건입동                  한식 음식점업  234816  10667669485\n",
      "12  건입동                     슈퍼마켓  204619   8937264501\n",
      "23  건입동              차량용 주유소 운영업  120684   5936930821\n",
      "10  건입동                 서양식 음식점업   94057   1535173042\n",
      "7   건입동                      면세점   49248   3215267313\n",
      "22  건입동               차량용 가스 충전업   42591   1439888624\n",
      "9   건입동              빵 및 과자류 소매업   35243    715096540\n",
      "25  건입동  피자, 햄버거, 샌드위치 및 유사 음식점업   29603    404126400\n",
      "8   건입동                 비알콜 음료점업   27725    275428460\n",
      "   읍면동명            업종명    이용자수         이용금액\n",
      "57  구좌읍        한식 음식점업  473270  16214770362\n",
      "55  구좌읍        체인화 편의점  308625   2922152476\n",
      "41  구좌읍       서양식 음식점업  190175   3653335110\n",
      "54  구좌읍    차량용 주유소 운영업  159671   8784917013\n",
      "38  구좌읍  기타음식료품위주종합소매업  133252   4408931727\n",
      "43  구좌읍           슈퍼마켓   83612   1810691155\n",
      "51  구좌읍    전시 및 행사 대행업   58423   1299330400\n",
      "39  구좌읍       비알콜 음료점업   53047    922838700\n",
      "50  구좌읍        일식 음식점업   21558    906438174\n",
      "30  구좌읍        골프장 운영업   19530   2917559040\n",
      "   읍면동명            업종명    이용자수         이용금액\n",
      "84  남원읍        체인화 편의점  212480   2270709215\n",
      "86  남원읍        한식 음식점업  186705   8303526080\n",
      "68  남원읍  기타음식료품위주종합소매업  183314   6963444380\n",
      "83  남원읍    차량용 주유소 운영업  153175   7460155749\n",
      "61  남원읍        골프장 운영업   98190  12671248122\n",
      "73  남원읍           슈퍼마켓   75266   1881933370\n",
      "88  남원읍       휴양콘도 운영업   73810   3845759686\n",
      "71  남원읍       서양식 음식점업   52690   1074129600\n",
      "80  남원읍    전시 및 행사 대행업   46745   1288172100\n",
      "62  남원읍    과실 및 채소 소매업   20181   1350868598\n",
      "    읍면동명                      업종명     이용자수         이용금액\n",
      "117  노형동                  체인화 편의점  1663053  14196847745\n",
      "119  노형동                  한식 음식점업  1526139  63161096579\n",
      "104  노형동                     슈퍼마켓  1080265  24671714099\n",
      "95   노형동             기타 대형 종합 소매업  1073067  66090723808\n",
      "116  노형동              차량용 주유소 운영업   396986  20333003073\n",
      "118  노형동  피자, 햄버거, 샌드위치 및 유사 음식점업   367362   4684824418\n",
      "101  노형동              빵 및 과자류 소매업   302806   4095467385\n",
      "100  노형동                 비알콜 음료점업   300088   2738692471\n",
      "102  노형동                 서양식 음식점업   266254   6545040225\n",
      "98   노형동            기타음식료품위주종합소매업   145358   6130829000\n",
      "    읍면동명            업종명    이용자수         이용금액\n",
      "128  대륜동   기타 대형 종합 소매업  512848  30909968170\n",
      "150  대륜동        체인화 편의점  423024   3801862441\n",
      "152  대륜동        한식 음식점업  271118  10507150923\n",
      "149  대륜동    차량용 주유소 운영업  117428   5615942593\n",
      "136  대륜동       서양식 음식점업   64878   1518999034\n",
      "138  대륜동           슈퍼마켓   63460   1300287759\n",
      "135  대륜동    빵 및 과자류 소매업   47331    649365758\n",
      "134  대륜동       비알콜 음료점업   45288    361067028\n",
      "132  대륜동  기타음식료품위주종합소매업   45056   1104060500\n",
      "140  대륜동            여관업   25606   2601210196\n",
      "    읍면동명                      업종명    이용자수         이용금액\n",
      "181  대정읍                  체인화 편의점  439769   4347143856\n",
      "183  대정읍                  한식 음식점업  373078  16635695840\n",
      "169  대정읍                     슈퍼마켓  324037  10513923561\n",
      "180  대정읍              차량용 주유소 운영업  168917   9559795265\n",
      "166  대정읍              빵 및 과자류 소매업   97729   1154920725\n",
      "167  대정읍                 서양식 음식점업   57328   1298145800\n",
      "182  대정읍  피자, 햄버거, 샌드위치 및 유사 음식점업   48317    742803050\n",
      "178  대정읍                  중식 음식점업   38390   1119314219\n",
      "165  대정읍                 비알콜 음료점업   34976    553538820\n",
      "164  대정읍            기타음식료품위주종합소매업   25195    755081820\n",
      "    읍면동명                      업종명    이용자수        이용금액\n",
      "207  대천동                  체인화 편의점  379979  3892719216\n",
      "209  대천동                  한식 음식점업  215012  7815285053\n",
      "206  대천동              차량용 주유소 운영업  165227  8171642676\n",
      "208  대천동  피자, 햄버거, 샌드위치 및 유사 음식점업  110805  1278721390\n",
      "196  대천동                     슈퍼마켓  106728  2365297378\n",
      "193  대천동              빵 및 과자류 소매업   69411   974329280\n",
      "194  대천동                 서양식 음식점업   42313  1086017540\n",
      "187  대천동              과실 및 채소 소매업   23982  2699857575\n",
      "192  대천동                 비알콜 음료점업   22487   161117580\n",
      "212  대천동                 휴양콘도 운영업   19794  1658476739\n",
      "    읍면동명          업종명    이용자수        이용금액\n",
      "235  도두동      체인화 편의점  172321  1677487278\n",
      "236  도두동      한식 음식점업  141130  7278513648\n",
      "230  도두동      자동차 임대업   99482  6530984090\n",
      "223  도두동         슈퍼마켓   79478  1889417072\n",
      "234  도두동  차량용 주유소 운영업   52705  2420101423\n",
      "233  도두동   차량용 가스 충전업   37921  1159748172\n",
      "229  도두동      일식 음식점업   32926  2999871661\n",
      "227  도두동          욕탕업   31396   499570000\n",
      "219  도두동     비알콜 음료점업   24207   301937290\n",
      "221  도두동     서양식 음식점업   17944   420142680\n",
      "    읍면동명                      업종명    이용자수         이용금액\n",
      "250  동홍동                     슈퍼마켓  569488  16830884971\n",
      "261  동홍동                  체인화 편의점  399584   3732538954\n",
      "263  동홍동                  한식 음식점업  303922  14375330223\n",
      "241  동홍동             기타 대형 종합 소매업  265259  15788282580\n",
      "260  동홍동              차량용 주유소 운영업   78098   3893952406\n",
      "247  동홍동              빵 및 과자류 소매업   59742    730412466\n",
      "262  동홍동  피자, 햄버거, 샌드위치 및 유사 음식점업   45524    862988899\n",
      "246  동홍동                 비알콜 음료점업   42585    431958360\n",
      "248  동홍동                 서양식 음식점업   34940    710231117\n",
      "256  동홍동                  일식 음식점업   27106   1922906812\n",
      "    읍면동명           업종명    이용자수        이용금액\n",
      "284  봉개동       체인화 편의점  172203  1842181360\n",
      "283  봉개동   차량용 주유소 운영업  135223  7454511998\n",
      "276  봉개동          슈퍼마켓  126178  2580662951\n",
      "286  봉개동       한식 음식점업   61935  2024815651\n",
      "287  봉개동      휴양콘도 운영업   43472  5144869175\n",
      "266  봉개동       골프장 운영업   30490  3514647472\n",
      "272  봉개동      비알콜 음료점업   10923    93825600\n",
      "269  봉개동  그외 기타 종합 소매업   10510   812288800\n",
      "270  봉개동   기타 외국식 음식점업    8448   230608848\n",
      "267  봉개동   과실 및 채소 소매업    8256   313545208\n",
      "     읍면동명          업종명    이용자수         이용금액\n",
      "301  삼도1동         슈퍼마켓  446759  11453469963\n",
      "313  삼도1동      체인화 편의점  264428   2268658040\n",
      "315  삼도1동      한식 음식점업  185495   6106274840\n",
      "298  삼도1동  빵 및 과자류 소매업   39768    572113192\n",
      "299  삼도1동     서양식 음식점업   18808    255639354\n",
      "311  삼도1동      중식 음식점업   16775    396184500\n",
      "312  삼도1동  차량용 주유소 운영업   16625    877983017\n",
      "294  삼도1동       기타 주점업   14988   2826907569\n",
      "303  삼도1동          여관업   14147    732270950\n",
      "308  삼도1동      일식 음식점업   11652    781910314\n",
      "     읍면동명                      업종명    이용자수         이용금액\n",
      "324  삼도2동             기타 대형 종합 소매업  470105  33001224330\n",
      "342  삼도2동                  체인화 편의점  406699   3764912259\n",
      "344  삼도2동                  한식 음식점업  314012  11669450868\n",
      "332  삼도2동                     슈퍼마켓   53612    854386802\n",
      "345  삼도2동                      호텔업   33419   7259621046\n",
      "329  삼도2동              빵 및 과자류 소매업   33214    375839173\n",
      "330  삼도2동                 서양식 음식점업   24780    486894986\n",
      "334  삼도2동                      여관업   21369    535154626\n",
      "341  삼도2동                  중식 음식점업   16945    419003400\n",
      "343  삼도2동  피자, 햄버거, 샌드위치 및 유사 음식점업   15454    167738430\n",
      "    읍면동명                      업종명    이용자수        이용금액\n",
      "358  삼양동                     슈퍼마켓  422157  9776221262\n",
      "370  삼양동                  체인화 편의점  395824  3664200676\n",
      "372  삼양동                  한식 음식점업  240139  9598265702\n",
      "369  삼양동              차량용 주유소 운영업   96039  6001207679\n",
      "355  삼양동              빵 및 과자류 소매업   81129   974015778\n",
      "354  삼양동                 비알콜 음료점업   73395   632627940\n",
      "371  삼양동  피자, 햄버거, 샌드위치 및 유사 음식점업   57885   906346877\n",
      "353  삼양동            기타음식료품위주종합소매업   53386  1171846440\n",
      "367  삼양동                  중식 음식점업   31717   871359313\n",
      "356  삼양동                 서양식 음식점업   30654   705940715\n",
      "    읍면동명                      업종명    이용자수        이용금액\n",
      "396  서홍동                  체인화 편의점  267918  2326402664\n",
      "398  서홍동                  한식 음식점업  129091  4531094701\n",
      "395  서홍동              차량용 주유소 운영업   57390  3006793391\n",
      "382  서홍동                 비알콜 음료점업   36414   323117400\n",
      "384  서홍동                 서양식 음식점업   29745   480879751\n",
      "386  서홍동                     슈퍼마켓   14693   347739375\n",
      "383  서홍동              빵 및 과자류 소매업   14562   169029882\n",
      "379  서홍동              기타 외국식 음식점업   13639   267692065\n",
      "381  서홍동                내항 여객 운송업   13288  1166934200\n",
      "397  서홍동  피자, 햄버거, 샌드위치 및 유사 음식점업   12541   162632093\n",
      "    읍면동명                      업종명    이용자수         이용금액\n",
      "427  성산읍                  체인화 편의점  599939   5804787833\n",
      "429  성산읍                  한식 음식점업  576987  25869141844\n",
      "415  성산읍                     슈퍼마켓  227398   5741454226\n",
      "426  성산읍              차량용 주유소 운영업  163377   8704285422\n",
      "410  성산읍            기타음식료품위주종합소매업  130080   6395840057\n",
      "412  성산읍              빵 및 과자류 소매업   95740   1084079663\n",
      "411  성산읍                 비알콜 음료점업   83676   1071222537\n",
      "413  성산읍                 서양식 음식점업   75432   1609505860\n",
      "423  성산읍              전시 및 행사 대행업   65061   4153045470\n",
      "428  성산읍  피자, 햄버거, 샌드위치 및 유사 음식점업   52602    744615060\n",
      "    읍면동명                      업종명     이용자수         이용금액\n",
      "460  송산동                  체인화 편의점  1300990  12755621032\n",
      "462  송산동                  한식 음식점업  1073239  48882701780\n",
      "448  송산동                     슈퍼마켓   847420  22681646374\n",
      "459  송산동              차량용 주유소 운영업   307650  16973750265\n",
      "438  송산동             기타 대형 종합 소매업   265259  15788282580\n",
      "461  송산동  피자, 햄버거, 샌드위치 및 유사 음식점업   214767   2879703993\n",
      "445  송산동              빵 및 과자류 소매업   210996   3034051817\n",
      "446  송산동                 서양식 음식점업   144849   3508878014\n",
      "455  송산동                  일식 음식점업   140209  11283422084\n",
      "444  송산동                 비알콜 음료점업   138608   1536821323\n",
      "    읍면동명                      업종명     이용자수         이용금액\n",
      "490  아라동                  체인화 편의점  1167124  10340914943\n",
      "492  아라동                  한식 음식점업   712061  24525803070\n",
      "479  아라동                     슈퍼마켓   627062  12178827995\n",
      "477  아라동                 서양식 음식점업   212138   4538105812\n",
      "476  아라동              빵 및 과자류 소매업   173072   2259964974\n",
      "489  아라동              차량용 주유소 운영업   171971   8290332816\n",
      "475  아라동                 비알콜 음료점업   134662   1322616147\n",
      "491  아라동  피자, 햄버거, 샌드위치 및 유사 음식점업   131408   1715397469\n",
      "473  아라동            기타음식료품위주종합소매업    90813   3395743090\n",
      "485  아라동                  일식 음식점업    54270   2424989750\n",
      "    읍면동명            업종명    이용자수         이용금액\n",
      "520  안덕면        체인화 편의점  505432   4866433400\n",
      "522  안덕면        한식 음식점업  326927  17178483115\n",
      "507  안덕면       서양식 음식점업  289706   7623665332\n",
      "516  안덕면    전시 및 행사 대행업  182616   5000669334\n",
      "519  안덕면    차량용 주유소 운영업  172808  10213349238\n",
      "504  안덕면  기타음식료품위주종합소매업   90799   3368185730\n",
      "511  안덕면            여관업   86968   1994178934\n",
      "495  안덕면        골프장 운영업   63079   7581730774\n",
      "509  안덕면           슈퍼마켓   55468    932807607\n",
      "523  안덕면  화장품 및 방향제 소매업   51672   1172594860\n",
      "    읍면동명            업종명    이용자수         이용금액\n",
      "551  애월읍        체인화 편의점  914611   8913096112\n",
      "553  애월읍        한식 음식점업  643771  24081108467\n",
      "534  애월읍  기타음식료품위주종합소매업  474618  23974897916\n",
      "550  애월읍    차량용 주유소 운영업  458895  29429470650\n",
      "537  애월읍       서양식 음식점업  257820   6070255183\n",
      "539  애월읍           슈퍼마켓  201034   4363816379\n",
      "535  애월읍       비알콜 음료점업  118980   1593771610\n",
      "541  애월읍            여관업   67449   5445984119\n",
      "526  애월읍        골프장 운영업   52810   8942081182\n",
      "536  애월읍    빵 및 과자류 소매업   42363    643990818\n",
      "    읍면동명                 업종명     이용자수          이용금액\n",
      "586   연동             체인화 편의점  1986028   17690147519\n",
      "588   연동             한식 음식점업  1552295   67558620226\n",
      "572   연동                슈퍼마켓   841876   21017172098\n",
      "582   연동           정기 항공 운송업   640930  102803758104\n",
      "569   연동         빵 및 과자류 소매업   263631    4163599587\n",
      "568   연동            비알콜 음료점업   216716    2387394344\n",
      "585   연동         차량용 주유소 운영업   212387   10400246632\n",
      "570   연동            서양식 음식점업   193392    7820170117\n",
      "562   연동        기타 대형 종합 소매업   177560    4992293288\n",
      "573   연동  스포츠 및 레크레이션 용품 임대업   121373   16259086821\n",
      "    읍면동명            업종명    이용자수         이용금액\n",
      "607  영천동    차량용 주유소 운영업  207445  11955213880\n",
      "600  영천동           슈퍼마켓  169027  11465673271\n",
      "608  영천동        체인화 편의점   96469    931546080\n",
      "609  영천동        한식 음식점업   86636   4718292848\n",
      "596  영천동  기타음식료품위주종합소매업   19954    959308925\n",
      "603  영천동         육류 소매업   15941   1011787803\n",
      "592  영천동        골프장 운영업   12888   2017931318\n",
      "605  영천동        중식 음식점업   11179    340372975\n",
      "610  영천동            호텔업   10337   1337049208\n",
      "604  영천동    전시 및 행사 대행업    7926    173983390\n",
      "    읍면동명                      업종명    이용자수         이용금액\n",
      "640  예래동                  체인화 편의점  382363   4210831388\n",
      "642  예래동                  한식 음식점업  257037  17065832905\n",
      "639  예래동              차량용 주유소 운영업  119469   5716195298\n",
      "643  예래동                      호텔업  101252  25675282041\n",
      "626  예래동                 서양식 음식점업   88775   2595324088\n",
      "636  예래동              전시 및 행사 대행업   70070   2397491590\n",
      "641  예래동  피자, 햄버거, 샌드위치 및 유사 음식점업   46272    575843950\n",
      "624  예래동                 비알콜 음료점업   42238    515074980\n",
      "613  예래동                  골프장 운영업   33904   4639276847\n",
      "630  예래동                      여관업   28637   3842573687\n",
      "    읍면동명           업종명    이용자수         이용금액\n",
      "673  오라동       한식 음식점업  399680  12600363654\n",
      "671  오라동       체인화 편의점  235404   1994267550\n",
      "670  오라동   차량용 주유소 운영업  227106  10805283562\n",
      "659  오라동          슈퍼마켓  158182   3736976695\n",
      "655  오라동      비알콜 음료점업   75154    896851980\n",
      "650  오라동  그외 기타 종합 소매업   67857   2758083720\n",
      "646  오라동       골프장 운영업   29985   5011896649\n",
      "656  오라동   빵 및 과자류 소매업   28742    419769775\n",
      "657  오라동      서양식 음식점업   21296    389361810\n",
      "664  오라동        육류 소매업   21091   1180172571\n",
      "    읍면동명                      업종명    이용자수         이용금액\n",
      "686  외도동                     슈퍼마켓  398819   9571453290\n",
      "699  외도동                  체인화 편의점  369937   3703625235\n",
      "701  외도동                  한식 음식점업  307370  11147138510\n",
      "698  외도동              차량용 주유소 운영업   93786   5160575251\n",
      "683  외도동              빵 및 과자류 소매업   90052   1158661787\n",
      "700  외도동  피자, 햄버거, 샌드위치 및 유사 음식점업   75931   1049835337\n",
      "684  외도동                 서양식 음식점업   55802   1378271948\n",
      "697  외도동               차량용 가스 충전업   25326   1091044683\n",
      "696  외도동                  중식 음식점업   23928    613373200\n",
      "688  외도동                      여관업   20785    787083617\n",
      "     읍면동명          업종명    이용자수        이용금액\n",
      "730  용담1동      체인화 편의점  132634  1132427680\n",
      "732  용담1동      한식 음식점업  114277  5675879781\n",
      "729  용담1동  차량용 주유소 운영업   57170  2620426264\n",
      "717  용담1동         슈퍼마켓   49683   626410085\n",
      "722  용담1동       육류 소매업   32577  2535159928\n",
      "728  용담1동   차량용 가스 충전업   23579   729226686\n",
      "705  용담1동  과실 및 채소 소매업   11748   813022006\n",
      "714  용담1동  빵 및 과자류 소매업   10409   238664933\n",
      "725  용담1동      자동차 임대업    8686   361276952\n",
      "727  용담1동      중식 음식점업    7945   191471185\n",
      "     읍면동명                      업종명     이용자수          이용금액\n",
      "740  용담2동                      면세점  1971053  197349101246\n",
      "755  용담2동                  체인화 편의점   997158    6454865100\n",
      "757  용담2동                  한식 음식점업   705124   23056799984\n",
      "741  용담2동                 비알콜 음료점업   447461    4056159850\n",
      "745  용담2동                     슈퍼마켓   315063    6073529173\n",
      "756  용담2동  피자, 햄버거, 샌드위치 및 유사 음식점업   298842    2856689381\n",
      "737  용담2동        관광 민예품 및 선물용품 소매업   258312    8427903666\n",
      "754  용담2동              차량용 주유소 운영업   249376   11922755361\n",
      "752  용담2동                  자동차 임대업   169408   15384905067\n",
      "742  용담2동              빵 및 과자류 소매업   130929    1352424335\n",
      "    읍면동명                      업종명    이용자수        이용금액\n",
      "763  우도면                내항 여객 운송업  205542  5145571904\n",
      "780  우도면                  한식 음식점업  142849  4396486560\n",
      "778  우도면                  체인화 편의점   45297   344257360\n",
      "766  우도면                 서양식 음식점업   39065   617741080\n",
      "764  우도면                 비알콜 음료점업   34763   620132080\n",
      "768  우도면                     슈퍼마켓   22242   436848054\n",
      "765  우도면              빵 및 과자류 소매업   20201   282904424\n",
      "779  우도면  피자, 햄버거, 샌드위치 및 유사 음식점업   15431   161994900\n",
      "762  우도면            기타음식료품위주종합소매업   15382   328094100\n",
      "771  우도면                     여행사업   15237   311520800\n",
      "     읍면동명           업종명    이용자수        이용금액\n",
      "806  이도1동       체인화 편의점  264901  2087533244\n",
      "808  이도1동       한식 음식점업  208154  7250478633\n",
      "795  이도1동          슈퍼마켓  171809  3451318206\n",
      "794  이도1동       수산물 소매업   87255  5436536941\n",
      "783  이도1동   과실 및 채소 소매업   59842  4021536044\n",
      "792  이도1동   빵 및 과자류 소매업   57768   862101985\n",
      "791  이도1동      비알콜 음료점업   23955   247223080\n",
      "800  이도1동        육류 소매업   22148   828189857\n",
      "786  이도1동  그외 기타 종합 소매업   20845  6413003352\n",
      "809  이도1동           호텔업   19697  3541325540\n",
      "     읍면동명                      업종명     이용자수         이용금액\n",
      "839  이도2동                  한식 음식점업  1723522  63972999833\n",
      "837  이도2동                  체인화 편의점  1611941  14026955798\n",
      "824  이도2동                     슈퍼마켓  1288885  53356826347\n",
      "820  이도2동                 비알콜 음료점업   347756   3647080260\n",
      "838  이도2동  피자, 햄버거, 샌드위치 및 유사 음식점업   341924   4388179999\n",
      "821  이도2동              빵 및 과자류 소매업   280160   3753570292\n",
      "836  이도2동              차량용 주유소 운영업   266238  12653904803\n",
      "822  이도2동                 서양식 음식점업   233882   5101348888\n",
      "831  이도2동                  일식 음식점업   113890   5052605083\n",
      "812  이도2동              과실 및 채소 소매업    97954   6773631732\n",
      "    읍면동명                 업종명    이용자수        이용금액\n",
      "864  이호동             체인화 편의점  172495  1529301219\n",
      "863  이호동         차량용 주유소 운영업   67448  3239071499\n",
      "865  이호동             한식 음식점업   55582  2829972060\n",
      "852  이호동                슈퍼마켓   32794   552028454\n",
      "859  이호동             자동차 임대업   27879  2132851348\n",
      "850  이호동            서양식 음식점업   12616   183870661\n",
      "848  이호동            비알콜 음료점업   11373   121727605\n",
      "849  이호동         빵 및 과자류 소매업    9807    98105050\n",
      "861  이호동             중식 음식점업    8517   209475500\n",
      "853  이호동  스포츠 및 레크레이션 용품 임대업    4981   172559905\n",
      "     읍면동명                      업종명    이용자수         이용금액\n",
      "880  일도1동       스포츠 및 레크레이션 용품 임대업  223603  27101934705\n",
      "891  일도1동                  한식 음식점업  221901   5873728851\n",
      "889  일도1동                  체인화 편의점  175765   1689115830\n",
      "878  일도1동                  수산물 소매업  165819   9727214182\n",
      "868  일도1동              과실 및 채소 소매업   66973   3300497449\n",
      "875  일도1동                 비알콜 음료점업   52047    513714810\n",
      "893  일도1동            화장품 및 방향제 소매업   46290   1175933408\n",
      "890  일도1동  피자, 햄버거, 샌드위치 및 유사 음식점업   37991    362736763\n",
      "876  일도1동              빵 및 과자류 소매업   35785    735029877\n",
      "877  일도1동                 서양식 음식점업   26783    509472376\n",
      "     읍면동명                      업종명    이용자수         이용금액\n",
      "919  일도2동                  체인화 편의점  641140   5421931490\n",
      "921  일도2동                  한식 음식점업  615583  22748119492\n",
      "898  일도2동             그외 기타 종합 소매업  537954  36798591278\n",
      "908  일도2동                     슈퍼마켓  508283   9693244347\n",
      "905  일도2동              빵 및 과자류 소매업  175451   2399205447\n",
      "920  일도2동  피자, 햄버거, 샌드위치 및 유사 음식점업  173642   1821502554\n",
      "918  일도2동              차량용 주유소 운영업  117526   5134201810\n",
      "899  일도2동             기타 대형 종합 소매업   71310   2319110230\n",
      "904  일도2동                 비알콜 음료점업   41669    515231150\n",
      "906  일도2동                 서양식 음식점업   35269    708828521\n",
      "    읍면동명                      업종명    이용자수         이용금액\n",
      "949  정방동                  체인화 편의점  817730   8212710988\n",
      "951  정방동                  한식 음식점업  694175  30214452395\n",
      "938  정방동                     슈퍼마켓  246798   5192868731\n",
      "950  정방동  피자, 햄버거, 샌드위치 및 유사 음식점업  169243   2016715094\n",
      "935  정방동              빵 및 과자류 소매업  151254   2303639351\n",
      "945  정방동                  일식 음식점업  113103   9360515272\n",
      "936  정방동                 서양식 음식점업  104880   2683731167\n",
      "934  정방동                 비알콜 음료점업   95624   1102646313\n",
      "925  정방동              과실 및 채소 소매업   91627   4537019047\n",
      "937  정방동                  수산물 소매업   78030   4737800474\n",
      "    읍면동명            업종명    이용자수         이용금액\n",
      "983  조천읍        한식 음식점업  607940  23335650134\n",
      "980  조천읍        체인화 편의점  522911   5025231205\n",
      "968  조천읍           슈퍼마켓  225821   5429248438\n",
      "976  조천읍    전시 및 행사 대행업  193645   5094487326\n",
      "979  조천읍    차량용 주유소 운영업  185749  10143927993\n",
      "959  조천읍   그외 기타 종합 소매업  109553   4175998990\n",
      "963  조천읍  기타음식료품위주종합소매업  104695   2959770840\n",
      "965  조천읍    빵 및 과자류 소매업   96526   1409421387\n",
      "966  조천읍       서양식 음식점업   87832   1646108842\n",
      "986  조천읍       휴양콘도 운영업   56141   6664759133\n",
      "     읍면동명                      업종명    이용자수         이용금액\n",
      "1014  중문동                  체인화 편의점  410311   3932463124\n",
      "1016  중문동                  한식 음식점업  347961  16784999952\n",
      "994   중문동            기타음식료품위주종합소매업  191288   7749424650\n",
      "1001  중문동                     슈퍼마켓  143070   3954770305\n",
      "996   중문동                      면세점   99316  14203022654\n",
      "999   중문동                 서양식 음식점업   86461   2176128328\n",
      "998   중문동              빵 및 과자류 소매업   63429    940834046\n",
      "1015  중문동  피자, 햄버거, 샌드위치 및 유사 음식점업   45882    591022546\n",
      "1013  중문동              차량용 주유소 운영업   40022   1996889112\n",
      "1003  중문동                      여관업   32257   3619450027\n",
      "     읍면동명                      업종명    이용자수         이용금액\n",
      "1044  중앙동                  체인화 편의점  817730   8212710988\n",
      "1046  중앙동                  한식 음식점업  694175  30214452395\n",
      "1033  중앙동                     슈퍼마켓  246798   5192868731\n",
      "1045  중앙동  피자, 햄버거, 샌드위치 및 유사 음식점업  169243   2016715094\n",
      "1030  중앙동              빵 및 과자류 소매업  151254   2303639351\n",
      "1040  중앙동                  일식 음식점업  113103   9360515272\n",
      "1031  중앙동                 서양식 음식점업  104880   2683731167\n",
      "1029  중앙동                 비알콜 음료점업   95624   1102646313\n",
      "1020  중앙동              과실 및 채소 소매업   91627   4537019047\n",
      "1032  중앙동                  수산물 소매업   78030   4737800474\n",
      "     읍면동명                      업종명     이용자수         이용금액\n",
      "1076  천지동                  체인화 편의점  1085648  10539113652\n",
      "1078  천지동                  한식 음식점업   823266  34745547096\n",
      "1064  천지동                     슈퍼마켓   261491   5540608106\n",
      "1077  천지동  피자, 햄버거, 샌드위치 및 유사 음식점업   181784   2179347187\n",
      "1061  천지동              빵 및 과자류 소매업   165816   2472669233\n",
      "1062  천지동                 서양식 음식점업   134625   3164610918\n",
      "1060  천지동                 비알콜 음료점업   132038   1425763713\n",
      "1071  천지동                  일식 음식점업   115557   9471256572\n",
      "1050  천지동              과실 및 채소 소매업    93338   4638298137\n",
      "1075  천지동              차량용 주유소 운영업    91669   4876067548\n",
      "     읍면동명          업종명   이용자수       이용금액\n",
      "1094  추자면      체인화 편의점  25533  343557930\n",
      "1085  추자면         슈퍼마켓  16570  428165810\n",
      "1095  추자면      한식 음식점업  10970  650760985\n",
      "1093  추자면  차량용 주유소 운영업   2845  229771738\n",
      "1081  추자면  과실 및 채소 소매업   1683  135773070\n",
      "1083  추자면       기타 주점업   1276  232453000\n",
      "1091  추자면      중식 음식점업   1253   45601604\n",
      "1084  추자면      수산물 소매업   1042  111277560\n",
      "1090  추자면     일반유흥 주점업    919  168218400\n",
      "1087  추자면          여관업    664   86427310\n",
      "     읍면동명                      업종명    이용자수         이용금액\n",
      "1120  표선면                  체인화 편의점  323798   3615249379\n",
      "1122  표선면                  한식 음식점업  235077  11656752695\n",
      "1108  표선면                     슈퍼마켓  143621   3927817305\n",
      "1103  표선면            기타음식료품위주종합소매업  121790   4195072090\n",
      "1119  표선면              차량용 주유소 운영업  105263   5559861451\n",
      "1116  표선면              전시 및 행사 대행업   50381   1655595050\n",
      "1097  표선면              과실 및 채소 소매업   32523   4691234569\n",
      "1106  표선면                 서양식 음식점업   32018    600597590\n",
      "1124  표선면                 휴양콘도 운영업   27735   3228748228\n",
      "1121  표선면  피자, 햄버거, 샌드위치 및 유사 음식점업   26113    459632774\n",
      "     읍면동명            업종명    이용자수        이용금액\n",
      "1149  한경면        한식 음식점업  132066  5217199649\n",
      "1147  한경면        체인화 편의점  120191  1240699845\n",
      "1137  한경면           슈퍼마켓   68861  1714338835\n",
      "1131  한경면  기타음식료품위주종합소매업   65090  2231350705\n",
      "1146  한경면    차량용 주유소 운영업   62061  4902771802\n",
      "1135  한경면       서양식 음식점업   30336   698327574\n",
      "1125  한경면        골프장 운영업   23435  3711799621\n",
      "1143  한경면    전시 및 행사 대행업   15162   415742200\n",
      "1144  한경면        중식 음식점업   13283   358406377\n",
      "1126  한경면    과실 및 채소 소매업   12810   526739566\n",
      "     읍면동명                      업종명    이용자수         이용금액\n",
      "1177  한림읍                  체인화 편의점  550644   5675648953\n",
      "1179  한림읍                  한식 음식점업  518863  20328266836\n",
      "1166  한림읍                     슈퍼마켓  220735   6364516737\n",
      "1176  한림읍              차량용 주유소 운영업  174565  10594121156\n",
      "1156  한림읍             그외 기타 종합 소매업  161379   8461222455\n",
      "1164  한림읍                 서양식 음식점업  141354   2990679316\n",
      "1163  한림읍              빵 및 과자류 소매업   65573    926212125\n",
      "1173  한림읍              전시 및 행사 대행업   54932   1927002850\n",
      "1178  한림읍  피자, 햄버거, 샌드위치 및 유사 음식점업   44975    632351522\n",
      "1162  한림읍                 비알콜 음료점업   44590    536894520\n",
      "     읍면동명                      업종명    이용자수         이용금액\n",
      "1206  화북동                  체인화 편의점  396632   3430602911\n",
      "1208  화북동                  한식 음식점업  335213  11378225951\n",
      "1205  화북동              차량용 주유소 운영업  237460  12751350004\n",
      "1194  화북동                     슈퍼마켓  235284   3924247919\n",
      "1186  화북동             기타 대형 종합 소매업  190947   7291185251\n",
      "1191  화북동              빵 및 과자류 소매업   88171   1111382926\n",
      "1207  화북동  피자, 햄버거, 샌드위치 및 유사 음식점업   55959    912817668\n",
      "1204  화북동               차량용 가스 충전업   34989   1396157377\n",
      "1187  화북동              기타 외국식 음식점업   22574    812470244\n",
      "1199  화북동                   육류 소매업   22373   1029060783\n",
      "     읍면동명                      업종명    이용자수        이용금액\n",
      "1230  효돈동                  체인화 편의점  110730  1044920210\n",
      "1229  효돈동              차량용 주유소 운영업   80406  3618787777\n",
      "1232  효돈동                  한식 음식점업   50203  2056391378\n",
      "1218  효돈동                 서양식 음식점업   42311   805265140\n",
      "1215  효돈동            기타음식료품위주종합소매업   34128  1462153670\n",
      "1220  효돈동                     슈퍼마켓   19148   304930580\n",
      "1227  효돈동                  중식 음식점업   17428   399450000\n",
      "1217  효돈동              빵 및 과자류 소매업   17096   159854870\n",
      "1211  효돈동              과실 및 채소 소매업   14510   506459004\n",
      "1231  효돈동  피자, 햄버거, 샌드위치 및 유사 음식점업   14501   122548910\n"
     ]
    }
   ],
   "source": [
    "# 각 지역에서 어떤 업종들이 활성화되어 있는지 확인\n",
    "for region in groupby_region_sector['읍면동명'].unique():\n",
    "    region_data = groupby_region_sector[groupby_region_sector['읍면동명'] == region]\n",
    "    region_data = region_data.sort_values(by='이용자수', ascending=False).head(10)\n",
    "    print(region_data)"
   ],
   "metadata": {
    "collapsed": false,
    "ExecuteTime": {
     "end_time": "2024-06-03T05:44:07.506811Z",
     "start_time": "2024-06-03T05:44:07.322549Z"
    }
   },
   "id": "f878f93746decb8a",
   "execution_count": 27
  },
  {
   "cell_type": "markdown",
   "source": [
    "지역별 필터링: groupby_region_sector[groupby_region_sector['읍면동명'] == region]를 사용하여 특정 지역의 데이터를 필터링합니다."
   ],
   "metadata": {
    "collapsed": false
   },
   "id": "f52a90eabcf8ce52"
  },
  {
   "cell_type": "markdown",
   "source": [
    "데이터 합치기\n"
   ],
   "metadata": {
    "collapsed": false
   },
   "id": "1ab2842d6fd27126"
  },
  {
   "cell_type": "code",
   "outputs": [
    {
     "data": {
      "text/plain": "               연월  시군구명 읍면동명                 업종명  성별  이용자수       이용금액\n0      2017-01-01  서귀포시  남원읍          건강보조식품 소매업  남성    11     137500\n1      2017-01-01  서귀포시  천지동          건강보조식품 소매업  여성    61   12334400\n2      2017-01-01  서귀포시  대정읍       기타음식료품위주종합소매업  남성   555   17301300\n3      2017-01-01  서귀포시  대정읍              기타 주점업  남성   324   71843080\n4      2017-01-01  서귀포시  대정읍         기타 외국식 음식점업  남성    40     971000\n...           ...   ...  ...                 ...  ..   ...        ...\n54146  2018-12-01   제주시  오라동             중식 음식점업  여성   110    3043250\n54147  2018-12-01   제주시   연동  스포츠 및 레크레이션 용품 임대업  여성  2317  365724920\n54148  2018-12-01   제주시   연동                 호텔업  여성   810  232661992\n54149  2018-12-01   제주시  오라동       기타음식료품위주종합소매업  남성    25    1225510\n54150  2018-12-01   제주시   연동       화장품 및 방향제 소매업  여성  2351   84518980\n\n[54151 rows x 7 columns]",
      "text/html": "<div>\n<style scoped>\n    .dataframe tbody tr th:only-of-type {\n        vertical-align: middle;\n    }\n\n    .dataframe tbody tr th {\n        vertical-align: top;\n    }\n\n    .dataframe thead th {\n        text-align: right;\n    }\n</style>\n<table border=\"1\" class=\"dataframe\">\n  <thead>\n    <tr style=\"text-align: right;\">\n      <th></th>\n      <th>연월</th>\n      <th>시군구명</th>\n      <th>읍면동명</th>\n      <th>업종명</th>\n      <th>성별</th>\n      <th>이용자수</th>\n      <th>이용금액</th>\n    </tr>\n  </thead>\n  <tbody>\n    <tr>\n      <th>0</th>\n      <td>2017-01-01</td>\n      <td>서귀포시</td>\n      <td>남원읍</td>\n      <td>건강보조식품 소매업</td>\n      <td>남성</td>\n      <td>11</td>\n      <td>137500</td>\n    </tr>\n    <tr>\n      <th>1</th>\n      <td>2017-01-01</td>\n      <td>서귀포시</td>\n      <td>천지동</td>\n      <td>건강보조식품 소매업</td>\n      <td>여성</td>\n      <td>61</td>\n      <td>12334400</td>\n    </tr>\n    <tr>\n      <th>2</th>\n      <td>2017-01-01</td>\n      <td>서귀포시</td>\n      <td>대정읍</td>\n      <td>기타음식료품위주종합소매업</td>\n      <td>남성</td>\n      <td>555</td>\n      <td>17301300</td>\n    </tr>\n    <tr>\n      <th>3</th>\n      <td>2017-01-01</td>\n      <td>서귀포시</td>\n      <td>대정읍</td>\n      <td>기타 주점업</td>\n      <td>남성</td>\n      <td>324</td>\n      <td>71843080</td>\n    </tr>\n    <tr>\n      <th>4</th>\n      <td>2017-01-01</td>\n      <td>서귀포시</td>\n      <td>대정읍</td>\n      <td>기타 외국식 음식점업</td>\n      <td>남성</td>\n      <td>40</td>\n      <td>971000</td>\n    </tr>\n    <tr>\n      <th>...</th>\n      <td>...</td>\n      <td>...</td>\n      <td>...</td>\n      <td>...</td>\n      <td>...</td>\n      <td>...</td>\n      <td>...</td>\n    </tr>\n    <tr>\n      <th>54146</th>\n      <td>2018-12-01</td>\n      <td>제주시</td>\n      <td>오라동</td>\n      <td>중식 음식점업</td>\n      <td>여성</td>\n      <td>110</td>\n      <td>3043250</td>\n    </tr>\n    <tr>\n      <th>54147</th>\n      <td>2018-12-01</td>\n      <td>제주시</td>\n      <td>연동</td>\n      <td>스포츠 및 레크레이션 용품 임대업</td>\n      <td>여성</td>\n      <td>2317</td>\n      <td>365724920</td>\n    </tr>\n    <tr>\n      <th>54148</th>\n      <td>2018-12-01</td>\n      <td>제주시</td>\n      <td>연동</td>\n      <td>호텔업</td>\n      <td>여성</td>\n      <td>810</td>\n      <td>232661992</td>\n    </tr>\n    <tr>\n      <th>54149</th>\n      <td>2018-12-01</td>\n      <td>제주시</td>\n      <td>오라동</td>\n      <td>기타음식료품위주종합소매업</td>\n      <td>남성</td>\n      <td>25</td>\n      <td>1225510</td>\n    </tr>\n    <tr>\n      <th>54150</th>\n      <td>2018-12-01</td>\n      <td>제주시</td>\n      <td>연동</td>\n      <td>화장품 및 방향제 소매업</td>\n      <td>여성</td>\n      <td>2351</td>\n      <td>84518980</td>\n    </tr>\n  </tbody>\n</table>\n<p>54151 rows × 7 columns</p>\n</div>"
     },
     "execution_count": 28,
     "metadata": {},
     "output_type": "execute_result"
    }
   ],
   "source": [
    "df"
   ],
   "metadata": {
    "collapsed": false,
    "ExecuteTime": {
     "end_time": "2024-06-03T05:44:07.508050Z",
     "start_time": "2024-06-03T05:44:07.357290Z"
    }
   },
   "id": "ec60a679ef13e649",
   "execution_count": 28
  },
  {
   "cell_type": "code",
   "outputs": [
    {
     "data": {
      "text/plain": "             연월일  시군구명 읍면동명 성별    연령대   방문인구\n0       20170101   제주시  한림읍  남    40대  19424\n1       20170101   제주시  애월읍  여    20대  27747\n2       20170101   제주시  구좌읍  남    70대   3459\n3       20170101   제주시  조천읍  남    40대  36695\n4       20170101   제주시  한경면  남    70대   1174\n...          ...   ...  ... ..    ...    ...\n527021  20181231  서귀포시  대륜동  남    40대  22791\n527022  20181231  서귀포시  대천동  여    60대   7060\n527023  20181231  서귀포시  중문동  남  10세미만   6061\n527024  20181231  서귀포시  중문동  여    20대   9482\n527025  20181231  서귀포시  예래동  여    50대  12314\n\n[527026 rows x 6 columns]",
      "text/html": "<div>\n<style scoped>\n    .dataframe tbody tr th:only-of-type {\n        vertical-align: middle;\n    }\n\n    .dataframe tbody tr th {\n        vertical-align: top;\n    }\n\n    .dataframe thead th {\n        text-align: right;\n    }\n</style>\n<table border=\"1\" class=\"dataframe\">\n  <thead>\n    <tr style=\"text-align: right;\">\n      <th></th>\n      <th>연월일</th>\n      <th>시군구명</th>\n      <th>읍면동명</th>\n      <th>성별</th>\n      <th>연령대</th>\n      <th>방문인구</th>\n    </tr>\n  </thead>\n  <tbody>\n    <tr>\n      <th>0</th>\n      <td>20170101</td>\n      <td>제주시</td>\n      <td>한림읍</td>\n      <td>남</td>\n      <td>40대</td>\n      <td>19424</td>\n    </tr>\n    <tr>\n      <th>1</th>\n      <td>20170101</td>\n      <td>제주시</td>\n      <td>애월읍</td>\n      <td>여</td>\n      <td>20대</td>\n      <td>27747</td>\n    </tr>\n    <tr>\n      <th>2</th>\n      <td>20170101</td>\n      <td>제주시</td>\n      <td>구좌읍</td>\n      <td>남</td>\n      <td>70대</td>\n      <td>3459</td>\n    </tr>\n    <tr>\n      <th>3</th>\n      <td>20170101</td>\n      <td>제주시</td>\n      <td>조천읍</td>\n      <td>남</td>\n      <td>40대</td>\n      <td>36695</td>\n    </tr>\n    <tr>\n      <th>4</th>\n      <td>20170101</td>\n      <td>제주시</td>\n      <td>한경면</td>\n      <td>남</td>\n      <td>70대</td>\n      <td>1174</td>\n    </tr>\n    <tr>\n      <th>...</th>\n      <td>...</td>\n      <td>...</td>\n      <td>...</td>\n      <td>...</td>\n      <td>...</td>\n      <td>...</td>\n    </tr>\n    <tr>\n      <th>527021</th>\n      <td>20181231</td>\n      <td>서귀포시</td>\n      <td>대륜동</td>\n      <td>남</td>\n      <td>40대</td>\n      <td>22791</td>\n    </tr>\n    <tr>\n      <th>527022</th>\n      <td>20181231</td>\n      <td>서귀포시</td>\n      <td>대천동</td>\n      <td>여</td>\n      <td>60대</td>\n      <td>7060</td>\n    </tr>\n    <tr>\n      <th>527023</th>\n      <td>20181231</td>\n      <td>서귀포시</td>\n      <td>중문동</td>\n      <td>남</td>\n      <td>10세미만</td>\n      <td>6061</td>\n    </tr>\n    <tr>\n      <th>527024</th>\n      <td>20181231</td>\n      <td>서귀포시</td>\n      <td>중문동</td>\n      <td>여</td>\n      <td>20대</td>\n      <td>9482</td>\n    </tr>\n    <tr>\n      <th>527025</th>\n      <td>20181231</td>\n      <td>서귀포시</td>\n      <td>예래동</td>\n      <td>여</td>\n      <td>50대</td>\n      <td>12314</td>\n    </tr>\n  </tbody>\n</table>\n<p>527026 rows × 6 columns</p>\n</div>"
     },
     "execution_count": 29,
     "metadata": {},
     "output_type": "execute_result"
    }
   ],
   "source": [
    "df_pop"
   ],
   "metadata": {
    "collapsed": false,
    "ExecuteTime": {
     "end_time": "2024-06-03T05:44:07.523330Z",
     "start_time": "2024-06-03T05:44:07.364995Z"
    }
   },
   "id": "26417a1fdefadb3b",
   "execution_count": 29
  },
  {
   "cell_type": "code",
   "outputs": [],
   "source": [
    "df.loc[df['성별']=='남성','성별'] = '남'\n",
    "df.loc[df['성별']=='여성','성별'] = '여'"
   ],
   "metadata": {
    "collapsed": false,
    "ExecuteTime": {
     "end_time": "2024-06-03T05:44:07.524106Z",
     "start_time": "2024-06-03T05:44:07.371292Z"
    }
   },
   "id": "bd36522fee53f70a",
   "execution_count": 30
  },
  {
   "cell_type": "code",
   "outputs": [
    {
     "data": {
      "text/plain": "               연월  시군구명 읍면동명                 업종명 성별  이용자수       이용금액\n0      2017-01-01  서귀포시  남원읍          건강보조식품 소매업  남    11     137500\n1      2017-01-01  서귀포시  천지동          건강보조식품 소매업  여    61   12334400\n2      2017-01-01  서귀포시  대정읍       기타음식료품위주종합소매업  남   555   17301300\n3      2017-01-01  서귀포시  대정읍              기타 주점업  남   324   71843080\n4      2017-01-01  서귀포시  대정읍         기타 외국식 음식점업  남    40     971000\n...           ...   ...  ...                 ... ..   ...        ...\n54146  2018-12-01   제주시  오라동             중식 음식점업  여   110    3043250\n54147  2018-12-01   제주시   연동  스포츠 및 레크레이션 용품 임대업  여  2317  365724920\n54148  2018-12-01   제주시   연동                 호텔업  여   810  232661992\n54149  2018-12-01   제주시  오라동       기타음식료품위주종합소매업  남    25    1225510\n54150  2018-12-01   제주시   연동       화장품 및 방향제 소매업  여  2351   84518980\n\n[54151 rows x 7 columns]",
      "text/html": "<div>\n<style scoped>\n    .dataframe tbody tr th:only-of-type {\n        vertical-align: middle;\n    }\n\n    .dataframe tbody tr th {\n        vertical-align: top;\n    }\n\n    .dataframe thead th {\n        text-align: right;\n    }\n</style>\n<table border=\"1\" class=\"dataframe\">\n  <thead>\n    <tr style=\"text-align: right;\">\n      <th></th>\n      <th>연월</th>\n      <th>시군구명</th>\n      <th>읍면동명</th>\n      <th>업종명</th>\n      <th>성별</th>\n      <th>이용자수</th>\n      <th>이용금액</th>\n    </tr>\n  </thead>\n  <tbody>\n    <tr>\n      <th>0</th>\n      <td>2017-01-01</td>\n      <td>서귀포시</td>\n      <td>남원읍</td>\n      <td>건강보조식품 소매업</td>\n      <td>남</td>\n      <td>11</td>\n      <td>137500</td>\n    </tr>\n    <tr>\n      <th>1</th>\n      <td>2017-01-01</td>\n      <td>서귀포시</td>\n      <td>천지동</td>\n      <td>건강보조식품 소매업</td>\n      <td>여</td>\n      <td>61</td>\n      <td>12334400</td>\n    </tr>\n    <tr>\n      <th>2</th>\n      <td>2017-01-01</td>\n      <td>서귀포시</td>\n      <td>대정읍</td>\n      <td>기타음식료품위주종합소매업</td>\n      <td>남</td>\n      <td>555</td>\n      <td>17301300</td>\n    </tr>\n    <tr>\n      <th>3</th>\n      <td>2017-01-01</td>\n      <td>서귀포시</td>\n      <td>대정읍</td>\n      <td>기타 주점업</td>\n      <td>남</td>\n      <td>324</td>\n      <td>71843080</td>\n    </tr>\n    <tr>\n      <th>4</th>\n      <td>2017-01-01</td>\n      <td>서귀포시</td>\n      <td>대정읍</td>\n      <td>기타 외국식 음식점업</td>\n      <td>남</td>\n      <td>40</td>\n      <td>971000</td>\n    </tr>\n    <tr>\n      <th>...</th>\n      <td>...</td>\n      <td>...</td>\n      <td>...</td>\n      <td>...</td>\n      <td>...</td>\n      <td>...</td>\n      <td>...</td>\n    </tr>\n    <tr>\n      <th>54146</th>\n      <td>2018-12-01</td>\n      <td>제주시</td>\n      <td>오라동</td>\n      <td>중식 음식점업</td>\n      <td>여</td>\n      <td>110</td>\n      <td>3043250</td>\n    </tr>\n    <tr>\n      <th>54147</th>\n      <td>2018-12-01</td>\n      <td>제주시</td>\n      <td>연동</td>\n      <td>스포츠 및 레크레이션 용품 임대업</td>\n      <td>여</td>\n      <td>2317</td>\n      <td>365724920</td>\n    </tr>\n    <tr>\n      <th>54148</th>\n      <td>2018-12-01</td>\n      <td>제주시</td>\n      <td>연동</td>\n      <td>호텔업</td>\n      <td>여</td>\n      <td>810</td>\n      <td>232661992</td>\n    </tr>\n    <tr>\n      <th>54149</th>\n      <td>2018-12-01</td>\n      <td>제주시</td>\n      <td>오라동</td>\n      <td>기타음식료품위주종합소매업</td>\n      <td>남</td>\n      <td>25</td>\n      <td>1225510</td>\n    </tr>\n    <tr>\n      <th>54150</th>\n      <td>2018-12-01</td>\n      <td>제주시</td>\n      <td>연동</td>\n      <td>화장품 및 방향제 소매업</td>\n      <td>여</td>\n      <td>2351</td>\n      <td>84518980</td>\n    </tr>\n  </tbody>\n</table>\n<p>54151 rows × 7 columns</p>\n</div>"
     },
     "execution_count": 31,
     "metadata": {},
     "output_type": "execute_result"
    }
   ],
   "source": [
    "df"
   ],
   "metadata": {
    "collapsed": false,
    "ExecuteTime": {
     "end_time": "2024-06-03T05:44:07.525133Z",
     "start_time": "2024-06-03T05:44:07.381090Z"
    }
   },
   "id": "9f6be872a4fa0fe",
   "execution_count": 31
  },
  {
   "cell_type": "code",
   "outputs": [
    {
     "data": {
      "text/plain": "             연월일  시군구명 읍면동명 성별    연령대   방문인구          연월\n0       20170101   제주시  한림읍  남    40대  19424  2017-01-01\n1       20170101   제주시  애월읍  여    20대  27747  2017-01-01\n2       20170101   제주시  구좌읍  남    70대   3459  2017-01-01\n3       20170101   제주시  조천읍  남    40대  36695  2017-01-01\n4       20170101   제주시  한경면  남    70대   1174  2017-01-01\n...          ...   ...  ... ..    ...    ...         ...\n527021  20181231  서귀포시  대륜동  남    40대  22791  2018-12-31\n527022  20181231  서귀포시  대천동  여    60대   7060  2018-12-31\n527023  20181231  서귀포시  중문동  남  10세미만   6061  2018-12-31\n527024  20181231  서귀포시  중문동  여    20대   9482  2018-12-31\n527025  20181231  서귀포시  예래동  여    50대  12314  2018-12-31\n\n[527026 rows x 7 columns]",
      "text/html": "<div>\n<style scoped>\n    .dataframe tbody tr th:only-of-type {\n        vertical-align: middle;\n    }\n\n    .dataframe tbody tr th {\n        vertical-align: top;\n    }\n\n    .dataframe thead th {\n        text-align: right;\n    }\n</style>\n<table border=\"1\" class=\"dataframe\">\n  <thead>\n    <tr style=\"text-align: right;\">\n      <th></th>\n      <th>연월일</th>\n      <th>시군구명</th>\n      <th>읍면동명</th>\n      <th>성별</th>\n      <th>연령대</th>\n      <th>방문인구</th>\n      <th>연월</th>\n    </tr>\n  </thead>\n  <tbody>\n    <tr>\n      <th>0</th>\n      <td>20170101</td>\n      <td>제주시</td>\n      <td>한림읍</td>\n      <td>남</td>\n      <td>40대</td>\n      <td>19424</td>\n      <td>2017-01-01</td>\n    </tr>\n    <tr>\n      <th>1</th>\n      <td>20170101</td>\n      <td>제주시</td>\n      <td>애월읍</td>\n      <td>여</td>\n      <td>20대</td>\n      <td>27747</td>\n      <td>2017-01-01</td>\n    </tr>\n    <tr>\n      <th>2</th>\n      <td>20170101</td>\n      <td>제주시</td>\n      <td>구좌읍</td>\n      <td>남</td>\n      <td>70대</td>\n      <td>3459</td>\n      <td>2017-01-01</td>\n    </tr>\n    <tr>\n      <th>3</th>\n      <td>20170101</td>\n      <td>제주시</td>\n      <td>조천읍</td>\n      <td>남</td>\n      <td>40대</td>\n      <td>36695</td>\n      <td>2017-01-01</td>\n    </tr>\n    <tr>\n      <th>4</th>\n      <td>20170101</td>\n      <td>제주시</td>\n      <td>한경면</td>\n      <td>남</td>\n      <td>70대</td>\n      <td>1174</td>\n      <td>2017-01-01</td>\n    </tr>\n    <tr>\n      <th>...</th>\n      <td>...</td>\n      <td>...</td>\n      <td>...</td>\n      <td>...</td>\n      <td>...</td>\n      <td>...</td>\n      <td>...</td>\n    </tr>\n    <tr>\n      <th>527021</th>\n      <td>20181231</td>\n      <td>서귀포시</td>\n      <td>대륜동</td>\n      <td>남</td>\n      <td>40대</td>\n      <td>22791</td>\n      <td>2018-12-31</td>\n    </tr>\n    <tr>\n      <th>527022</th>\n      <td>20181231</td>\n      <td>서귀포시</td>\n      <td>대천동</td>\n      <td>여</td>\n      <td>60대</td>\n      <td>7060</td>\n      <td>2018-12-31</td>\n    </tr>\n    <tr>\n      <th>527023</th>\n      <td>20181231</td>\n      <td>서귀포시</td>\n      <td>중문동</td>\n      <td>남</td>\n      <td>10세미만</td>\n      <td>6061</td>\n      <td>2018-12-31</td>\n    </tr>\n    <tr>\n      <th>527024</th>\n      <td>20181231</td>\n      <td>서귀포시</td>\n      <td>중문동</td>\n      <td>여</td>\n      <td>20대</td>\n      <td>9482</td>\n      <td>2018-12-31</td>\n    </tr>\n    <tr>\n      <th>527025</th>\n      <td>20181231</td>\n      <td>서귀포시</td>\n      <td>예래동</td>\n      <td>여</td>\n      <td>50대</td>\n      <td>12314</td>\n      <td>2018-12-31</td>\n    </tr>\n  </tbody>\n</table>\n<p>527026 rows × 7 columns</p>\n</div>"
     },
     "execution_count": 32,
     "metadata": {},
     "output_type": "execute_result"
    }
   ],
   "source": [
    "df_pop['연월일'] = df_pop['연월일'].astype('string')\n",
    "df_pop['연월'] = df_pop['연월일'].str[:4] + '-' + df_pop['연월일'].str[4:6] +'-' + df_pop['연월일'].str[6:9]\n",
    "df_pop"
   ],
   "metadata": {
    "collapsed": false,
    "ExecuteTime": {
     "end_time": "2024-06-03T05:44:07.954014Z",
     "start_time": "2024-06-03T05:44:07.384544Z"
    }
   },
   "id": "44790153b5c4e06d",
   "execution_count": 32
  },
  {
   "cell_type": "code",
   "outputs": [
    {
     "data": {
      "text/plain": "                연월  시군구명 읍면동명         업종명 성별  이용자수      이용금액       연월일    연령대  \\\n0       2017-01-01  서귀포시  남원읍  건강보조식품 소매업  남  11.0  137500.0  20170101    10대   \n1       2017-01-01  서귀포시  남원읍  건강보조식품 소매업  남  11.0  137500.0  20170101    20대   \n2       2017-01-01  서귀포시  남원읍  건강보조식품 소매업  남  11.0  137500.0  20170101    30대   \n3       2017-01-01  서귀포시  남원읍  건강보조식품 소매업  남  11.0  137500.0  20170101    40대   \n4       2017-01-01  서귀포시  남원읍  건강보조식품 소매업  남  11.0  137500.0  20170101    50대   \n...            ...   ...  ...         ... ..   ...       ...       ...    ...   \n966459  2018-12-31  서귀포시  중문동         NaN  남   NaN       NaN  20181231    50대   \n966460  2018-12-31  서귀포시  중문동         NaN  남   NaN       NaN  20181231    60대   \n966461  2018-12-31  서귀포시  중문동         NaN  남   NaN       NaN  20181231    70대   \n966462  2018-12-31  서귀포시  중문동         NaN  남   NaN       NaN  20181231  80대이상   \n966463  2018-12-31  서귀포시  중문동         NaN  남   NaN       NaN  20181231  10세미만   \n\n           방문인구  \n0       11074.0  \n1       11377.0  \n2       15045.0  \n3       20678.0  \n4       19435.0  \n...         ...  \n966459  14195.0  \n966460   7531.0  \n966461   2952.0  \n966462   1124.0  \n966463   6061.0  \n\n[966464 rows x 10 columns]",
      "text/html": "<div>\n<style scoped>\n    .dataframe tbody tr th:only-of-type {\n        vertical-align: middle;\n    }\n\n    .dataframe tbody tr th {\n        vertical-align: top;\n    }\n\n    .dataframe thead th {\n        text-align: right;\n    }\n</style>\n<table border=\"1\" class=\"dataframe\">\n  <thead>\n    <tr style=\"text-align: right;\">\n      <th></th>\n      <th>연월</th>\n      <th>시군구명</th>\n      <th>읍면동명</th>\n      <th>업종명</th>\n      <th>성별</th>\n      <th>이용자수</th>\n      <th>이용금액</th>\n      <th>연월일</th>\n      <th>연령대</th>\n      <th>방문인구</th>\n    </tr>\n  </thead>\n  <tbody>\n    <tr>\n      <th>0</th>\n      <td>2017-01-01</td>\n      <td>서귀포시</td>\n      <td>남원읍</td>\n      <td>건강보조식품 소매업</td>\n      <td>남</td>\n      <td>11.0</td>\n      <td>137500.0</td>\n      <td>20170101</td>\n      <td>10대</td>\n      <td>11074.0</td>\n    </tr>\n    <tr>\n      <th>1</th>\n      <td>2017-01-01</td>\n      <td>서귀포시</td>\n      <td>남원읍</td>\n      <td>건강보조식품 소매업</td>\n      <td>남</td>\n      <td>11.0</td>\n      <td>137500.0</td>\n      <td>20170101</td>\n      <td>20대</td>\n      <td>11377.0</td>\n    </tr>\n    <tr>\n      <th>2</th>\n      <td>2017-01-01</td>\n      <td>서귀포시</td>\n      <td>남원읍</td>\n      <td>건강보조식품 소매업</td>\n      <td>남</td>\n      <td>11.0</td>\n      <td>137500.0</td>\n      <td>20170101</td>\n      <td>30대</td>\n      <td>15045.0</td>\n    </tr>\n    <tr>\n      <th>3</th>\n      <td>2017-01-01</td>\n      <td>서귀포시</td>\n      <td>남원읍</td>\n      <td>건강보조식품 소매업</td>\n      <td>남</td>\n      <td>11.0</td>\n      <td>137500.0</td>\n      <td>20170101</td>\n      <td>40대</td>\n      <td>20678.0</td>\n    </tr>\n    <tr>\n      <th>4</th>\n      <td>2017-01-01</td>\n      <td>서귀포시</td>\n      <td>남원읍</td>\n      <td>건강보조식품 소매업</td>\n      <td>남</td>\n      <td>11.0</td>\n      <td>137500.0</td>\n      <td>20170101</td>\n      <td>50대</td>\n      <td>19435.0</td>\n    </tr>\n    <tr>\n      <th>...</th>\n      <td>...</td>\n      <td>...</td>\n      <td>...</td>\n      <td>...</td>\n      <td>...</td>\n      <td>...</td>\n      <td>...</td>\n      <td>...</td>\n      <td>...</td>\n      <td>...</td>\n    </tr>\n    <tr>\n      <th>966459</th>\n      <td>2018-12-31</td>\n      <td>서귀포시</td>\n      <td>중문동</td>\n      <td>NaN</td>\n      <td>남</td>\n      <td>NaN</td>\n      <td>NaN</td>\n      <td>20181231</td>\n      <td>50대</td>\n      <td>14195.0</td>\n    </tr>\n    <tr>\n      <th>966460</th>\n      <td>2018-12-31</td>\n      <td>서귀포시</td>\n      <td>중문동</td>\n      <td>NaN</td>\n      <td>남</td>\n      <td>NaN</td>\n      <td>NaN</td>\n      <td>20181231</td>\n      <td>60대</td>\n      <td>7531.0</td>\n    </tr>\n    <tr>\n      <th>966461</th>\n      <td>2018-12-31</td>\n      <td>서귀포시</td>\n      <td>중문동</td>\n      <td>NaN</td>\n      <td>남</td>\n      <td>NaN</td>\n      <td>NaN</td>\n      <td>20181231</td>\n      <td>70대</td>\n      <td>2952.0</td>\n    </tr>\n    <tr>\n      <th>966462</th>\n      <td>2018-12-31</td>\n      <td>서귀포시</td>\n      <td>중문동</td>\n      <td>NaN</td>\n      <td>남</td>\n      <td>NaN</td>\n      <td>NaN</td>\n      <td>20181231</td>\n      <td>80대이상</td>\n      <td>1124.0</td>\n    </tr>\n    <tr>\n      <th>966463</th>\n      <td>2018-12-31</td>\n      <td>서귀포시</td>\n      <td>중문동</td>\n      <td>NaN</td>\n      <td>남</td>\n      <td>NaN</td>\n      <td>NaN</td>\n      <td>20181231</td>\n      <td>10세미만</td>\n      <td>6061.0</td>\n    </tr>\n  </tbody>\n</table>\n<p>966464 rows × 10 columns</p>\n</div>"
     },
     "execution_count": 33,
     "metadata": {},
     "output_type": "execute_result"
    }
   ],
   "source": [
    "df.merge(df_pop, how='outer')"
   ],
   "metadata": {
    "collapsed": false,
    "ExecuteTime": {
     "end_time": "2024-06-03T05:44:08.348601Z",
     "start_time": "2024-06-03T05:44:07.917612Z"
    }
   },
   "id": "570b82b8ed39a3fd",
   "execution_count": 33
  },
  {
   "cell_type": "markdown",
   "source": [
    "카페 업종의 소비가 활성화된 지역은?"
   ],
   "metadata": {
    "collapsed": false
   },
   "id": "cf2e6d6a3c0cdac6"
  },
  {
   "cell_type": "code",
   "outputs": [
    {
     "data": {
      "text/plain": "array(['건강보조식품 소매업', '기타음식료품위주종합소매업', '기타 주점업', '기타 외국식 음식점업',\n       '그외 기타 종합 소매업', '그외 기타 분류안된 오락관련 서비스업', '일반유흥 주점업', '비알콜 음료점업',\n       '일식 음식점업', '중식 음식점업', '차량용 가스 충전업', '차량용 주유소 운영업',\n       '스포츠 및 레크레이션 용품 임대업', '체인화 편의점', '한식 음식점업', '전시 및 행사 대행업', '호텔업',\n       '빵 및 과자류 소매업', '수산물 소매업', '여행사업', '여관업', '화장품 및 방향제 소매업', '욕탕업',\n       '육류 소매업', '서양식 음식점업', '슈퍼마켓', '과실 및 채소 소매업', '골프장 운영업', '자동차 임대업',\n       '관광 민예품 및 선물용품 소매업', '피자, 햄버거, 샌드위치 및 유사 음식점업', '휴양콘도 운영업',\n       '그외 기타 스포츠시설 운영업', '기타 대형 종합 소매업', '내항 여객 운송업', '마사지업',\n       '기타 수상오락 서비스업', '면세점', '정기 항공 운송업', '버스 운송업', '기타 갬블링 및 베팅업',\n       '택시 운송업'], dtype=object)"
     },
     "execution_count": 34,
     "metadata": {},
     "output_type": "execute_result"
    }
   ],
   "source": [
    "df['업종명'].unique()"
   ],
   "metadata": {
    "collapsed": false,
    "ExecuteTime": {
     "end_time": "2024-06-03T05:44:08.355275Z",
     "start_time": "2024-06-03T05:44:08.349950Z"
    }
   },
   "id": "2555684addb0c519",
   "execution_count": 34
  },
  {
   "cell_type": "code",
   "outputs": [
    {
     "data": {
      "text/plain": "        이용자수        이용금액\n읍면동명                    \n용담2동  447461  4056159850\n이도2동  347756  3647080260\n노형동   300088  2738692471\n연동    216716  2387394344\n애월읍   118980  1593771610\n송산동   138608  1536821323\n천지동   132038  1425763713\n아라동   134662  1322616147\n중앙동    95624  1102646313\n정방동    95624  1102646313",
      "text/html": "<div>\n<style scoped>\n    .dataframe tbody tr th:only-of-type {\n        vertical-align: middle;\n    }\n\n    .dataframe tbody tr th {\n        vertical-align: top;\n    }\n\n    .dataframe thead th {\n        text-align: right;\n    }\n</style>\n<table border=\"1\" class=\"dataframe\">\n  <thead>\n    <tr style=\"text-align: right;\">\n      <th></th>\n      <th>이용자수</th>\n      <th>이용금액</th>\n    </tr>\n    <tr>\n      <th>읍면동명</th>\n      <th></th>\n      <th></th>\n    </tr>\n  </thead>\n  <tbody>\n    <tr>\n      <th>용담2동</th>\n      <td>447461</td>\n      <td>4056159850</td>\n    </tr>\n    <tr>\n      <th>이도2동</th>\n      <td>347756</td>\n      <td>3647080260</td>\n    </tr>\n    <tr>\n      <th>노형동</th>\n      <td>300088</td>\n      <td>2738692471</td>\n    </tr>\n    <tr>\n      <th>연동</th>\n      <td>216716</td>\n      <td>2387394344</td>\n    </tr>\n    <tr>\n      <th>애월읍</th>\n      <td>118980</td>\n      <td>1593771610</td>\n    </tr>\n    <tr>\n      <th>송산동</th>\n      <td>138608</td>\n      <td>1536821323</td>\n    </tr>\n    <tr>\n      <th>천지동</th>\n      <td>132038</td>\n      <td>1425763713</td>\n    </tr>\n    <tr>\n      <th>아라동</th>\n      <td>134662</td>\n      <td>1322616147</td>\n    </tr>\n    <tr>\n      <th>중앙동</th>\n      <td>95624</td>\n      <td>1102646313</td>\n    </tr>\n    <tr>\n      <th>정방동</th>\n      <td>95624</td>\n      <td>1102646313</td>\n    </tr>\n  </tbody>\n</table>\n</div>"
     },
     "execution_count": 35,
     "metadata": {},
     "output_type": "execute_result"
    }
   ],
   "source": [
    "cafe_df = df[df['업종명'] == '비알콜 음료점업']\n",
    "cafe_df.groupby('읍면동명').sum(numeric_only=True).sort_values(by='이용금액', ascending=False).iloc[:10]"
   ],
   "metadata": {
    "collapsed": false,
    "ExecuteTime": {
     "end_time": "2024-06-03T05:44:08.364018Z",
     "start_time": "2024-06-03T05:44:08.357969Z"
    }
   },
   "id": "cbd026922d5f5417",
   "execution_count": 35
  }
 ],
 "metadata": {
  "kernelspec": {
   "display_name": "Python 3",
   "language": "python",
   "name": "python3"
  },
  "language_info": {
   "codemirror_mode": {
    "name": "ipython",
    "version": 2
   },
   "file_extension": ".py",
   "mimetype": "text/x-python",
   "name": "python",
   "nbconvert_exporter": "python",
   "pygments_lexer": "ipython2",
   "version": "2.7.6"
  }
 },
 "nbformat": 4,
 "nbformat_minor": 5
}
