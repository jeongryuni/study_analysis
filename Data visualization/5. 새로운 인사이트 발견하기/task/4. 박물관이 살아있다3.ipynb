{
 "cells": [
  {
   "cell_type": "markdown",
   "source": [
    "## 실습 설명\n",
    "솔희는 지역번호를 이용해서 지역 정보를 알아내고자 합니다.\n",
    "\n",
    "지역번호가 02이면 '서울시'이고, 지역번호가 064라면 '제주도'입니다.\n",
    "\n",
    "'지역번호' column을 '지역명' 으로 변경하고, 아래 규칙에 따라 지역을 넣어주세요.\n",
    "\n",
    "\n",
    "파이썬 사전(dictionary)을 만드는 과정이 번거로울 수 있지만, 실제 분석 상황을 가정한 과제입니다. 직접 작성해 보세요!\n",
    "\n",
    "숫자로 이루어진 지역번호 column을 String type으로 바꿔주기 위해, read_csv() 메소드에 dtype={'지역번호': str} 옵션을 템플릿에 추가해 두었습니다. 참고하세요.\n",
    "\n",
    "\n"
   ],
   "metadata": {
    "collapsed": false
   },
   "id": "881b7903b4c948f2"
  },
  {
   "cell_type": "code",
   "outputs": [
    {
     "data": {
      "text/plain": "             시설명  어른관람료      운영기관전화번호  분류 지역번호\n0     필암서원 유물전시관    500  061-390-7224  일반  061\n1        원주역사박물관      0  033-737-4371  일반  033\n2        뮤지엄산미술관  15000  033-730-9000  일반  033\n3      오랜미래신화미술관      0  033-746-5256  일반  033\n4    연세대학교 원주박물관      0  033-760-2731  대학  033\n..           ...    ...           ...  ..  ...\n895        함양박물관      0  055-960-5532  일반  055\n896         박물관수   5000  053-744-5500  일반  053\n897    대구은행금융박물관      0  053-740-2061  일반  053\n898      국립대구박물관      0  053-768-6051  일반  053\n899    증평민속체험박물관      0  043-835-4161  일반  043\n\n[900 rows x 5 columns]",
      "text/html": "<div>\n<style scoped>\n    .dataframe tbody tr th:only-of-type {\n        vertical-align: middle;\n    }\n\n    .dataframe tbody tr th {\n        vertical-align: top;\n    }\n\n    .dataframe thead th {\n        text-align: right;\n    }\n</style>\n<table border=\"1\" class=\"dataframe\">\n  <thead>\n    <tr style=\"text-align: right;\">\n      <th></th>\n      <th>시설명</th>\n      <th>어른관람료</th>\n      <th>운영기관전화번호</th>\n      <th>분류</th>\n      <th>지역번호</th>\n    </tr>\n  </thead>\n  <tbody>\n    <tr>\n      <th>0</th>\n      <td>필암서원 유물전시관</td>\n      <td>500</td>\n      <td>061-390-7224</td>\n      <td>일반</td>\n      <td>061</td>\n    </tr>\n    <tr>\n      <th>1</th>\n      <td>원주역사박물관</td>\n      <td>0</td>\n      <td>033-737-4371</td>\n      <td>일반</td>\n      <td>033</td>\n    </tr>\n    <tr>\n      <th>2</th>\n      <td>뮤지엄산미술관</td>\n      <td>15000</td>\n      <td>033-730-9000</td>\n      <td>일반</td>\n      <td>033</td>\n    </tr>\n    <tr>\n      <th>3</th>\n      <td>오랜미래신화미술관</td>\n      <td>0</td>\n      <td>033-746-5256</td>\n      <td>일반</td>\n      <td>033</td>\n    </tr>\n    <tr>\n      <th>4</th>\n      <td>연세대학교 원주박물관</td>\n      <td>0</td>\n      <td>033-760-2731</td>\n      <td>대학</td>\n      <td>033</td>\n    </tr>\n    <tr>\n      <th>...</th>\n      <td>...</td>\n      <td>...</td>\n      <td>...</td>\n      <td>...</td>\n      <td>...</td>\n    </tr>\n    <tr>\n      <th>895</th>\n      <td>함양박물관</td>\n      <td>0</td>\n      <td>055-960-5532</td>\n      <td>일반</td>\n      <td>055</td>\n    </tr>\n    <tr>\n      <th>896</th>\n      <td>박물관수</td>\n      <td>5000</td>\n      <td>053-744-5500</td>\n      <td>일반</td>\n      <td>053</td>\n    </tr>\n    <tr>\n      <th>897</th>\n      <td>대구은행금융박물관</td>\n      <td>0</td>\n      <td>053-740-2061</td>\n      <td>일반</td>\n      <td>053</td>\n    </tr>\n    <tr>\n      <th>898</th>\n      <td>국립대구박물관</td>\n      <td>0</td>\n      <td>053-768-6051</td>\n      <td>일반</td>\n      <td>053</td>\n    </tr>\n    <tr>\n      <th>899</th>\n      <td>증평민속체험박물관</td>\n      <td>0</td>\n      <td>043-835-4161</td>\n      <td>일반</td>\n      <td>043</td>\n    </tr>\n  </tbody>\n</table>\n<p>900 rows × 5 columns</p>\n</div>"
     },
     "execution_count": 42,
     "metadata": {},
     "output_type": "execute_result"
    }
   ],
   "source": [
    "import pandas as pd\n",
    "\n",
    "df = pd.read_csv(\"data/museum_3.csv\", dtype={'지역번호': str})\n",
    "df"
   ],
   "metadata": {
    "collapsed": false,
    "ExecuteTime": {
     "end_time": "2024-05-07T07:15:28.132929Z",
     "start_time": "2024-05-07T07:15:28.115750Z"
    }
   },
   "id": "496ba4e463515d8c",
   "execution_count": 42
  },
  {
   "cell_type": "code",
   "outputs": [],
   "source": [
    "local_number = {\n",
    "    '02' : '서울시',\n",
    "    '031': '경기도',\n",
    "    '032': '경기도',\n",
    "    '033': '강원도',\n",
    "    '041': '충청도',\n",
    "    '042': '충청도',\n",
    "    '043': '충청도',\n",
    "    '044': '충청도',\n",
    "    '051': '부산시',\n",
    "    '052': '경상도',\n",
    "    '053': '경상도',\n",
    "    '054': '경상도',\n",
    "    '055': '경상도',\n",
    "    '061': '전라도',\n",
    "    '062': '전라도',\n",
    "    '063': '전라도',\n",
    "    '064': '제주도',\n",
    "    '1577': '기타',\n",
    "    '070': '기타'\n",
    "}"
   ],
   "metadata": {
    "collapsed": true,
    "ExecuteTime": {
     "end_time": "2024-05-07T07:15:29.023270Z",
     "start_time": "2024-05-07T07:15:29.020447Z"
    }
   },
   "id": "initial_id",
   "execution_count": 43
  },
  {
   "cell_type": "code",
   "outputs": [
    {
     "data": {
      "text/plain": "             시설명  어른관람료      운영기관전화번호  분류  지역명\n0     필암서원 유물전시관    500  061-390-7224  일반  061\n1        원주역사박물관      0  033-737-4371  일반  033\n2        뮤지엄산미술관  15000  033-730-9000  일반  033\n3      오랜미래신화미술관      0  033-746-5256  일반  033\n4    연세대학교 원주박물관      0  033-760-2731  대학  033\n..           ...    ...           ...  ..  ...\n895        함양박물관      0  055-960-5532  일반  055\n896         박물관수   5000  053-744-5500  일반  053\n897    대구은행금융박물관      0  053-740-2061  일반  053\n898      국립대구박물관      0  053-768-6051  일반  053\n899    증평민속체험박물관      0  043-835-4161  일반  043\n\n[900 rows x 5 columns]",
      "text/html": "<div>\n<style scoped>\n    .dataframe tbody tr th:only-of-type {\n        vertical-align: middle;\n    }\n\n    .dataframe tbody tr th {\n        vertical-align: top;\n    }\n\n    .dataframe thead th {\n        text-align: right;\n    }\n</style>\n<table border=\"1\" class=\"dataframe\">\n  <thead>\n    <tr style=\"text-align: right;\">\n      <th></th>\n      <th>시설명</th>\n      <th>어른관람료</th>\n      <th>운영기관전화번호</th>\n      <th>분류</th>\n      <th>지역명</th>\n    </tr>\n  </thead>\n  <tbody>\n    <tr>\n      <th>0</th>\n      <td>필암서원 유물전시관</td>\n      <td>500</td>\n      <td>061-390-7224</td>\n      <td>일반</td>\n      <td>061</td>\n    </tr>\n    <tr>\n      <th>1</th>\n      <td>원주역사박물관</td>\n      <td>0</td>\n      <td>033-737-4371</td>\n      <td>일반</td>\n      <td>033</td>\n    </tr>\n    <tr>\n      <th>2</th>\n      <td>뮤지엄산미술관</td>\n      <td>15000</td>\n      <td>033-730-9000</td>\n      <td>일반</td>\n      <td>033</td>\n    </tr>\n    <tr>\n      <th>3</th>\n      <td>오랜미래신화미술관</td>\n      <td>0</td>\n      <td>033-746-5256</td>\n      <td>일반</td>\n      <td>033</td>\n    </tr>\n    <tr>\n      <th>4</th>\n      <td>연세대학교 원주박물관</td>\n      <td>0</td>\n      <td>033-760-2731</td>\n      <td>대학</td>\n      <td>033</td>\n    </tr>\n    <tr>\n      <th>...</th>\n      <td>...</td>\n      <td>...</td>\n      <td>...</td>\n      <td>...</td>\n      <td>...</td>\n    </tr>\n    <tr>\n      <th>895</th>\n      <td>함양박물관</td>\n      <td>0</td>\n      <td>055-960-5532</td>\n      <td>일반</td>\n      <td>055</td>\n    </tr>\n    <tr>\n      <th>896</th>\n      <td>박물관수</td>\n      <td>5000</td>\n      <td>053-744-5500</td>\n      <td>일반</td>\n      <td>053</td>\n    </tr>\n    <tr>\n      <th>897</th>\n      <td>대구은행금융박물관</td>\n      <td>0</td>\n      <td>053-740-2061</td>\n      <td>일반</td>\n      <td>053</td>\n    </tr>\n    <tr>\n      <th>898</th>\n      <td>국립대구박물관</td>\n      <td>0</td>\n      <td>053-768-6051</td>\n      <td>일반</td>\n      <td>053</td>\n    </tr>\n    <tr>\n      <th>899</th>\n      <td>증평민속체험박물관</td>\n      <td>0</td>\n      <td>043-835-4161</td>\n      <td>일반</td>\n      <td>043</td>\n    </tr>\n  </tbody>\n</table>\n<p>900 rows × 5 columns</p>\n</div>"
     },
     "execution_count": 44,
     "metadata": {},
     "output_type": "execute_result"
    }
   ],
   "source": [
    "df.rename(columns={'지역번호':'지역명'}, inplace=True)\n",
    "df"
   ],
   "metadata": {
    "collapsed": false,
    "ExecuteTime": {
     "end_time": "2024-05-07T07:15:30.099490Z",
     "start_time": "2024-05-07T07:15:30.094297Z"
    }
   },
   "id": "d73368948a141d33",
   "execution_count": 44
  },
  {
   "cell_type": "code",
   "outputs": [
    {
     "data": {
      "text/plain": "             시설명  어른관람료      운영기관전화번호  분류  지역명\n0     필암서원 유물전시관    500  061-390-7224  일반  전라도\n1        원주역사박물관      0  033-737-4371  일반  강원도\n2        뮤지엄산미술관  15000  033-730-9000  일반  강원도\n3      오랜미래신화미술관      0  033-746-5256  일반  강원도\n4    연세대학교 원주박물관      0  033-760-2731  대학  강원도\n..           ...    ...           ...  ..  ...\n895        함양박물관      0  055-960-5532  일반  경상도\n896         박물관수   5000  053-744-5500  일반  경상도\n897    대구은행금융박물관      0  053-740-2061  일반  경상도\n898      국립대구박물관      0  053-768-6051  일반  경상도\n899    증평민속체험박물관      0  043-835-4161  일반  충청도\n\n[900 rows x 5 columns]",
      "text/html": "<div>\n<style scoped>\n    .dataframe tbody tr th:only-of-type {\n        vertical-align: middle;\n    }\n\n    .dataframe tbody tr th {\n        vertical-align: top;\n    }\n\n    .dataframe thead th {\n        text-align: right;\n    }\n</style>\n<table border=\"1\" class=\"dataframe\">\n  <thead>\n    <tr style=\"text-align: right;\">\n      <th></th>\n      <th>시설명</th>\n      <th>어른관람료</th>\n      <th>운영기관전화번호</th>\n      <th>분류</th>\n      <th>지역명</th>\n    </tr>\n  </thead>\n  <tbody>\n    <tr>\n      <th>0</th>\n      <td>필암서원 유물전시관</td>\n      <td>500</td>\n      <td>061-390-7224</td>\n      <td>일반</td>\n      <td>전라도</td>\n    </tr>\n    <tr>\n      <th>1</th>\n      <td>원주역사박물관</td>\n      <td>0</td>\n      <td>033-737-4371</td>\n      <td>일반</td>\n      <td>강원도</td>\n    </tr>\n    <tr>\n      <th>2</th>\n      <td>뮤지엄산미술관</td>\n      <td>15000</td>\n      <td>033-730-9000</td>\n      <td>일반</td>\n      <td>강원도</td>\n    </tr>\n    <tr>\n      <th>3</th>\n      <td>오랜미래신화미술관</td>\n      <td>0</td>\n      <td>033-746-5256</td>\n      <td>일반</td>\n      <td>강원도</td>\n    </tr>\n    <tr>\n      <th>4</th>\n      <td>연세대학교 원주박물관</td>\n      <td>0</td>\n      <td>033-760-2731</td>\n      <td>대학</td>\n      <td>강원도</td>\n    </tr>\n    <tr>\n      <th>...</th>\n      <td>...</td>\n      <td>...</td>\n      <td>...</td>\n      <td>...</td>\n      <td>...</td>\n    </tr>\n    <tr>\n      <th>895</th>\n      <td>함양박물관</td>\n      <td>0</td>\n      <td>055-960-5532</td>\n      <td>일반</td>\n      <td>경상도</td>\n    </tr>\n    <tr>\n      <th>896</th>\n      <td>박물관수</td>\n      <td>5000</td>\n      <td>053-744-5500</td>\n      <td>일반</td>\n      <td>경상도</td>\n    </tr>\n    <tr>\n      <th>897</th>\n      <td>대구은행금융박물관</td>\n      <td>0</td>\n      <td>053-740-2061</td>\n      <td>일반</td>\n      <td>경상도</td>\n    </tr>\n    <tr>\n      <th>898</th>\n      <td>국립대구박물관</td>\n      <td>0</td>\n      <td>053-768-6051</td>\n      <td>일반</td>\n      <td>경상도</td>\n    </tr>\n    <tr>\n      <th>899</th>\n      <td>증평민속체험박물관</td>\n      <td>0</td>\n      <td>043-835-4161</td>\n      <td>일반</td>\n      <td>충청도</td>\n    </tr>\n  </tbody>\n</table>\n<p>900 rows × 5 columns</p>\n</div>"
     },
     "execution_count": 46,
     "metadata": {},
     "output_type": "execute_result"
    }
   ],
   "source": [
    "df['지역명'] = df['지역명'].map(local_number)\n",
    "df"
   ],
   "metadata": {
    "collapsed": false,
    "ExecuteTime": {
     "end_time": "2024-05-07T07:16:01.762445Z",
     "start_time": "2024-05-07T07:16:01.747013Z"
    }
   },
   "id": "565c10cf558231a6",
   "execution_count": 46
  }
 ],
 "metadata": {
  "kernelspec": {
   "display_name": "Python 3",
   "language": "python",
   "name": "python3"
  },
  "language_info": {
   "codemirror_mode": {
    "name": "ipython",
    "version": 2
   },
   "file_extension": ".py",
   "mimetype": "text/x-python",
   "name": "python",
   "nbconvert_exporter": "python",
   "pygments_lexer": "ipython2",
   "version": "2.7.6"
  }
 },
 "nbformat": 4,
 "nbformat_minor": 5
}
