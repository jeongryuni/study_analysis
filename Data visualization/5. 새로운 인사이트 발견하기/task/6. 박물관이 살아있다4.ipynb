{
 "cells": [
  {
   "cell_type": "markdown",
   "source": [
    "## 실습 설명\n",
    "파이썬 사전과 .map()을 사용해서 지역명을 알아낸 솔희는, 조금 더 편한 방법을 고민하고 있습니다.\n",
    "\n",
    "고민하던 중, '지역번호와 지역명에 대한 데이터는 누군가 이미 만들어두지 않았을까'라는 생각을 하게 되는데요.\n",
    "\n",
    "인터넷에서 지역번호와 지역명이 있는 데이터 region_number.csv를 구했습니다!\n",
    "\n",
    "이 데이터를 먼저 살펴보고, .merge() 메소드를 활용해서 museum_3.csv에 '지역명' column을 추가해 보세요.\n",
    "\n",
    "단, museum_3.csv의 박물관 순서가 유지되어야 합니다."
   ],
   "metadata": {
    "collapsed": false
   },
   "id": "9434bd22085c448c"
  },
  {
   "cell_type": "code",
   "outputs": [],
   "source": [
    "import pandas as pd\n",
    "\n",
    "museum = pd.read_csv(\"data/museum_3.csv\", dtype={'지역번호': str})\n",
    "number = pd.read_csv(\"data/region_number.csv\", dtype={'지역번호': str})"
   ],
   "metadata": {
    "collapsed": true,
    "ExecuteTime": {
     "end_time": "2024-05-07T09:16:51.523960Z",
     "start_time": "2024-05-07T09:16:51.501078Z"
    }
   },
   "id": "initial_id",
   "execution_count": 20
  },
  {
   "cell_type": "code",
   "outputs": [
    {
     "data": {
      "text/plain": "             시설명  어른관람료      운영기관전화번호  분류 지역번호\n0     필암서원 유물전시관    500  061-390-7224  일반  061\n1        원주역사박물관      0  033-737-4371  일반  033\n2        뮤지엄산미술관  15000  033-730-9000  일반  033\n3      오랜미래신화미술관      0  033-746-5256  일반  033\n4    연세대학교 원주박물관      0  033-760-2731  대학  033\n..           ...    ...           ...  ..  ...\n895        함양박물관      0  055-960-5532  일반  055\n896         박물관수   5000  053-744-5500  일반  053\n897    대구은행금융박물관      0  053-740-2061  일반  053\n898      국립대구박물관      0  053-768-6051  일반  053\n899    증평민속체험박물관      0  043-835-4161  일반  043\n\n[900 rows x 5 columns]",
      "text/html": "<div>\n<style scoped>\n    .dataframe tbody tr th:only-of-type {\n        vertical-align: middle;\n    }\n\n    .dataframe tbody tr th {\n        vertical-align: top;\n    }\n\n    .dataframe thead th {\n        text-align: right;\n    }\n</style>\n<table border=\"1\" class=\"dataframe\">\n  <thead>\n    <tr style=\"text-align: right;\">\n      <th></th>\n      <th>시설명</th>\n      <th>어른관람료</th>\n      <th>운영기관전화번호</th>\n      <th>분류</th>\n      <th>지역번호</th>\n    </tr>\n  </thead>\n  <tbody>\n    <tr>\n      <th>0</th>\n      <td>필암서원 유물전시관</td>\n      <td>500</td>\n      <td>061-390-7224</td>\n      <td>일반</td>\n      <td>061</td>\n    </tr>\n    <tr>\n      <th>1</th>\n      <td>원주역사박물관</td>\n      <td>0</td>\n      <td>033-737-4371</td>\n      <td>일반</td>\n      <td>033</td>\n    </tr>\n    <tr>\n      <th>2</th>\n      <td>뮤지엄산미술관</td>\n      <td>15000</td>\n      <td>033-730-9000</td>\n      <td>일반</td>\n      <td>033</td>\n    </tr>\n    <tr>\n      <th>3</th>\n      <td>오랜미래신화미술관</td>\n      <td>0</td>\n      <td>033-746-5256</td>\n      <td>일반</td>\n      <td>033</td>\n    </tr>\n    <tr>\n      <th>4</th>\n      <td>연세대학교 원주박물관</td>\n      <td>0</td>\n      <td>033-760-2731</td>\n      <td>대학</td>\n      <td>033</td>\n    </tr>\n    <tr>\n      <th>...</th>\n      <td>...</td>\n      <td>...</td>\n      <td>...</td>\n      <td>...</td>\n      <td>...</td>\n    </tr>\n    <tr>\n      <th>895</th>\n      <td>함양박물관</td>\n      <td>0</td>\n      <td>055-960-5532</td>\n      <td>일반</td>\n      <td>055</td>\n    </tr>\n    <tr>\n      <th>896</th>\n      <td>박물관수</td>\n      <td>5000</td>\n      <td>053-744-5500</td>\n      <td>일반</td>\n      <td>053</td>\n    </tr>\n    <tr>\n      <th>897</th>\n      <td>대구은행금융박물관</td>\n      <td>0</td>\n      <td>053-740-2061</td>\n      <td>일반</td>\n      <td>053</td>\n    </tr>\n    <tr>\n      <th>898</th>\n      <td>국립대구박물관</td>\n      <td>0</td>\n      <td>053-768-6051</td>\n      <td>일반</td>\n      <td>053</td>\n    </tr>\n    <tr>\n      <th>899</th>\n      <td>증평민속체험박물관</td>\n      <td>0</td>\n      <td>043-835-4161</td>\n      <td>일반</td>\n      <td>043</td>\n    </tr>\n  </tbody>\n</table>\n<p>900 rows × 5 columns</p>\n</div>"
     },
     "execution_count": 21,
     "metadata": {},
     "output_type": "execute_result"
    }
   ],
   "source": [
    "museum"
   ],
   "metadata": {
    "collapsed": false,
    "ExecuteTime": {
     "end_time": "2024-05-07T09:16:51.524874Z",
     "start_time": "2024-05-07T09:16:51.509521Z"
    }
   },
   "id": "5a3df779063feaeb",
   "execution_count": 21
  },
  {
   "cell_type": "code",
   "outputs": [
    {
     "data": {
      "text/plain": "    지역번호      지역명\n0     02    서울특별시\n1    031      경기도\n2    032    인천광역시\n3    033      강원도\n4    041     충청남도\n5    042    대전광역시\n6    043     충청북도\n7    044  세종특별자치시\n8    051    부산광역시\n9    052    울산광역시\n10   053    대구광역시\n11   054     경상북도\n12   055     경상남도\n13   061     전라남도\n14   062    광주광역시\n15   063     전라북도\n16   064  제주특별자치도\n17   070    인터넷전화\n18  1577     기타번호",
      "text/html": "<div>\n<style scoped>\n    .dataframe tbody tr th:only-of-type {\n        vertical-align: middle;\n    }\n\n    .dataframe tbody tr th {\n        vertical-align: top;\n    }\n\n    .dataframe thead th {\n        text-align: right;\n    }\n</style>\n<table border=\"1\" class=\"dataframe\">\n  <thead>\n    <tr style=\"text-align: right;\">\n      <th></th>\n      <th>지역번호</th>\n      <th>지역명</th>\n    </tr>\n  </thead>\n  <tbody>\n    <tr>\n      <th>0</th>\n      <td>02</td>\n      <td>서울특별시</td>\n    </tr>\n    <tr>\n      <th>1</th>\n      <td>031</td>\n      <td>경기도</td>\n    </tr>\n    <tr>\n      <th>2</th>\n      <td>032</td>\n      <td>인천광역시</td>\n    </tr>\n    <tr>\n      <th>3</th>\n      <td>033</td>\n      <td>강원도</td>\n    </tr>\n    <tr>\n      <th>4</th>\n      <td>041</td>\n      <td>충청남도</td>\n    </tr>\n    <tr>\n      <th>5</th>\n      <td>042</td>\n      <td>대전광역시</td>\n    </tr>\n    <tr>\n      <th>6</th>\n      <td>043</td>\n      <td>충청북도</td>\n    </tr>\n    <tr>\n      <th>7</th>\n      <td>044</td>\n      <td>세종특별자치시</td>\n    </tr>\n    <tr>\n      <th>8</th>\n      <td>051</td>\n      <td>부산광역시</td>\n    </tr>\n    <tr>\n      <th>9</th>\n      <td>052</td>\n      <td>울산광역시</td>\n    </tr>\n    <tr>\n      <th>10</th>\n      <td>053</td>\n      <td>대구광역시</td>\n    </tr>\n    <tr>\n      <th>11</th>\n      <td>054</td>\n      <td>경상북도</td>\n    </tr>\n    <tr>\n      <th>12</th>\n      <td>055</td>\n      <td>경상남도</td>\n    </tr>\n    <tr>\n      <th>13</th>\n      <td>061</td>\n      <td>전라남도</td>\n    </tr>\n    <tr>\n      <th>14</th>\n      <td>062</td>\n      <td>광주광역시</td>\n    </tr>\n    <tr>\n      <th>15</th>\n      <td>063</td>\n      <td>전라북도</td>\n    </tr>\n    <tr>\n      <th>16</th>\n      <td>064</td>\n      <td>제주특별자치도</td>\n    </tr>\n    <tr>\n      <th>17</th>\n      <td>070</td>\n      <td>인터넷전화</td>\n    </tr>\n    <tr>\n      <th>18</th>\n      <td>1577</td>\n      <td>기타번호</td>\n    </tr>\n  </tbody>\n</table>\n</div>"
     },
     "execution_count": 22,
     "metadata": {},
     "output_type": "execute_result"
    }
   ],
   "source": [
    "number"
   ],
   "metadata": {
    "collapsed": false,
    "ExecuteTime": {
     "end_time": "2024-05-07T09:16:51.525225Z",
     "start_time": "2024-05-07T09:16:51.517673Z"
    }
   },
   "id": "326a5ef7effad200",
   "execution_count": 22
  },
  {
   "cell_type": "code",
   "outputs": [
    {
     "data": {
      "text/plain": "             시설명  어른관람료      운영기관전화번호  분류 지역번호    지역명\n0     필암서원 유물전시관    500  061-390-7224  일반  061   전라남도\n1        원주역사박물관      0  033-737-4371  일반  033    강원도\n2        뮤지엄산미술관  15000  033-730-9000  일반  033    강원도\n3      오랜미래신화미술관      0  033-746-5256  일반  033    강원도\n4    연세대학교 원주박물관      0  033-760-2731  대학  033    강원도\n..           ...    ...           ...  ..  ...    ...\n895        함양박물관      0  055-960-5532  일반  055   경상남도\n896         박물관수   5000  053-744-5500  일반  053  대구광역시\n897    대구은행금융박물관      0  053-740-2061  일반  053  대구광역시\n898      국립대구박물관      0  053-768-6051  일반  053  대구광역시\n899    증평민속체험박물관      0  043-835-4161  일반  043   충청북도\n\n[900 rows x 6 columns]",
      "text/html": "<div>\n<style scoped>\n    .dataframe tbody tr th:only-of-type {\n        vertical-align: middle;\n    }\n\n    .dataframe tbody tr th {\n        vertical-align: top;\n    }\n\n    .dataframe thead th {\n        text-align: right;\n    }\n</style>\n<table border=\"1\" class=\"dataframe\">\n  <thead>\n    <tr style=\"text-align: right;\">\n      <th></th>\n      <th>시설명</th>\n      <th>어른관람료</th>\n      <th>운영기관전화번호</th>\n      <th>분류</th>\n      <th>지역번호</th>\n      <th>지역명</th>\n    </tr>\n  </thead>\n  <tbody>\n    <tr>\n      <th>0</th>\n      <td>필암서원 유물전시관</td>\n      <td>500</td>\n      <td>061-390-7224</td>\n      <td>일반</td>\n      <td>061</td>\n      <td>전라남도</td>\n    </tr>\n    <tr>\n      <th>1</th>\n      <td>원주역사박물관</td>\n      <td>0</td>\n      <td>033-737-4371</td>\n      <td>일반</td>\n      <td>033</td>\n      <td>강원도</td>\n    </tr>\n    <tr>\n      <th>2</th>\n      <td>뮤지엄산미술관</td>\n      <td>15000</td>\n      <td>033-730-9000</td>\n      <td>일반</td>\n      <td>033</td>\n      <td>강원도</td>\n    </tr>\n    <tr>\n      <th>3</th>\n      <td>오랜미래신화미술관</td>\n      <td>0</td>\n      <td>033-746-5256</td>\n      <td>일반</td>\n      <td>033</td>\n      <td>강원도</td>\n    </tr>\n    <tr>\n      <th>4</th>\n      <td>연세대학교 원주박물관</td>\n      <td>0</td>\n      <td>033-760-2731</td>\n      <td>대학</td>\n      <td>033</td>\n      <td>강원도</td>\n    </tr>\n    <tr>\n      <th>...</th>\n      <td>...</td>\n      <td>...</td>\n      <td>...</td>\n      <td>...</td>\n      <td>...</td>\n      <td>...</td>\n    </tr>\n    <tr>\n      <th>895</th>\n      <td>함양박물관</td>\n      <td>0</td>\n      <td>055-960-5532</td>\n      <td>일반</td>\n      <td>055</td>\n      <td>경상남도</td>\n    </tr>\n    <tr>\n      <th>896</th>\n      <td>박물관수</td>\n      <td>5000</td>\n      <td>053-744-5500</td>\n      <td>일반</td>\n      <td>053</td>\n      <td>대구광역시</td>\n    </tr>\n    <tr>\n      <th>897</th>\n      <td>대구은행금융박물관</td>\n      <td>0</td>\n      <td>053-740-2061</td>\n      <td>일반</td>\n      <td>053</td>\n      <td>대구광역시</td>\n    </tr>\n    <tr>\n      <th>898</th>\n      <td>국립대구박물관</td>\n      <td>0</td>\n      <td>053-768-6051</td>\n      <td>일반</td>\n      <td>053</td>\n      <td>대구광역시</td>\n    </tr>\n    <tr>\n      <th>899</th>\n      <td>증평민속체험박물관</td>\n      <td>0</td>\n      <td>043-835-4161</td>\n      <td>일반</td>\n      <td>043</td>\n      <td>충청북도</td>\n    </tr>\n  </tbody>\n</table>\n<p>900 rows × 6 columns</p>\n</div>"
     },
     "execution_count": 23,
     "metadata": {},
     "output_type": "execute_result"
    }
   ],
   "source": [
    "pd.merge(left=museum, right=number, how='left')"
   ],
   "metadata": {
    "collapsed": false,
    "ExecuteTime": {
     "end_time": "2024-05-07T09:16:51.528676Z",
     "start_time": "2024-05-07T09:16:51.522229Z"
    }
   },
   "id": "1dcc8583409f3f35",
   "execution_count": 23
  }
 ],
 "metadata": {
  "kernelspec": {
   "display_name": "Python 3",
   "language": "python",
   "name": "python3"
  },
  "language_info": {
   "codemirror_mode": {
    "name": "ipython",
    "version": 2
   },
   "file_extension": ".py",
   "mimetype": "text/x-python",
   "name": "python",
   "nbconvert_exporter": "python",
   "pygments_lexer": "ipython2",
   "version": "2.7.6"
  }
 },
 "nbformat": 4,
 "nbformat_minor": 5
}
