{
 "cells": [
  {
   "cell_type": "markdown",
   "source": [
    "## 차원이 많은 데이터의 장점"
   ],
   "metadata": {
    "collapsed": false
   },
   "id": "349874a68b43c936"
  },
  {
   "cell_type": "code",
   "outputs": [
    {
     "data": {
      "text/plain": "   recency  age  children  spent_all  purchase_num_all  family_size\n0       58   66         0       1617                25            1\n1       38   69         2         27                 6            3\n2       26   58         0        776                21            2\n3       26   39         1         53                 8            3\n4       94   42         1        422                19            3\n5       16   56         1        716                22            3\n6       34   52         1        590                21            2\n7       32   38         1        169                10            3\n8       19   49         1         46                 6            3\n9       68   73         2         49                 2            4",
      "text/html": "<div>\n<style scoped>\n    .dataframe tbody tr th:only-of-type {\n        vertical-align: middle;\n    }\n\n    .dataframe tbody tr th {\n        vertical-align: top;\n    }\n\n    .dataframe thead th {\n        text-align: right;\n    }\n</style>\n<table border=\"1\" class=\"dataframe\">\n  <thead>\n    <tr style=\"text-align: right;\">\n      <th></th>\n      <th>recency</th>\n      <th>age</th>\n      <th>children</th>\n      <th>spent_all</th>\n      <th>purchase_num_all</th>\n      <th>family_size</th>\n    </tr>\n  </thead>\n  <tbody>\n    <tr>\n      <th>0</th>\n      <td>58</td>\n      <td>66</td>\n      <td>0</td>\n      <td>1617</td>\n      <td>25</td>\n      <td>1</td>\n    </tr>\n    <tr>\n      <th>1</th>\n      <td>38</td>\n      <td>69</td>\n      <td>2</td>\n      <td>27</td>\n      <td>6</td>\n      <td>3</td>\n    </tr>\n    <tr>\n      <th>2</th>\n      <td>26</td>\n      <td>58</td>\n      <td>0</td>\n      <td>776</td>\n      <td>21</td>\n      <td>2</td>\n    </tr>\n    <tr>\n      <th>3</th>\n      <td>26</td>\n      <td>39</td>\n      <td>1</td>\n      <td>53</td>\n      <td>8</td>\n      <td>3</td>\n    </tr>\n    <tr>\n      <th>4</th>\n      <td>94</td>\n      <td>42</td>\n      <td>1</td>\n      <td>422</td>\n      <td>19</td>\n      <td>3</td>\n    </tr>\n    <tr>\n      <th>5</th>\n      <td>16</td>\n      <td>56</td>\n      <td>1</td>\n      <td>716</td>\n      <td>22</td>\n      <td>3</td>\n    </tr>\n    <tr>\n      <th>6</th>\n      <td>34</td>\n      <td>52</td>\n      <td>1</td>\n      <td>590</td>\n      <td>21</td>\n      <td>2</td>\n    </tr>\n    <tr>\n      <th>7</th>\n      <td>32</td>\n      <td>38</td>\n      <td>1</td>\n      <td>169</td>\n      <td>10</td>\n      <td>3</td>\n    </tr>\n    <tr>\n      <th>8</th>\n      <td>19</td>\n      <td>49</td>\n      <td>1</td>\n      <td>46</td>\n      <td>6</td>\n      <td>3</td>\n    </tr>\n    <tr>\n      <th>9</th>\n      <td>68</td>\n      <td>73</td>\n      <td>2</td>\n      <td>49</td>\n      <td>2</td>\n      <td>4</td>\n    </tr>\n  </tbody>\n</table>\n</div>"
     },
     "execution_count": 20,
     "metadata": {},
     "output_type": "execute_result"
    }
   ],
   "source": [
    "import pandas as pd\n",
    "\n",
    "user = pd.read_csv('data/custom_data.csv')\n",
    "user.head(10)"
   ],
   "metadata": {
    "collapsed": true,
    "ExecuteTime": {
     "end_time": "2024-07-04T08:14:15.984856Z",
     "start_time": "2024-07-04T08:14:15.970132Z"
    }
   },
   "id": "initial_id",
   "execution_count": 20
  },
  {
   "cell_type": "markdown",
   "source": [
    "위의 데이터는 변수가 6개이기 때문에 6차원 데이터\n",
    "\n",
    "recency: 최근 구매일로부터 경과일\n",
    "age: 나이\n",
    "children: 자녀 명수\n",
    "spent_all: 총 구매 금액\n",
    "purchase_num_all: 총 구매 횟수\n",
    "family_size: 총 가족 구성원 수\n",
    "\n",
    "\n",
    "차원이 높은 데이터를 분석에 활용하면 더 많은 정보를 반영한 결과를 얻을 수 있습니다.\n",
    "\n",
    "\n",
    "## 차원의 저주란?\n",
    "데이터의 차원이 높아지면 좀 더 많은 정보를 나타낼 수 있지만,\n",
    "오히려 데이터의 차원이 너무 많아지면 분석의 정확도가 떨어지는 현상이 발생, 이것을 차원의 저주라고 함"
   ],
   "metadata": {
    "collapsed": false
   },
   "id": "7ce21dd281b46dea"
  },
  {
   "cell_type": "markdown",
   "source": [
    "차원의 저주가 발생하는 상황을 직접 확인하기 위해 user 데이터의 클러스터링 결과를 차원의 수에 따라 비교\n",
    "6차원 데이터로 클러스터 개수 k를 1부터 9까지 바꿔가며 모델을 학습시킨 결과의 성능 지표인 inertia를 시각화한 그래프"
   ],
   "metadata": {
    "collapsed": false
   },
   "id": "bbcd7b0b7c960d66"
  },
  {
   "cell_type": "code",
   "outputs": [
    {
     "data": {
      "text/plain": "<Axes: >"
     },
     "execution_count": 21,
     "metadata": {},
     "output_type": "execute_result"
    },
    {
     "data": {
      "text/plain": "<Figure size 640x480 with 1 Axes>",
      "image/png": "[encoded data removed]"
     },
     "metadata": {},
     "output_type": "display_data"
    }
   ],
   "source": [
    "from sklearn.cluster import KMeans\n",
    "import seaborn as sns\n",
    "from matplotlib import pyplot as plt\n",
    "\n",
    "# 데이터 스케일링\n",
    "from sklearn.preprocessing import StandardScaler\n",
    "\n",
    "scaler = StandardScaler()\n",
    "scaled_df = scaler.fit_transform(user)\n",
    "\n",
    "# 클러스터링\n",
    "ks = range(1,10)\n",
    "inertias = []\n",
    "\n",
    "for k in ks:\n",
    "    model = KMeans(n_clusters=k)\n",
    "    model.fit(scaled_df)\n",
    "    inertias.append(model.inertia_)\n",
    "    \n",
    "# 시각화\n",
    "sns.lineplot(x=ks, y=inertias, marker='o')"
   ],
   "metadata": {
    "collapsed": false,
    "ExecuteTime": {
     "end_time": "2024-07-04T08:14:16.579564Z",
     "start_time": "2024-07-04T08:14:15.996091Z"
    }
   },
   "id": "fe560c3fb31d80b3",
   "execution_count": 21
  },
  {
   "cell_type": "code",
   "outputs": [
    {
     "data": {
      "text/plain": "<Axes: >"
     },
     "execution_count": 22,
     "metadata": {},
     "output_type": "execute_result"
    },
    {
     "data": {
      "text/plain": "<Figure size 640x480 with 1 Axes>",
      "image/png": "[encoded data removed]"
     },
     "metadata": {},
     "output_type": "display_data"
    }
   ],
   "source": [
    "from sklearn.decomposition import PCA\n",
    "\n",
    "pca = PCA(n_components=2) #n_components : 유지할 차원의 갯수\n",
    "\n",
    "# PCA적용\n",
    "pca.fit(scaled_df)\n",
    "scaled_df_pca = pca.transform(scaled_df)\n",
    "pca_df = pd.DataFrame(scaled_df_pca)\n",
    "\n",
    "# 클러스터링\n",
    "ks = range(1,10)\n",
    "inertias = []\n",
    "\n",
    "for k in ks:\n",
    "    model = KMeans(n_clusters=k)\n",
    "    model.fit(scaled_df_pca)\n",
    "    inertias.append(model.inertia_)\n",
    "    \n",
    "# 시각화\n",
    "sns.lineplot(x=ks, y=inertias, marker='o')"
   ],
   "metadata": {
    "collapsed": false,
    "ExecuteTime": {
     "end_time": "2024-07-04T08:14:16.754840Z",
     "start_time": "2024-07-04T08:14:16.592113Z"
    }
   },
   "id": "41e357da69bcd1d",
   "execution_count": 22
  },
  {
   "cell_type": "markdown",
   "source": [
    "두 그래프를 비교해 보면, 차원이 2개인 데이터로 클러스터링 한 결과가 \n",
    "차원이 6개인 데이터로 클러스터링 한 결과보다 모든 클러스터 개수 k에서 inertia 값이 작은 것을 알 수 있다. \n",
    "즉, 차원의 개수가 더 작을수록 클러스터링의 결과로 모인 데이터들이 더 많이 유사하고, 성능이 좋게 나온다."
   ],
   "metadata": {
    "collapsed": false
   },
   "id": "92d18b95ed6745a9"
  },
  {
   "cell_type": "markdown",
   "source": [
    "차원 축소에는 크게 두 가지 접근법\n",
    "1. 차원 선택\n",
    "2. 차원 추출"
   ],
   "metadata": {
    "collapsed": false
   },
   "id": "808072a2181d37bf"
  },
  {
   "cell_type": "markdown",
   "source": [
    "## 차원 선택\n",
    "-- 첫 번째는 전체 차원 중 의미 있다고 판단되는 것들만 선택해서 사용하는 차원 선택이란 방법"
   ],
   "metadata": {
    "collapsed": false
   },
   "id": "eac76d514a70e8f3"
  },
  {
   "cell_type": "code",
   "outputs": [
    {
     "data": {
      "text/plain": "   recency  age  children  spent_all  purchase_num_all  family_size\n0       58   66         0       1617                25            1\n1       38   69         2         27                 6            3\n2       26   58         0        776                21            2\n3       26   39         1         53                 8            3\n4       94   42         1        422                19            3\n5       16   56         1        716                22            3\n6       34   52         1        590                21            2\n7       32   38         1        169                10            3\n8       19   49         1         46                 6            3\n9       68   73         2         49                 2            4",
      "text/html": "<div>\n<style scoped>\n    .dataframe tbody tr th:only-of-type {\n        vertical-align: middle;\n    }\n\n    .dataframe tbody tr th {\n        vertical-align: top;\n    }\n\n    .dataframe thead th {\n        text-align: right;\n    }\n</style>\n<table border=\"1\" class=\"dataframe\">\n  <thead>\n    <tr style=\"text-align: right;\">\n      <th></th>\n      <th>recency</th>\n      <th>age</th>\n      <th>children</th>\n      <th>spent_all</th>\n      <th>purchase_num_all</th>\n      <th>family_size</th>\n    </tr>\n  </thead>\n  <tbody>\n    <tr>\n      <th>0</th>\n      <td>58</td>\n      <td>66</td>\n      <td>0</td>\n      <td>1617</td>\n      <td>25</td>\n      <td>1</td>\n    </tr>\n    <tr>\n      <th>1</th>\n      <td>38</td>\n      <td>69</td>\n      <td>2</td>\n      <td>27</td>\n      <td>6</td>\n      <td>3</td>\n    </tr>\n    <tr>\n      <th>2</th>\n      <td>26</td>\n      <td>58</td>\n      <td>0</td>\n      <td>776</td>\n      <td>21</td>\n      <td>2</td>\n    </tr>\n    <tr>\n      <th>3</th>\n      <td>26</td>\n      <td>39</td>\n      <td>1</td>\n      <td>53</td>\n      <td>8</td>\n      <td>3</td>\n    </tr>\n    <tr>\n      <th>4</th>\n      <td>94</td>\n      <td>42</td>\n      <td>1</td>\n      <td>422</td>\n      <td>19</td>\n      <td>3</td>\n    </tr>\n    <tr>\n      <th>5</th>\n      <td>16</td>\n      <td>56</td>\n      <td>1</td>\n      <td>716</td>\n      <td>22</td>\n      <td>3</td>\n    </tr>\n    <tr>\n      <th>6</th>\n      <td>34</td>\n      <td>52</td>\n      <td>1</td>\n      <td>590</td>\n      <td>21</td>\n      <td>2</td>\n    </tr>\n    <tr>\n      <th>7</th>\n      <td>32</td>\n      <td>38</td>\n      <td>1</td>\n      <td>169</td>\n      <td>10</td>\n      <td>3</td>\n    </tr>\n    <tr>\n      <th>8</th>\n      <td>19</td>\n      <td>49</td>\n      <td>1</td>\n      <td>46</td>\n      <td>6</td>\n      <td>3</td>\n    </tr>\n    <tr>\n      <th>9</th>\n      <td>68</td>\n      <td>73</td>\n      <td>2</td>\n      <td>49</td>\n      <td>2</td>\n      <td>4</td>\n    </tr>\n  </tbody>\n</table>\n</div>"
     },
     "execution_count": 23,
     "metadata": {},
     "output_type": "execute_result"
    }
   ],
   "source": [
    "user.head(10)"
   ],
   "metadata": {
    "collapsed": false,
    "ExecuteTime": {
     "end_time": "2024-07-04T08:14:16.763385Z",
     "start_time": "2024-07-04T08:14:16.758847Z"
    }
   },
   "id": "cfa9a614ba987a80",
   "execution_count": 23
  },
  {
   "cell_type": "markdown",
   "source": [
    "자녀가 있는 집은 가족 구성원수가 더 많으므로 의미상 죽보되는 경우 두 변수중 하나를 선택하여 제거"
   ],
   "metadata": {
    "collapsed": false
   },
   "id": "4684e81c9a627c23"
  },
  {
   "cell_type": "code",
   "outputs": [
    {
     "data": {
      "text/plain": "   recency  age  spent_all  purchase_num_all  family_size\n0       58   66       1617                25            1\n1       38   69         27                 6            3\n2       26   58        776                21            2\n3       26   39         53                 8            3\n4       94   42        422                19            3\n5       16   56        716                22            3\n6       34   52        590                21            2\n7       32   38        169                10            3\n8       19   49         46                 6            3\n9       68   73         49                 2            4",
      "text/html": "<div>\n<style scoped>\n    .dataframe tbody tr th:only-of-type {\n        vertical-align: middle;\n    }\n\n    .dataframe tbody tr th {\n        vertical-align: top;\n    }\n\n    .dataframe thead th {\n        text-align: right;\n    }\n</style>\n<table border=\"1\" class=\"dataframe\">\n  <thead>\n    <tr style=\"text-align: right;\">\n      <th></th>\n      <th>recency</th>\n      <th>age</th>\n      <th>spent_all</th>\n      <th>purchase_num_all</th>\n      <th>family_size</th>\n    </tr>\n  </thead>\n  <tbody>\n    <tr>\n      <th>0</th>\n      <td>58</td>\n      <td>66</td>\n      <td>1617</td>\n      <td>25</td>\n      <td>1</td>\n    </tr>\n    <tr>\n      <th>1</th>\n      <td>38</td>\n      <td>69</td>\n      <td>27</td>\n      <td>6</td>\n      <td>3</td>\n    </tr>\n    <tr>\n      <th>2</th>\n      <td>26</td>\n      <td>58</td>\n      <td>776</td>\n      <td>21</td>\n      <td>2</td>\n    </tr>\n    <tr>\n      <th>3</th>\n      <td>26</td>\n      <td>39</td>\n      <td>53</td>\n      <td>8</td>\n      <td>3</td>\n    </tr>\n    <tr>\n      <th>4</th>\n      <td>94</td>\n      <td>42</td>\n      <td>422</td>\n      <td>19</td>\n      <td>3</td>\n    </tr>\n    <tr>\n      <th>5</th>\n      <td>16</td>\n      <td>56</td>\n      <td>716</td>\n      <td>22</td>\n      <td>3</td>\n    </tr>\n    <tr>\n      <th>6</th>\n      <td>34</td>\n      <td>52</td>\n      <td>590</td>\n      <td>21</td>\n      <td>2</td>\n    </tr>\n    <tr>\n      <th>7</th>\n      <td>32</td>\n      <td>38</td>\n      <td>169</td>\n      <td>10</td>\n      <td>3</td>\n    </tr>\n    <tr>\n      <th>8</th>\n      <td>19</td>\n      <td>49</td>\n      <td>46</td>\n      <td>6</td>\n      <td>3</td>\n    </tr>\n    <tr>\n      <th>9</th>\n      <td>68</td>\n      <td>73</td>\n      <td>49</td>\n      <td>2</td>\n      <td>4</td>\n    </tr>\n  </tbody>\n</table>\n</div>"
     },
     "execution_count": 24,
     "metadata": {},
     "output_type": "execute_result"
    }
   ],
   "source": [
    "user = user.drop('children', axis=1)\n",
    "user.head(10)"
   ],
   "metadata": {
    "collapsed": false,
    "ExecuteTime": {
     "end_time": "2024-07-04T08:14:16.770863Z",
     "start_time": "2024-07-04T08:14:16.766341Z"
    }
   },
   "id": "443afad72f22cca0",
   "execution_count": 24
  },
  {
   "cell_type": "markdown",
   "source": [
    "변수들 간의 관계를 통해 덜 중요하거나 불필요한 변수를 찾아 데이터에서 빼는 작업을 차원 선택"
   ],
   "metadata": {
    "collapsed": false
   },
   "id": "625a2e19b6a33418"
  },
  {
   "cell_type": "markdown",
   "source": [
    "## 차원 추출\n",
    "데이터를 가장 잘 설명하는 차원을 새롭게 생성하여 차원을 줄이는 방법\n",
    "\n",
    "1. PCA(Principal Component Analysis)\n",
    "- PCA는 고차원 데이터의 특성을 최대한 잘 반영하는 축인 주성분을 찾아서 데이터를 저차원으로 투영하는 방법"
   ],
   "metadata": {
    "collapsed": false
   },
   "id": "6fa2b3d2ee822a8"
  },
  {
   "cell_type": "markdown",
   "source": [
    "## PCA의 동작 과정\n",
    "1. 데이터 표준화 및 원점 이동\n",
    "- 단위 통일 및 데이터의 중심 지점이 원점이 되도록 위치 이동\n",
    "\n",
    "2.  주성분 찾기\n",
    "- 주성분이란?  데이터들의 중심(원점)을 지나면서 모든 데이터들에서의 수직 거리의 합이 가장 가깝도록 하는 선\n",
    "- n차원이면 선은 n개\n",
    "\n",
    "3. 데이터 투영하기\n",
    "- 투영이란, 쉽게 얘기해서 데이터들을 주성분 위로 옮기는 과정을 의미\n",
    "\n",
    "4. 새로운 축 기준으로 데이터 회전하기\n",
    "- 새롭게 만들어진 변수인 첫 번째 주성분(PC1)과 두 번째 주성분(PC2)이 각각 x축과 y축이 될 수 있도록 축과 데이터 전체를 회전\n",
    "- 만약에 2차원인 데이터를 1차원으로 줄이고 싶다면 PC1만을 사용해서 데이터를 나타내면 됩니다.\n",
    "- 2차원으로 나타내려면 PC1과 PC2 두 개의 축으로 이루어진 좌표 평면에 데이터들을 표현\n"
   ],
   "metadata": {
    "collapsed": false
   },
   "id": "36d6367543930fc5"
  },
  {
   "cell_type": "markdown",
   "source": [
    "## 주성분 찾는 방법\n",
    " 데이터와 주성분 사이의 거리가 최소가 되도록 선을 찾으면 주성분으로 데이터들을 투영했을 때 해당 데이터가 퍼져있는 정도, 즉 분산이 커집니다.\n",
    " \n",
    "1. PCA에서 데이터의 특징을 가장 잘 설명하는 주성분을 찾는 것은 데이터들과 선 사이의 수직 거리 합이 최소가 되는 선을 찾으면 되는 것\n",
    ": PCA 연산에서는 투영하였을 때 데이터들 사이의 분산이 최대가 되도록 하는 선을 찾는 방식으로 주성분을 찾습니다.\n"
   ],
   "metadata": {
    "collapsed": false
   },
   "id": "a7dc47a312628351"
  },
  {
   "cell_type": "code",
   "outputs": [],
   "source": [],
   "metadata": {
    "collapsed": false
   },
   "id": "ef433bc89ea5d578"
  }
 ],
 "metadata": {
  "kernelspec": {
   "display_name": "Python 3",
   "language": "python",
   "name": "python3"
  },
  "language_info": {
   "codemirror_mode": {
    "name": "ipython",
    "version": 2
   },
   "file_extension": ".py",
   "mimetype": "text/x-python",
   "name": "python",
   "nbconvert_exporter": "python",
   "pygments_lexer": "ipython2",
   "version": "2.7.6"
  }
 },
 "nbformat": 4,
 "nbformat_minor": 5
}
