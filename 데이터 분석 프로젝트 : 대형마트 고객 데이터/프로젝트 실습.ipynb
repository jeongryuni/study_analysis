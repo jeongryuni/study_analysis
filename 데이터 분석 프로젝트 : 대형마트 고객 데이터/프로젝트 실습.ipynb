{
 "cells": [
  {
   "cell_type": "markdown",
   "source": [
    "# 실습 설명\n",
    "대형 마트 고객 데이터를 가지고 RFM 분석을 해 봅시다. 데이터에는 고객의 출생 연도와 소득, 최근에 언제 구매를 했는지, 어떤 품목에 얼마나 많은 돈을 썼는지, 구매를 얼마나 자주 했는지, 프로모션에는 얼마나 참여했는지 등 다양한 정보가 담겨 있어요. 최종 목표는 RFM 분석을 통해 고객 세그먼트를 나눠 보고, 매출에 크게 기여하는 고객들을 놓치지 않기 위해 어떤 마케팅 전략을 수립하면 좋을지 생각해 보는 겁니다. 어떻게 해야 할지 잘 모르겠다면 아래 가이드라인을 참고하여 코드를 작성해 보세요!"
   ],
   "metadata": {
    "collapsed": false
   },
   "id": "7de0e0c860d3bd47"
  },
  {
   "cell_type": "markdown",
   "source": [
    "데이터 설명\n",
    "이번 실습에 사용되는 데이터는 컬럼의 개수도 많고 컬럼 이름도 영어로 되어 있는데요. 이곳에 각 컬럼의 의미를 설명해 둘 테니 이를 토대로 실습을 진행하시기 바랍니다. 참고로 이 데이터에는 2020년 10월부터 2022년 9월까지 가입한 고객들의 정보가 들어 있어요. 2023년 1월을 기준으로 데이터를 분석한다고 가정하고 프로젝트를 진행해 보세요!\n",
    "\n",
    "ID: 임의의 값으로 부여된 고객 아이디\n",
    "signup_ym: 고객 가입 연월\n",
    "birth_year: 출생 연도\n",
    "annual_income: 연 소득\n",
    "marital_status: 혼인 상태\n",
    "children: 부양 자녀 수\n",
    "recency: 마지막 구매일로부터 기준 시점까지 경과된 날\n",
    "amount_alcohol: 주류 구매 금액\n",
    "amount_fruit: 과일 구매 금액\n",
    "amount_meat: 육류 구매 금액\n",
    "amount_fish: 수산물 구매 금액\n",
    "amount_snack: 과자 구매 금액\n",
    "amount_general: 잡화 구매 금액\n",
    "num_purchase_web: 웹 페이지를 통한 구매 횟수\n",
    "num_purchase_store: 매장 방문을 통한 구매 횟수\n",
    "num_purchase_discount: 할인을 통한 구매 횟수\n",
    "promotion_{숫자}: 프로모션 1부터 프로모션 6까지 각각 참여했는지 여부를 나타내며 참여 시 1, 아닐 시 0으로 표시\n",
    "revenue: 수익"
   ],
   "metadata": {
    "collapsed": false
   },
   "id": "26276d7032eeaa6b"
  },
  {
   "cell_type": "markdown",
   "source": [
    "## 가이드라인\n",
    "\n",
    "### 1. 데이터 불러오기\n",
    "data 폴더 안에 있는 customer_data.csv 파일을 DataFrame으로 불러옵시다.\n",
    "### 2. 데이터 탐색 및 전처리\n",
    "데이터 개수, 컬럼별 데이터 타입, 통계 정보, 결측값 존재 여부 등을 확인해 보세요.\n",
    "각 컬럼이 어떤 값들로 이루어져 있는지 확인해 보세요.\n",
    "결측값이 있다면 다른 값으로 채우거나 해당 로우를 제거해 보세요.\n",
    "고객마다 총 구매 금액, 총 구매 횟수를 계산해 보세요.\n",
    "데이터 분석에 불필요한 컬럼은 없는지 확인해 보세요.\n",
    "### 3. 데이터 분석\n",
    "고객들의 연령, 소득, 가족 구성 등 인구통계학적 정보를 파악해 보세요.\n",
    "이상값이 존재한다면 적절히 처리해 보세요.\n",
    "RFM 분석 방법에 따라 고객 세그먼트를 분류해 보세요.\n",
    "고객 세그먼트별로 고객 특성 및 소비 성향을 분석해 보세요.\n",
    "더 알아보고 싶은 게 있다면 원하는 대로 자유롭게 데이터를 탐색해 보세요!\n"
   ],
   "metadata": {
    "collapsed": false
   },
   "id": "237caecce7054a98"
  },
  {
   "cell_type": "markdown",
   "source": [
    "## 1. 데이터 불러오기"
   ],
   "metadata": {
    "collapsed": false
   },
   "id": "22d6c9b836708194"
  },
  {
   "cell_type": "code",
   "execution_count": 315,
   "id": "initial_id",
   "metadata": {
    "collapsed": true,
    "ExecuteTime": {
     "end_time": "2024-05-15T10:18:06.576020Z",
     "start_time": "2024-05-15T10:18:06.252221Z"
    }
   },
   "outputs": [],
   "source": [
    "%matplotlib inline\n",
    "import pandas as pd\n",
    "import matplotlib.pyplot as plt   # as in Pycharm\n",
    "import seaborn as sns\n",
    "\n",
    "from matplotlib import rc \n",
    "\n",
    "rc('font', family='AppleGothic')\n",
    "plt.rcParams['axes.unicode_minus'] = False"
   ]
  },
  {
   "cell_type": "code",
   "outputs": [
    {
     "data": {
      "text/plain": "         ID signup_ym  birth_year  annual_income marital_status  children  \\\n0      5524   2020-12        1965     75579400.0             미혼         0   \n1      2174   2022-06        1962     60247200.0             미혼         2   \n2      4141   2021-11        1973     93096900.0         배우자 있음         0   \n3      6182   2022-05        1992     34639800.0         배우자 있음         1   \n4      5324   2022-04        1989     75780900.0         배우자 있음         1   \n...     ...       ...         ...            ...            ...       ...   \n2235  10870   2021-09        1975     79589900.0         배우자 있음         1   \n2236   4001   2022-09        1954     83218200.0         배우자 있음         3   \n2237   7270   2022-04        1989     74075300.0             이혼         0   \n2238   8235   2022-04        1964     90018500.0         배우자 있음         1   \n2239   9405   2021-01        1962     68729700.0         배우자 있음         2   \n\n      recency  amount_alcohol  amount_fruit  amount_meat  ...  \\\n0          58          825500        114400       709800  ...   \n1          38           14300          1300         7800  ...   \n2          26          553800         63700       165100  ...   \n3          26           14300          5200        26000  ...   \n4          94          224900         55900       153400  ...   \n...       ...             ...           ...          ...  ...   \n2235       46          921700         55900       236600  ...   \n2236       56          527800             0        39000  ...   \n2237       91         1180400         62400       282100  ...   \n2238        8          556400         39000       278200  ...   \n2239       40          109200          3900        79300  ...   \n\n      num_purchase_web  num_purchase_store  num_purchase_discount  \\\n0                    8                   4                      3   \n1                    1                   2                      2   \n2                    8                  10                      1   \n3                    2                   4                      2   \n4                    5                   6                      5   \n...                ...                 ...                    ...   \n2235                 9                   4                      2   \n2236                 8                   5                      7   \n2237                 2                  13                      1   \n2238                 6                  10                      2   \n2239                 3                   4                      3   \n\n      promotion_1  promotion_2  promotion_3  promotion_4  promotion_5  \\\n0               0            0            0            0            0   \n1               0            0            0            0            0   \n2               0            0            0            0            0   \n3               0            0            0            0            0   \n4               0            0            0            0            0   \n...           ...          ...          ...          ...          ...   \n2235            0            0            0            0            0   \n2236            1            0            0            0            0   \n2237            0            0            0            1            0   \n2238            0            0            0            0            0   \n2239            0            0            0            0            0   \n\n      promotion_6  revenue  \n0               1       11  \n1               0       11  \n2               0       11  \n3               0       11  \n4               0       11  \n...           ...      ...  \n2235            0       11  \n2236            0       11  \n2237            0       11  \n2238            0       11  \n2239            1       11  \n\n[2240 rows x 23 columns]",
      "text/html": "<div>\n<style scoped>\n    .dataframe tbody tr th:only-of-type {\n        vertical-align: middle;\n    }\n\n    .dataframe tbody tr th {\n        vertical-align: top;\n    }\n\n    .dataframe thead th {\n        text-align: right;\n    }\n</style>\n<table border=\"1\" class=\"dataframe\">\n  <thead>\n    <tr style=\"text-align: right;\">\n      <th></th>\n      <th>ID</th>\n      <th>signup_ym</th>\n      <th>birth_year</th>\n      <th>annual_income</th>\n      <th>marital_status</th>\n      <th>children</th>\n      <th>recency</th>\n      <th>amount_alcohol</th>\n      <th>amount_fruit</th>\n      <th>amount_meat</th>\n      <th>...</th>\n      <th>num_purchase_web</th>\n      <th>num_purchase_store</th>\n      <th>num_purchase_discount</th>\n      <th>promotion_1</th>\n      <th>promotion_2</th>\n      <th>promotion_3</th>\n      <th>promotion_4</th>\n      <th>promotion_5</th>\n      <th>promotion_6</th>\n      <th>revenue</th>\n    </tr>\n  </thead>\n  <tbody>\n    <tr>\n      <th>0</th>\n      <td>5524</td>\n      <td>2020-12</td>\n      <td>1965</td>\n      <td>75579400.0</td>\n      <td>미혼</td>\n      <td>0</td>\n      <td>58</td>\n      <td>825500</td>\n      <td>114400</td>\n      <td>709800</td>\n      <td>...</td>\n      <td>8</td>\n      <td>4</td>\n      <td>3</td>\n      <td>0</td>\n      <td>0</td>\n      <td>0</td>\n      <td>0</td>\n      <td>0</td>\n      <td>1</td>\n      <td>11</td>\n    </tr>\n    <tr>\n      <th>1</th>\n      <td>2174</td>\n      <td>2022-06</td>\n      <td>1962</td>\n      <td>60247200.0</td>\n      <td>미혼</td>\n      <td>2</td>\n      <td>38</td>\n      <td>14300</td>\n      <td>1300</td>\n      <td>7800</td>\n      <td>...</td>\n      <td>1</td>\n      <td>2</td>\n      <td>2</td>\n      <td>0</td>\n      <td>0</td>\n      <td>0</td>\n      <td>0</td>\n      <td>0</td>\n      <td>0</td>\n      <td>11</td>\n    </tr>\n    <tr>\n      <th>2</th>\n      <td>4141</td>\n      <td>2021-11</td>\n      <td>1973</td>\n      <td>93096900.0</td>\n      <td>배우자 있음</td>\n      <td>0</td>\n      <td>26</td>\n      <td>553800</td>\n      <td>63700</td>\n      <td>165100</td>\n      <td>...</td>\n      <td>8</td>\n      <td>10</td>\n      <td>1</td>\n      <td>0</td>\n      <td>0</td>\n      <td>0</td>\n      <td>0</td>\n      <td>0</td>\n      <td>0</td>\n      <td>11</td>\n    </tr>\n    <tr>\n      <th>3</th>\n      <td>6182</td>\n      <td>2022-05</td>\n      <td>1992</td>\n      <td>34639800.0</td>\n      <td>배우자 있음</td>\n      <td>1</td>\n      <td>26</td>\n      <td>14300</td>\n      <td>5200</td>\n      <td>26000</td>\n      <td>...</td>\n      <td>2</td>\n      <td>4</td>\n      <td>2</td>\n      <td>0</td>\n      <td>0</td>\n      <td>0</td>\n      <td>0</td>\n      <td>0</td>\n      <td>0</td>\n      <td>11</td>\n    </tr>\n    <tr>\n      <th>4</th>\n      <td>5324</td>\n      <td>2022-04</td>\n      <td>1989</td>\n      <td>75780900.0</td>\n      <td>배우자 있음</td>\n      <td>1</td>\n      <td>94</td>\n      <td>224900</td>\n      <td>55900</td>\n      <td>153400</td>\n      <td>...</td>\n      <td>5</td>\n      <td>6</td>\n      <td>5</td>\n      <td>0</td>\n      <td>0</td>\n      <td>0</td>\n      <td>0</td>\n      <td>0</td>\n      <td>0</td>\n      <td>11</td>\n    </tr>\n    <tr>\n      <th>...</th>\n      <td>...</td>\n      <td>...</td>\n      <td>...</td>\n      <td>...</td>\n      <td>...</td>\n      <td>...</td>\n      <td>...</td>\n      <td>...</td>\n      <td>...</td>\n      <td>...</td>\n      <td>...</td>\n      <td>...</td>\n      <td>...</td>\n      <td>...</td>\n      <td>...</td>\n      <td>...</td>\n      <td>...</td>\n      <td>...</td>\n      <td>...</td>\n      <td>...</td>\n      <td>...</td>\n    </tr>\n    <tr>\n      <th>2235</th>\n      <td>10870</td>\n      <td>2021-09</td>\n      <td>1975</td>\n      <td>79589900.0</td>\n      <td>배우자 있음</td>\n      <td>1</td>\n      <td>46</td>\n      <td>921700</td>\n      <td>55900</td>\n      <td>236600</td>\n      <td>...</td>\n      <td>9</td>\n      <td>4</td>\n      <td>2</td>\n      <td>0</td>\n      <td>0</td>\n      <td>0</td>\n      <td>0</td>\n      <td>0</td>\n      <td>0</td>\n      <td>11</td>\n    </tr>\n    <tr>\n      <th>2236</th>\n      <td>4001</td>\n      <td>2022-09</td>\n      <td>1954</td>\n      <td>83218200.0</td>\n      <td>배우자 있음</td>\n      <td>3</td>\n      <td>56</td>\n      <td>527800</td>\n      <td>0</td>\n      <td>39000</td>\n      <td>...</td>\n      <td>8</td>\n      <td>5</td>\n      <td>7</td>\n      <td>1</td>\n      <td>0</td>\n      <td>0</td>\n      <td>0</td>\n      <td>0</td>\n      <td>0</td>\n      <td>11</td>\n    </tr>\n    <tr>\n      <th>2237</th>\n      <td>7270</td>\n      <td>2022-04</td>\n      <td>1989</td>\n      <td>74075300.0</td>\n      <td>이혼</td>\n      <td>0</td>\n      <td>91</td>\n      <td>1180400</td>\n      <td>62400</td>\n      <td>282100</td>\n      <td>...</td>\n      <td>2</td>\n      <td>13</td>\n      <td>1</td>\n      <td>0</td>\n      <td>0</td>\n      <td>0</td>\n      <td>1</td>\n      <td>0</td>\n      <td>0</td>\n      <td>11</td>\n    </tr>\n    <tr>\n      <th>2238</th>\n      <td>8235</td>\n      <td>2022-04</td>\n      <td>1964</td>\n      <td>90018500.0</td>\n      <td>배우자 있음</td>\n      <td>1</td>\n      <td>8</td>\n      <td>556400</td>\n      <td>39000</td>\n      <td>278200</td>\n      <td>...</td>\n      <td>6</td>\n      <td>10</td>\n      <td>2</td>\n      <td>0</td>\n      <td>0</td>\n      <td>0</td>\n      <td>0</td>\n      <td>0</td>\n      <td>0</td>\n      <td>11</td>\n    </tr>\n    <tr>\n      <th>2239</th>\n      <td>9405</td>\n      <td>2021-01</td>\n      <td>1962</td>\n      <td>68729700.0</td>\n      <td>배우자 있음</td>\n      <td>2</td>\n      <td>40</td>\n      <td>109200</td>\n      <td>3900</td>\n      <td>79300</td>\n      <td>...</td>\n      <td>3</td>\n      <td>4</td>\n      <td>3</td>\n      <td>0</td>\n      <td>0</td>\n      <td>0</td>\n      <td>0</td>\n      <td>0</td>\n      <td>1</td>\n      <td>11</td>\n    </tr>\n  </tbody>\n</table>\n<p>2240 rows × 23 columns</p>\n</div>"
     },
     "execution_count": 316,
     "metadata": {},
     "output_type": "execute_result"
    }
   ],
   "source": [
    "df = pd.read_csv('data/customer_data.csv', sep='\\t')\n",
    "df"
   ],
   "metadata": {
    "collapsed": false,
    "ExecuteTime": {
     "end_time": "2024-05-15T10:18:06.741416Z",
     "start_time": "2024-05-15T10:18:06.579298Z"
    }
   },
   "id": "75d610c6b0d0ae3e",
   "execution_count": 316
  },
  {
   "cell_type": "markdown",
   "source": [
    "## 2. 데이터 탐색 및 전처리"
   ],
   "metadata": {
    "collapsed": false
   },
   "id": "b84ad19a1fdaff21"
  },
  {
   "cell_type": "code",
   "outputs": [
    {
     "data": {
      "text/plain": "(2240, 23)"
     },
     "execution_count": 317,
     "metadata": {},
     "output_type": "execute_result"
    }
   ],
   "source": [
    "df.shape"
   ],
   "metadata": {
    "collapsed": false,
    "ExecuteTime": {
     "end_time": "2024-05-15T10:18:06.743334Z",
     "start_time": "2024-05-15T10:18:06.599498Z"
    }
   },
   "id": "db1373383382d9d7",
   "execution_count": 317
  },
  {
   "cell_type": "code",
   "outputs": [
    {
     "data": {
      "text/plain": "ID                         int64\nsignup_ym                 object\nbirth_year                 int64\nannual_income            float64\nmarital_status            object\nchildren                   int64\nrecency                    int64\namount_alcohol             int64\namount_fruit               int64\namount_meat                int64\namount_fish                int64\namount_snack               int64\namount_general             int64\nnum_purchase_web           int64\nnum_purchase_store         int64\nnum_purchase_discount      int64\npromotion_1                int64\npromotion_2                int64\npromotion_3                int64\npromotion_4                int64\npromotion_5                int64\npromotion_6                int64\nrevenue                    int64\ndtype: object"
     },
     "execution_count": 318,
     "metadata": {},
     "output_type": "execute_result"
    }
   ],
   "source": [
    "df.dtypes"
   ],
   "metadata": {
    "collapsed": false,
    "ExecuteTime": {
     "end_time": "2024-05-15T10:18:06.763586Z",
     "start_time": "2024-05-15T10:18:06.717166Z"
    }
   },
   "id": "cd37cd03dc355e91",
   "execution_count": 318
  },
  {
   "cell_type": "code",
   "outputs": [
    {
     "data": {
      "text/plain": "                  ID signup_ym   birth_year  annual_income marital_status  \\\ncount    2240.000000      2240  2240.000000   2.216000e+03           2240   \nunique           NaN        24          NaN            NaN              4   \ntop              NaN   2021-12          NaN            NaN         배우자 있음   \nfreq             NaN       111          NaN            NaN           1444   \nmean     5592.159821       NaN  1976.805804   6.792143e+07            NaN   \nstd      3246.662198       NaN    11.984069   3.272500e+07            NaN   \nmin         0.000000       NaN  1901.000000   2.249000e+06            NaN   \n25%      2828.250000       NaN  1967.000000   4.589390e+07            NaN   \n50%      5458.500000       NaN  1978.000000   6.679595e+07            NaN   \n75%      8427.750000       NaN  1985.000000   8.907860e+07            NaN   \nmax     11191.000000       NaN  2004.000000   8.666658e+08            NaN   \n\n           children      recency  amount_alcohol   amount_fruit   amount_meat  \\\ncount   2240.000000  2240.000000    2.240000e+03    2240.000000  2.240000e+03   \nunique          NaN          NaN             NaN            NaN           NaN   \ntop             NaN          NaN             NaN            NaN           NaN   \nfreq            NaN          NaN             NaN            NaN           NaN   \nmean       0.950446    49.109375    3.951164e+05   34192.901786  2.170350e+05   \nstd        0.751803    28.962453    4.375766e+05   51705.463894  2.934300e+05   \nmin        0.000000     0.000000    0.000000e+00       0.000000  0.000000e+00   \n25%        0.000000    24.000000    3.087500e+04    1300.000000  2.080000e+04   \n50%        1.000000    49.000000    2.255500e+05   10400.000000  8.710000e+04   \n75%        1.000000    74.000000    6.555250e+05   42900.000000  3.016000e+05   \nmax        3.000000    99.000000    1.940900e+06  258700.000000  2.242500e+06   \n\n        ...  num_purchase_web  num_purchase_store  num_purchase_discount  \\\ncount   ...       2240.000000         2240.000000            2240.000000   \nunique  ...               NaN                 NaN                    NaN   \ntop     ...               NaN                 NaN                    NaN   \nfreq    ...               NaN                 NaN                    NaN   \nmean    ...          4.084821            5.790179               2.325000   \nstd     ...          2.778714            3.250958               1.932238   \nmin     ...          0.000000            0.000000               0.000000   \n25%     ...          2.000000            3.000000               1.000000   \n50%     ...          4.000000            5.000000               2.000000   \n75%     ...          6.000000            8.000000               3.000000   \nmax     ...         27.000000           13.000000              15.000000   \n\n        promotion_1  promotion_2  promotion_3  promotion_4  promotion_5  \\\ncount   2240.000000  2240.000000  2240.000000  2240.000000  2240.000000   \nunique          NaN          NaN          NaN          NaN          NaN   \ntop             NaN          NaN          NaN          NaN          NaN   \nfreq            NaN          NaN          NaN          NaN          NaN   \nmean       0.064286     0.013393     0.072768     0.074554     0.072768   \nstd        0.245316     0.114976     0.259813     0.262728     0.259813   \nmin        0.000000     0.000000     0.000000     0.000000     0.000000   \n25%        0.000000     0.000000     0.000000     0.000000     0.000000   \n50%        0.000000     0.000000     0.000000     0.000000     0.000000   \n75%        0.000000     0.000000     0.000000     0.000000     0.000000   \nmax        1.000000     1.000000     1.000000     1.000000     1.000000   \n\n        promotion_6  revenue  \ncount   2240.000000   2240.0  \nunique          NaN      NaN  \ntop             NaN      NaN  \nfreq            NaN      NaN  \nmean       0.149107     11.0  \nstd        0.356274      0.0  \nmin        0.000000     11.0  \n25%        0.000000     11.0  \n50%        0.000000     11.0  \n75%        0.000000     11.0  \nmax        1.000000     11.0  \n\n[11 rows x 23 columns]",
      "text/html": "<div>\n<style scoped>\n    .dataframe tbody tr th:only-of-type {\n        vertical-align: middle;\n    }\n\n    .dataframe tbody tr th {\n        vertical-align: top;\n    }\n\n    .dataframe thead th {\n        text-align: right;\n    }\n</style>\n<table border=\"1\" class=\"dataframe\">\n  <thead>\n    <tr style=\"text-align: right;\">\n      <th></th>\n      <th>ID</th>\n      <th>signup_ym</th>\n      <th>birth_year</th>\n      <th>annual_income</th>\n      <th>marital_status</th>\n      <th>children</th>\n      <th>recency</th>\n      <th>amount_alcohol</th>\n      <th>amount_fruit</th>\n      <th>amount_meat</th>\n      <th>...</th>\n      <th>num_purchase_web</th>\n      <th>num_purchase_store</th>\n      <th>num_purchase_discount</th>\n      <th>promotion_1</th>\n      <th>promotion_2</th>\n      <th>promotion_3</th>\n      <th>promotion_4</th>\n      <th>promotion_5</th>\n      <th>promotion_6</th>\n      <th>revenue</th>\n    </tr>\n  </thead>\n  <tbody>\n    <tr>\n      <th>count</th>\n      <td>2240.000000</td>\n      <td>2240</td>\n      <td>2240.000000</td>\n      <td>2.216000e+03</td>\n      <td>2240</td>\n      <td>2240.000000</td>\n      <td>2240.000000</td>\n      <td>2.240000e+03</td>\n      <td>2240.000000</td>\n      <td>2.240000e+03</td>\n      <td>...</td>\n      <td>2240.000000</td>\n      <td>2240.000000</td>\n      <td>2240.000000</td>\n      <td>2240.000000</td>\n      <td>2240.000000</td>\n      <td>2240.000000</td>\n      <td>2240.000000</td>\n      <td>2240.000000</td>\n      <td>2240.000000</td>\n      <td>2240.0</td>\n    </tr>\n    <tr>\n      <th>unique</th>\n      <td>NaN</td>\n      <td>24</td>\n      <td>NaN</td>\n      <td>NaN</td>\n      <td>4</td>\n      <td>NaN</td>\n      <td>NaN</td>\n      <td>NaN</td>\n      <td>NaN</td>\n      <td>NaN</td>\n      <td>...</td>\n      <td>NaN</td>\n      <td>NaN</td>\n      <td>NaN</td>\n      <td>NaN</td>\n      <td>NaN</td>\n      <td>NaN</td>\n      <td>NaN</td>\n      <td>NaN</td>\n      <td>NaN</td>\n      <td>NaN</td>\n    </tr>\n    <tr>\n      <th>top</th>\n      <td>NaN</td>\n      <td>2021-12</td>\n      <td>NaN</td>\n      <td>NaN</td>\n      <td>배우자 있음</td>\n      <td>NaN</td>\n      <td>NaN</td>\n      <td>NaN</td>\n      <td>NaN</td>\n      <td>NaN</td>\n      <td>...</td>\n      <td>NaN</td>\n      <td>NaN</td>\n      <td>NaN</td>\n      <td>NaN</td>\n      <td>NaN</td>\n      <td>NaN</td>\n      <td>NaN</td>\n      <td>NaN</td>\n      <td>NaN</td>\n      <td>NaN</td>\n    </tr>\n    <tr>\n      <th>freq</th>\n      <td>NaN</td>\n      <td>111</td>\n      <td>NaN</td>\n      <td>NaN</td>\n      <td>1444</td>\n      <td>NaN</td>\n      <td>NaN</td>\n      <td>NaN</td>\n      <td>NaN</td>\n      <td>NaN</td>\n      <td>...</td>\n      <td>NaN</td>\n      <td>NaN</td>\n      <td>NaN</td>\n      <td>NaN</td>\n      <td>NaN</td>\n      <td>NaN</td>\n      <td>NaN</td>\n      <td>NaN</td>\n      <td>NaN</td>\n      <td>NaN</td>\n    </tr>\n    <tr>\n      <th>mean</th>\n      <td>5592.159821</td>\n      <td>NaN</td>\n      <td>1976.805804</td>\n      <td>6.792143e+07</td>\n      <td>NaN</td>\n      <td>0.950446</td>\n      <td>49.109375</td>\n      <td>3.951164e+05</td>\n      <td>34192.901786</td>\n      <td>2.170350e+05</td>\n      <td>...</td>\n      <td>4.084821</td>\n      <td>5.790179</td>\n      <td>2.325000</td>\n      <td>0.064286</td>\n      <td>0.013393</td>\n      <td>0.072768</td>\n      <td>0.074554</td>\n      <td>0.072768</td>\n      <td>0.149107</td>\n      <td>11.0</td>\n    </tr>\n    <tr>\n      <th>std</th>\n      <td>3246.662198</td>\n      <td>NaN</td>\n      <td>11.984069</td>\n      <td>3.272500e+07</td>\n      <td>NaN</td>\n      <td>0.751803</td>\n      <td>28.962453</td>\n      <td>4.375766e+05</td>\n      <td>51705.463894</td>\n      <td>2.934300e+05</td>\n      <td>...</td>\n      <td>2.778714</td>\n      <td>3.250958</td>\n      <td>1.932238</td>\n      <td>0.245316</td>\n      <td>0.114976</td>\n      <td>0.259813</td>\n      <td>0.262728</td>\n      <td>0.259813</td>\n      <td>0.356274</td>\n      <td>0.0</td>\n    </tr>\n    <tr>\n      <th>min</th>\n      <td>0.000000</td>\n      <td>NaN</td>\n      <td>1901.000000</td>\n      <td>2.249000e+06</td>\n      <td>NaN</td>\n      <td>0.000000</td>\n      <td>0.000000</td>\n      <td>0.000000e+00</td>\n      <td>0.000000</td>\n      <td>0.000000e+00</td>\n      <td>...</td>\n      <td>0.000000</td>\n      <td>0.000000</td>\n      <td>0.000000</td>\n      <td>0.000000</td>\n      <td>0.000000</td>\n      <td>0.000000</td>\n      <td>0.000000</td>\n      <td>0.000000</td>\n      <td>0.000000</td>\n      <td>11.0</td>\n    </tr>\n    <tr>\n      <th>25%</th>\n      <td>2828.250000</td>\n      <td>NaN</td>\n      <td>1967.000000</td>\n      <td>4.589390e+07</td>\n      <td>NaN</td>\n      <td>0.000000</td>\n      <td>24.000000</td>\n      <td>3.087500e+04</td>\n      <td>1300.000000</td>\n      <td>2.080000e+04</td>\n      <td>...</td>\n      <td>2.000000</td>\n      <td>3.000000</td>\n      <td>1.000000</td>\n      <td>0.000000</td>\n      <td>0.000000</td>\n      <td>0.000000</td>\n      <td>0.000000</td>\n      <td>0.000000</td>\n      <td>0.000000</td>\n      <td>11.0</td>\n    </tr>\n    <tr>\n      <th>50%</th>\n      <td>5458.500000</td>\n      <td>NaN</td>\n      <td>1978.000000</td>\n      <td>6.679595e+07</td>\n      <td>NaN</td>\n      <td>1.000000</td>\n      <td>49.000000</td>\n      <td>2.255500e+05</td>\n      <td>10400.000000</td>\n      <td>8.710000e+04</td>\n      <td>...</td>\n      <td>4.000000</td>\n      <td>5.000000</td>\n      <td>2.000000</td>\n      <td>0.000000</td>\n      <td>0.000000</td>\n      <td>0.000000</td>\n      <td>0.000000</td>\n      <td>0.000000</td>\n      <td>0.000000</td>\n      <td>11.0</td>\n    </tr>\n    <tr>\n      <th>75%</th>\n      <td>8427.750000</td>\n      <td>NaN</td>\n      <td>1985.000000</td>\n      <td>8.907860e+07</td>\n      <td>NaN</td>\n      <td>1.000000</td>\n      <td>74.000000</td>\n      <td>6.555250e+05</td>\n      <td>42900.000000</td>\n      <td>3.016000e+05</td>\n      <td>...</td>\n      <td>6.000000</td>\n      <td>8.000000</td>\n      <td>3.000000</td>\n      <td>0.000000</td>\n      <td>0.000000</td>\n      <td>0.000000</td>\n      <td>0.000000</td>\n      <td>0.000000</td>\n      <td>0.000000</td>\n      <td>11.0</td>\n    </tr>\n    <tr>\n      <th>max</th>\n      <td>11191.000000</td>\n      <td>NaN</td>\n      <td>2004.000000</td>\n      <td>8.666658e+08</td>\n      <td>NaN</td>\n      <td>3.000000</td>\n      <td>99.000000</td>\n      <td>1.940900e+06</td>\n      <td>258700.000000</td>\n      <td>2.242500e+06</td>\n      <td>...</td>\n      <td>27.000000</td>\n      <td>13.000000</td>\n      <td>15.000000</td>\n      <td>1.000000</td>\n      <td>1.000000</td>\n      <td>1.000000</td>\n      <td>1.000000</td>\n      <td>1.000000</td>\n      <td>1.000000</td>\n      <td>11.0</td>\n    </tr>\n  </tbody>\n</table>\n<p>11 rows × 23 columns</p>\n</div>"
     },
     "execution_count": 319,
     "metadata": {},
     "output_type": "execute_result"
    }
   ],
   "source": [
    "df.describe(include='all')"
   ],
   "metadata": {
    "collapsed": false,
    "ExecuteTime": {
     "end_time": "2024-05-15T10:18:06.928430Z",
     "start_time": "2024-05-15T10:18:06.763549Z"
    }
   },
   "id": "13f8c18e5d78df63",
   "execution_count": 319
  },
  {
   "cell_type": "code",
   "outputs": [
    {
     "data": {
      "text/plain": "ID                        0\nsignup_ym                 0\nbirth_year                0\nannual_income            24\nmarital_status            0\nchildren                  0\nrecency                   0\namount_alcohol            0\namount_fruit              0\namount_meat               0\namount_fish               0\namount_snack              0\namount_general            0\nnum_purchase_web          0\nnum_purchase_store        0\nnum_purchase_discount     0\npromotion_1               0\npromotion_2               0\npromotion_3               0\npromotion_4               0\npromotion_5               0\npromotion_6               0\nrevenue                   0\ndtype: int64"
     },
     "execution_count": 320,
     "metadata": {},
     "output_type": "execute_result"
    }
   ],
   "source": [
    "df.isnull().sum()"
   ],
   "metadata": {
    "collapsed": false,
    "ExecuteTime": {
     "end_time": "2024-05-15T10:18:06.968927Z",
     "start_time": "2024-05-15T10:18:06.870142Z"
    }
   },
   "id": "27480cac003a3963",
   "execution_count": 320
  },
  {
   "cell_type": "code",
   "outputs": [],
   "source": [
    "# 결측값 제거\n",
    "df.dropna(inplace=True)"
   ],
   "metadata": {
    "collapsed": false,
    "ExecuteTime": {
     "end_time": "2024-05-15T10:18:07.050197Z",
     "start_time": "2024-05-15T10:18:06.945122Z"
    }
   },
   "id": "325c7147d096db4b",
   "execution_count": 321
  },
  {
   "cell_type": "code",
   "outputs": [
    {
     "data": {
      "text/plain": "ID                       0\nsignup_ym                0\nbirth_year               0\nannual_income            0\nmarital_status           0\nchildren                 0\nrecency                  0\namount_alcohol           0\namount_fruit             0\namount_meat              0\namount_fish              0\namount_snack             0\namount_general           0\nnum_purchase_web         0\nnum_purchase_store       0\nnum_purchase_discount    0\npromotion_1              0\npromotion_2              0\npromotion_3              0\npromotion_4              0\npromotion_5              0\npromotion_6              0\nrevenue                  0\ndtype: int64"
     },
     "execution_count": 322,
     "metadata": {},
     "output_type": "execute_result"
    }
   ],
   "source": [
    "df.isnull().sum()"
   ],
   "metadata": {
    "collapsed": false,
    "ExecuteTime": {
     "end_time": "2024-05-15T10:18:07.073188Z",
     "start_time": "2024-05-15T10:18:07.015301Z"
    }
   },
   "id": "af398e0fe32fdff0",
   "execution_count": 322
  },
  {
   "cell_type": "code",
   "outputs": [
    {
     "data": {
      "text/plain": "         ID signup_ym  birth_year  annual_income marital_status  children  \\\n0      5524   2020-12        1965     75579400.0             미혼         0   \n1      2174   2022-06        1962     60247200.0             미혼         2   \n2      4141   2021-11        1973     93096900.0         배우자 있음         0   \n3      6182   2022-05        1992     34639800.0         배우자 있음         1   \n4      5324   2022-04        1989     75780900.0         배우자 있음         1   \n...     ...       ...         ...            ...            ...       ...   \n2235  10870   2021-09        1975     79589900.0         배우자 있음         1   \n2236   4001   2022-09        1954     83218200.0         배우자 있음         3   \n2237   7270   2022-04        1989     74075300.0             이혼         0   \n2238   8235   2022-04        1964     90018500.0         배우자 있음         1   \n2239   9405   2021-01        1962     68729700.0         배우자 있음         2   \n\n      recency  amount_alcohol  amount_fruit  amount_meat  ...  \\\n0          58          825500        114400       709800  ...   \n1          38           14300          1300         7800  ...   \n2          26          553800         63700       165100  ...   \n3          26           14300          5200        26000  ...   \n4          94          224900         55900       153400  ...   \n...       ...             ...           ...          ...  ...   \n2235       46          921700         55900       236600  ...   \n2236       56          527800             0        39000  ...   \n2237       91         1180400         62400       282100  ...   \n2238        8          556400         39000       278200  ...   \n2239       40          109200          3900        79300  ...   \n\n      num_purchase_store  num_purchase_discount  promotion_1  promotion_2  \\\n0                      4                      3            0            0   \n1                      2                      2            0            0   \n2                     10                      1            0            0   \n3                      4                      2            0            0   \n4                      6                      5            0            0   \n...                  ...                    ...          ...          ...   \n2235                   4                      2            0            0   \n2236                   5                      7            1            0   \n2237                  13                      1            0            0   \n2238                  10                      2            0            0   \n2239                   4                      3            0            0   \n\n      promotion_3  promotion_4  promotion_5  promotion_6  revenue  age  \n0               0            0            0            1       11   57  \n1               0            0            0            0       11   60  \n2               0            0            0            0       11   49  \n3               0            0            0            0       11   30  \n4               0            0            0            0       11   33  \n...           ...          ...          ...          ...      ...  ...  \n2235            0            0            0            0       11   47  \n2236            0            0            0            0       11   68  \n2237            0            1            0            0       11   33  \n2238            0            0            0            0       11   58  \n2239            0            0            0            1       11   60  \n\n[2216 rows x 24 columns]",
      "text/html": "<div>\n<style scoped>\n    .dataframe tbody tr th:only-of-type {\n        vertical-align: middle;\n    }\n\n    .dataframe tbody tr th {\n        vertical-align: top;\n    }\n\n    .dataframe thead th {\n        text-align: right;\n    }\n</style>\n<table border=\"1\" class=\"dataframe\">\n  <thead>\n    <tr style=\"text-align: right;\">\n      <th></th>\n      <th>ID</th>\n      <th>signup_ym</th>\n      <th>birth_year</th>\n      <th>annual_income</th>\n      <th>marital_status</th>\n      <th>children</th>\n      <th>recency</th>\n      <th>amount_alcohol</th>\n      <th>amount_fruit</th>\n      <th>amount_meat</th>\n      <th>...</th>\n      <th>num_purchase_store</th>\n      <th>num_purchase_discount</th>\n      <th>promotion_1</th>\n      <th>promotion_2</th>\n      <th>promotion_3</th>\n      <th>promotion_4</th>\n      <th>promotion_5</th>\n      <th>promotion_6</th>\n      <th>revenue</th>\n      <th>age</th>\n    </tr>\n  </thead>\n  <tbody>\n    <tr>\n      <th>0</th>\n      <td>5524</td>\n      <td>2020-12</td>\n      <td>1965</td>\n      <td>75579400.0</td>\n      <td>미혼</td>\n      <td>0</td>\n      <td>58</td>\n      <td>825500</td>\n      <td>114400</td>\n      <td>709800</td>\n      <td>...</td>\n      <td>4</td>\n      <td>3</td>\n      <td>0</td>\n      <td>0</td>\n      <td>0</td>\n      <td>0</td>\n      <td>0</td>\n      <td>1</td>\n      <td>11</td>\n      <td>57</td>\n    </tr>\n    <tr>\n      <th>1</th>\n      <td>2174</td>\n      <td>2022-06</td>\n      <td>1962</td>\n      <td>60247200.0</td>\n      <td>미혼</td>\n      <td>2</td>\n      <td>38</td>\n      <td>14300</td>\n      <td>1300</td>\n      <td>7800</td>\n      <td>...</td>\n      <td>2</td>\n      <td>2</td>\n      <td>0</td>\n      <td>0</td>\n      <td>0</td>\n      <td>0</td>\n      <td>0</td>\n      <td>0</td>\n      <td>11</td>\n      <td>60</td>\n    </tr>\n    <tr>\n      <th>2</th>\n      <td>4141</td>\n      <td>2021-11</td>\n      <td>1973</td>\n      <td>93096900.0</td>\n      <td>배우자 있음</td>\n      <td>0</td>\n      <td>26</td>\n      <td>553800</td>\n      <td>63700</td>\n      <td>165100</td>\n      <td>...</td>\n      <td>10</td>\n      <td>1</td>\n      <td>0</td>\n      <td>0</td>\n      <td>0</td>\n      <td>0</td>\n      <td>0</td>\n      <td>0</td>\n      <td>11</td>\n      <td>49</td>\n    </tr>\n    <tr>\n      <th>3</th>\n      <td>6182</td>\n      <td>2022-05</td>\n      <td>1992</td>\n      <td>34639800.0</td>\n      <td>배우자 있음</td>\n      <td>1</td>\n      <td>26</td>\n      <td>14300</td>\n      <td>5200</td>\n      <td>26000</td>\n      <td>...</td>\n      <td>4</td>\n      <td>2</td>\n      <td>0</td>\n      <td>0</td>\n      <td>0</td>\n      <td>0</td>\n      <td>0</td>\n      <td>0</td>\n      <td>11</td>\n      <td>30</td>\n    </tr>\n    <tr>\n      <th>4</th>\n      <td>5324</td>\n      <td>2022-04</td>\n      <td>1989</td>\n      <td>75780900.0</td>\n      <td>배우자 있음</td>\n      <td>1</td>\n      <td>94</td>\n      <td>224900</td>\n      <td>55900</td>\n      <td>153400</td>\n      <td>...</td>\n      <td>6</td>\n      <td>5</td>\n      <td>0</td>\n      <td>0</td>\n      <td>0</td>\n      <td>0</td>\n      <td>0</td>\n      <td>0</td>\n      <td>11</td>\n      <td>33</td>\n    </tr>\n    <tr>\n      <th>...</th>\n      <td>...</td>\n      <td>...</td>\n      <td>...</td>\n      <td>...</td>\n      <td>...</td>\n      <td>...</td>\n      <td>...</td>\n      <td>...</td>\n      <td>...</td>\n      <td>...</td>\n      <td>...</td>\n      <td>...</td>\n      <td>...</td>\n      <td>...</td>\n      <td>...</td>\n      <td>...</td>\n      <td>...</td>\n      <td>...</td>\n      <td>...</td>\n      <td>...</td>\n      <td>...</td>\n    </tr>\n    <tr>\n      <th>2235</th>\n      <td>10870</td>\n      <td>2021-09</td>\n      <td>1975</td>\n      <td>79589900.0</td>\n      <td>배우자 있음</td>\n      <td>1</td>\n      <td>46</td>\n      <td>921700</td>\n      <td>55900</td>\n      <td>236600</td>\n      <td>...</td>\n      <td>4</td>\n      <td>2</td>\n      <td>0</td>\n      <td>0</td>\n      <td>0</td>\n      <td>0</td>\n      <td>0</td>\n      <td>0</td>\n      <td>11</td>\n      <td>47</td>\n    </tr>\n    <tr>\n      <th>2236</th>\n      <td>4001</td>\n      <td>2022-09</td>\n      <td>1954</td>\n      <td>83218200.0</td>\n      <td>배우자 있음</td>\n      <td>3</td>\n      <td>56</td>\n      <td>527800</td>\n      <td>0</td>\n      <td>39000</td>\n      <td>...</td>\n      <td>5</td>\n      <td>7</td>\n      <td>1</td>\n      <td>0</td>\n      <td>0</td>\n      <td>0</td>\n      <td>0</td>\n      <td>0</td>\n      <td>11</td>\n      <td>68</td>\n    </tr>\n    <tr>\n      <th>2237</th>\n      <td>7270</td>\n      <td>2022-04</td>\n      <td>1989</td>\n      <td>74075300.0</td>\n      <td>이혼</td>\n      <td>0</td>\n      <td>91</td>\n      <td>1180400</td>\n      <td>62400</td>\n      <td>282100</td>\n      <td>...</td>\n      <td>13</td>\n      <td>1</td>\n      <td>0</td>\n      <td>0</td>\n      <td>0</td>\n      <td>1</td>\n      <td>0</td>\n      <td>0</td>\n      <td>11</td>\n      <td>33</td>\n    </tr>\n    <tr>\n      <th>2238</th>\n      <td>8235</td>\n      <td>2022-04</td>\n      <td>1964</td>\n      <td>90018500.0</td>\n      <td>배우자 있음</td>\n      <td>1</td>\n      <td>8</td>\n      <td>556400</td>\n      <td>39000</td>\n      <td>278200</td>\n      <td>...</td>\n      <td>10</td>\n      <td>2</td>\n      <td>0</td>\n      <td>0</td>\n      <td>0</td>\n      <td>0</td>\n      <td>0</td>\n      <td>0</td>\n      <td>11</td>\n      <td>58</td>\n    </tr>\n    <tr>\n      <th>2239</th>\n      <td>9405</td>\n      <td>2021-01</td>\n      <td>1962</td>\n      <td>68729700.0</td>\n      <td>배우자 있음</td>\n      <td>2</td>\n      <td>40</td>\n      <td>109200</td>\n      <td>3900</td>\n      <td>79300</td>\n      <td>...</td>\n      <td>4</td>\n      <td>3</td>\n      <td>0</td>\n      <td>0</td>\n      <td>0</td>\n      <td>0</td>\n      <td>0</td>\n      <td>1</td>\n      <td>11</td>\n      <td>60</td>\n    </tr>\n  </tbody>\n</table>\n<p>2216 rows × 24 columns</p>\n</div>"
     },
     "execution_count": 323,
     "metadata": {},
     "output_type": "execute_result"
    }
   ],
   "source": [
    "df['age'] = 2022 - df['birth_year']\n",
    "df"
   ],
   "metadata": {
    "collapsed": false,
    "ExecuteTime": {
     "end_time": "2024-05-15T10:18:07.164819Z",
     "start_time": "2024-05-15T10:18:07.077474Z"
    }
   },
   "id": "799f61f7078e590f",
   "execution_count": 323
  },
  {
   "cell_type": "code",
   "outputs": [
    {
     "data": {
      "text/plain": "Text(0, 0.5, '고객 수(명)')"
     },
     "execution_count": 324,
     "metadata": {},
     "output_type": "execute_result"
    },
    {
     "data": {
      "text/plain": "<Figure size 1000x500 with 1 Axes>",
      "image/png": "[encoded data removed]"
     },
     "metadata": {},
     "output_type": "display_data"
    }
   ],
   "source": [
    "# 나이분포 파악하기\n",
    "plt.rcParams['figure.figsize'] = (10, 5)\n",
    "sns.histplot(data=df['age'])\n",
    "plt.title('고객 나이 분포')\n",
    "plt.xlabel('나이(세)')\n",
    "plt.ylabel('고객 수(명)')"
   ],
   "metadata": {
    "collapsed": false,
    "ExecuteTime": {
     "end_time": "2024-05-15T10:18:07.479831Z",
     "start_time": "2024-05-15T10:18:07.167387Z"
    }
   },
   "id": "e4cb36741a98a73c",
   "execution_count": 324
  },
  {
   "cell_type": "markdown",
   "source": [
    "30대 후반에서 40대 초반 고객의 수가 많은 것으로 보이네요. 반면 20대와 70대에 가까워질수록 점점 고객의 수가 줄어들고 있습니다. \n",
    "그런데 자세히 보니 나이가 120세에 가까운 고객이 몇 명 있다고 나오는군요. 생물학적으로 불가능에 가까운 데이터죠.\n",
    "\n",
    "고객 데이터를 나이가 많은 순으로 정렬해 실제로 어떤 데이터가 있는지 확인해 봅시다. sort_values() 함수를 사용하면 되는데요. \n",
    "age 컬럼을 기준으로 정렬하므로 by 파라미터에는 'age'를 전달하고, 내림차순으로 정렬해야 하니 ascending 파라미터에는 False를 넣어 줍시다."
   ],
   "metadata": {
    "collapsed": false
   },
   "id": "94058b3c3d4cf871"
  },
  {
   "cell_type": "code",
   "outputs": [
    {
     "data": {
      "text/plain": "         ID signup_ym  birth_year  annual_income marital_status  children  \\\n239   11004   2022-08        1901     78236600.0             미혼         1   \n339    1150   2021-12        1907    108591600.0         배우자 있음         0   \n192    7829   2021-12        1908     47632000.0             이혼         1   \n1950   6663   2021-10        1948     66483300.0             미혼         0   \n424    6932   2021-07        1949    120935100.0         배우자 있음         0   \n...     ...       ...         ...            ...            ...       ...   \n747   10548   2022-06        2003     92511900.0             미혼         0   \n2213   3661   2021-01        2003    104802100.0             미혼         0   \n1850   4427   2020-12        2003    108234100.0             미혼         0   \n1170    193   2022-05        2004     18747300.0         배우자 있음         0   \n46     9909   2021-02        2004      9750000.0         배우자 있음         0   \n\n      recency  amount_alcohol  amount_fruit  amount_meat  ...  \\\n239        23           10400             0         6500  ...   \n339        36          981500        187200       730600  ...   \n192        99           19500          7800        10400  ...   \n1950       96          187200             0         9100  ...   \n424        77         1670500         54600       930800  ...   \n...       ...             ...           ...          ...  ...   \n747        30          367900         22100       483600  ...   \n2213       42          772200         66300       820300  ...   \n1850       56          696800         35100       767000  ...   \n1170       81               0             0         2600  ...   \n46         24            3900         23400        18200  ...   \n\n      num_purchase_store  num_purchase_discount  promotion_1  promotion_2  \\\n239                    2                      1            0            0   \n339                    4                      1            0            0   \n192                    2                      1            0            0   \n1950                   4                      1            0            0   \n424                    5                      0            0            0   \n...                  ...                    ...          ...          ...   \n747                   12                      1            0            0   \n2213                   8                      1            0            0   \n1850                  12                      1            0            0   \n1170                   2                      1            0            0   \n46                     3                      3            0            0   \n\n      promotion_3  promotion_4  promotion_5  promotion_6  revenue  age  \n239             0            0            0            0       11  121  \n339             0            0            1            0       11  115  \n192             0            0            0            0       11  114  \n1950            0            0            0            0       11   74  \n424             0            0            1            0       11   73  \n...           ...          ...          ...          ...      ...  ...  \n747             0            0            0            0       11   19  \n2213            0            0            0            0       11   19  \n1850            1            0            1            1       11   19  \n1170            1            0            0            0       11   18  \n46              0            0            0            1       11   18  \n\n[2216 rows x 24 columns]",
      "text/html": "<div>\n<style scoped>\n    .dataframe tbody tr th:only-of-type {\n        vertical-align: middle;\n    }\n\n    .dataframe tbody tr th {\n        vertical-align: top;\n    }\n\n    .dataframe thead th {\n        text-align: right;\n    }\n</style>\n<table border=\"1\" class=\"dataframe\">\n  <thead>\n    <tr style=\"text-align: right;\">\n      <th></th>\n      <th>ID</th>\n      <th>signup_ym</th>\n      <th>birth_year</th>\n      <th>annual_income</th>\n      <th>marital_status</th>\n      <th>children</th>\n      <th>recency</th>\n      <th>amount_alcohol</th>\n      <th>amount_fruit</th>\n      <th>amount_meat</th>\n      <th>...</th>\n      <th>num_purchase_store</th>\n      <th>num_purchase_discount</th>\n      <th>promotion_1</th>\n      <th>promotion_2</th>\n      <th>promotion_3</th>\n      <th>promotion_4</th>\n      <th>promotion_5</th>\n      <th>promotion_6</th>\n      <th>revenue</th>\n      <th>age</th>\n    </tr>\n  </thead>\n  <tbody>\n    <tr>\n      <th>239</th>\n      <td>11004</td>\n      <td>2022-08</td>\n      <td>1901</td>\n      <td>78236600.0</td>\n      <td>미혼</td>\n      <td>1</td>\n      <td>23</td>\n      <td>10400</td>\n      <td>0</td>\n      <td>6500</td>\n      <td>...</td>\n      <td>2</td>\n      <td>1</td>\n      <td>0</td>\n      <td>0</td>\n      <td>0</td>\n      <td>0</td>\n      <td>0</td>\n      <td>0</td>\n      <td>11</td>\n      <td>121</td>\n    </tr>\n    <tr>\n      <th>339</th>\n      <td>1150</td>\n      <td>2021-12</td>\n      <td>1907</td>\n      <td>108591600.0</td>\n      <td>배우자 있음</td>\n      <td>0</td>\n      <td>36</td>\n      <td>981500</td>\n      <td>187200</td>\n      <td>730600</td>\n      <td>...</td>\n      <td>4</td>\n      <td>1</td>\n      <td>0</td>\n      <td>0</td>\n      <td>0</td>\n      <td>0</td>\n      <td>1</td>\n      <td>0</td>\n      <td>11</td>\n      <td>115</td>\n    </tr>\n    <tr>\n      <th>192</th>\n      <td>7829</td>\n      <td>2021-12</td>\n      <td>1908</td>\n      <td>47632000.0</td>\n      <td>이혼</td>\n      <td>1</td>\n      <td>99</td>\n      <td>19500</td>\n      <td>7800</td>\n      <td>10400</td>\n      <td>...</td>\n      <td>2</td>\n      <td>1</td>\n      <td>0</td>\n      <td>0</td>\n      <td>0</td>\n      <td>0</td>\n      <td>0</td>\n      <td>0</td>\n      <td>11</td>\n      <td>114</td>\n    </tr>\n    <tr>\n      <th>1950</th>\n      <td>6663</td>\n      <td>2021-10</td>\n      <td>1948</td>\n      <td>66483300.0</td>\n      <td>미혼</td>\n      <td>0</td>\n      <td>96</td>\n      <td>187200</td>\n      <td>0</td>\n      <td>9100</td>\n      <td>...</td>\n      <td>4</td>\n      <td>1</td>\n      <td>0</td>\n      <td>0</td>\n      <td>0</td>\n      <td>0</td>\n      <td>0</td>\n      <td>0</td>\n      <td>11</td>\n      <td>74</td>\n    </tr>\n    <tr>\n      <th>424</th>\n      <td>6932</td>\n      <td>2021-07</td>\n      <td>1949</td>\n      <td>120935100.0</td>\n      <td>배우자 있음</td>\n      <td>0</td>\n      <td>77</td>\n      <td>1670500</td>\n      <td>54600</td>\n      <td>930800</td>\n      <td>...</td>\n      <td>5</td>\n      <td>0</td>\n      <td>0</td>\n      <td>0</td>\n      <td>0</td>\n      <td>0</td>\n      <td>1</td>\n      <td>0</td>\n      <td>11</td>\n      <td>73</td>\n    </tr>\n    <tr>\n      <th>...</th>\n      <td>...</td>\n      <td>...</td>\n      <td>...</td>\n      <td>...</td>\n      <td>...</td>\n      <td>...</td>\n      <td>...</td>\n      <td>...</td>\n      <td>...</td>\n      <td>...</td>\n      <td>...</td>\n      <td>...</td>\n      <td>...</td>\n      <td>...</td>\n      <td>...</td>\n      <td>...</td>\n      <td>...</td>\n      <td>...</td>\n      <td>...</td>\n      <td>...</td>\n      <td>...</td>\n    </tr>\n    <tr>\n      <th>747</th>\n      <td>10548</td>\n      <td>2022-06</td>\n      <td>2003</td>\n      <td>92511900.0</td>\n      <td>미혼</td>\n      <td>0</td>\n      <td>30</td>\n      <td>367900</td>\n      <td>22100</td>\n      <td>483600</td>\n      <td>...</td>\n      <td>12</td>\n      <td>1</td>\n      <td>0</td>\n      <td>0</td>\n      <td>0</td>\n      <td>0</td>\n      <td>0</td>\n      <td>0</td>\n      <td>11</td>\n      <td>19</td>\n    </tr>\n    <tr>\n      <th>2213</th>\n      <td>3661</td>\n      <td>2021-01</td>\n      <td>2003</td>\n      <td>104802100.0</td>\n      <td>미혼</td>\n      <td>0</td>\n      <td>42</td>\n      <td>772200</td>\n      <td>66300</td>\n      <td>820300</td>\n      <td>...</td>\n      <td>8</td>\n      <td>1</td>\n      <td>0</td>\n      <td>0</td>\n      <td>0</td>\n      <td>0</td>\n      <td>0</td>\n      <td>0</td>\n      <td>11</td>\n      <td>19</td>\n    </tr>\n    <tr>\n      <th>1850</th>\n      <td>4427</td>\n      <td>2020-12</td>\n      <td>2003</td>\n      <td>108234100.0</td>\n      <td>미혼</td>\n      <td>0</td>\n      <td>56</td>\n      <td>696800</td>\n      <td>35100</td>\n      <td>767000</td>\n      <td>...</td>\n      <td>12</td>\n      <td>1</td>\n      <td>0</td>\n      <td>0</td>\n      <td>1</td>\n      <td>0</td>\n      <td>1</td>\n      <td>1</td>\n      <td>11</td>\n      <td>19</td>\n    </tr>\n    <tr>\n      <th>1170</th>\n      <td>193</td>\n      <td>2022-05</td>\n      <td>2004</td>\n      <td>18747300.0</td>\n      <td>배우자 있음</td>\n      <td>0</td>\n      <td>81</td>\n      <td>0</td>\n      <td>0</td>\n      <td>2600</td>\n      <td>...</td>\n      <td>2</td>\n      <td>1</td>\n      <td>0</td>\n      <td>0</td>\n      <td>1</td>\n      <td>0</td>\n      <td>0</td>\n      <td>0</td>\n      <td>11</td>\n      <td>18</td>\n    </tr>\n    <tr>\n      <th>46</th>\n      <td>9909</td>\n      <td>2021-02</td>\n      <td>2004</td>\n      <td>9750000.0</td>\n      <td>배우자 있음</td>\n      <td>0</td>\n      <td>24</td>\n      <td>3900</td>\n      <td>23400</td>\n      <td>18200</td>\n      <td>...</td>\n      <td>3</td>\n      <td>3</td>\n      <td>0</td>\n      <td>0</td>\n      <td>0</td>\n      <td>0</td>\n      <td>0</td>\n      <td>1</td>\n      <td>11</td>\n      <td>18</td>\n    </tr>\n  </tbody>\n</table>\n<p>2216 rows × 24 columns</p>\n</div>"
     },
     "execution_count": 325,
     "metadata": {},
     "output_type": "execute_result"
    }
   ],
   "source": [
    "df.sort_values(by='age', ascending=False)"
   ],
   "metadata": {
    "collapsed": false,
    "ExecuteTime": {
     "end_time": "2024-05-15T10:18:07.492974Z",
     "start_time": "2024-05-15T10:18:07.397099Z"
    }
   },
   "id": "583c525b33f1d95d",
   "execution_count": 325
  },
  {
   "cell_type": "markdown",
   "source": [
    "고객 중 가장 어린 사람은 19세로 납득할 만한 반면, 가장 나이가 많은 사람은 122세로 현실적이지 않습니다. 그 밑으로 나이가 115세, 116세인 고객도 존재하네요. 아마 생년이 잘못 기입되어 발생한 이상값인 것 같아요. 나이를 제외한 나머지 컬럼들을 이용해 유사한 고객을 찾아서 나이를 추정해 볼 수도 있겠지만, 이상값이 포함된 고객이 세 명뿐이니 그냥 제거하겠습니다. 115세 다음으로 나이가 많은 고객이 75세이므로 대강 100세 미만의 고객만 골라 customer_df 변수에 다시 담아 줄게요."
   ],
   "metadata": {
    "collapsed": false
   },
   "id": "d854c9705f407455"
  },
  {
   "cell_type": "code",
   "outputs": [],
   "source": [
    "df = df[df['age'] < 100]"
   ],
   "metadata": {
    "collapsed": false,
    "ExecuteTime": {
     "end_time": "2024-05-15T10:18:07.496889Z",
     "start_time": "2024-05-15T10:18:07.413153Z"
    }
   },
   "id": "9bfe5776f269f9b9",
   "execution_count": 326
  },
  {
   "cell_type": "code",
   "outputs": [
    {
     "data": {
      "text/plain": "Text(0, 0.5, '고객 수(명)')"
     },
     "execution_count": 327,
     "metadata": {},
     "output_type": "execute_result"
    },
    {
     "data": {
      "text/plain": "<Figure size 1000x500 with 1 Axes>",
      "image/png": "[encoded data removed]"
     },
     "metadata": {},
     "output_type": "display_data"
    }
   ],
   "source": [
    "sns.histplot(data=df['age'])\n",
    "plt.title('고객 나이 분포')\n",
    "plt.xlabel('나이(세)')\n",
    "plt.ylabel('고객 수(명)')"
   ],
   "metadata": {
    "collapsed": false,
    "ExecuteTime": {
     "end_time": "2024-05-15T10:18:07.654609Z",
     "start_time": "2024-05-15T10:18:07.455639Z"
    }
   },
   "id": "302ee9493cb9913f",
   "execution_count": 327
  },
  {
   "cell_type": "code",
   "outputs": [
    {
     "data": {
      "text/plain": "[10, 20, 30, 40, 50, 60, 70, 80]"
     },
     "execution_count": 328,
     "metadata": {},
     "output_type": "execute_result"
    }
   ],
   "source": [
    "age_bins = list(range(10, 81, 10))\n",
    "age_bins"
   ],
   "metadata": {
    "collapsed": false,
    "ExecuteTime": {
     "end_time": "2024-05-15T10:18:07.656077Z",
     "start_time": "2024-05-15T10:18:07.612946Z"
    }
   },
   "id": "201ab1d6d65fbced",
   "execution_count": 328
  },
  {
   "cell_type": "code",
   "outputs": [
    {
     "data": {
      "text/plain": "['10대', '20대', '30대', '40대', '50대', '60대', '70대']"
     },
     "execution_count": 329,
     "metadata": {},
     "output_type": "execute_result"
    }
   ],
   "source": [
    "age_labels = [f'{x}대' for x in age_bins[:-1]]\n",
    "age_labels"
   ],
   "metadata": {
    "collapsed": false,
    "ExecuteTime": {
     "end_time": "2024-05-15T10:18:07.770159Z",
     "start_time": "2024-05-15T10:18:07.649315Z"
    }
   },
   "id": "e0a582b7fc07d8b1",
   "execution_count": 329
  },
  {
   "cell_type": "code",
   "outputs": [],
   "source": [
    "age_group = pd.cut(x=df['age'], bins=age_bins, labels=age_labels, right=False)"
   ],
   "metadata": {
    "collapsed": false,
    "ExecuteTime": {
     "end_time": "2024-05-15T10:18:07.799238Z",
     "start_time": "2024-05-15T10:18:07.743045Z"
    }
   },
   "id": "99cdc56658b1ebc6",
   "execution_count": 330
  },
  {
   "cell_type": "code",
   "outputs": [
    {
     "data": {
      "text/plain": "     ID signup_ym  birth_year  annual_income marital_status  children  \\\n0  5524   2020-12        1965     75579400.0             미혼         0   \n1  2174   2022-06        1962     60247200.0             미혼         2   \n2  4141   2021-11        1973     93096900.0         배우자 있음         0   \n3  6182   2022-05        1992     34639800.0         배우자 있음         1   \n4  5324   2022-04        1989     75780900.0         배우자 있음         1   \n\n   recency  amount_alcohol  amount_fruit  amount_meat  ...  \\\n0       58          825500        114400       709800  ...   \n1       38           14300          1300         7800  ...   \n2       26          553800         63700       165100  ...   \n3       26           14300          5200        26000  ...   \n4       94          224900         55900       153400  ...   \n\n   num_purchase_discount  promotion_1  promotion_2  promotion_3  promotion_4  \\\n0                      3            0            0            0            0   \n1                      2            0            0            0            0   \n2                      1            0            0            0            0   \n3                      2            0            0            0            0   \n4                      5            0            0            0            0   \n\n   promotion_5  promotion_6  revenue  age  age_group  \n0            0            1       11   57        50대  \n1            0            0       11   60        60대  \n2            0            0       11   49        40대  \n3            0            0       11   30        30대  \n4            0            0       11   33        30대  \n\n[5 rows x 25 columns]",
      "text/html": "<div>\n<style scoped>\n    .dataframe tbody tr th:only-of-type {\n        vertical-align: middle;\n    }\n\n    .dataframe tbody tr th {\n        vertical-align: top;\n    }\n\n    .dataframe thead th {\n        text-align: right;\n    }\n</style>\n<table border=\"1\" class=\"dataframe\">\n  <thead>\n    <tr style=\"text-align: right;\">\n      <th></th>\n      <th>ID</th>\n      <th>signup_ym</th>\n      <th>birth_year</th>\n      <th>annual_income</th>\n      <th>marital_status</th>\n      <th>children</th>\n      <th>recency</th>\n      <th>amount_alcohol</th>\n      <th>amount_fruit</th>\n      <th>amount_meat</th>\n      <th>...</th>\n      <th>num_purchase_discount</th>\n      <th>promotion_1</th>\n      <th>promotion_2</th>\n      <th>promotion_3</th>\n      <th>promotion_4</th>\n      <th>promotion_5</th>\n      <th>promotion_6</th>\n      <th>revenue</th>\n      <th>age</th>\n      <th>age_group</th>\n    </tr>\n  </thead>\n  <tbody>\n    <tr>\n      <th>0</th>\n      <td>5524</td>\n      <td>2020-12</td>\n      <td>1965</td>\n      <td>75579400.0</td>\n      <td>미혼</td>\n      <td>0</td>\n      <td>58</td>\n      <td>825500</td>\n      <td>114400</td>\n      <td>709800</td>\n      <td>...</td>\n      <td>3</td>\n      <td>0</td>\n      <td>0</td>\n      <td>0</td>\n      <td>0</td>\n      <td>0</td>\n      <td>1</td>\n      <td>11</td>\n      <td>57</td>\n      <td>50대</td>\n    </tr>\n    <tr>\n      <th>1</th>\n      <td>2174</td>\n      <td>2022-06</td>\n      <td>1962</td>\n      <td>60247200.0</td>\n      <td>미혼</td>\n      <td>2</td>\n      <td>38</td>\n      <td>14300</td>\n      <td>1300</td>\n      <td>7800</td>\n      <td>...</td>\n      <td>2</td>\n      <td>0</td>\n      <td>0</td>\n      <td>0</td>\n      <td>0</td>\n      <td>0</td>\n      <td>0</td>\n      <td>11</td>\n      <td>60</td>\n      <td>60대</td>\n    </tr>\n    <tr>\n      <th>2</th>\n      <td>4141</td>\n      <td>2021-11</td>\n      <td>1973</td>\n      <td>93096900.0</td>\n      <td>배우자 있음</td>\n      <td>0</td>\n      <td>26</td>\n      <td>553800</td>\n      <td>63700</td>\n      <td>165100</td>\n      <td>...</td>\n      <td>1</td>\n      <td>0</td>\n      <td>0</td>\n      <td>0</td>\n      <td>0</td>\n      <td>0</td>\n      <td>0</td>\n      <td>11</td>\n      <td>49</td>\n      <td>40대</td>\n    </tr>\n    <tr>\n      <th>3</th>\n      <td>6182</td>\n      <td>2022-05</td>\n      <td>1992</td>\n      <td>34639800.0</td>\n      <td>배우자 있음</td>\n      <td>1</td>\n      <td>26</td>\n      <td>14300</td>\n      <td>5200</td>\n      <td>26000</td>\n      <td>...</td>\n      <td>2</td>\n      <td>0</td>\n      <td>0</td>\n      <td>0</td>\n      <td>0</td>\n      <td>0</td>\n      <td>0</td>\n      <td>11</td>\n      <td>30</td>\n      <td>30대</td>\n    </tr>\n    <tr>\n      <th>4</th>\n      <td>5324</td>\n      <td>2022-04</td>\n      <td>1989</td>\n      <td>75780900.0</td>\n      <td>배우자 있음</td>\n      <td>1</td>\n      <td>94</td>\n      <td>224900</td>\n      <td>55900</td>\n      <td>153400</td>\n      <td>...</td>\n      <td>5</td>\n      <td>0</td>\n      <td>0</td>\n      <td>0</td>\n      <td>0</td>\n      <td>0</td>\n      <td>0</td>\n      <td>11</td>\n      <td>33</td>\n      <td>30대</td>\n    </tr>\n  </tbody>\n</table>\n<p>5 rows × 25 columns</p>\n</div>"
     },
     "execution_count": 331,
     "metadata": {},
     "output_type": "execute_result"
    }
   ],
   "source": [
    "df.insert(\n",
    "    loc=df.columns.get_loc('age') + 1,\n",
    "    column='age_group',\n",
    "    value=age_group,\n",
    ")\n",
    "df.head()"
   ],
   "metadata": {
    "collapsed": false,
    "ExecuteTime": {
     "end_time": "2024-05-15T10:18:07.847022Z",
     "start_time": "2024-05-15T10:18:07.801646Z"
    }
   },
   "id": "a89f0c7fbff45c76",
   "execution_count": 331
  },
  {
   "cell_type": "code",
   "outputs": [
    {
     "data": {
      "text/plain": "age_group\n40대    669\n30대    553\n50대    459\n60대    298\n20대    212\n70대     15\n10대      7\nName: count, dtype: int64"
     },
     "execution_count": 332,
     "metadata": {},
     "output_type": "execute_result"
    }
   ],
   "source": [
    "df['age_group'].value_counts()"
   ],
   "metadata": {
    "collapsed": false,
    "ExecuteTime": {
     "end_time": "2024-05-15T10:18:07.885759Z",
     "start_time": "2024-05-15T10:18:07.848031Z"
    }
   },
   "id": "a85b3abfc3912646",
   "execution_count": 332
  },
  {
   "cell_type": "code",
   "outputs": [
    {
     "name": "stderr",
     "output_type": "stream",
     "text": [
      "/var/folders/vh/dzvlggfx64b5xndshnbz77540000gn/T/ipykernel_84617/1016635330.py:7: SettingWithCopyWarning: \n",
      "A value is trying to be set on a copy of a slice from a DataFrame.\n",
      "Try using .loc[row_indexer,col_indexer] = value instead\n",
      "\n",
      "See the caveats in the documentation: https://pandas.pydata.org/pandas-docs/stable/user_guide/indexing.html#returning-a-view-versus-a-copy\n",
      "  df['age_group'] = df['age_group'].replace(age_group_replace_dict)\n"
     ]
    }
   ],
   "source": [
    "age_group_replace_dict = {\n",
    "    '10대': '20대 이하',\n",
    "    '20대': '20대 이하',\n",
    "    '60대': '60대 이상',\n",
    "    '70대': '60대 이상',\n",
    "}\n",
    "df['age_group'] = df['age_group'].replace(age_group_replace_dict)"
   ],
   "metadata": {
    "collapsed": false,
    "ExecuteTime": {
     "end_time": "2024-05-15T10:18:07.910443Z",
     "start_time": "2024-05-15T10:18:07.869978Z"
    }
   },
   "id": "ecc17fcfc2dec904",
   "execution_count": 333
  },
  {
   "cell_type": "code",
   "outputs": [
    {
     "data": {
      "text/plain": "age_group\n40대       669\n30대       553\n50대       459\n60대 이상    313\n20대 이하    219\nName: count, dtype: int64"
     },
     "execution_count": 334,
     "metadata": {},
     "output_type": "execute_result"
    }
   ],
   "source": [
    "df['age_group'].value_counts()"
   ],
   "metadata": {
    "collapsed": false,
    "ExecuteTime": {
     "end_time": "2024-05-15T10:18:07.950954Z",
     "start_time": "2024-05-15T10:18:07.893999Z"
    }
   },
   "id": "e31f97afdeef1dee",
   "execution_count": 334
  },
  {
   "cell_type": "markdown",
   "source": [
    "## 연 소득 분포 파악하기\n",
    "이번에는 고객 연 소득 분포를 살펴볼게요. 나이 분포 때와 마찬가지로 seaborn의 histplot()을 이용하면 한눈에 확인할 수 있겠죠. \n",
    "이번에도 그래프 크기와 제목, 그리고 X축과 Y축의 이름까지 설정하겠습니다."
   ],
   "metadata": {
    "collapsed": false
   },
   "id": "e6330bc2dcd978ac"
  },
  {
   "cell_type": "code",
   "outputs": [
    {
     "data": {
      "text/plain": "Text(0, 0.5, '고객 수(명)')"
     },
     "execution_count": 335,
     "metadata": {},
     "output_type": "execute_result"
    },
    {
     "data": {
      "text/plain": "<Figure size 1000x500 with 1 Axes>",
      "image/png": "[encoded data removed]"
     },
     "metadata": {},
     "output_type": "display_data"
    }
   ],
   "source": [
    "sns.histplot(data=df['annual_income'])\n",
    "plt.title('고객 연 소득 분포')\n",
    "plt.xlabel('연 소득(원)')\n",
    "plt.ylabel('고객 수(명)')"
   ],
   "metadata": {
    "collapsed": false,
    "ExecuteTime": {
     "end_time": "2024-05-15T10:18:08.155216Z",
     "start_time": "2024-05-15T10:18:07.953811Z"
    }
   },
   "id": "c7ef5e8e5ed04e8f",
   "execution_count": 335
  },
  {
   "cell_type": "markdown",
   "source": [
    "그래프를 보니 연 소득에도 이상값이 존재하는 것 같은데요."
   ],
   "metadata": {
    "collapsed": false
   },
   "id": "272af95d83a41a7c"
  },
  {
   "cell_type": "code",
   "outputs": [
    {
     "data": {
      "text/plain": "<Axes: xlabel='annual_income'>"
     },
     "execution_count": 336,
     "metadata": {},
     "output_type": "execute_result"
    },
    {
     "data": {
      "text/plain": "<Figure size 1000x500 with 1 Axes>",
      "image/png": "[encoded data removed]"
     },
     "metadata": {},
     "output_type": "display_data"
    }
   ],
   "source": [
    "sns.boxplot(data=df, x='annual_income')"
   ],
   "metadata": {
    "collapsed": false,
    "ExecuteTime": {
     "end_time": "2024-05-15T10:18:08.252752Z",
     "start_time": "2024-05-15T10:18:08.139145Z"
    }
   },
   "id": "38ef3c00fcf42977",
   "execution_count": 336
  },
  {
   "cell_type": "code",
   "outputs": [],
   "source": [
    "q1 = df['annual_income'].quantile(0.25)\n",
    "q3 = df['annual_income'].quantile(0.75)\n",
    "iqr = q3-q1"
   ],
   "metadata": {
    "collapsed": false,
    "ExecuteTime": {
     "end_time": "2024-05-15T10:18:08.262287Z",
     "start_time": "2024-05-15T10:18:08.227380Z"
    }
   },
   "id": "e3cac175ce85ebe2",
   "execution_count": 337
  },
  {
   "cell_type": "code",
   "outputs": [
    {
     "data": {
      "text/plain": "Index([164, 617, 655, 687, 1300, 1653, 2132, 2233], dtype='int64')"
     },
     "execution_count": 338,
     "metadata": {},
     "output_type": "execute_result"
    }
   ],
   "source": [
    "# 이상값 처리\n",
    "cond = (q1 - (iqr*1.5) > df['annual_income']) | (q3 + (iqr*1.5) < df['annual_income'])\n",
    "df[cond].index"
   ],
   "metadata": {
    "collapsed": false,
    "ExecuteTime": {
     "end_time": "2024-05-15T10:18:08.263800Z",
     "start_time": "2024-05-15T10:18:08.232069Z"
    }
   },
   "id": "16c19916463e24d7",
   "execution_count": 338
  },
  {
   "cell_type": "code",
   "outputs": [
    {
     "name": "stderr",
     "output_type": "stream",
     "text": [
      "/var/folders/vh/dzvlggfx64b5xndshnbz77540000gn/T/ipykernel_84617/3306044492.py:1: SettingWithCopyWarning: \n",
      "A value is trying to be set on a copy of a slice from a DataFrame\n",
      "\n",
      "See the caveats in the documentation: https://pandas.pydata.org/pandas-docs/stable/user_guide/indexing.html#returning-a-view-versus-a-copy\n",
      "  df.drop(df[cond].index, inplace=True)\n"
     ]
    }
   ],
   "source": [
    "df.drop(df[cond].index, inplace=True)"
   ],
   "metadata": {
    "collapsed": false,
    "ExecuteTime": {
     "end_time": "2024-05-15T10:18:08.265166Z",
     "start_time": "2024-05-15T10:18:08.236184Z"
    }
   },
   "id": "ac860521970ea46",
   "execution_count": 339
  },
  {
   "cell_type": "code",
   "outputs": [
    {
     "name": "stderr",
     "output_type": "stream",
     "text": [
      "/var/folders/vh/dzvlggfx64b5xndshnbz77540000gn/T/ipykernel_84617/1371063403.py:1: UserWarning: Boolean Series key will be reindexed to match DataFrame index.\n",
      "  df[cond].index\n"
     ]
    },
    {
     "data": {
      "text/plain": "Index([], dtype='int64')"
     },
     "execution_count": 340,
     "metadata": {},
     "output_type": "execute_result"
    }
   ],
   "source": [
    "df[cond].index"
   ],
   "metadata": {
    "collapsed": false,
    "ExecuteTime": {
     "end_time": "2024-05-15T10:18:08.266545Z",
     "start_time": "2024-05-15T10:18:08.239073Z"
    }
   },
   "id": "e657322b90843dcf",
   "execution_count": 340
  },
  {
   "cell_type": "code",
   "outputs": [
    {
     "data": {
      "text/plain": "<Axes: xlabel='annual_income'>"
     },
     "execution_count": 341,
     "metadata": {},
     "output_type": "execute_result"
    },
    {
     "data": {
      "text/plain": "<Figure size 1000x500 with 1 Axes>",
      "image/png": "[encoded data removed]"
     },
     "metadata": {},
     "output_type": "display_data"
    }
   ],
   "source": [
    "sns.boxplot(data=df, x='annual_income')"
   ],
   "metadata": {
    "collapsed": false,
    "ExecuteTime": {
     "end_time": "2024-05-15T10:18:08.413942Z",
     "start_time": "2024-05-15T10:18:08.244951Z"
    }
   },
   "id": "f185efef98fbfd49",
   "execution_count": 341
  },
  {
   "cell_type": "markdown",
   "source": [
    "## 3. 데이터분석"
   ],
   "metadata": {
    "collapsed": false
   },
   "id": "d0b345506a04a0e9"
  },
  {
   "cell_type": "code",
   "outputs": [
    {
     "name": "stderr",
     "output_type": "stream",
     "text": [
      "/var/folders/vh/dzvlggfx64b5xndshnbz77540000gn/T/ipykernel_84617/2474033051.py:2: SettingWithCopyWarning: \n",
      "A value is trying to be set on a copy of a slice from a DataFrame.\n",
      "Try using .loc[row_indexer,col_indexer] = value instead\n",
      "\n",
      "See the caveats in the documentation: https://pandas.pydata.org/pandas-docs/stable/user_guide/indexing.html#returning-a-view-versus-a-copy\n",
      "  df['amount_total'] = df['amount_alcohol'] + df['amount_fruit'] + df['amount_meat'] + df['amount_fish'] + df['amount_snack'] + df['amount_general']\n"
     ]
    }
   ],
   "source": [
    "# 고객마다 총 구매금액\n",
    "df['amount_total'] = df['amount_alcohol'] + df['amount_fruit'] + df['amount_meat'] + df['amount_fish'] + df['amount_snack'] + df['amount_general']"
   ],
   "metadata": {
    "collapsed": false,
    "ExecuteTime": {
     "end_time": "2024-05-15T10:18:08.415453Z",
     "start_time": "2024-05-15T10:18:08.345795Z"
    }
   },
   "id": "364aedc8f5ecb1ed",
   "execution_count": 342
  },
  {
   "cell_type": "code",
   "outputs": [
    {
     "name": "stderr",
     "output_type": "stream",
     "text": [
      "/var/folders/vh/dzvlggfx64b5xndshnbz77540000gn/T/ipykernel_84617/2313674132.py:2: SettingWithCopyWarning: \n",
      "A value is trying to be set on a copy of a slice from a DataFrame.\n",
      "Try using .loc[row_indexer,col_indexer] = value instead\n",
      "\n",
      "See the caveats in the documentation: https://pandas.pydata.org/pandas-docs/stable/user_guide/indexing.html#returning-a-view-versus-a-copy\n",
      "  df['num_purchase_total'] = df['num_purchase_discount'] + df['num_purchase_store'] + df['num_purchase_web']\n"
     ]
    }
   ],
   "source": [
    "# 고객의 구매 횟수\n",
    "df['num_purchase_total'] = df['num_purchase_discount'] + df['num_purchase_store'] + df['num_purchase_web']"
   ],
   "metadata": {
    "collapsed": false,
    "ExecuteTime": {
     "end_time": "2024-05-15T10:18:08.416776Z",
     "start_time": "2024-05-15T10:18:08.350714Z"
    }
   },
   "id": "fff1ad074aeb8b05",
   "execution_count": 343
  },
  {
   "cell_type": "code",
   "outputs": [
    {
     "data": {
      "text/plain": "      recency  num_purchase_total  amount_total\n0          58                  15       2102100\n1          38                   5         35100\n2          26                  19       1008800\n3          26                   8         68900\n4          94                  16        548600\n...       ...                 ...           ...\n2235       46                  15       1743300\n2236       56                  20        577200\n2237       91                  16       1613300\n2238        8                  18       1095900\n2239       40                  10        223600\n\n[2205 rows x 3 columns]",
      "text/html": "<div>\n<style scoped>\n    .dataframe tbody tr th:only-of-type {\n        vertical-align: middle;\n    }\n\n    .dataframe tbody tr th {\n        vertical-align: top;\n    }\n\n    .dataframe thead th {\n        text-align: right;\n    }\n</style>\n<table border=\"1\" class=\"dataframe\">\n  <thead>\n    <tr style=\"text-align: right;\">\n      <th></th>\n      <th>recency</th>\n      <th>num_purchase_total</th>\n      <th>amount_total</th>\n    </tr>\n  </thead>\n  <tbody>\n    <tr>\n      <th>0</th>\n      <td>58</td>\n      <td>15</td>\n      <td>2102100</td>\n    </tr>\n    <tr>\n      <th>1</th>\n      <td>38</td>\n      <td>5</td>\n      <td>35100</td>\n    </tr>\n    <tr>\n      <th>2</th>\n      <td>26</td>\n      <td>19</td>\n      <td>1008800</td>\n    </tr>\n    <tr>\n      <th>3</th>\n      <td>26</td>\n      <td>8</td>\n      <td>68900</td>\n    </tr>\n    <tr>\n      <th>4</th>\n      <td>94</td>\n      <td>16</td>\n      <td>548600</td>\n    </tr>\n    <tr>\n      <th>...</th>\n      <td>...</td>\n      <td>...</td>\n      <td>...</td>\n    </tr>\n    <tr>\n      <th>2235</th>\n      <td>46</td>\n      <td>15</td>\n      <td>1743300</td>\n    </tr>\n    <tr>\n      <th>2236</th>\n      <td>56</td>\n      <td>20</td>\n      <td>577200</td>\n    </tr>\n    <tr>\n      <th>2237</th>\n      <td>91</td>\n      <td>16</td>\n      <td>1613300</td>\n    </tr>\n    <tr>\n      <th>2238</th>\n      <td>8</td>\n      <td>18</td>\n      <td>1095900</td>\n    </tr>\n    <tr>\n      <th>2239</th>\n      <td>40</td>\n      <td>10</td>\n      <td>223600</td>\n    </tr>\n  </tbody>\n</table>\n<p>2205 rows × 3 columns</p>\n</div>"
     },
     "execution_count": 344,
     "metadata": {},
     "output_type": "execute_result"
    }
   ],
   "source": [
    "rfm_df = df[['recency', 'num_purchase_total', 'amount_total']]\n",
    "rfm_df  "
   ],
   "metadata": {
    "collapsed": false,
    "ExecuteTime": {
     "end_time": "2024-05-15T10:18:08.492570Z",
     "start_time": "2024-05-15T10:18:08.362160Z"
    }
   },
   "id": "8a6d747d24fac638",
   "execution_count": 344
  },
  {
   "cell_type": "code",
   "outputs": [
    {
     "data": {
      "text/plain": "           recency  num_purchase_total  amount_total\ncount  2205.000000         2205.000000  2.205000e+03\nmean     49.009070           12.242630  7.888683e+05\nstd      28.932111            5.843435  7.821779e+05\nmin       0.000000            0.000000  6.500000e+03\n25%      24.000000            7.000000  8.970000e+04\n50%      49.000000           12.000000  5.161000e+05\n75%      74.000000           17.000000  1.361100e+06\nmax      99.000000           33.000000  3.282500e+06",
      "text/html": "<div>\n<style scoped>\n    .dataframe tbody tr th:only-of-type {\n        vertical-align: middle;\n    }\n\n    .dataframe tbody tr th {\n        vertical-align: top;\n    }\n\n    .dataframe thead th {\n        text-align: right;\n    }\n</style>\n<table border=\"1\" class=\"dataframe\">\n  <thead>\n    <tr style=\"text-align: right;\">\n      <th></th>\n      <th>recency</th>\n      <th>num_purchase_total</th>\n      <th>amount_total</th>\n    </tr>\n  </thead>\n  <tbody>\n    <tr>\n      <th>count</th>\n      <td>2205.000000</td>\n      <td>2205.000000</td>\n      <td>2.205000e+03</td>\n    </tr>\n    <tr>\n      <th>mean</th>\n      <td>49.009070</td>\n      <td>12.242630</td>\n      <td>7.888683e+05</td>\n    </tr>\n    <tr>\n      <th>std</th>\n      <td>28.932111</td>\n      <td>5.843435</td>\n      <td>7.821779e+05</td>\n    </tr>\n    <tr>\n      <th>min</th>\n      <td>0.000000</td>\n      <td>0.000000</td>\n      <td>6.500000e+03</td>\n    </tr>\n    <tr>\n      <th>25%</th>\n      <td>24.000000</td>\n      <td>7.000000</td>\n      <td>8.970000e+04</td>\n    </tr>\n    <tr>\n      <th>50%</th>\n      <td>49.000000</td>\n      <td>12.000000</td>\n      <td>5.161000e+05</td>\n    </tr>\n    <tr>\n      <th>75%</th>\n      <td>74.000000</td>\n      <td>17.000000</td>\n      <td>1.361100e+06</td>\n    </tr>\n    <tr>\n      <th>max</th>\n      <td>99.000000</td>\n      <td>33.000000</td>\n      <td>3.282500e+06</td>\n    </tr>\n  </tbody>\n</table>\n</div>"
     },
     "execution_count": 345,
     "metadata": {},
     "output_type": "execute_result"
    }
   ],
   "source": [
    "rfm_df.describe()"
   ],
   "metadata": {
    "collapsed": false,
    "ExecuteTime": {
     "end_time": "2024-05-15T10:18:08.497291Z",
     "start_time": "2024-05-15T10:18:08.370212Z"
    }
   },
   "id": "9a703f5715b4f795",
   "execution_count": 345
  },
  {
   "cell_type": "markdown",
   "source": [
    "## Recency, Frequency, Monetary 등급 매기기\n",
    "우선 Recency, Frequency, Monetary 각 항목의 등급 개수를 지정해야 합니다. 편의상 3개로 하여 1등급, 2등급, 3등급으로 나누겠습니다. 이때 등급의 숫자는 클수록 더 긍정적인 것으로 가정할게요. 즉, Recency 등급의 숫자는 클수록 더 최근에 구매했다는 뜻이고, Frequency 등급의 숫자는 클수록 더 자주 구매했다는 뜻이며, Monetary 등급의 숫자는 클수록 돈을 더 많이 썼다는 의미가 됩니다. 등급 개수는 앞으로 자주 사용할 예정이라서 미리 num_grades라는 변수에 담아 놓겠습니다."
   ],
   "metadata": {
    "collapsed": false
   },
   "id": "b3fcae8bd9fe652b"
  },
  {
   "cell_type": "code",
   "outputs": [],
   "source": [
    "num_grades = 3"
   ],
   "metadata": {
    "collapsed": false,
    "ExecuteTime": {
     "end_time": "2024-05-15T10:18:08.540114Z",
     "start_time": "2024-05-15T10:18:08.384108Z"
    }
   },
   "id": "35c08882b6580fe9",
   "execution_count": 346
  },
  {
   "cell_type": "markdown",
   "source": [
    "그리고 customer_df에 Recency, Frequency, Monetary 각 항목의 등급을 숫자로 표시하기 위해 grade_labels라는 리스트 변수도 미리 만들어 놓을게요."
   ],
   "metadata": {
    "collapsed": false
   },
   "id": "71f45dba4fae3bcd"
  },
  {
   "cell_type": "code",
   "outputs": [
    {
     "data": {
      "text/plain": "[1, 2, 3]"
     },
     "execution_count": 347,
     "metadata": {},
     "output_type": "execute_result"
    }
   ],
   "source": [
    "grade_labels = list(range(1, num_grades + 1))\n",
    "grade_labels"
   ],
   "metadata": {
    "collapsed": false,
    "ExecuteTime": {
     "end_time": "2024-05-15T10:18:08.541860Z",
     "start_time": "2024-05-15T10:18:08.389071Z"
    }
   },
   "id": "72a287615f2014e7",
   "execution_count": 347
  },
  {
   "cell_type": "markdown",
   "source": [
    "먼저 Recency 등급부터 매겨 볼게요. customer_df에서는 recency 컬럼을 보면 되겠군요. \n",
    "이번 해설 노트에서는 편의상 각 등급마다 고객의 수를 최대한 균등하게 나누겠습니다. \n",
    "이런 방식에 사용되는 함수는 qcut()으로, x 파라미터에 넣어 준 데이터를 q 파라미터에 넣어 준 값만큼 등분해 줍니다. \n",
    "이 함수에서는 labels 파라미터를 통해 각 등급을 어떻게 표시할지 지정할 수 있는데요. \n",
    "recency 컬럼 값이 작은 고객일수록 최근에 구매를 했다는 뜻이니 Recency 등급을 더 높게 부여해야 합니다. \n",
    "\n",
    "즉, qcut()을 통해 고객을 세 그룹으로 나누었을 때 앞 그룹이 3등급, 중간 그룹이 2등급, 뒷 그룹이 1등급이 되는 거죠. \n",
    "따라서 labels 파라미터에 grade_labels를 역순으로 넣어 줘야 해요. \n",
    "역순으로 뒤집힌 리스트는 원본 리스트를 [::-1]처럼 슬라이싱 해 주면 얻을 수 있습니다. \n",
    "그럼 qcut() 함수의 x에 recency 컬럼 데이터를 전달하고, q에는 num_grades 변수를 전달하고, labels에는 grade_labels[::-1]을 전달해 볼게요."
   ],
   "metadata": {
    "collapsed": false
   },
   "id": "5c8e36388e1f8ff9"
  },
  {
   "cell_type": "code",
   "outputs": [],
   "source": [
    "# 데이터를 개수에맞게 3등분\n",
    "# 등급 라벨을 역순해줘야 앞그룹부터 1등급시작\n",
    "recency_grade = pd.qcut(x=df['recency'], q=num_grades, labels=grade_labels[::-1])"
   ],
   "metadata": {
    "collapsed": false,
    "ExecuteTime": {
     "end_time": "2024-05-15T10:18:08.543228Z",
     "start_time": "2024-05-15T10:18:08.394348Z"
    }
   },
   "id": "75ff592f33af56a0",
   "execution_count": 348
  },
  {
   "cell_type": "markdown",
   "source": [
    "이렇게 만들어진 Recency 등급 데이터는 recency_grade라는 이름의 컬럼으로 customer_df에 추가하겠습니다."
   ],
   "metadata": {
    "collapsed": false
   },
   "id": "ef0835361cf0b311"
  },
  {
   "cell_type": "code",
   "outputs": [
    {
     "name": "stderr",
     "output_type": "stream",
     "text": [
      "/var/folders/vh/dzvlggfx64b5xndshnbz77540000gn/T/ipykernel_84617/4152851442.py:1: SettingWithCopyWarning: \n",
      "A value is trying to be set on a copy of a slice from a DataFrame.\n",
      "Try using .loc[row_indexer,col_indexer] = value instead\n",
      "\n",
      "See the caveats in the documentation: https://pandas.pydata.org/pandas-docs/stable/user_guide/indexing.html#returning-a-view-versus-a-copy\n",
      "  df['recency_grade'] = recency_grade\n"
     ]
    }
   ],
   "source": [
    "df['recency_grade'] = recency_grade"
   ],
   "metadata": {
    "collapsed": false,
    "ExecuteTime": {
     "end_time": "2024-05-15T10:18:08.624135Z",
     "start_time": "2024-05-15T10:18:08.543511Z"
    }
   },
   "id": "38154b8a563c714e",
   "execution_count": 349
  },
  {
   "cell_type": "markdown",
   "source": [
    "recency_grade 컬럼에 value_counts()를 적용해 보면, \n",
    "1등급부터 3등급까지 정확히 똑같이 분배된 건 아니지만 비슷한 비율로 나뉘었음을 확인할 수 있습니다."
   ],
   "metadata": {
    "collapsed": false
   },
   "id": "7cb683d3a569e7ae"
  },
  {
   "cell_type": "code",
   "outputs": [
    {
     "data": {
      "text/plain": "recency_grade\n3    752\n1    730\n2    723\nName: count, dtype: int64"
     },
     "execution_count": 350,
     "metadata": {},
     "output_type": "execute_result"
    }
   ],
   "source": [
    "df['recency_grade'].value_counts()"
   ],
   "metadata": {
    "collapsed": false,
    "ExecuteTime": {
     "end_time": "2024-05-15T10:18:08.662374Z",
     "start_time": "2024-05-15T10:18:08.609104Z"
    }
   },
   "id": "1bd3a4f359bdd868",
   "execution_count": 350
  },
  {
   "cell_type": "code",
   "outputs": [],
   "source": [],
   "metadata": {
    "collapsed": false,
    "ExecuteTime": {
     "end_time": "2024-05-15T10:18:08.740831Z",
     "start_time": "2024-05-15T10:18:08.663156Z"
    }
   },
   "id": "3c6d194ca15e5dc2",
   "execution_count": 350
  },
  {
   "cell_type": "markdown",
   "source": [
    "그럼 Recency 등급에 따라 매출 기여도가 어떻게 다른지 시각화해 볼까요? \n",
    "각 등급의 매출 기여도는 전체 매출 대비 해당 등급의 매출 비율로 구할 수 있습니다. \n",
    "\n",
    "그렇다면 먼저 recency_grade 컬럼 기준으로 groupby 한 다음 sum() 함수를 써서 등급별 매출 합계를 구해야겠군요. \n",
    "sum() 함수를 사용할 때에는 숫자 값들만 합을 구할 수 있게 numeric_only 값을 True로 설정하겠습니다. \n",
    "마지막으로 reset_index() 함수까지 사용해 주면 깔끔하게 recency_grade도 컬럼으로 만들 수 있어요. \n",
    "이 groupby 결과는 groupby_recency_grade 변수에 담겠습니다. \n",
    "1등급에서 3등급으로 갈수록 recency 컬럼의 값이 줄어드는 걸 보면 등급이 제대로 매겨진 것 같군요.\n",
    "\n",
    "\n"
   ],
   "metadata": {
    "collapsed": false
   },
   "id": "d3e3b6fe6f5e4c26"
  },
  {
   "cell_type": "code",
   "outputs": [
    {
     "name": "stderr",
     "output_type": "stream",
     "text": [
      "/var/folders/vh/dzvlggfx64b5xndshnbz77540000gn/T/ipykernel_84617/2207962456.py:1: FutureWarning: The default of observed=False is deprecated and will be changed to True in a future version of pandas. Pass observed=False to retain current behavior or observed=True to adopt the future default and silence this warning.\n",
      "  groupby_recency_grade = df.groupby('recency_grade').sum(numeric_only=True).reset_index()\n"
     ]
    },
    {
     "data": {
      "text/plain": "  recency_grade       ID  birth_year  annual_income  children  recency  \\\n0             3  4338743     1486970   5.059218e+10       678    11988   \n1             2  4001190     1428892   4.818995e+10       724    35840   \n2             1  3975961     1443212   4.919261e+10       690    60237   \n\n   amount_alcohol  amount_fruit  amount_meat  amount_fish  ...  promotion_1  \\\n0       293945600      26728000    157576900     37583000  ...           54   \n1       294073000      23675600    151742500     35046700  ...           47   \n2       289602300      25281100    164547500     35599200  ...           41   \n\n   promotion_2  promotion_3  promotion_4  promotion_5  promotion_6  revenue  \\\n0           12           67           55           60          179     8272   \n1            8           47           52           48           95     7953   \n2           10           49           57           53           59     8030   \n\n     age  amount_total  num_purchase_total  \n0  33574     583858600                9182  \n1  33014     570953500                9003  \n2  32848     584642500                8810  \n\n[3 rows x 25 columns]",
      "text/html": "<div>\n<style scoped>\n    .dataframe tbody tr th:only-of-type {\n        vertical-align: middle;\n    }\n\n    .dataframe tbody tr th {\n        vertical-align: top;\n    }\n\n    .dataframe thead th {\n        text-align: right;\n    }\n</style>\n<table border=\"1\" class=\"dataframe\">\n  <thead>\n    <tr style=\"text-align: right;\">\n      <th></th>\n      <th>recency_grade</th>\n      <th>ID</th>\n      <th>birth_year</th>\n      <th>annual_income</th>\n      <th>children</th>\n      <th>recency</th>\n      <th>amount_alcohol</th>\n      <th>amount_fruit</th>\n      <th>amount_meat</th>\n      <th>amount_fish</th>\n      <th>...</th>\n      <th>promotion_1</th>\n      <th>promotion_2</th>\n      <th>promotion_3</th>\n      <th>promotion_4</th>\n      <th>promotion_5</th>\n      <th>promotion_6</th>\n      <th>revenue</th>\n      <th>age</th>\n      <th>amount_total</th>\n      <th>num_purchase_total</th>\n    </tr>\n  </thead>\n  <tbody>\n    <tr>\n      <th>0</th>\n      <td>3</td>\n      <td>4338743</td>\n      <td>1486970</td>\n      <td>5.059218e+10</td>\n      <td>678</td>\n      <td>11988</td>\n      <td>293945600</td>\n      <td>26728000</td>\n      <td>157576900</td>\n      <td>37583000</td>\n      <td>...</td>\n      <td>54</td>\n      <td>12</td>\n      <td>67</td>\n      <td>55</td>\n      <td>60</td>\n      <td>179</td>\n      <td>8272</td>\n      <td>33574</td>\n      <td>583858600</td>\n      <td>9182</td>\n    </tr>\n    <tr>\n      <th>1</th>\n      <td>2</td>\n      <td>4001190</td>\n      <td>1428892</td>\n      <td>4.818995e+10</td>\n      <td>724</td>\n      <td>35840</td>\n      <td>294073000</td>\n      <td>23675600</td>\n      <td>151742500</td>\n      <td>35046700</td>\n      <td>...</td>\n      <td>47</td>\n      <td>8</td>\n      <td>47</td>\n      <td>52</td>\n      <td>48</td>\n      <td>95</td>\n      <td>7953</td>\n      <td>33014</td>\n      <td>570953500</td>\n      <td>9003</td>\n    </tr>\n    <tr>\n      <th>2</th>\n      <td>1</td>\n      <td>3975961</td>\n      <td>1443212</td>\n      <td>4.919261e+10</td>\n      <td>690</td>\n      <td>60237</td>\n      <td>289602300</td>\n      <td>25281100</td>\n      <td>164547500</td>\n      <td>35599200</td>\n      <td>...</td>\n      <td>41</td>\n      <td>10</td>\n      <td>49</td>\n      <td>57</td>\n      <td>53</td>\n      <td>59</td>\n      <td>8030</td>\n      <td>32848</td>\n      <td>584642500</td>\n      <td>8810</td>\n    </tr>\n  </tbody>\n</table>\n<p>3 rows × 25 columns</p>\n</div>"
     },
     "execution_count": 351,
     "metadata": {},
     "output_type": "execute_result"
    }
   ],
   "source": [
    "groupby_recency_grade = df.groupby('recency_grade').sum(numeric_only=True).reset_index()\n",
    "groupby_recency_grade"
   ],
   "metadata": {
    "collapsed": false,
    "ExecuteTime": {
     "end_time": "2024-05-15T10:18:08.759107Z",
     "start_time": "2024-05-15T10:18:08.740204Z"
    }
   },
   "id": "3e23d775dd9a53c",
   "execution_count": 351
  },
  {
   "cell_type": "markdown",
   "source": [
    "groupby_recency_grade의 amount_total 컬럼에 대해 파이 차트를 그려 주면 등급별로 매출 기여도가 어떻게 다른지 한눈에 볼 수 있습니다. plot() 함수에서 kind를 'pie'로 설정해 주면 되겠죠."
   ],
   "metadata": {
    "collapsed": false
   },
   "id": "fe81f1874276174a"
  },
  {
   "cell_type": "code",
   "outputs": [
    {
     "data": {
      "text/plain": "<Axes: ylabel='amount_total'>"
     },
     "execution_count": 352,
     "metadata": {},
     "output_type": "execute_result"
    },
    {
     "data": {
      "text/plain": "<Figure size 1000x500 with 1 Axes>",
      "image/png": "[encoded data removed]"
     },
     "metadata": {},
     "output_type": "display_data"
    }
   ],
   "source": [
    "groupby_recency_grade['amount_total'].plot(kind='pie')"
   ],
   "metadata": {
    "collapsed": false,
    "ExecuteTime": {
     "end_time": "2024-05-15T10:18:08.817693Z",
     "start_time": "2024-05-15T10:18:08.764228Z"
    }
   },
   "id": "d6380c44e3888e10",
   "execution_count": 352
  },
  {
   "cell_type": "code",
   "outputs": [
    {
     "data": {
      "text/plain": "<Axes: title={'center': 'Recency 등급별 매출 기여도'}>"
     },
     "execution_count": 353,
     "metadata": {},
     "output_type": "execute_result"
    },
    {
     "data": {
      "text/plain": "<Figure size 1000x500 with 1 Axes>",
      "image/png": "[encoded data removed]"
     },
     "metadata": {},
     "output_type": "display_data"
    }
   ],
   "source": [
    "groupby_recency_grade['amount_total'].plot(\n",
    "    kind='pie',\n",
    "    autopct='%.1f%%',\n",
    "    labels=[f'{x}등급' for x in grade_labels[::-1]],\n",
    "    title='Recency 등급별 매출 기여도',\n",
    "    ylabel='',\n",
    ")"
   ],
   "metadata": {
    "collapsed": false,
    "ExecuteTime": {
     "end_time": "2024-05-15T10:18:08.919962Z",
     "start_time": "2024-05-15T10:18:08.813974Z"
    }
   },
   "id": "8eee164e52f25958",
   "execution_count": 353
  },
  {
   "cell_type": "markdown",
   "source": [
    "이번에는 Frequency 등급을 매겨 볼게요. Frequency와 관련된 컬럼은 num_purchase_total이죠. \n",
    "Recency와 마찬가지로 qcut() 함수를 이용해 등급을 나누겠습니다. 주의할 점이 하나 있는데요. \n",
    "num_purchase_total 컬럼은 값이 클수록 더 자주 구매를 했다는 뜻이므로 더 높은 등급이 매겨져야 합니다. \n",
    "그래서 이번에는 labels에 grade_labels 리스트를 그대로 전달해 줘야 해요. \n",
    "qcut() 함수 결과는 customer_df에 frequency_grade라는 이름의 컬럼으로 추가하겠습니다."
   ],
   "metadata": {
    "collapsed": false
   },
   "id": "eeed4059f5dc3ce8"
  },
  {
   "cell_type": "code",
   "outputs": [
    {
     "name": "stderr",
     "output_type": "stream",
     "text": [
      "/var/folders/vh/dzvlggfx64b5xndshnbz77540000gn/T/ipykernel_84617/2714661268.py:1: SettingWithCopyWarning: \n",
      "A value is trying to be set on a copy of a slice from a DataFrame.\n",
      "Try using .loc[row_indexer,col_indexer] = value instead\n",
      "\n",
      "See the caveats in the documentation: https://pandas.pydata.org/pandas-docs/stable/user_guide/indexing.html#returning-a-view-versus-a-copy\n",
      "  df['frequency_grade'] = pd.qcut(\n"
     ]
    }
   ],
   "source": [
    "df['frequency_grade'] = pd.qcut(\n",
    "    x=df['num_purchase_total'], q=num_grades, labels=grade_labels\n",
    ")"
   ],
   "metadata": {
    "collapsed": false,
    "ExecuteTime": {
     "end_time": "2024-05-15T10:18:08.921484Z",
     "start_time": "2024-05-15T10:18:08.862825Z"
    }
   },
   "id": "b3560c0bc40a65ee",
   "execution_count": 354
  },
  {
   "cell_type": "code",
   "outputs": [
    {
     "data": {
      "text/plain": "frequency_grade\n1    851\n2    679\n3    675\nName: count, dtype: int64"
     },
     "execution_count": 355,
     "metadata": {},
     "output_type": "execute_result"
    }
   ],
   "source": [
    "df['frequency_grade'].value_counts()"
   ],
   "metadata": {
    "collapsed": false,
    "ExecuteTime": {
     "end_time": "2024-05-15T10:18:08.935053Z",
     "start_time": "2024-05-15T10:18:08.869307Z"
    }
   },
   "id": "7e5ebf405046aacb",
   "execution_count": 355
  },
  {
   "cell_type": "markdown",
   "source": [
    "Frequency도 등급별 매출 기여도를 파이 차트로 그려 봅시다. \n",
    "Recency 때와 비슷하게 frequency_grade 컬럼에 대해 groupby 한 뒤 sum() 함수를 사용할게요. \n",
    "이 groupby 결과의 amount_total 컬럼에 대해 파이 차트를 그리면 되겠습니다. \n",
    "시각화한 걸 보니 매출 기여도는 3등급, 2등급, 1등급 순으로 높군요. \n",
    "3등급과 2등급의 매출 기여도 차이는 그리 크지 않고, 둘에 비해 1등급의 매출 기여도가 상당히 낮습니다. \n",
    "1등급 고객의 수가 더 많은데도 이런 결과가 나오다니 흥미롭네요."
   ],
   "metadata": {
    "collapsed": false
   },
   "id": "7f43064b0790a32"
  },
  {
   "cell_type": "code",
   "outputs": [
    {
     "name": "stderr",
     "output_type": "stream",
     "text": [
      "/var/folders/vh/dzvlggfx64b5xndshnbz77540000gn/T/ipykernel_84617/2203580453.py:1: FutureWarning: The default of observed=False is deprecated and will be changed to True in a future version of pandas. Pass observed=False to retain current behavior or observed=True to adopt the future default and silence this warning.\n",
      "  groupby_frequency_grade = df.groupby('frequency_grade').sum(numeric_only=True).reset_index()\n"
     ]
    },
    {
     "data": {
      "text/plain": "<Axes: title={'center': 'Frequency 등급별 매출 기여도'}>"
     },
     "execution_count": 356,
     "metadata": {},
     "output_type": "execute_result"
    },
    {
     "data": {
      "text/plain": "<Figure size 1000x500 with 1 Axes>",
      "image/png": "[encoded data removed]"
     },
     "metadata": {},
     "output_type": "display_data"
    }
   ],
   "source": [
    "groupby_frequency_grade = df.groupby('frequency_grade').sum(numeric_only=True).reset_index()\n",
    "groupby_frequency_grade['amount_total'].plot(\n",
    "    kind='pie',\n",
    "    autopct='%.1f%%',\n",
    "    labels=[f'{x}등급' for x in grade_labels],\n",
    "    title='Frequency 등급별 매출 기여도',\n",
    "    ylabel='',\n",
    ")"
   ],
   "metadata": {
    "collapsed": false,
    "ExecuteTime": {
     "end_time": "2024-05-15T10:18:09.035982Z",
     "start_time": "2024-05-15T10:18:08.924369Z"
    }
   },
   "id": "80022e75f1b8fed1",
   "execution_count": 356
  },
  {
   "cell_type": "markdown",
   "source": [
    "마지막으로 Monetary 등급을 구할 차례입니다. 이번에는 amount_total 컬럼을 구간화하면 되겠죠. \n",
    "Monetary는 구매 금액을 뜻하므로 Frequency와 마찬가지로 숫자가 클수록 더 높은 등급이 매겨져야 할 거예요. \n",
    "qcut() 함수로 등급을 나눈 뒤 customer_df에 monetary_grade라는 컬럼으로 추가하겠습니다."
   ],
   "metadata": {
    "collapsed": false
   },
   "id": "115b14c7b225d560"
  },
  {
   "cell_type": "code",
   "outputs": [
    {
     "name": "stderr",
     "output_type": "stream",
     "text": [
      "/var/folders/vh/dzvlggfx64b5xndshnbz77540000gn/T/ipykernel_84617/2343856283.py:1: SettingWithCopyWarning: \n",
      "A value is trying to be set on a copy of a slice from a DataFrame.\n",
      "Try using .loc[row_indexer,col_indexer] = value instead\n",
      "\n",
      "See the caveats in the documentation: https://pandas.pydata.org/pandas-docs/stable/user_guide/indexing.html#returning-a-view-versus-a-copy\n",
      "  df['monetary_grade'] = pd.qcut(\n"
     ]
    }
   ],
   "source": [
    "df['monetary_grade'] = pd.qcut(\n",
    "    x=df['amount_total'], q=num_grades, labels=grade_labels\n",
    ")"
   ],
   "metadata": {
    "collapsed": false,
    "ExecuteTime": {
     "end_time": "2024-05-15T10:18:09.037468Z",
     "start_time": "2024-05-15T10:18:08.977690Z"
    }
   },
   "id": "8a208f757d61ec0f",
   "execution_count": 357
  },
  {
   "cell_type": "code",
   "outputs": [
    {
     "data": {
      "text/plain": "monetary_grade\n1    735\n2    735\n3    735\nName: count, dtype: int64"
     },
     "execution_count": 358,
     "metadata": {},
     "output_type": "execute_result"
    }
   ],
   "source": [
    "df['monetary_grade'].value_counts()"
   ],
   "metadata": {
    "collapsed": false,
    "ExecuteTime": {
     "end_time": "2024-05-15T10:18:09.094050Z",
     "start_time": "2024-05-15T10:18:09.024307Z"
    }
   },
   "id": "d954ce1be3d20e1d",
   "execution_count": 358
  },
  {
   "cell_type": "markdown",
   "source": [
    "이제 Monetary 등급에 따라 매출 기여도가 어떻게 다른지 파이 차트로 그려 볼게요. \n",
    "결과를 보면 3등급의 매출 기여도가 매우 높고 1등급의 매출 기여도는 아주 낮게 나오네요. \n",
    "아무래도 Monetary 등급은 돈을 얼마나 썼는지와 직접적으로 관련되기 때문에 그만큼 매출 기여도가 명확히 구분되는 것 같습니다."
   ],
   "metadata": {
    "collapsed": false
   },
   "id": "a364e7a864b4959d"
  },
  {
   "cell_type": "code",
   "outputs": [
    {
     "name": "stderr",
     "output_type": "stream",
     "text": [
      "/var/folders/vh/dzvlggfx64b5xndshnbz77540000gn/T/ipykernel_84617/548740859.py:1: FutureWarning: The default of observed=False is deprecated and will be changed to True in a future version of pandas. Pass observed=False to retain current behavior or observed=True to adopt the future default and silence this warning.\n",
      "  groupby_monetary_grade = df.groupby('monetary_grade').sum(numeric_only=True).reset_index()\n"
     ]
    },
    {
     "data": {
      "text/plain": "<Axes: title={'center': 'Monetary 등급별 매출 기여도'}>"
     },
     "execution_count": 359,
     "metadata": {},
     "output_type": "execute_result"
    },
    {
     "data": {
      "text/plain": "<Figure size 1000x500 with 1 Axes>",
      "image/png": "[encoded data removed]"
     },
     "metadata": {},
     "output_type": "display_data"
    }
   ],
   "source": [
    "groupby_monetary_grade = df.groupby('monetary_grade').sum(numeric_only=True).reset_index()\n",
    "groupby_monetary_grade['amount_total'].plot(\n",
    "    kind='pie',\n",
    "    autopct='%.1f%%',\n",
    "    labels=[f'{x}등급' for x in grade_labels],\n",
    "    title='Monetary 등급별 매출 기여도',\n",
    "    ylabel='',\n",
    ")"
   ],
   "metadata": {
    "collapsed": false,
    "ExecuteTime": {
     "end_time": "2024-05-15T10:18:09.160742Z",
     "start_time": "2024-05-15T10:18:09.103926Z"
    }
   },
   "id": "f742b5c2ccf0311a",
   "execution_count": 359
  },
  {
   "cell_type": "markdown",
   "source": [
    "## 가중합을 이용해 RFM 고객 세그먼트 분류하기\n",
    "Recency, Frequency, Monetary 각 항목의 등급을 모두 매겼으니 이제 이를 활용해 고객 지표를 구하고 고객 세그먼트 분류까지 해 볼게요. \n",
    "먼저 Recency, Frequency, Monetary 등급 각각에 가중치를 곱한 뒤 더하면 고객 지표가 계산됩니다. \n",
    "이 고객 지표를 몇 가지 등급으로 나누면 최종 고객 세그먼트를 구할 수 있죠. \n",
    "그럼 RFM 고객 세그먼트의 등급 개수도 3개로 두고 진행해 보겠습니다. \n",
    "혹시 RFM 분석 방법이 잘 기억나지 않는다면 여기를 참고해 주세요.\n",
    "\n",
    "일단 세 항목에 동일하게 가중치를 줄 때 고객 세그먼트가 어떻게 나오는지 확인해 볼까요? \n",
    "세 항목에 대한 가중치에는 조건이 있었죠. \n",
    "각각 0보다 크거나 같아야 하고 모두 더했을 때 1이 되어야 합니다. 가중치 조건을 고려했을 때 각 항목에 1/3씩 가중치를 부여하면 되겠군요. \n",
    "가중치는 weight라는 이름의 딕셔너리 변수를 이용해 관리하겠습니다."
   ],
   "metadata": {
    "collapsed": false
   },
   "id": "a6aed9ad00c64650"
  },
  {
   "cell_type": "code",
   "outputs": [],
   "source": [
    "weight = {}\n",
    "weight['recency'] = 1 / 3\n",
    "weight['frequency'] = 1 / 3\n",
    "weight['monetary'] = 1 / 3"
   ],
   "metadata": {
    "collapsed": false,
    "ExecuteTime": {
     "end_time": "2024-05-15T10:18:09.162591Z",
     "start_time": "2024-05-15T10:18:09.149405Z"
    }
   },
   "id": "7e6b3601640b50e8",
   "execution_count": 360
  },
  {
   "cell_type": "markdown",
   "source": [
    "여기서 주의할 점이 하나 있는데요. \n",
    "\n",
    "\n",
    "customer_df에 Recency, Frequency, Monetary 각 등급이 숫자 1, 2, 3으로 표시되어 있지만, \n",
    "엄밀히 말하면 등급 값은 모두 숫자형 데이터가 아니라 범주형 데이터인 상태입니다. \n",
    "가중치를 적용하는 연산을 하려면 astype() 함수를 이용해 숫자형 데이터로 바꿔 줘야 해요. \n",
    "어차피 등급 값은 1, 2, 3 뿐이니 정수형으로 바꿔도 무방하겠습니다. \n",
    "그럼 항목에 맞게 가중치와 등급을 곱한 뒤 더해 줍시다. 이렇게 구한 고객 지표는 customer_df에 rfm_score 컬럼으로 추가할게요."
   ],
   "metadata": {
    "collapsed": false
   },
   "id": "9434341bc2a1cd74"
  },
  {
   "cell_type": "code",
   "outputs": [
    {
     "name": "stderr",
     "output_type": "stream",
     "text": [
      "/var/folders/vh/dzvlggfx64b5xndshnbz77540000gn/T/ipykernel_84617/2856532442.py:1: SettingWithCopyWarning: \n",
      "A value is trying to be set on a copy of a slice from a DataFrame.\n",
      "Try using .loc[row_indexer,col_indexer] = value instead\n",
      "\n",
      "See the caveats in the documentation: https://pandas.pydata.org/pandas-docs/stable/user_guide/indexing.html#returning-a-view-versus-a-copy\n",
      "  df['rfm_score'] = (\n"
     ]
    }
   ],
   "source": [
    "df['rfm_score'] = (\n",
    "    weight['recency'] * df['recency_grade'].astype('int')\n",
    "    + weight['frequency'] * df['frequency_grade'].astype('int')\n",
    "    + weight['monetary'] * df['monetary_grade'].astype('int')\n",
    ")"
   ],
   "metadata": {
    "collapsed": false,
    "ExecuteTime": {
     "end_time": "2024-05-15T10:18:09.171177Z",
     "start_time": "2024-05-15T10:18:09.156878Z"
    }
   },
   "id": "210213034d81c0da",
   "execution_count": 361
  },
  {
   "cell_type": "markdown",
   "source": [
    "이제 고객 지표를 세 등급으로 구간화하면 고객 세그먼트 분류를 마칠 수 있습니다. \n",
    "고객 지표는 그 범위가 1 이상 3 이하일 수밖에 없는데요. \n",
    "Recency, Frequency, Monetary 모두 등급 값이 1, 2, 3으로 한정되어 있고, 각 가중치는 모두 더해서 1이라는 제약 조건까지 있기 때문입니다. \n",
    "최솟값과 최댓값이 확실하게 정해져 있으니 등급마다 고객 수를 균등하게 분배하기보다는, 최솟값과 최댓값을 고려하여 동일한 크기의 구간으로 고객을 분류해 볼게요. 아래와 같이 구간을 정하면 세 구간의 크기가 모두 2/3가 되겠죠? \n",
    "물론 구간 경계에서 이상과 초과, 이하와 미만의 차이 때문에 2등급 고객의 수가 더 많아질 가능성이 있긴 합니다."
   ],
   "metadata": {
    "collapsed": false
   },
   "id": "3a1b525fafb47b4f"
  },
  {
   "cell_type": "markdown",
   "source": [
    "고객 지표 구간   | 등급\n",
    "1이상 5/3미만   | 1등급\n",
    "5.3이상 7/3이하 | 2등급\n",
    "7/3초과 3이하   | 3등급"
   ],
   "metadata": {
    "collapsed": false
   },
   "id": "e3083eed81ee13fc"
  },
  {
   "cell_type": "markdown",
   "source": [
    "이렇게 구간 경계의 포함 여부가 일관되지 않은 경우에는 cut() 함수로 구간화를 할 수가 없습니다. \n",
    "그래서 이번에는 apply() 함수를 이용해 구간화를 해 볼게요. \n",
    "먼저 rfm_score 값을 받으면 위의 기준에 따라 RFM 세그먼트를 리턴해 주는 함수 rfm_segment_bins()를 정의합시다."
   ],
   "metadata": {
    "collapsed": false
   },
   "id": "8aa6b23c73f9c2e9"
  },
  {
   "cell_type": "code",
   "outputs": [],
   "source": [
    "def rfm_segment_bins(x):\n",
    "    if x < 5 / 3:\n",
    "        return 1\n",
    "    elif x <= 7 / 3:\n",
    "        return 2\n",
    "    else:\n",
    "        return 3\n"
   ],
   "metadata": {
    "collapsed": false,
    "ExecuteTime": {
     "end_time": "2024-05-15T10:18:09.235473Z",
     "start_time": "2024-05-15T10:18:09.173532Z"
    }
   },
   "id": "22b65107c91408ef",
   "execution_count": 362
  },
  {
   "cell_type": "markdown",
   "source": [
    "다음으로 rfm_score 컬럼 데이터에 대해 apply() 함수를 호출하면 되는데요. \n",
    "rfm_segment_bins() 함수의 이름을 입력으로 넣어 주어야 합니다. \n",
    "그러면 rfm_score 컬럼의 값 하나하나가 rfm_segment_bins() 함수를 통과한 값으로 바뀌어 의도한 대로 세그먼트를 나눌 수 있어요. \n",
    "apply() 함수의 결과는 rfm_segment이라는 이름의 새로운 컬럼을 만들어 customer_df에 추가해 줄게요."
   ],
   "metadata": {
    "collapsed": false
   },
   "id": "998ce5232e6f4c74"
  },
  {
   "cell_type": "code",
   "outputs": [
    {
     "name": "stderr",
     "output_type": "stream",
     "text": [
      "/var/folders/vh/dzvlggfx64b5xndshnbz77540000gn/T/ipykernel_84617/1803791392.py:1: SettingWithCopyWarning: \n",
      "A value is trying to be set on a copy of a slice from a DataFrame.\n",
      "Try using .loc[row_indexer,col_indexer] = value instead\n",
      "\n",
      "See the caveats in the documentation: https://pandas.pydata.org/pandas-docs/stable/user_guide/indexing.html#returning-a-view-versus-a-copy\n",
      "  df['rfm_segment'] = df['rfm_score'].apply(rfm_segment_bins)\n"
     ]
    }
   ],
   "source": [
    "df['rfm_segment'] = df['rfm_score'].apply(rfm_segment_bins)"
   ],
   "metadata": {
    "collapsed": false,
    "ExecuteTime": {
     "end_time": "2024-05-15T10:18:09.247437Z",
     "start_time": "2024-05-15T10:18:09.182488Z"
    }
   },
   "id": "48e3438c45c875eb",
   "execution_count": 363
  },
  {
   "cell_type": "markdown",
   "source": [
    "구간화를 마친 뒤 rfm_segment 컬럼에서 value_counts() 함수를 호출하여 세그먼트마다 고객이 몇 명씩 있는지 확인해 봅시다. \n",
    "출력된 결과를 보니 1등급에서 3등급으로 갈수록 고객 수가 줄어드네요."
   ],
   "metadata": {
    "collapsed": false
   },
   "id": "48d07ad882345287"
  },
  {
   "cell_type": "code",
   "outputs": [
    {
     "data": {
      "text/plain": "rfm_segment\n1    926\n2    811\n3    468\nName: count, dtype: int64"
     },
     "execution_count": 364,
     "metadata": {},
     "output_type": "execute_result"
    }
   ],
   "source": [
    "df['rfm_segment'].value_counts()"
   ],
   "metadata": {
    "collapsed": false,
    "ExecuteTime": {
     "end_time": "2024-05-15T10:18:09.264091Z",
     "start_time": "2024-05-15T10:18:09.243530Z"
    }
   },
   "id": "4881ecd42b2fbdad",
   "execution_count": 364
  },
  {
   "cell_type": "markdown",
   "source": [
    "그럼 고객 세그먼트별로 매출 기여도가 어떻게 다른지 살펴봅시다. \n",
    "이번에는 rfm_segment 컬럼을 기준으로 groupby 해 준 뒤 파이 차트를 그려야겠군요. \n",
    "결과를 보면 1등급 세그먼트 고객은 확실히 매출에 적게 기여하고 있습니다만, 2등급과 3등급의 매출 기여도 차이가 그리 크지 않습니다. \n",
    "매출 기여도가 더 확연히 높은 세그먼트가 있어야 그 고객들에게 집중할 수 있을 텐데 말이죠. \n",
    "가중치를 변경하여 다시 고객 지표를 계산하고 고객 세그먼트까지 나누어 봐야겠습니다."
   ],
   "metadata": {
    "collapsed": false
   },
   "id": "7686fc2663f792e6"
  },
  {
   "cell_type": "code",
   "outputs": [
    {
     "data": {
      "text/plain": "<Axes: title={'center': 'RFM 고객 세그먼트별 매출 기여도'}>"
     },
     "execution_count": 365,
     "metadata": {},
     "output_type": "execute_result"
    },
    {
     "data": {
      "text/plain": "<Figure size 1000x500 with 1 Axes>",
      "image/png": "[encoded data removed]"
     },
     "metadata": {},
     "output_type": "display_data"
    }
   ],
   "source": [
    "groupby_rfm_segment = df.groupby('rfm_segment').sum(numeric_only=True).reset_index()\n",
    "groupby_rfm_segment['amount_total'].plot(\n",
    "    kind='pie',\n",
    "    autopct='%.1f%%',\n",
    "    labels=[f'{x}등급' for x in grade_labels],\n",
    "    title='RFM 고객 세그먼트별 매출 기여도',\n",
    "    ylabel='',\n",
    ")"
   ],
   "metadata": {
    "collapsed": false,
    "ExecuteTime": {
     "end_time": "2024-05-15T10:18:09.333553Z",
     "start_time": "2024-05-15T10:18:09.267033Z"
    }
   },
   "id": "45de7aade66e3b2f",
   "execution_count": 365
  },
  {
   "cell_type": "markdown",
   "source": [
    "앞선 분석에서 Recency 등급은 등급별로 매출 기여도 차이가 거의 없었는데요. \n",
    "그렇다면 Recency 가중치를 줄이고 다른 항목의 가중치를 높였을 때, \n",
    "고객 세그먼트별 매출 기여도의 차이가 더 뚜렷해질 것이라고 추측할 수 있습니다. \n",
    "Recency 가중치를 0.2로 줄이고 다른 두 가중치는 동등하게 0.4씩 설정한 뒤 같은 과정을 반복해 봅시다"
   ],
   "metadata": {
    "collapsed": false
   },
   "id": "d1f369a4014e6acc"
  },
  {
   "cell_type": "code",
   "outputs": [
    {
     "name": "stderr",
     "output_type": "stream",
     "text": [
      "/var/folders/vh/dzvlggfx64b5xndshnbz77540000gn/T/ipykernel_84617/2088926719.py:8: SettingWithCopyWarning: \n",
      "A value is trying to be set on a copy of a slice from a DataFrame.\n",
      "Try using .loc[row_indexer,col_indexer] = value instead\n",
      "\n",
      "See the caveats in the documentation: https://pandas.pydata.org/pandas-docs/stable/user_guide/indexing.html#returning-a-view-versus-a-copy\n",
      "  df['rfm_score'] = (\n",
      "/var/folders/vh/dzvlggfx64b5xndshnbz77540000gn/T/ipykernel_84617/2088926719.py:15: SettingWithCopyWarning: \n",
      "A value is trying to be set on a copy of a slice from a DataFrame.\n",
      "Try using .loc[row_indexer,col_indexer] = value instead\n",
      "\n",
      "See the caveats in the documentation: https://pandas.pydata.org/pandas-docs/stable/user_guide/indexing.html#returning-a-view-versus-a-copy\n",
      "  df['rfm_segment'] = df['rfm_score'].apply(rfm_segment_bins)\n"
     ]
    }
   ],
   "source": [
    "# Recency가 차이가 얼마없어서 이것을 제외하고 가중치를 높\n",
    "# 가중치 재설정\n",
    "weight['recency'] = 0.2\n",
    "weight['frequency'] = 0.4\n",
    "weight['monetary'] = 0.4\n",
    "\n",
    "# 가중합 계산\n",
    "df['rfm_score'] = (\n",
    "    weight['recency'] * df['recency_grade'].astype('int')\n",
    "    + weight['frequency'] * df['frequency_grade'].astype('int')\n",
    "    + weight['monetary'] * df['monetary_grade'].astype('int')\n",
    ")\n",
    "\n",
    "# RFM 고객 지표 구간화\n",
    "df['rfm_segment'] = df['rfm_score'].apply(rfm_segment_bins)"
   ],
   "metadata": {
    "collapsed": false,
    "ExecuteTime": {
     "end_time": "2024-05-15T10:19:06.999769Z",
     "start_time": "2024-05-15T10:19:06.959999Z"
    }
   },
   "id": "5b98d1bd3c647d9c",
   "execution_count": 369
  },
  {
   "cell_type": "markdown",
   "source": [
    "새로운 가중치로 고객 세그먼트를 나누니 이전 가중치로 나눴을 때에 비해 1등급과 2등급 세그먼트 고객의 수는 줄고 3등급 세그먼트 고객의 수가 많이 늘었네요."
   ],
   "metadata": {
    "collapsed": false
   },
   "id": "ad1669dad15429cc"
  },
  {
   "cell_type": "code",
   "outputs": [
    {
     "data": {
      "text/plain": "rfm_segment\n1    802\n3    792\n2    611\nName: count, dtype: int64"
     },
     "execution_count": 367,
     "metadata": {},
     "output_type": "execute_result"
    }
   ],
   "source": [
    "df['rfm_segment'].value_counts()"
   ],
   "metadata": {
    "collapsed": false,
    "ExecuteTime": {
     "end_time": "2024-05-15T10:18:09.405027Z",
     "start_time": "2024-05-15T10:18:09.337199Z"
    }
   },
   "id": "75214ee07ad26dcb",
   "execution_count": 367
  },
  {
   "cell_type": "markdown",
   "source": [
    "세그먼트별 매출 기여도를 파이 차트로 그려 보니 3등급 세그먼트의 매출 기여도가 70%에 육박합니다. \n",
    "2등급 세그먼트는 27% 정도, 1등급 세그먼트는 4%로, 3등급 세그먼트의 매출 기여도가 확연히 높군요. \n",
    "매출 기여도가 높은 3등급 세그먼트를 핵심 고객 그룹으로 생각하고 집중적으로 관리해 주면 앞으로도 매출에 도움이 되겠죠?"
   ],
   "metadata": {
    "collapsed": false
   },
   "id": "5f4ff0ca3cdc0484"
  },
  {
   "cell_type": "code",
   "outputs": [
    {
     "data": {
      "text/plain": "<Axes: title={'center': 'RFM 고객 세그먼트별 매출 기여도'}>"
     },
     "execution_count": 368,
     "metadata": {},
     "output_type": "execute_result"
    },
    {
     "data": {
      "text/plain": "<Figure size 1000x500 with 1 Axes>",
      "image/png": "[encoded data removed]"
     },
     "metadata": {},
     "output_type": "display_data"
    }
   ],
   "source": [
    "groupby_rfm_segment = df.groupby('rfm_segment').sum(numeric_only=True).reset_index()\n",
    "groupby_rfm_segment['amount_total'].plot(\n",
    "    kind='pie',\n",
    "    autopct='%.1f%%',\n",
    "    labels=[f'{x}등급' for x in grade_labels],\n",
    "    title='RFM 고객 세그먼트별 매출 기여도',\n",
    "    ylabel='',\n",
    ")"
   ],
   "metadata": {
    "collapsed": false,
    "ExecuteTime": {
     "end_time": "2024-05-15T10:18:09.562266Z",
     "start_time": "2024-05-15T10:18:09.400399Z"
    }
   },
   "id": "742d9782f057860",
   "execution_count": 368
  }
 ],
 "metadata": {
  "kernelspec": {
   "display_name": "Python 3",
   "language": "python",
   "name": "python3"
  },
  "language_info": {
   "codemirror_mode": {
    "name": "ipython",
    "version": 2
   },
   "file_extension": ".py",
   "mimetype": "text/x-python",
   "name": "python",
   "nbconvert_exporter": "python",
   "pygments_lexer": "ipython2",
   "version": "2.7.6"
  }
 },
 "nbformat": 4,
 "nbformat_minor": 5
}
