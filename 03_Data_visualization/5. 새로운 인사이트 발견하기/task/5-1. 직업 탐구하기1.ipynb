{
 "cells": [
  {
   "cell_type": "markdown",
   "source": [
    "## 실습 설명\n",
    "직업과 나이, 성별 등에 대한 데이터가 data/occupations.csv에 있습니다.\n",
    "\n",
    "각 직업의 평균 나이가 궁금한데요.\n",
    "\n",
    "groupby 문법을 사용해서 '평균 나이'가 어린 순으로 직업을 나열해 보세요.\n",
    "\n"
   ],
   "metadata": {
    "collapsed": false
   },
   "id": "a3a71ccc2528c089"
  },
  {
   "cell_type": "code",
   "outputs": [
    {
     "data": {
      "text/plain": "     age gender     occupation\n0     24      M     technician\n1     53      F          other\n2     23      M         writer\n3     24      M     technician\n4     33      F          other\n..   ...    ...            ...\n938   26      F        student\n939   32      M  administrator\n940   20      M        student\n941   48      F      librarian\n942   22      M        student\n\n[943 rows x 3 columns]",
      "text/html": "<div>\n<style scoped>\n    .dataframe tbody tr th:only-of-type {\n        vertical-align: middle;\n    }\n\n    .dataframe tbody tr th {\n        vertical-align: top;\n    }\n\n    .dataframe thead th {\n        text-align: right;\n    }\n</style>\n<table border=\"1\" class=\"dataframe\">\n  <thead>\n    <tr style=\"text-align: right;\">\n      <th></th>\n      <th>age</th>\n      <th>gender</th>\n      <th>occupation</th>\n    </tr>\n  </thead>\n  <tbody>\n    <tr>\n      <th>0</th>\n      <td>24</td>\n      <td>M</td>\n      <td>technician</td>\n    </tr>\n    <tr>\n      <th>1</th>\n      <td>53</td>\n      <td>F</td>\n      <td>other</td>\n    </tr>\n    <tr>\n      <th>2</th>\n      <td>23</td>\n      <td>M</td>\n      <td>writer</td>\n    </tr>\n    <tr>\n      <th>3</th>\n      <td>24</td>\n      <td>M</td>\n      <td>technician</td>\n    </tr>\n    <tr>\n      <th>4</th>\n      <td>33</td>\n      <td>F</td>\n      <td>other</td>\n    </tr>\n    <tr>\n      <th>...</th>\n      <td>...</td>\n      <td>...</td>\n      <td>...</td>\n    </tr>\n    <tr>\n      <th>938</th>\n      <td>26</td>\n      <td>F</td>\n      <td>student</td>\n    </tr>\n    <tr>\n      <th>939</th>\n      <td>32</td>\n      <td>M</td>\n      <td>administrator</td>\n    </tr>\n    <tr>\n      <th>940</th>\n      <td>20</td>\n      <td>M</td>\n      <td>student</td>\n    </tr>\n    <tr>\n      <th>941</th>\n      <td>48</td>\n      <td>F</td>\n      <td>librarian</td>\n    </tr>\n    <tr>\n      <th>942</th>\n      <td>22</td>\n      <td>M</td>\n      <td>student</td>\n    </tr>\n  </tbody>\n</table>\n<p>943 rows × 3 columns</p>\n</div>"
     },
     "execution_count": 43,
     "metadata": {},
     "output_type": "execute_result"
    }
   ],
   "source": [
    "import pandas as pd\n",
    "\n",
    "df = pd.read_csv('data/occupations.csv')\n",
    "df"
   ],
   "metadata": {
    "collapsed": true,
    "ExecuteTime": {
     "end_time": "2024-05-07T08:25:36.751355Z",
     "start_time": "2024-05-07T08:25:36.727485Z"
    }
   },
   "id": "initial_id",
   "execution_count": 43
  },
  {
   "cell_type": "code",
   "outputs": [],
   "source": [
    "df_group = df.groupby('occupation')"
   ],
   "metadata": {
    "collapsed": false,
    "ExecuteTime": {
     "end_time": "2024-05-07T08:25:36.751503Z",
     "start_time": "2024-05-07T08:25:36.745521Z"
    }
   },
   "id": "190a2871e971d2f4",
   "execution_count": 44
  },
  {
   "cell_type": "code",
   "outputs": [
    {
     "data": {
      "text/plain": "occupation\nadministrator    38.746835\nartist           31.392857\ndoctor           43.571429\neducator         42.010526\nengineer         36.388060\nentertainment    29.222222\nexecutive        38.718750\nhealthcare       41.562500\nhomemaker        32.571429\nlawyer           36.750000\nlibrarian        40.000000\nmarketing        37.615385\nnone             26.555556\nother            34.523810\nprogrammer       33.121212\nretired          63.071429\nsalesman         35.666667\nscientist        35.548387\nstudent          22.081633\ntechnician       33.148148\nwriter           36.311111\nName: age, dtype: float64"
     },
     "execution_count": 45,
     "metadata": {},
     "output_type": "execute_result"
    }
   ],
   "source": [
    "group_age_mean = df_group['age'].mean()\n",
    "group_age_mean"
   ],
   "metadata": {
    "collapsed": false,
    "ExecuteTime": {
     "end_time": "2024-05-07T08:25:36.754787Z",
     "start_time": "2024-05-07T08:25:36.747826Z"
    }
   },
   "id": "35ee360c5d4989ae",
   "execution_count": 45
  },
  {
   "cell_type": "code",
   "outputs": [
    {
     "data": {
      "text/plain": "occupation\nstudent          22.081633\nnone             26.555556\nentertainment    29.222222\nartist           31.392857\nhomemaker        32.571429\nprogrammer       33.121212\ntechnician       33.148148\nother            34.523810\nscientist        35.548387\nsalesman         35.666667\nwriter           36.311111\nengineer         36.388060\nlawyer           36.750000\nmarketing        37.615385\nexecutive        38.718750\nadministrator    38.746835\nlibrarian        40.000000\nhealthcare       41.562500\neducator         42.010526\ndoctor           43.571429\nretired          63.071429\nName: age, dtype: float64"
     },
     "execution_count": 46,
     "metadata": {},
     "output_type": "execute_result"
    }
   ],
   "source": [
    "group_age_mean.sort_values(ascending=True)"
   ],
   "metadata": {
    "collapsed": false,
    "ExecuteTime": {
     "end_time": "2024-05-07T08:25:36.764486Z",
     "start_time": "2024-05-07T08:25:36.754148Z"
    }
   },
   "id": "4ea008d1114ab4ca",
   "execution_count": 46
  }
 ],
 "metadata": {
  "kernelspec": {
   "display_name": "Python 3",
   "language": "python",
   "name": "python3"
  },
  "language_info": {
   "codemirror_mode": {
    "name": "ipython",
    "version": 2
   },
   "file_extension": ".py",
   "mimetype": "text/x-python",
   "name": "python",
   "nbconvert_exporter": "python",
   "pygments_lexer": "ipython2",
   "version": "2.7.6"
  }
 },
 "nbformat": 4,
 "nbformat_minor": 5
}
