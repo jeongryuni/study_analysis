{
 "cells": [
  {
   "cell_type": "markdown",
   "source": [
    "### Inner Join : 두 데이터프레임에서 겹치는 부분만 합친 후 데이터프레임 출력\n",
    "### Left Outer Join : 왼쪽 데이터프레임에 기준으로 합치고 없는 값은 NaN으로 데이터프레임 출력\n",
    "### Right Outer Join : 오른쪽 데이터프레임에 기준으로 합치고 없는 값은 NaN으로 데이터프레임 출력\n",
    "### Full Outer Join : 양쪽에 있는 모든 것을 합침"
   ],
   "metadata": {
    "collapsed": false
   },
   "id": "69e34f1e98918c1c"
  },
  {
   "cell_type": "code",
   "outputs": [],
   "source": [
    "import pandas as pd\n",
    "\n",
    "price_df = pd.read_csv('data/vegetable_price.csv')\n",
    "quantity_df = pd.read_csv('data/vegetable_quantity.csv')"
   ],
   "metadata": {
    "collapsed": true,
    "ExecuteTime": {
     "end_time": "2024-05-07T09:03:46.576511Z",
     "start_time": "2024-05-07T09:03:46.568129Z"
    }
   },
   "id": "initial_id",
   "execution_count": 2
  },
  {
   "cell_type": "code",
   "outputs": [
    {
     "data": {
      "text/plain": "   Product  Price\n0   Potato   3000\n1    Onion   1600\n2  Avocado   5000\n3   Garlic   1200\n4   Tomato   3500\n5  Lettuce   2000\n6   Carrot   2500",
      "text/html": "<div>\n<style scoped>\n    .dataframe tbody tr th:only-of-type {\n        vertical-align: middle;\n    }\n\n    .dataframe tbody tr th {\n        vertical-align: top;\n    }\n\n    .dataframe thead th {\n        text-align: right;\n    }\n</style>\n<table border=\"1\" class=\"dataframe\">\n  <thead>\n    <tr style=\"text-align: right;\">\n      <th></th>\n      <th>Product</th>\n      <th>Price</th>\n    </tr>\n  </thead>\n  <tbody>\n    <tr>\n      <th>0</th>\n      <td>Potato</td>\n      <td>3000</td>\n    </tr>\n    <tr>\n      <th>1</th>\n      <td>Onion</td>\n      <td>1600</td>\n    </tr>\n    <tr>\n      <th>2</th>\n      <td>Avocado</td>\n      <td>5000</td>\n    </tr>\n    <tr>\n      <th>3</th>\n      <td>Garlic</td>\n      <td>1200</td>\n    </tr>\n    <tr>\n      <th>4</th>\n      <td>Tomato</td>\n      <td>3500</td>\n    </tr>\n    <tr>\n      <th>5</th>\n      <td>Lettuce</td>\n      <td>2000</td>\n    </tr>\n    <tr>\n      <th>6</th>\n      <td>Carrot</td>\n      <td>2500</td>\n    </tr>\n  </tbody>\n</table>\n</div>"
     },
     "execution_count": 4,
     "metadata": {},
     "output_type": "execute_result"
    }
   ],
   "source": [
    "price_df"
   ],
   "metadata": {
    "collapsed": false,
    "ExecuteTime": {
     "end_time": "2024-05-07T09:03:53.665982Z",
     "start_time": "2024-05-07T09:03:53.661734Z"
    }
   },
   "id": "84a16fe8d2c469d1",
   "execution_count": 4
  },
  {
   "cell_type": "code",
   "outputs": [
    {
     "data": {
      "text/plain": "    Product  Quantity\n0    Potato        25\n1     Onion        31\n2   Avocado        57\n3    Pepper        46\n4  Broccoli        25\n5  Cucumber         9",
      "text/html": "<div>\n<style scoped>\n    .dataframe tbody tr th:only-of-type {\n        vertical-align: middle;\n    }\n\n    .dataframe tbody tr th {\n        vertical-align: top;\n    }\n\n    .dataframe thead th {\n        text-align: right;\n    }\n</style>\n<table border=\"1\" class=\"dataframe\">\n  <thead>\n    <tr style=\"text-align: right;\">\n      <th></th>\n      <th>Product</th>\n      <th>Quantity</th>\n    </tr>\n  </thead>\n  <tbody>\n    <tr>\n      <th>0</th>\n      <td>Potato</td>\n      <td>25</td>\n    </tr>\n    <tr>\n      <th>1</th>\n      <td>Onion</td>\n      <td>31</td>\n    </tr>\n    <tr>\n      <th>2</th>\n      <td>Avocado</td>\n      <td>57</td>\n    </tr>\n    <tr>\n      <th>3</th>\n      <td>Pepper</td>\n      <td>46</td>\n    </tr>\n    <tr>\n      <th>4</th>\n      <td>Broccoli</td>\n      <td>25</td>\n    </tr>\n    <tr>\n      <th>5</th>\n      <td>Cucumber</td>\n      <td>9</td>\n    </tr>\n  </tbody>\n</table>\n</div>"
     },
     "execution_count": 5,
     "metadata": {},
     "output_type": "execute_result"
    }
   ],
   "source": [
    "quantity_df"
   ],
   "metadata": {
    "collapsed": false,
    "ExecuteTime": {
     "end_time": "2024-05-07T09:03:55.805773Z",
     "start_time": "2024-05-07T09:03:55.802535Z"
    }
   },
   "id": "1df99c6340ca4b23",
   "execution_count": 5
  },
  {
   "cell_type": "code",
   "outputs": [
    {
     "data": {
      "text/plain": "   Product  Price  Quantity\n0   Potato   3000        25\n1    Onion   1600        31\n2  Avocado   5000        57",
      "text/html": "<div>\n<style scoped>\n    .dataframe tbody tr th:only-of-type {\n        vertical-align: middle;\n    }\n\n    .dataframe tbody tr th {\n        vertical-align: top;\n    }\n\n    .dataframe thead th {\n        text-align: right;\n    }\n</style>\n<table border=\"1\" class=\"dataframe\">\n  <thead>\n    <tr style=\"text-align: right;\">\n      <th></th>\n      <th>Product</th>\n      <th>Price</th>\n      <th>Quantity</th>\n    </tr>\n  </thead>\n  <tbody>\n    <tr>\n      <th>0</th>\n      <td>Potato</td>\n      <td>3000</td>\n      <td>25</td>\n    </tr>\n    <tr>\n      <th>1</th>\n      <td>Onion</td>\n      <td>1600</td>\n      <td>31</td>\n    </tr>\n    <tr>\n      <th>2</th>\n      <td>Avocado</td>\n      <td>5000</td>\n      <td>57</td>\n    </tr>\n  </tbody>\n</table>\n</div>"
     },
     "execution_count": 6,
     "metadata": {},
     "output_type": "execute_result"
    }
   ],
   "source": [
    "# Inner Join\n",
    "pd.merge(price_df, quantity_df, on='Product')"
   ],
   "metadata": {
    "collapsed": false,
    "ExecuteTime": {
     "end_time": "2024-05-07T09:04:43.825499Z",
     "start_time": "2024-05-07T09:04:43.819786Z"
    }
   },
   "id": "75e463b85c6192d1",
   "execution_count": 6
  },
  {
   "cell_type": "code",
   "outputs": [
    {
     "data": {
      "text/plain": "   Product  Price  Quantity\n0   Potato   3000      25.0\n1    Onion   1600      31.0\n2  Avocado   5000      57.0\n3   Garlic   1200       NaN\n4   Tomato   3500       NaN\n5  Lettuce   2000       NaN\n6   Carrot   2500       NaN",
      "text/html": "<div>\n<style scoped>\n    .dataframe tbody tr th:only-of-type {\n        vertical-align: middle;\n    }\n\n    .dataframe tbody tr th {\n        vertical-align: top;\n    }\n\n    .dataframe thead th {\n        text-align: right;\n    }\n</style>\n<table border=\"1\" class=\"dataframe\">\n  <thead>\n    <tr style=\"text-align: right;\">\n      <th></th>\n      <th>Product</th>\n      <th>Price</th>\n      <th>Quantity</th>\n    </tr>\n  </thead>\n  <tbody>\n    <tr>\n      <th>0</th>\n      <td>Potato</td>\n      <td>3000</td>\n      <td>25.0</td>\n    </tr>\n    <tr>\n      <th>1</th>\n      <td>Onion</td>\n      <td>1600</td>\n      <td>31.0</td>\n    </tr>\n    <tr>\n      <th>2</th>\n      <td>Avocado</td>\n      <td>5000</td>\n      <td>57.0</td>\n    </tr>\n    <tr>\n      <th>3</th>\n      <td>Garlic</td>\n      <td>1200</td>\n      <td>NaN</td>\n    </tr>\n    <tr>\n      <th>4</th>\n      <td>Tomato</td>\n      <td>3500</td>\n      <td>NaN</td>\n    </tr>\n    <tr>\n      <th>5</th>\n      <td>Lettuce</td>\n      <td>2000</td>\n      <td>NaN</td>\n    </tr>\n    <tr>\n      <th>6</th>\n      <td>Carrot</td>\n      <td>2500</td>\n      <td>NaN</td>\n    </tr>\n  </tbody>\n</table>\n</div>"
     },
     "execution_count": 7,
     "metadata": {},
     "output_type": "execute_result"
    }
   ],
   "source": [
    "# Left Outer Join\n",
    "# price_df 기준\n",
    "pd.merge(price_df, quantity_df, on='Product', how='left')"
   ],
   "metadata": {
    "collapsed": false,
    "ExecuteTime": {
     "end_time": "2024-05-07T09:05:26.868379Z",
     "start_time": "2024-05-07T09:05:26.865488Z"
    }
   },
   "id": "db396544045e0b31",
   "execution_count": 7
  },
  {
   "cell_type": "code",
   "outputs": [
    {
     "data": {
      "text/plain": "    Product   Price  Quantity\n0    Potato  3000.0        25\n1     Onion  1600.0        31\n2   Avocado  5000.0        57\n3    Pepper     NaN        46\n4  Broccoli     NaN        25\n5  Cucumber     NaN         9",
      "text/html": "<div>\n<style scoped>\n    .dataframe tbody tr th:only-of-type {\n        vertical-align: middle;\n    }\n\n    .dataframe tbody tr th {\n        vertical-align: top;\n    }\n\n    .dataframe thead th {\n        text-align: right;\n    }\n</style>\n<table border=\"1\" class=\"dataframe\">\n  <thead>\n    <tr style=\"text-align: right;\">\n      <th></th>\n      <th>Product</th>\n      <th>Price</th>\n      <th>Quantity</th>\n    </tr>\n  </thead>\n  <tbody>\n    <tr>\n      <th>0</th>\n      <td>Potato</td>\n      <td>3000.0</td>\n      <td>25</td>\n    </tr>\n    <tr>\n      <th>1</th>\n      <td>Onion</td>\n      <td>1600.0</td>\n      <td>31</td>\n    </tr>\n    <tr>\n      <th>2</th>\n      <td>Avocado</td>\n      <td>5000.0</td>\n      <td>57</td>\n    </tr>\n    <tr>\n      <th>3</th>\n      <td>Pepper</td>\n      <td>NaN</td>\n      <td>46</td>\n    </tr>\n    <tr>\n      <th>4</th>\n      <td>Broccoli</td>\n      <td>NaN</td>\n      <td>25</td>\n    </tr>\n    <tr>\n      <th>5</th>\n      <td>Cucumber</td>\n      <td>NaN</td>\n      <td>9</td>\n    </tr>\n  </tbody>\n</table>\n</div>"
     },
     "execution_count": 8,
     "metadata": {},
     "output_type": "execute_result"
    }
   ],
   "source": [
    "# Right Outer Join\n",
    "# quantity_df rlwns\n",
    "pd.merge(price_df, quantity_df, on='Product', how='right')"
   ],
   "metadata": {
    "collapsed": false,
    "ExecuteTime": {
     "end_time": "2024-05-07T09:06:27.158024Z",
     "start_time": "2024-05-07T09:06:27.140490Z"
    }
   },
   "id": "87bf8be5bc896885",
   "execution_count": 8
  },
  {
   "cell_type": "code",
   "outputs": [
    {
     "data": {
      "text/plain": "    Product   Price  Quantity\n0    Potato  3000.0      25.0\n1     Onion  1600.0      31.0\n2   Avocado  5000.0      57.0\n3    Garlic  1200.0       NaN\n4    Tomato  3500.0       NaN\n5   Lettuce  2000.0       NaN\n6    Carrot  2500.0       NaN\n7    Pepper     NaN      46.0\n8  Broccoli     NaN      25.0\n9  Cucumber     NaN       9.0",
      "text/html": "<div>\n<style scoped>\n    .dataframe tbody tr th:only-of-type {\n        vertical-align: middle;\n    }\n\n    .dataframe tbody tr th {\n        vertical-align: top;\n    }\n\n    .dataframe thead th {\n        text-align: right;\n    }\n</style>\n<table border=\"1\" class=\"dataframe\">\n  <thead>\n    <tr style=\"text-align: right;\">\n      <th></th>\n      <th>Product</th>\n      <th>Price</th>\n      <th>Quantity</th>\n    </tr>\n  </thead>\n  <tbody>\n    <tr>\n      <th>0</th>\n      <td>Potato</td>\n      <td>3000.0</td>\n      <td>25.0</td>\n    </tr>\n    <tr>\n      <th>1</th>\n      <td>Onion</td>\n      <td>1600.0</td>\n      <td>31.0</td>\n    </tr>\n    <tr>\n      <th>2</th>\n      <td>Avocado</td>\n      <td>5000.0</td>\n      <td>57.0</td>\n    </tr>\n    <tr>\n      <th>3</th>\n      <td>Garlic</td>\n      <td>1200.0</td>\n      <td>NaN</td>\n    </tr>\n    <tr>\n      <th>4</th>\n      <td>Tomato</td>\n      <td>3500.0</td>\n      <td>NaN</td>\n    </tr>\n    <tr>\n      <th>5</th>\n      <td>Lettuce</td>\n      <td>2000.0</td>\n      <td>NaN</td>\n    </tr>\n    <tr>\n      <th>6</th>\n      <td>Carrot</td>\n      <td>2500.0</td>\n      <td>NaN</td>\n    </tr>\n    <tr>\n      <th>7</th>\n      <td>Pepper</td>\n      <td>NaN</td>\n      <td>46.0</td>\n    </tr>\n    <tr>\n      <th>8</th>\n      <td>Broccoli</td>\n      <td>NaN</td>\n      <td>25.0</td>\n    </tr>\n    <tr>\n      <th>9</th>\n      <td>Cucumber</td>\n      <td>NaN</td>\n      <td>9.0</td>\n    </tr>\n  </tbody>\n</table>\n</div>"
     },
     "execution_count": 9,
     "metadata": {},
     "output_type": "execute_result"
    }
   ],
   "source": [
    "# Full Outer Join\n",
    "pd.merge(price_df, quantity_df, on='Product', how='outer')"
   ],
   "metadata": {
    "collapsed": false,
    "ExecuteTime": {
     "end_time": "2024-05-07T09:06:48.420414Z",
     "start_time": "2024-05-07T09:06:48.406890Z"
    }
   },
   "id": "b9a86ef20f6900c9",
   "execution_count": 9
  }
 ],
 "metadata": {
  "kernelspec": {
   "display_name": "Python 3",
   "language": "python",
   "name": "python3"
  },
  "language_info": {
   "codemirror_mode": {
    "name": "ipython",
    "version": 2
   },
   "file_extension": ".py",
   "mimetype": "text/x-python",
   "name": "python",
   "nbconvert_exporter": "python",
   "pygments_lexer": "ipython2",
   "version": "2.7.6"
  }
 },
 "nbformat": 4,
 "nbformat_minor": 5
}
