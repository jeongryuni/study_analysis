{
 "cells": [
  {
   "cell_type": "markdown",
   "source": [
    "## 실습 설명\n",
    "스팀(Steam)은 온라인 게임을 유통하는 플랫폼입니다.  \n",
    "스팀 플랫폼에서 가장 반응이 좋은 게임이 무엇인지 알아보려고 하는데요.\n",
    "\n",
    "데이터를 살펴보니 결측값이 있는 것 같네요. 분석에 앞서 결측값을 제거해 봅시다.\n",
    "\n",
    "결측값이 있는 모든 row를 삭제하고, DataFrame을 출력해 주세요."
   ],
   "metadata": {
    "collapsed": false
   },
   "id": "c877e1fd2bbb4ca2"
  },
  {
   "cell_type": "code",
   "outputs": [
    {
     "data": {
      "text/plain": "                                    Name  Hours\n0             The Elder Scrolls V Skyrim  273.0\n1                              Fallout 4   87.0\n2                                  Spore   14.9\n3                      Fallout New Vegas   12.1\n4                          Left 4 Dead 2    8.9\n...                                  ...    ...\n20221  Nancy Drew Tomb of the Lost Queen    8.4\n20222                           Portal 2    8.3\n20223                 Farm for your Life    8.0\n20224                           PAYDAY 2    7.5\n20225         Sid Meier's Civilization V    7.5\n\n[20226 rows x 2 columns]",
      "text/html": "<div>\n<style scoped>\n    .dataframe tbody tr th:only-of-type {\n        vertical-align: middle;\n    }\n\n    .dataframe tbody tr th {\n        vertical-align: top;\n    }\n\n    .dataframe thead th {\n        text-align: right;\n    }\n</style>\n<table border=\"1\" class=\"dataframe\">\n  <thead>\n    <tr style=\"text-align: right;\">\n      <th></th>\n      <th>Name</th>\n      <th>Hours</th>\n    </tr>\n  </thead>\n  <tbody>\n    <tr>\n      <th>0</th>\n      <td>The Elder Scrolls V Skyrim</td>\n      <td>273.0</td>\n    </tr>\n    <tr>\n      <th>1</th>\n      <td>Fallout 4</td>\n      <td>87.0</td>\n    </tr>\n    <tr>\n      <th>2</th>\n      <td>Spore</td>\n      <td>14.9</td>\n    </tr>\n    <tr>\n      <th>3</th>\n      <td>Fallout New Vegas</td>\n      <td>12.1</td>\n    </tr>\n    <tr>\n      <th>4</th>\n      <td>Left 4 Dead 2</td>\n      <td>8.9</td>\n    </tr>\n    <tr>\n      <th>...</th>\n      <td>...</td>\n      <td>...</td>\n    </tr>\n    <tr>\n      <th>20221</th>\n      <td>Nancy Drew Tomb of the Lost Queen</td>\n      <td>8.4</td>\n    </tr>\n    <tr>\n      <th>20222</th>\n      <td>Portal 2</td>\n      <td>8.3</td>\n    </tr>\n    <tr>\n      <th>20223</th>\n      <td>Farm for your Life</td>\n      <td>8.0</td>\n    </tr>\n    <tr>\n      <th>20224</th>\n      <td>PAYDAY 2</td>\n      <td>7.5</td>\n    </tr>\n    <tr>\n      <th>20225</th>\n      <td>Sid Meier's Civilization V</td>\n      <td>7.5</td>\n    </tr>\n  </tbody>\n</table>\n<p>20226 rows × 2 columns</p>\n</div>"
     },
     "execution_count": 9,
     "metadata": {},
     "output_type": "execute_result"
    }
   ],
   "source": [
    "import pandas as pd\n",
    "\n",
    "df = pd.read_csv('data/steam_1.csv')\n",
    "df"
   ],
   "metadata": {
    "collapsed": true,
    "ExecuteTime": {
     "end_time": "2024-05-08T06:16:57.223707Z",
     "start_time": "2024-05-08T06:16:57.202431Z"
    }
   },
   "id": "initial_id",
   "execution_count": 9
  },
  {
   "cell_type": "code",
   "outputs": [
    {
     "data": {
      "text/plain": "                                    Name  Hours\n0             The Elder Scrolls V Skyrim  273.0\n1                              Fallout 4   87.0\n2                                  Spore   14.9\n3                      Fallout New Vegas   12.1\n4                          Left 4 Dead 2    8.9\n...                                  ...    ...\n20221  Nancy Drew Tomb of the Lost Queen    8.4\n20222                           Portal 2    8.3\n20223                 Farm for your Life    8.0\n20224                           PAYDAY 2    7.5\n20225         Sid Meier's Civilization V    7.5\n\n[20216 rows x 2 columns]",
      "text/html": "<div>\n<style scoped>\n    .dataframe tbody tr th:only-of-type {\n        vertical-align: middle;\n    }\n\n    .dataframe tbody tr th {\n        vertical-align: top;\n    }\n\n    .dataframe thead th {\n        text-align: right;\n    }\n</style>\n<table border=\"1\" class=\"dataframe\">\n  <thead>\n    <tr style=\"text-align: right;\">\n      <th></th>\n      <th>Name</th>\n      <th>Hours</th>\n    </tr>\n  </thead>\n  <tbody>\n    <tr>\n      <th>0</th>\n      <td>The Elder Scrolls V Skyrim</td>\n      <td>273.0</td>\n    </tr>\n    <tr>\n      <th>1</th>\n      <td>Fallout 4</td>\n      <td>87.0</td>\n    </tr>\n    <tr>\n      <th>2</th>\n      <td>Spore</td>\n      <td>14.9</td>\n    </tr>\n    <tr>\n      <th>3</th>\n      <td>Fallout New Vegas</td>\n      <td>12.1</td>\n    </tr>\n    <tr>\n      <th>4</th>\n      <td>Left 4 Dead 2</td>\n      <td>8.9</td>\n    </tr>\n    <tr>\n      <th>...</th>\n      <td>...</td>\n      <td>...</td>\n    </tr>\n    <tr>\n      <th>20221</th>\n      <td>Nancy Drew Tomb of the Lost Queen</td>\n      <td>8.4</td>\n    </tr>\n    <tr>\n      <th>20222</th>\n      <td>Portal 2</td>\n      <td>8.3</td>\n    </tr>\n    <tr>\n      <th>20223</th>\n      <td>Farm for your Life</td>\n      <td>8.0</td>\n    </tr>\n    <tr>\n      <th>20224</th>\n      <td>PAYDAY 2</td>\n      <td>7.5</td>\n    </tr>\n    <tr>\n      <th>20225</th>\n      <td>Sid Meier's Civilization V</td>\n      <td>7.5</td>\n    </tr>\n  </tbody>\n</table>\n<p>20216 rows × 2 columns</p>\n</div>"
     },
     "execution_count": 10,
     "metadata": {},
     "output_type": "execute_result"
    }
   ],
   "source": [
    "df.dropna(inplace=True)\n",
    "df"
   ],
   "metadata": {
    "collapsed": false,
    "ExecuteTime": {
     "end_time": "2024-05-08T06:16:57.242261Z",
     "start_time": "2024-05-08T06:16:57.224137Z"
    }
   },
   "id": "eabbafb78e55983",
   "execution_count": 10
  }
 ],
 "metadata": {
  "kernelspec": {
   "display_name": "Python 3",
   "language": "python",
   "name": "python3"
  },
  "language_info": {
   "codemirror_mode": {
    "name": "ipython",
    "version": 2
   },
   "file_extension": ".py",
   "mimetype": "text/x-python",
   "name": "python",
   "nbconvert_exporter": "python",
   "pygments_lexer": "ipython2",
   "version": "2.7.6"
  }
 },
 "nbformat": 4,
 "nbformat_minor": 5
}
