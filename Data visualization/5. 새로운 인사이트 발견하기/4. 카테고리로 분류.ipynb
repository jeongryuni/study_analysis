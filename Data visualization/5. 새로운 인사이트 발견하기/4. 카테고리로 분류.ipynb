{
 "cells": [
  {
   "cell_type": "code",
   "execution_count": 1,
   "id": "initial_id",
   "metadata": {
    "collapsed": true,
    "ExecuteTime": {
     "end_time": "2024-05-07T08:10:20.803539Z",
     "start_time": "2024-05-07T08:10:20.505347Z"
    }
   },
   "outputs": [
    {
     "data": {
      "text/plain": "     brand             model  ram hd_type  hd_size  screen_size   price  \\\n0     Dell  Inspiron 15-3567    4     hdd     1024         15.6   40000   \n1    Apple       MacBook Air    8     ssd      128         13.3   55499   \n2    Apple       MacBook Air    8     ssd      256         13.3   71500   \n3    Apple       MacBook Pro    8     ssd      128         13.3   96890   \n4    Apple       MacBook Pro    8     ssd      256         13.3  112666   \n..     ...               ...  ...     ...      ...          ...     ...   \n162   Asus            A555LF    8     hdd     1024         15.6   39961   \n163   Asus     X555LA-XX172D    4     hdd      500         15.6   28489   \n164   Asus            X554LD    2     hdd      500         15.6   29199   \n165   Asus    X550LAV-XX771D    2     hdd      500         15.6   29990   \n166   Asus     X540LA-XX538T    4     hdd     1024         15.6   30899   \n\n    processor_brand processor_model  clock_speed graphic_card_brand  \\\n0             intel              i5          2.5              intel   \n1             intel              i5          1.8              intel   \n2             intel              i5          1.8              intel   \n3             intel              i5          2.3              intel   \n4             intel              i5          2.3              intel   \n..              ...             ...          ...                ...   \n162           intel      i3 4th gen          1.7             nvidia   \n163           intel      i3 4th gen          1.9              intel   \n164           intel      i3 4th gen          1.9              intel   \n165           intel      i3 4th gen          1.7              intel   \n166           intel      i3 5th gen          2.0              intel   \n\n     graphic_card_size       os  weight comments  \n0                  NaN    linux    2.50      NaN  \n1                  2.0      mac    1.35      NaN  \n2                  2.0      mac    1.35      NaN  \n3                  2.0      mac    3.02      NaN  \n4                  2.0      mac    3.02      NaN  \n..                 ...      ...     ...      ...  \n162                2.0  windows    2.30      NaN  \n163                NaN    linux    2.30      NaN  \n164                1.0    linux    2.30      NaN  \n165                NaN    linux    2.50      NaN  \n166                NaN  windows    2.30      NaN  \n\n[167 rows x 15 columns]",
      "text/html": "<div>\n<style scoped>\n    .dataframe tbody tr th:only-of-type {\n        vertical-align: middle;\n    }\n\n    .dataframe tbody tr th {\n        vertical-align: top;\n    }\n\n    .dataframe thead th {\n        text-align: right;\n    }\n</style>\n<table border=\"1\" class=\"dataframe\">\n  <thead>\n    <tr style=\"text-align: right;\">\n      <th></th>\n      <th>brand</th>\n      <th>model</th>\n      <th>ram</th>\n      <th>hd_type</th>\n      <th>hd_size</th>\n      <th>screen_size</th>\n      <th>price</th>\n      <th>processor_brand</th>\n      <th>processor_model</th>\n      <th>clock_speed</th>\n      <th>graphic_card_brand</th>\n      <th>graphic_card_size</th>\n      <th>os</th>\n      <th>weight</th>\n      <th>comments</th>\n    </tr>\n  </thead>\n  <tbody>\n    <tr>\n      <th>0</th>\n      <td>Dell</td>\n      <td>Inspiron 15-3567</td>\n      <td>4</td>\n      <td>hdd</td>\n      <td>1024</td>\n      <td>15.6</td>\n      <td>40000</td>\n      <td>intel</td>\n      <td>i5</td>\n      <td>2.5</td>\n      <td>intel</td>\n      <td>NaN</td>\n      <td>linux</td>\n      <td>2.50</td>\n      <td>NaN</td>\n    </tr>\n    <tr>\n      <th>1</th>\n      <td>Apple</td>\n      <td>MacBook Air</td>\n      <td>8</td>\n      <td>ssd</td>\n      <td>128</td>\n      <td>13.3</td>\n      <td>55499</td>\n      <td>intel</td>\n      <td>i5</td>\n      <td>1.8</td>\n      <td>intel</td>\n      <td>2.0</td>\n      <td>mac</td>\n      <td>1.35</td>\n      <td>NaN</td>\n    </tr>\n    <tr>\n      <th>2</th>\n      <td>Apple</td>\n      <td>MacBook Air</td>\n      <td>8</td>\n      <td>ssd</td>\n      <td>256</td>\n      <td>13.3</td>\n      <td>71500</td>\n      <td>intel</td>\n      <td>i5</td>\n      <td>1.8</td>\n      <td>intel</td>\n      <td>2.0</td>\n      <td>mac</td>\n      <td>1.35</td>\n      <td>NaN</td>\n    </tr>\n    <tr>\n      <th>3</th>\n      <td>Apple</td>\n      <td>MacBook Pro</td>\n      <td>8</td>\n      <td>ssd</td>\n      <td>128</td>\n      <td>13.3</td>\n      <td>96890</td>\n      <td>intel</td>\n      <td>i5</td>\n      <td>2.3</td>\n      <td>intel</td>\n      <td>2.0</td>\n      <td>mac</td>\n      <td>3.02</td>\n      <td>NaN</td>\n    </tr>\n    <tr>\n      <th>4</th>\n      <td>Apple</td>\n      <td>MacBook Pro</td>\n      <td>8</td>\n      <td>ssd</td>\n      <td>256</td>\n      <td>13.3</td>\n      <td>112666</td>\n      <td>intel</td>\n      <td>i5</td>\n      <td>2.3</td>\n      <td>intel</td>\n      <td>2.0</td>\n      <td>mac</td>\n      <td>3.02</td>\n      <td>NaN</td>\n    </tr>\n    <tr>\n      <th>...</th>\n      <td>...</td>\n      <td>...</td>\n      <td>...</td>\n      <td>...</td>\n      <td>...</td>\n      <td>...</td>\n      <td>...</td>\n      <td>...</td>\n      <td>...</td>\n      <td>...</td>\n      <td>...</td>\n      <td>...</td>\n      <td>...</td>\n      <td>...</td>\n      <td>...</td>\n    </tr>\n    <tr>\n      <th>162</th>\n      <td>Asus</td>\n      <td>A555LF</td>\n      <td>8</td>\n      <td>hdd</td>\n      <td>1024</td>\n      <td>15.6</td>\n      <td>39961</td>\n      <td>intel</td>\n      <td>i3 4th gen</td>\n      <td>1.7</td>\n      <td>nvidia</td>\n      <td>2.0</td>\n      <td>windows</td>\n      <td>2.30</td>\n      <td>NaN</td>\n    </tr>\n    <tr>\n      <th>163</th>\n      <td>Asus</td>\n      <td>X555LA-XX172D</td>\n      <td>4</td>\n      <td>hdd</td>\n      <td>500</td>\n      <td>15.6</td>\n      <td>28489</td>\n      <td>intel</td>\n      <td>i3 4th gen</td>\n      <td>1.9</td>\n      <td>intel</td>\n      <td>NaN</td>\n      <td>linux</td>\n      <td>2.30</td>\n      <td>NaN</td>\n    </tr>\n    <tr>\n      <th>164</th>\n      <td>Asus</td>\n      <td>X554LD</td>\n      <td>2</td>\n      <td>hdd</td>\n      <td>500</td>\n      <td>15.6</td>\n      <td>29199</td>\n      <td>intel</td>\n      <td>i3 4th gen</td>\n      <td>1.9</td>\n      <td>intel</td>\n      <td>1.0</td>\n      <td>linux</td>\n      <td>2.30</td>\n      <td>NaN</td>\n    </tr>\n    <tr>\n      <th>165</th>\n      <td>Asus</td>\n      <td>X550LAV-XX771D</td>\n      <td>2</td>\n      <td>hdd</td>\n      <td>500</td>\n      <td>15.6</td>\n      <td>29990</td>\n      <td>intel</td>\n      <td>i3 4th gen</td>\n      <td>1.7</td>\n      <td>intel</td>\n      <td>NaN</td>\n      <td>linux</td>\n      <td>2.50</td>\n      <td>NaN</td>\n    </tr>\n    <tr>\n      <th>166</th>\n      <td>Asus</td>\n      <td>X540LA-XX538T</td>\n      <td>4</td>\n      <td>hdd</td>\n      <td>1024</td>\n      <td>15.6</td>\n      <td>30899</td>\n      <td>intel</td>\n      <td>i3 5th gen</td>\n      <td>2.0</td>\n      <td>intel</td>\n      <td>NaN</td>\n      <td>windows</td>\n      <td>2.30</td>\n      <td>NaN</td>\n    </tr>\n  </tbody>\n</table>\n<p>167 rows × 15 columns</p>\n</div>"
     },
     "execution_count": 1,
     "metadata": {},
     "output_type": "execute_result"
    }
   ],
   "source": [
    "import pandas as pd\n",
    "\n",
    "df = pd.read_csv('data/laptops.csv')\n",
    "df"
   ]
  },
  {
   "cell_type": "code",
   "outputs": [],
   "source": [
    "brand_nation = {\n",
    "'Dell': 'U.S.',\n",
    "'Apple':'U.S.',\n",
    "'ACer':'Taiwan',\n",
    "'HP': 'U.S.',\n",
    "'Lenovo': 'China',\n",
    "'Alienware': 'U.S.',\n",
    "'Microsoft': 'U.S.',\n",
    "'Asps': 'Taiwan'\n",
    "}"
   ],
   "metadata": {
    "collapsed": false,
    "ExecuteTime": {
     "end_time": "2024-05-07T08:10:20.807741Z",
     "start_time": "2024-05-07T08:10:20.803725Z"
    }
   },
   "id": "1ec24786d75bc015",
   "execution_count": 2
  },
  {
   "cell_type": "markdown",
   "source": [
    "왼쪽에 있는 값들을 오른쪽에 있는 값으로 바꿔주기"
   ],
   "metadata": {
    "collapsed": false
   },
   "id": "3c5f83310e2b142c"
  },
  {
   "cell_type": "code",
   "outputs": [
    {
     "data": {
      "text/plain": "0      U.S.\n1      U.S.\n2      U.S.\n3      U.S.\n4      U.S.\n       ... \n162     NaN\n163     NaN\n164     NaN\n165     NaN\n166     NaN\nName: brand, Length: 167, dtype: object"
     },
     "execution_count": 3,
     "metadata": {},
     "output_type": "execute_result"
    }
   ],
   "source": [
    "df['brand'].map(brand_nation)"
   ],
   "metadata": {
    "collapsed": false,
    "ExecuteTime": {
     "end_time": "2024-05-07T08:10:20.816416Z",
     "start_time": "2024-05-07T08:10:20.809888Z"
    }
   },
   "id": "75b411a289066362",
   "execution_count": 3
  },
  {
   "cell_type": "code",
   "outputs": [],
   "source": [
    "df['brand_nation'] = df['brand'].map(brand_nation)"
   ],
   "metadata": {
    "collapsed": false,
    "ExecuteTime": {
     "end_time": "2024-05-07T08:10:20.823790Z",
     "start_time": "2024-05-07T08:10:20.818622Z"
    }
   },
   "id": "70df169a1738ddda",
   "execution_count": 4
  },
  {
   "cell_type": "code",
   "outputs": [
    {
     "data": {
      "text/plain": "     brand             model  ram hd_type  hd_size  screen_size   price  \\\n0     Dell  Inspiron 15-3567    4     hdd     1024         15.6   40000   \n1    Apple       MacBook Air    8     ssd      128         13.3   55499   \n2    Apple       MacBook Air    8     ssd      256         13.3   71500   \n3    Apple       MacBook Pro    8     ssd      128         13.3   96890   \n4    Apple       MacBook Pro    8     ssd      256         13.3  112666   \n..     ...               ...  ...     ...      ...          ...     ...   \n162   Asus            A555LF    8     hdd     1024         15.6   39961   \n163   Asus     X555LA-XX172D    4     hdd      500         15.6   28489   \n164   Asus            X554LD    2     hdd      500         15.6   29199   \n165   Asus    X550LAV-XX771D    2     hdd      500         15.6   29990   \n166   Asus     X540LA-XX538T    4     hdd     1024         15.6   30899   \n\n    processor_brand processor_model  clock_speed graphic_card_brand  \\\n0             intel              i5          2.5              intel   \n1             intel              i5          1.8              intel   \n2             intel              i5          1.8              intel   \n3             intel              i5          2.3              intel   \n4             intel              i5          2.3              intel   \n..              ...             ...          ...                ...   \n162           intel      i3 4th gen          1.7             nvidia   \n163           intel      i3 4th gen          1.9              intel   \n164           intel      i3 4th gen          1.9              intel   \n165           intel      i3 4th gen          1.7              intel   \n166           intel      i3 5th gen          2.0              intel   \n\n     graphic_card_size       os  weight comments brand_nation  \n0                  NaN    linux    2.50      NaN         U.S.  \n1                  2.0      mac    1.35      NaN         U.S.  \n2                  2.0      mac    1.35      NaN         U.S.  \n3                  2.0      mac    3.02      NaN         U.S.  \n4                  2.0      mac    3.02      NaN         U.S.  \n..                 ...      ...     ...      ...          ...  \n162                2.0  windows    2.30      NaN          NaN  \n163                NaN    linux    2.30      NaN          NaN  \n164                1.0    linux    2.30      NaN          NaN  \n165                NaN    linux    2.50      NaN          NaN  \n166                NaN  windows    2.30      NaN          NaN  \n\n[167 rows x 16 columns]",
      "text/html": "<div>\n<style scoped>\n    .dataframe tbody tr th:only-of-type {\n        vertical-align: middle;\n    }\n\n    .dataframe tbody tr th {\n        vertical-align: top;\n    }\n\n    .dataframe thead th {\n        text-align: right;\n    }\n</style>\n<table border=\"1\" class=\"dataframe\">\n  <thead>\n    <tr style=\"text-align: right;\">\n      <th></th>\n      <th>brand</th>\n      <th>model</th>\n      <th>ram</th>\n      <th>hd_type</th>\n      <th>hd_size</th>\n      <th>screen_size</th>\n      <th>price</th>\n      <th>processor_brand</th>\n      <th>processor_model</th>\n      <th>clock_speed</th>\n      <th>graphic_card_brand</th>\n      <th>graphic_card_size</th>\n      <th>os</th>\n      <th>weight</th>\n      <th>comments</th>\n      <th>brand_nation</th>\n    </tr>\n  </thead>\n  <tbody>\n    <tr>\n      <th>0</th>\n      <td>Dell</td>\n      <td>Inspiron 15-3567</td>\n      <td>4</td>\n      <td>hdd</td>\n      <td>1024</td>\n      <td>15.6</td>\n      <td>40000</td>\n      <td>intel</td>\n      <td>i5</td>\n      <td>2.5</td>\n      <td>intel</td>\n      <td>NaN</td>\n      <td>linux</td>\n      <td>2.50</td>\n      <td>NaN</td>\n      <td>U.S.</td>\n    </tr>\n    <tr>\n      <th>1</th>\n      <td>Apple</td>\n      <td>MacBook Air</td>\n      <td>8</td>\n      <td>ssd</td>\n      <td>128</td>\n      <td>13.3</td>\n      <td>55499</td>\n      <td>intel</td>\n      <td>i5</td>\n      <td>1.8</td>\n      <td>intel</td>\n      <td>2.0</td>\n      <td>mac</td>\n      <td>1.35</td>\n      <td>NaN</td>\n      <td>U.S.</td>\n    </tr>\n    <tr>\n      <th>2</th>\n      <td>Apple</td>\n      <td>MacBook Air</td>\n      <td>8</td>\n      <td>ssd</td>\n      <td>256</td>\n      <td>13.3</td>\n      <td>71500</td>\n      <td>intel</td>\n      <td>i5</td>\n      <td>1.8</td>\n      <td>intel</td>\n      <td>2.0</td>\n      <td>mac</td>\n      <td>1.35</td>\n      <td>NaN</td>\n      <td>U.S.</td>\n    </tr>\n    <tr>\n      <th>3</th>\n      <td>Apple</td>\n      <td>MacBook Pro</td>\n      <td>8</td>\n      <td>ssd</td>\n      <td>128</td>\n      <td>13.3</td>\n      <td>96890</td>\n      <td>intel</td>\n      <td>i5</td>\n      <td>2.3</td>\n      <td>intel</td>\n      <td>2.0</td>\n      <td>mac</td>\n      <td>3.02</td>\n      <td>NaN</td>\n      <td>U.S.</td>\n    </tr>\n    <tr>\n      <th>4</th>\n      <td>Apple</td>\n      <td>MacBook Pro</td>\n      <td>8</td>\n      <td>ssd</td>\n      <td>256</td>\n      <td>13.3</td>\n      <td>112666</td>\n      <td>intel</td>\n      <td>i5</td>\n      <td>2.3</td>\n      <td>intel</td>\n      <td>2.0</td>\n      <td>mac</td>\n      <td>3.02</td>\n      <td>NaN</td>\n      <td>U.S.</td>\n    </tr>\n    <tr>\n      <th>...</th>\n      <td>...</td>\n      <td>...</td>\n      <td>...</td>\n      <td>...</td>\n      <td>...</td>\n      <td>...</td>\n      <td>...</td>\n      <td>...</td>\n      <td>...</td>\n      <td>...</td>\n      <td>...</td>\n      <td>...</td>\n      <td>...</td>\n      <td>...</td>\n      <td>...</td>\n      <td>...</td>\n    </tr>\n    <tr>\n      <th>162</th>\n      <td>Asus</td>\n      <td>A555LF</td>\n      <td>8</td>\n      <td>hdd</td>\n      <td>1024</td>\n      <td>15.6</td>\n      <td>39961</td>\n      <td>intel</td>\n      <td>i3 4th gen</td>\n      <td>1.7</td>\n      <td>nvidia</td>\n      <td>2.0</td>\n      <td>windows</td>\n      <td>2.30</td>\n      <td>NaN</td>\n      <td>NaN</td>\n    </tr>\n    <tr>\n      <th>163</th>\n      <td>Asus</td>\n      <td>X555LA-XX172D</td>\n      <td>4</td>\n      <td>hdd</td>\n      <td>500</td>\n      <td>15.6</td>\n      <td>28489</td>\n      <td>intel</td>\n      <td>i3 4th gen</td>\n      <td>1.9</td>\n      <td>intel</td>\n      <td>NaN</td>\n      <td>linux</td>\n      <td>2.30</td>\n      <td>NaN</td>\n      <td>NaN</td>\n    </tr>\n    <tr>\n      <th>164</th>\n      <td>Asus</td>\n      <td>X554LD</td>\n      <td>2</td>\n      <td>hdd</td>\n      <td>500</td>\n      <td>15.6</td>\n      <td>29199</td>\n      <td>intel</td>\n      <td>i3 4th gen</td>\n      <td>1.9</td>\n      <td>intel</td>\n      <td>1.0</td>\n      <td>linux</td>\n      <td>2.30</td>\n      <td>NaN</td>\n      <td>NaN</td>\n    </tr>\n    <tr>\n      <th>165</th>\n      <td>Asus</td>\n      <td>X550LAV-XX771D</td>\n      <td>2</td>\n      <td>hdd</td>\n      <td>500</td>\n      <td>15.6</td>\n      <td>29990</td>\n      <td>intel</td>\n      <td>i3 4th gen</td>\n      <td>1.7</td>\n      <td>intel</td>\n      <td>NaN</td>\n      <td>linux</td>\n      <td>2.50</td>\n      <td>NaN</td>\n      <td>NaN</td>\n    </tr>\n    <tr>\n      <th>166</th>\n      <td>Asus</td>\n      <td>X540LA-XX538T</td>\n      <td>4</td>\n      <td>hdd</td>\n      <td>1024</td>\n      <td>15.6</td>\n      <td>30899</td>\n      <td>intel</td>\n      <td>i3 5th gen</td>\n      <td>2.0</td>\n      <td>intel</td>\n      <td>NaN</td>\n      <td>windows</td>\n      <td>2.30</td>\n      <td>NaN</td>\n      <td>NaN</td>\n    </tr>\n  </tbody>\n</table>\n<p>167 rows × 16 columns</p>\n</div>"
     },
     "execution_count": 5,
     "metadata": {},
     "output_type": "execute_result"
    }
   ],
   "source": [
    "df"
   ],
   "metadata": {
    "collapsed": false,
    "ExecuteTime": {
     "end_time": "2024-05-07T08:10:20.841428Z",
     "start_time": "2024-05-07T08:10:20.835962Z"
    }
   },
   "id": "de0aaeb33616acb3",
   "execution_count": 5
  }
 ],
 "metadata": {
  "kernelspec": {
   "display_name": "Python 3",
   "language": "python",
   "name": "python3"
  },
  "language_info": {
   "codemirror_mode": {
    "name": "ipython",
    "version": 2
   },
   "file_extension": ".py",
   "mimetype": "text/x-python",
   "name": "python",
   "nbconvert_exporter": "python",
   "pygments_lexer": "ipython2",
   "version": "2.7.6"
  }
 },
 "nbformat": 4,
 "nbformat_minor": 5
}
