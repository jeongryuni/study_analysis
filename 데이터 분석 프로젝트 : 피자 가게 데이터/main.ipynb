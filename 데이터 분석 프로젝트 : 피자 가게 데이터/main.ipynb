{
 "cells": [
  {
   "cell_type": "markdown",
   "source": [
    "실습 설명\n",
    "이번 프로젝트에서는 피자 가게 데이터를 분석해 볼 겁니다. 데이터에는 2023년 한 해 동안 들어온 주문 정보와 피자 메뉴에 대한 정보가 빠짐없이 기록되어 있어요. 시간에 따라 매출이 어떻게 달랐는지, 피자 메뉴나 카테고리별로 판매량은 얼마나 차이 났는지, 각 재료는 얼마나 사용되고 있었는지 등 분석할 거리는 아주 다양합니다. 직접 코드를 작성하면서 자유롭게 확인해 보시면 될 거예요. 어떻게 해야 할지 잘 모르겠다면 아래 가이드라인을 참고하시기 바랍니다.\n",
    "\n",
    "\n",
    "가이드라인\n",
    "1. 데이터 불러오기\n",
    "data 폴더 안에 있는 csv 파일을 DataFrame으로 불러옵시다.\n",
    "주문 데이터: orders.csv\n",
    "피자 메뉴 데이터: pizzas.csv\n",
    "피자 카테고리 및 재료 데이터: pizza_types.csv\n",
    "2. 데이터 전처리 및 탐색\n",
    "데이터를 전처리하고 간단히 탐색까지 해 봅시다.\n",
    "세 데이터 파일을 불러와 어떤 데이터인지 확인하고 하나로 합쳐 주세요.\n",
    "상세 주문별 주문 금액을 구해 보세요.\n",
    "데이터 개수, 컬럼별 데이터 타입, 통계 정보, 결측값 존재 여부 등을 확인해 보세요.\n",
    "각 컬럼이 어떤 값들로 이루어져 있는지 확인해 보세요.\n",
    "3. 데이터 분석\n",
    "매장이 한 해 동안 올린 성과를 결산해 보세요. 며칠을 영업했는지, 주문이 얼마나 많이 들어왔고 피자를 몇 판이나 팔았는지, 총매출은 얼마나 올렸는지 등을 알아봅시다.\n",
    "시간에 따라 매출이 어떻게 변화했는지 파악해 보세요. 월별 매출, 요일별 매출, 시간대별 매출 등 다양한 기준으로 확인해 볼 수 있습니다.\n",
    "판매량을 바탕으로 각 피자가 얼마나 인기 있었는지 분석해 봅시다. 같은 피자라도 사이즈에 따라 판매량이 어느 정도로 달랐는지 알아봐도 재밌겠네요.\n",
    "어떤 피자 카테고리의 인기가 좋았는지도 파악해 보세요.\n",
    "재료 정보를 바탕으로 각 재료의 사용량을 가늠해 보세요.\n",
    "그 외에도 더 알아보고 싶은 게 있다면 데이터를 자유롭게 분석해 보세요!"
   ],
   "metadata": {
    "collapsed": false
   },
   "id": "85c7ef6711892ddb"
  },
  {
   "cell_type": "markdown",
   "source": [
    "## 01. 데이터 전처리 및 탐색"
   ],
   "metadata": {
    "collapsed": false
   },
   "id": "20cbbd62b10b5639"
  },
  {
   "cell_type": "code",
   "outputs": [],
   "source": [
    "import pandas as pd\n",
    "import matplotlib.pyplot as plt   # as in Pycharm\n",
    "import seaborn as sns\n",
    "\n",
    "from matplotlib import rc \n",
    "\n",
    "rc('font', family='AppleGothic')\n",
    "plt.rcParams['axes.unicode_minus'] = False"
   ],
   "metadata": {
    "collapsed": false,
    "ExecuteTime": {
     "end_time": "2024-06-09T10:19:03.374689Z",
     "start_time": "2024-06-09T10:19:03.278700Z"
    }
   },
   "id": "946ca05163c65979",
   "execution_count": 783
  },
  {
   "cell_type": "code",
   "outputs": [],
   "source": [
    "orders_df = pd.read_csv('data/orders.csv')\n",
    "pizzas_df = pd.read_csv('data/pizzas.csv')\n",
    "pizza_types_df = pd.read_csv('data/pizza_types.csv')"
   ],
   "metadata": {
    "collapsed": false,
    "ExecuteTime": {
     "end_time": "2024-06-09T10:19:03.442901Z",
     "start_time": "2024-06-09T10:19:03.378569Z"
    }
   },
   "id": "8b86356c900d73a0",
   "execution_count": 784
  },
  {
   "cell_type": "code",
   "outputs": [
    {
     "data": {
      "text/plain": "       order_id      order_timestamp  order_details_id    pizza_id  quantity  \\\n0             1  2023-01-01 11:45:11                 1  hawaiian_m         1   \n1            11  2023-01-01 12:46:51                27  hawaiian_m         1   \n2            17  2023-01-01 14:11:40                46  hawaiian_m         3   \n3            32  2023-01-01 19:01:13                76  hawaiian_m         1   \n4            60  2023-01-02 18:55:31               137  hawaiian_m         1   \n...         ...                  ...               ...         ...       ...   \n47074     21170  2023-12-27 11:54:11             46662   bulgogi_s         1   \n47075     21228  2023-12-28 12:04:56             46795   bulgogi_s         1   \n47076     21261  2023-12-28 18:27:31             46884   bulgogi_s         1   \n47077     21296  2023-12-30 16:43:57             46953   bulgogi_s         1   \n47078     21323  2023-12-31 13:57:36             47018   bulgogi_s         2   \n\n      pizza_name size  price category                       ingredients  \n0        하와이안 피자    M  21800      스페셜           토마토, 베이컨, 파인애플, 모짜렐라 치즈  \n1        하와이안 피자    M  21800      스페셜           토마토, 베이컨, 파인애플, 모짜렐라 치즈  \n2        하와이안 피자    M  21800      스페셜           토마토, 베이컨, 파인애플, 모짜렐라 치즈  \n3        하와이안 피자    M  21800      스페셜           토마토, 베이컨, 파인애플, 모짜렐라 치즈  \n4        하와이안 피자    M  21800      스페셜           토마토, 베이컨, 파인애플, 모짜렐라 치즈  \n...          ...  ...    ...      ...                               ...  \n47074     불고기 피자    S  10800      스페셜  불고기, 불고기 소스, 버섯, 양파, 피망, 모짜렐라 치즈  \n47075     불고기 피자    S  10800      스페셜  불고기, 불고기 소스, 버섯, 양파, 피망, 모짜렐라 치즈  \n47076     불고기 피자    S  10800      스페셜  불고기, 불고기 소스, 버섯, 양파, 피망, 모짜렐라 치즈  \n47077     불고기 피자    S  10800      스페셜  불고기, 불고기 소스, 버섯, 양파, 피망, 모짜렐라 치즈  \n47078     불고기 피자    S  10800      스페셜  불고기, 불고기 소스, 버섯, 양파, 피망, 모짜렐라 치즈  \n\n[47079 rows x 10 columns]",
      "text/html": "<div>\n<style scoped>\n    .dataframe tbody tr th:only-of-type {\n        vertical-align: middle;\n    }\n\n    .dataframe tbody tr th {\n        vertical-align: top;\n    }\n\n    .dataframe thead th {\n        text-align: right;\n    }\n</style>\n<table border=\"1\" class=\"dataframe\">\n  <thead>\n    <tr style=\"text-align: right;\">\n      <th></th>\n      <th>order_id</th>\n      <th>order_timestamp</th>\n      <th>order_details_id</th>\n      <th>pizza_id</th>\n      <th>quantity</th>\n      <th>pizza_name</th>\n      <th>size</th>\n      <th>price</th>\n      <th>category</th>\n      <th>ingredients</th>\n    </tr>\n  </thead>\n  <tbody>\n    <tr>\n      <th>0</th>\n      <td>1</td>\n      <td>2023-01-01 11:45:11</td>\n      <td>1</td>\n      <td>hawaiian_m</td>\n      <td>1</td>\n      <td>하와이안 피자</td>\n      <td>M</td>\n      <td>21800</td>\n      <td>스페셜</td>\n      <td>토마토, 베이컨, 파인애플, 모짜렐라 치즈</td>\n    </tr>\n    <tr>\n      <th>1</th>\n      <td>11</td>\n      <td>2023-01-01 12:46:51</td>\n      <td>27</td>\n      <td>hawaiian_m</td>\n      <td>1</td>\n      <td>하와이안 피자</td>\n      <td>M</td>\n      <td>21800</td>\n      <td>스페셜</td>\n      <td>토마토, 베이컨, 파인애플, 모짜렐라 치즈</td>\n    </tr>\n    <tr>\n      <th>2</th>\n      <td>17</td>\n      <td>2023-01-01 14:11:40</td>\n      <td>46</td>\n      <td>hawaiian_m</td>\n      <td>3</td>\n      <td>하와이안 피자</td>\n      <td>M</td>\n      <td>21800</td>\n      <td>스페셜</td>\n      <td>토마토, 베이컨, 파인애플, 모짜렐라 치즈</td>\n    </tr>\n    <tr>\n      <th>3</th>\n      <td>32</td>\n      <td>2023-01-01 19:01:13</td>\n      <td>76</td>\n      <td>hawaiian_m</td>\n      <td>1</td>\n      <td>하와이안 피자</td>\n      <td>M</td>\n      <td>21800</td>\n      <td>스페셜</td>\n      <td>토마토, 베이컨, 파인애플, 모짜렐라 치즈</td>\n    </tr>\n    <tr>\n      <th>4</th>\n      <td>60</td>\n      <td>2023-01-02 18:55:31</td>\n      <td>137</td>\n      <td>hawaiian_m</td>\n      <td>1</td>\n      <td>하와이안 피자</td>\n      <td>M</td>\n      <td>21800</td>\n      <td>스페셜</td>\n      <td>토마토, 베이컨, 파인애플, 모짜렐라 치즈</td>\n    </tr>\n    <tr>\n      <th>...</th>\n      <td>...</td>\n      <td>...</td>\n      <td>...</td>\n      <td>...</td>\n      <td>...</td>\n      <td>...</td>\n      <td>...</td>\n      <td>...</td>\n      <td>...</td>\n      <td>...</td>\n    </tr>\n    <tr>\n      <th>47074</th>\n      <td>21170</td>\n      <td>2023-12-27 11:54:11</td>\n      <td>46662</td>\n      <td>bulgogi_s</td>\n      <td>1</td>\n      <td>불고기 피자</td>\n      <td>S</td>\n      <td>10800</td>\n      <td>스페셜</td>\n      <td>불고기, 불고기 소스, 버섯, 양파, 피망, 모짜렐라 치즈</td>\n    </tr>\n    <tr>\n      <th>47075</th>\n      <td>21228</td>\n      <td>2023-12-28 12:04:56</td>\n      <td>46795</td>\n      <td>bulgogi_s</td>\n      <td>1</td>\n      <td>불고기 피자</td>\n      <td>S</td>\n      <td>10800</td>\n      <td>스페셜</td>\n      <td>불고기, 불고기 소스, 버섯, 양파, 피망, 모짜렐라 치즈</td>\n    </tr>\n    <tr>\n      <th>47076</th>\n      <td>21261</td>\n      <td>2023-12-28 18:27:31</td>\n      <td>46884</td>\n      <td>bulgogi_s</td>\n      <td>1</td>\n      <td>불고기 피자</td>\n      <td>S</td>\n      <td>10800</td>\n      <td>스페셜</td>\n      <td>불고기, 불고기 소스, 버섯, 양파, 피망, 모짜렐라 치즈</td>\n    </tr>\n    <tr>\n      <th>47077</th>\n      <td>21296</td>\n      <td>2023-12-30 16:43:57</td>\n      <td>46953</td>\n      <td>bulgogi_s</td>\n      <td>1</td>\n      <td>불고기 피자</td>\n      <td>S</td>\n      <td>10800</td>\n      <td>스페셜</td>\n      <td>불고기, 불고기 소스, 버섯, 양파, 피망, 모짜렐라 치즈</td>\n    </tr>\n    <tr>\n      <th>47078</th>\n      <td>21323</td>\n      <td>2023-12-31 13:57:36</td>\n      <td>47018</td>\n      <td>bulgogi_s</td>\n      <td>2</td>\n      <td>불고기 피자</td>\n      <td>S</td>\n      <td>10800</td>\n      <td>스페셜</td>\n      <td>불고기, 불고기 소스, 버섯, 양파, 피망, 모짜렐라 치즈</td>\n    </tr>\n  </tbody>\n</table>\n<p>47079 rows × 10 columns</p>\n</div>"
     },
     "execution_count": 785,
     "metadata": {},
     "output_type": "execute_result"
    }
   ],
   "source": [
    "pizza_df = pd.merge(orders_df, pizzas_df, how='inner')\n",
    "pizza_df = pd.merge(pizza_df, pizza_types_df)\n",
    "pizza_df"
   ],
   "metadata": {
    "collapsed": false,
    "ExecuteTime": {
     "end_time": "2024-06-09T10:19:03.474928Z",
     "start_time": "2024-06-09T10:19:03.432123Z"
    }
   },
   "id": "1ede307449bff249",
   "execution_count": 785
  },
  {
   "cell_type": "code",
   "outputs": [
    {
     "data": {
      "text/plain": "order_id            0\norder_timestamp     0\norder_details_id    0\npizza_id            0\nquantity            0\npizza_name          0\nsize                0\nprice               0\ncategory            0\ningredients         0\ndtype: int64"
     },
     "execution_count": 786,
     "metadata": {},
     "output_type": "execute_result"
    }
   ],
   "source": [
    "# 결측값 확인\n",
    "pizza_df.isnull().sum()"
   ],
   "metadata": {
    "collapsed": false,
    "ExecuteTime": {
     "end_time": "2024-06-09T10:19:03.486176Z",
     "start_time": "2024-06-09T10:19:03.472230Z"
    }
   },
   "id": "facbdf3f1e7e30a6",
   "execution_count": 786
  },
  {
   "cell_type": "code",
   "outputs": [
    {
     "data": {
      "text/plain": "order_id             int64\norder_timestamp     object\norder_details_id     int64\npizza_id            object\nquantity             int64\npizza_name          object\nsize                object\nprice                int64\ncategory            object\ningredients         object\ndtype: object"
     },
     "execution_count": 787,
     "metadata": {},
     "output_type": "execute_result"
    }
   ],
   "source": [
    "# 타입 확인\n",
    "pizza_df.dtypes"
   ],
   "metadata": {
    "collapsed": false,
    "ExecuteTime": {
     "end_time": "2024-06-09T10:19:03.487685Z",
     "start_time": "2024-06-09T10:19:03.477542Z"
    }
   },
   "id": "8eeb624151ebd352",
   "execution_count": 787
  },
  {
   "cell_type": "code",
   "outputs": [
    {
     "data": {
      "text/plain": "        pizza_name size  price\n42533   시금치 페스토 피자    L  38800\n20892     타이 치킨 피자    L  36800\n5909       빅 미트 피자    L  34000\n35876    바비큐 치킨 피자    L  34000\n19595      포테이토 피자    L  33800\n41811     그린 가든 피자    L  33800\n39205  프로슈토 루꼴라 피자    L  33800\n1731       하와이안 피자    L  33800\n33796    슈퍼 슈프림 피자    L  32300\n12979   클래식 디럭스 피자    L  32300\n45058       불고기 피자    L  32300\n14310    파이브 치즈 피자    L  31000\n26015      페퍼로니 피자    L  28300\n44238   시금치 페스토 피자    M  25800\n24607     타이 치킨 피자    M  24000\n6767       빅 미트 피자    M  22000\n37467    바비큐 치킨 피자    M  22000\n0          하와이안 피자    M  21800\n17746      포테이토 피자    M  21800\n40956     그린 가든 피자    M  21800\n39626  프로슈토 루꼴라 피자    M  21800\n31921    슈퍼 슈프림 피자    M  20300\n45868       불고기 피자    M  20300\n9814    클래식 디럭스 피자    M  20300\n16472    파이브 치즈 피자    M  19300\n29851      페퍼로니 피자    M  18300\n43465   시금치 페스토 피자    S  13800\n23387     타이 치킨 피자    S  12300\n35051    바비큐 치킨 피자    S  11300\n7505       빅 미트 피자    S  11300\n38920  프로슈토 루꼴라 피자    S  11000\n39991     그린 가든 피자    S  11000\n4074       하와이안 피자    S  11000\n18812      포테이토 피자    S  11000\n46532       불고기 피자    S  10800\n33028    슈퍼 슈프림 피자    S  10800\n11682   클래식 디럭스 피자    S  10800\n17219    파이브 치즈 피자    S   9800\n28176      페퍼로니 피자    S   9300",
      "text/html": "<div>\n<style scoped>\n    .dataframe tbody tr th:only-of-type {\n        vertical-align: middle;\n    }\n\n    .dataframe tbody tr th {\n        vertical-align: top;\n    }\n\n    .dataframe thead th {\n        text-align: right;\n    }\n</style>\n<table border=\"1\" class=\"dataframe\">\n  <thead>\n    <tr style=\"text-align: right;\">\n      <th></th>\n      <th>pizza_name</th>\n      <th>size</th>\n      <th>price</th>\n    </tr>\n  </thead>\n  <tbody>\n    <tr>\n      <th>42533</th>\n      <td>시금치 페스토 피자</td>\n      <td>L</td>\n      <td>38800</td>\n    </tr>\n    <tr>\n      <th>20892</th>\n      <td>타이 치킨 피자</td>\n      <td>L</td>\n      <td>36800</td>\n    </tr>\n    <tr>\n      <th>5909</th>\n      <td>빅 미트 피자</td>\n      <td>L</td>\n      <td>34000</td>\n    </tr>\n    <tr>\n      <th>35876</th>\n      <td>바비큐 치킨 피자</td>\n      <td>L</td>\n      <td>34000</td>\n    </tr>\n    <tr>\n      <th>19595</th>\n      <td>포테이토 피자</td>\n      <td>L</td>\n      <td>33800</td>\n    </tr>\n    <tr>\n      <th>41811</th>\n      <td>그린 가든 피자</td>\n      <td>L</td>\n      <td>33800</td>\n    </tr>\n    <tr>\n      <th>39205</th>\n      <td>프로슈토 루꼴라 피자</td>\n      <td>L</td>\n      <td>33800</td>\n    </tr>\n    <tr>\n      <th>1731</th>\n      <td>하와이안 피자</td>\n      <td>L</td>\n      <td>33800</td>\n    </tr>\n    <tr>\n      <th>33796</th>\n      <td>슈퍼 슈프림 피자</td>\n      <td>L</td>\n      <td>32300</td>\n    </tr>\n    <tr>\n      <th>12979</th>\n      <td>클래식 디럭스 피자</td>\n      <td>L</td>\n      <td>32300</td>\n    </tr>\n    <tr>\n      <th>45058</th>\n      <td>불고기 피자</td>\n      <td>L</td>\n      <td>32300</td>\n    </tr>\n    <tr>\n      <th>14310</th>\n      <td>파이브 치즈 피자</td>\n      <td>L</td>\n      <td>31000</td>\n    </tr>\n    <tr>\n      <th>26015</th>\n      <td>페퍼로니 피자</td>\n      <td>L</td>\n      <td>28300</td>\n    </tr>\n    <tr>\n      <th>44238</th>\n      <td>시금치 페스토 피자</td>\n      <td>M</td>\n      <td>25800</td>\n    </tr>\n    <tr>\n      <th>24607</th>\n      <td>타이 치킨 피자</td>\n      <td>M</td>\n      <td>24000</td>\n    </tr>\n    <tr>\n      <th>6767</th>\n      <td>빅 미트 피자</td>\n      <td>M</td>\n      <td>22000</td>\n    </tr>\n    <tr>\n      <th>37467</th>\n      <td>바비큐 치킨 피자</td>\n      <td>M</td>\n      <td>22000</td>\n    </tr>\n    <tr>\n      <th>0</th>\n      <td>하와이안 피자</td>\n      <td>M</td>\n      <td>21800</td>\n    </tr>\n    <tr>\n      <th>17746</th>\n      <td>포테이토 피자</td>\n      <td>M</td>\n      <td>21800</td>\n    </tr>\n    <tr>\n      <th>40956</th>\n      <td>그린 가든 피자</td>\n      <td>M</td>\n      <td>21800</td>\n    </tr>\n    <tr>\n      <th>39626</th>\n      <td>프로슈토 루꼴라 피자</td>\n      <td>M</td>\n      <td>21800</td>\n    </tr>\n    <tr>\n      <th>31921</th>\n      <td>슈퍼 슈프림 피자</td>\n      <td>M</td>\n      <td>20300</td>\n    </tr>\n    <tr>\n      <th>45868</th>\n      <td>불고기 피자</td>\n      <td>M</td>\n      <td>20300</td>\n    </tr>\n    <tr>\n      <th>9814</th>\n      <td>클래식 디럭스 피자</td>\n      <td>M</td>\n      <td>20300</td>\n    </tr>\n    <tr>\n      <th>16472</th>\n      <td>파이브 치즈 피자</td>\n      <td>M</td>\n      <td>19300</td>\n    </tr>\n    <tr>\n      <th>29851</th>\n      <td>페퍼로니 피자</td>\n      <td>M</td>\n      <td>18300</td>\n    </tr>\n    <tr>\n      <th>43465</th>\n      <td>시금치 페스토 피자</td>\n      <td>S</td>\n      <td>13800</td>\n    </tr>\n    <tr>\n      <th>23387</th>\n      <td>타이 치킨 피자</td>\n      <td>S</td>\n      <td>12300</td>\n    </tr>\n    <tr>\n      <th>35051</th>\n      <td>바비큐 치킨 피자</td>\n      <td>S</td>\n      <td>11300</td>\n    </tr>\n    <tr>\n      <th>7505</th>\n      <td>빅 미트 피자</td>\n      <td>S</td>\n      <td>11300</td>\n    </tr>\n    <tr>\n      <th>38920</th>\n      <td>프로슈토 루꼴라 피자</td>\n      <td>S</td>\n      <td>11000</td>\n    </tr>\n    <tr>\n      <th>39991</th>\n      <td>그린 가든 피자</td>\n      <td>S</td>\n      <td>11000</td>\n    </tr>\n    <tr>\n      <th>4074</th>\n      <td>하와이안 피자</td>\n      <td>S</td>\n      <td>11000</td>\n    </tr>\n    <tr>\n      <th>18812</th>\n      <td>포테이토 피자</td>\n      <td>S</td>\n      <td>11000</td>\n    </tr>\n    <tr>\n      <th>46532</th>\n      <td>불고기 피자</td>\n      <td>S</td>\n      <td>10800</td>\n    </tr>\n    <tr>\n      <th>33028</th>\n      <td>슈퍼 슈프림 피자</td>\n      <td>S</td>\n      <td>10800</td>\n    </tr>\n    <tr>\n      <th>11682</th>\n      <td>클래식 디럭스 피자</td>\n      <td>S</td>\n      <td>10800</td>\n    </tr>\n    <tr>\n      <th>17219</th>\n      <td>파이브 치즈 피자</td>\n      <td>S</td>\n      <td>9800</td>\n    </tr>\n    <tr>\n      <th>28176</th>\n      <td>페퍼로니 피자</td>\n      <td>S</td>\n      <td>9300</td>\n    </tr>\n  </tbody>\n</table>\n</div>"
     },
     "execution_count": 788,
     "metadata": {},
     "output_type": "execute_result"
    }
   ],
   "source": [
    "# 피자 메뉴별 주문 금액\n",
    "# .unique() 메소드는 시리즈(단일 열)에 대해서만 작동하므로, \n",
    "# 여러 열에 대해 고유한 값을 반환하려면 drop_duplicates() 메소드를 사용해야 합니다.\n",
    "pizza_df.loc[:,['pizza_name','size','price']].drop_duplicates().sort_values(['price'], ascending=False)"
   ],
   "metadata": {
    "collapsed": false,
    "ExecuteTime": {
     "end_time": "2024-06-09T10:19:03.497633Z",
     "start_time": "2024-06-09T10:19:03.479500Z"
    }
   },
   "id": "89380feb1beb4921",
   "execution_count": 788
  },
  {
   "cell_type": "code",
   "outputs": [
    {
     "data": {
      "text/plain": "(47079, 10)"
     },
     "execution_count": 789,
     "metadata": {},
     "output_type": "execute_result"
    }
   ],
   "source": [
    "# 데이터 개수\n",
    "pizza_df.shape"
   ],
   "metadata": {
    "collapsed": false,
    "ExecuteTime": {
     "end_time": "2024-06-09T10:19:03.527417Z",
     "start_time": "2024-06-09T10:19:03.492050Z"
    }
   },
   "id": "cad2a9487a1551f",
   "execution_count": 789
  },
  {
   "cell_type": "code",
   "outputs": [
    {
     "data": {
      "text/plain": "order_id             int64\norder_timestamp     object\norder_details_id     int64\npizza_id            object\nquantity             int64\npizza_name          object\nsize                object\nprice                int64\ncategory            object\ningredients         object\ndtype: object"
     },
     "execution_count": 790,
     "metadata": {},
     "output_type": "execute_result"
    }
   ],
   "source": [
    "# 컬럼별 데이터 타입\n",
    "pizza_df.dtypes"
   ],
   "metadata": {
    "collapsed": false,
    "ExecuteTime": {
     "end_time": "2024-06-09T10:19:03.547582Z",
     "start_time": "2024-06-09T10:19:03.496936Z"
    }
   },
   "id": "31357de4efdbcf1b",
   "execution_count": 790
  },
  {
   "cell_type": "code",
   "outputs": [
    {
     "data": {
      "text/plain": "           quantity         price\ncount  47079.000000  47079.000000\nmean       1.052996  22945.597825\nstd        0.242338   9376.523771\nmin        1.000000   9300.000000\n25%        1.000000  11300.000000\n50%        1.000000  21800.000000\n75%        1.000000  32300.000000\nmax        5.000000  38800.000000",
      "text/html": "<div>\n<style scoped>\n    .dataframe tbody tr th:only-of-type {\n        vertical-align: middle;\n    }\n\n    .dataframe tbody tr th {\n        vertical-align: top;\n    }\n\n    .dataframe thead th {\n        text-align: right;\n    }\n</style>\n<table border=\"1\" class=\"dataframe\">\n  <thead>\n    <tr style=\"text-align: right;\">\n      <th></th>\n      <th>quantity</th>\n      <th>price</th>\n    </tr>\n  </thead>\n  <tbody>\n    <tr>\n      <th>count</th>\n      <td>47079.000000</td>\n      <td>47079.000000</td>\n    </tr>\n    <tr>\n      <th>mean</th>\n      <td>1.052996</td>\n      <td>22945.597825</td>\n    </tr>\n    <tr>\n      <th>std</th>\n      <td>0.242338</td>\n      <td>9376.523771</td>\n    </tr>\n    <tr>\n      <th>min</th>\n      <td>1.000000</td>\n      <td>9300.000000</td>\n    </tr>\n    <tr>\n      <th>25%</th>\n      <td>1.000000</td>\n      <td>11300.000000</td>\n    </tr>\n    <tr>\n      <th>50%</th>\n      <td>1.000000</td>\n      <td>21800.000000</td>\n    </tr>\n    <tr>\n      <th>75%</th>\n      <td>1.000000</td>\n      <td>32300.000000</td>\n    </tr>\n    <tr>\n      <th>max</th>\n      <td>5.000000</td>\n      <td>38800.000000</td>\n    </tr>\n  </tbody>\n</table>\n</div>"
     },
     "execution_count": 791,
     "metadata": {},
     "output_type": "execute_result"
    }
   ],
   "source": [
    "# 통계정보 (주문개수, 가격)\n",
    "pizza_df.loc[:,['quantity','price']].describe()"
   ],
   "metadata": {
    "collapsed": false,
    "ExecuteTime": {
     "end_time": "2024-06-09T10:19:03.601954Z",
     "start_time": "2024-06-09T10:19:03.500190Z"
    }
   },
   "id": "39443e1384c8ca61",
   "execution_count": 791
  },
  {
   "cell_type": "code",
   "outputs": [
    {
     "data": {
      "text/plain": "order_id            0\norder_timestamp     0\norder_details_id    0\npizza_id            0\nquantity            0\npizza_name          0\nsize                0\nprice               0\ncategory            0\ningredients         0\ndtype: int64"
     },
     "execution_count": 792,
     "metadata": {},
     "output_type": "execute_result"
    }
   ],
   "source": [
    "# 결측값 존재 여부\n",
    "pizza_df.isnull().sum()"
   ],
   "metadata": {
    "collapsed": false,
    "ExecuteTime": {
     "end_time": "2024-06-09T10:19:03.624934Z",
     "start_time": "2024-06-09T10:19:03.518420Z"
    }
   },
   "id": "dc1b310bc171fbdb",
   "execution_count": 792
  },
  {
   "cell_type": "markdown",
   "source": [
    "## 02. 매장분석1 : 종합결산"
   ],
   "metadata": {
    "collapsed": false
   },
   "id": "8bc939a2f7eaa902"
  },
  {
   "cell_type": "code",
   "outputs": [
    {
     "data": {
      "text/plain": "             date      time\n0      2023-01-01  11:45:11\n1      2023-01-01  12:46:51\n2      2023-01-01  14:11:40\n3      2023-01-01  19:01:13\n4      2023-01-02  18:55:31\n...           ...       ...\n47074  2023-12-27  11:54:11\n47075  2023-12-28  12:04:56\n47076  2023-12-28  18:27:31\n47077  2023-12-30  16:43:57\n47078  2023-12-31  13:57:36\n\n[47079 rows x 2 columns]",
      "text/html": "<div>\n<style scoped>\n    .dataframe tbody tr th:only-of-type {\n        vertical-align: middle;\n    }\n\n    .dataframe tbody tr th {\n        vertical-align: top;\n    }\n\n    .dataframe thead th {\n        text-align: right;\n    }\n</style>\n<table border=\"1\" class=\"dataframe\">\n  <thead>\n    <tr style=\"text-align: right;\">\n      <th></th>\n      <th>date</th>\n      <th>time</th>\n    </tr>\n  </thead>\n  <tbody>\n    <tr>\n      <th>0</th>\n      <td>2023-01-01</td>\n      <td>11:45:11</td>\n    </tr>\n    <tr>\n      <th>1</th>\n      <td>2023-01-01</td>\n      <td>12:46:51</td>\n    </tr>\n    <tr>\n      <th>2</th>\n      <td>2023-01-01</td>\n      <td>14:11:40</td>\n    </tr>\n    <tr>\n      <th>3</th>\n      <td>2023-01-01</td>\n      <td>19:01:13</td>\n    </tr>\n    <tr>\n      <th>4</th>\n      <td>2023-01-02</td>\n      <td>18:55:31</td>\n    </tr>\n    <tr>\n      <th>...</th>\n      <td>...</td>\n      <td>...</td>\n    </tr>\n    <tr>\n      <th>47074</th>\n      <td>2023-12-27</td>\n      <td>11:54:11</td>\n    </tr>\n    <tr>\n      <th>47075</th>\n      <td>2023-12-28</td>\n      <td>12:04:56</td>\n    </tr>\n    <tr>\n      <th>47076</th>\n      <td>2023-12-28</td>\n      <td>18:27:31</td>\n    </tr>\n    <tr>\n      <th>47077</th>\n      <td>2023-12-30</td>\n      <td>16:43:57</td>\n    </tr>\n    <tr>\n      <th>47078</th>\n      <td>2023-12-31</td>\n      <td>13:57:36</td>\n    </tr>\n  </tbody>\n</table>\n<p>47079 rows × 2 columns</p>\n</div>"
     },
     "execution_count": 793,
     "metadata": {},
     "output_type": "execute_result"
    }
   ],
   "source": [
    "# 영업 날짜 수를 구하기 위한 스플릿\n",
    "\n",
    "# pandas 데이터프레임에서 특정 열의 문자열 값을 분할하려면 str 접근자를 사용해야 합니다. \n",
    "# split() 메소드는 문자열 메소드이므로, 데이터프레임의 열에 직접 적용할 수는 없지만, str 접근자를 통해 적용할 수 있습니다.\n",
    "# expand=True를 사용하면 split 메소드의 결과가 데이터프레임으로 확장\n",
    "time_stamp = pizza_df.loc[:,'order_timestamp'].str.split(' ', expand=True)\n",
    "time_stamp.columns = ['date','time']\n",
    "time_stamp"
   ],
   "metadata": {
    "collapsed": false,
    "ExecuteTime": {
     "end_time": "2024-06-09T10:19:03.675068Z",
     "start_time": "2024-06-09T10:19:03.565348Z"
    }
   },
   "id": "d844daf87c33d193",
   "execution_count": 793
  },
  {
   "cell_type": "code",
   "outputs": [
    {
     "data": {
      "text/plain": "0       2023-01-01\n4       2023-01-02\n7       2023-01-03\n9       2023-01-04\n14      2023-01-05\n           ...    \n1717    2023-12-27\n1720    2023-12-28\n1723    2023-12-30\n1725    2023-12-31\n3996    2023-12-18\nName: date, Length: 358, dtype: object"
     },
     "execution_count": 794,
     "metadata": {},
     "output_type": "execute_result"
    }
   ],
   "source": [
    "work_day_unique= time_stamp['date'].drop_duplicates()\n",
    "work_day_unique"
   ],
   "metadata": {
    "collapsed": false,
    "ExecuteTime": {
     "end_time": "2024-06-09T10:19:03.693935Z",
     "start_time": "2024-06-09T10:19:03.576257Z"
    }
   },
   "id": "9a072f8018001fd4",
   "execution_count": 794
  },
  {
   "cell_type": "code",
   "outputs": [
    {
     "data": {
      "text/plain": "358"
     },
     "execution_count": 795,
     "metadata": {},
     "output_type": "execute_result"
    }
   ],
   "source": [
    "# 영업한 날짜\n",
    "work_day_unique.count()"
   ],
   "metadata": {
    "collapsed": false,
    "ExecuteTime": {
     "end_time": "2024-06-09T10:19:03.718870Z",
     "start_time": "2024-06-09T10:19:03.632668Z"
    }
   },
   "id": "249bb5a166aed7bd",
   "execution_count": 795
  },
  {
   "cell_type": "code",
   "outputs": [
    {
     "data": {
      "text/plain": "49574"
     },
     "execution_count": 796,
     "metadata": {},
     "output_type": "execute_result"
    }
   ],
   "source": [
    "# 한 해동안 판매한 피자 수\n",
    "pizza_df['quantity'].sum()"
   ],
   "metadata": {
    "collapsed": false,
    "ExecuteTime": {
     "end_time": "2024-06-09T10:19:03.770592Z",
     "start_time": "2024-06-09T10:19:03.720681Z"
    }
   },
   "id": "56e074b7c413bf54",
   "execution_count": 796
  },
  {
   "cell_type": "markdown",
   "source": [
    "### 포맷 명세 설명:\n",
    ":: 포맷팅의 시작을 나타냅니다.\n",
    ",: 천 단위마다 쉼표를 넣으라는 지시입니다.\n",
    ".0f: 소수점 이하 자릿수를 0으로 설정하고, 부동 소수점 형식으로 숫자를 표시합니다."
   ],
   "metadata": {
    "collapsed": false
   },
   "id": "417b1c42b5a693eb"
  },
  {
   "cell_type": "code",
   "outputs": [
    {
     "data": {
      "text/plain": "'총 매출 : 1,080,255,800 원'"
     },
     "execution_count": 797,
     "metadata": {},
     "output_type": "execute_result"
    }
   ],
   "source": [
    "# 총 매출\n",
    "total_price = pizza_df['price'].sum()\n",
    "formatted_total_price = f'총 매출 : {total_price:,.0f} 원'\n",
    "formatted_total_price"
   ],
   "metadata": {
    "collapsed": false,
    "ExecuteTime": {
     "end_time": "2024-06-09T10:19:03.807050Z",
     "start_time": "2024-06-09T10:19:03.766422Z"
    }
   },
   "id": "35425bbc5b9cd70c",
   "execution_count": 797
  },
  {
   "cell_type": "markdown",
   "source": [
    "### 월별 매출"
   ],
   "metadata": {
    "collapsed": false
   },
   "id": "79c0a0bea54a2fda"
  },
  {
   "cell_type": "code",
   "outputs": [
    {
     "data": {
      "text/plain": "       year month day\n0      2023    01  01\n1      2023    01  01\n2      2023    01  01\n3      2023    01  01\n4      2023    01  02\n...     ...   ...  ..\n47074  2023    12  27\n47075  2023    12  28\n47076  2023    12  28\n47077  2023    12  30\n47078  2023    12  31\n\n[47079 rows x 3 columns]",
      "text/html": "<div>\n<style scoped>\n    .dataframe tbody tr th:only-of-type {\n        vertical-align: middle;\n    }\n\n    .dataframe tbody tr th {\n        vertical-align: top;\n    }\n\n    .dataframe thead th {\n        text-align: right;\n    }\n</style>\n<table border=\"1\" class=\"dataframe\">\n  <thead>\n    <tr style=\"text-align: right;\">\n      <th></th>\n      <th>year</th>\n      <th>month</th>\n      <th>day</th>\n    </tr>\n  </thead>\n  <tbody>\n    <tr>\n      <th>0</th>\n      <td>2023</td>\n      <td>01</td>\n      <td>01</td>\n    </tr>\n    <tr>\n      <th>1</th>\n      <td>2023</td>\n      <td>01</td>\n      <td>01</td>\n    </tr>\n    <tr>\n      <th>2</th>\n      <td>2023</td>\n      <td>01</td>\n      <td>01</td>\n    </tr>\n    <tr>\n      <th>3</th>\n      <td>2023</td>\n      <td>01</td>\n      <td>01</td>\n    </tr>\n    <tr>\n      <th>4</th>\n      <td>2023</td>\n      <td>01</td>\n      <td>02</td>\n    </tr>\n    <tr>\n      <th>...</th>\n      <td>...</td>\n      <td>...</td>\n      <td>...</td>\n    </tr>\n    <tr>\n      <th>47074</th>\n      <td>2023</td>\n      <td>12</td>\n      <td>27</td>\n    </tr>\n    <tr>\n      <th>47075</th>\n      <td>2023</td>\n      <td>12</td>\n      <td>28</td>\n    </tr>\n    <tr>\n      <th>47076</th>\n      <td>2023</td>\n      <td>12</td>\n      <td>28</td>\n    </tr>\n    <tr>\n      <th>47077</th>\n      <td>2023</td>\n      <td>12</td>\n      <td>30</td>\n    </tr>\n    <tr>\n      <th>47078</th>\n      <td>2023</td>\n      <td>12</td>\n      <td>31</td>\n    </tr>\n  </tbody>\n</table>\n<p>47079 rows × 3 columns</p>\n</div>"
     },
     "execution_count": 798,
     "metadata": {},
     "output_type": "execute_result"
    }
   ],
   "source": [
    "# 월별 매출\n",
    "sales = time_stamp['date'].str.split('-', expand=True)\n",
    "sales.columns = ['year', 'month', 'day'] # 열 이름 지정\n",
    "sales"
   ],
   "metadata": {
    "collapsed": false,
    "ExecuteTime": {
     "end_time": "2024-06-09T10:19:03.870831Z",
     "start_time": "2024-06-09T10:19:03.829922Z"
    }
   },
   "id": "27e35531f7ac3a07",
   "execution_count": 798
  },
  {
   "cell_type": "code",
   "outputs": [
    {
     "data": {
      "text/plain": "       order_id      order_timestamp  order_details_id    pizza_id  quantity  \\\n0             1  2023-01-01 11:45:11                 1  hawaiian_m         1   \n1            11  2023-01-01 12:46:51                27  hawaiian_m         1   \n2            17  2023-01-01 14:11:40                46  hawaiian_m         3   \n3            32  2023-01-01 19:01:13                76  hawaiian_m         1   \n4            60  2023-01-02 18:55:31               137  hawaiian_m         1   \n...         ...                  ...               ...         ...       ...   \n47074     21170  2023-12-27 11:54:11             46662   bulgogi_s         1   \n47075     21228  2023-12-28 12:04:56             46795   bulgogi_s         1   \n47076     21261  2023-12-28 18:27:31             46884   bulgogi_s         1   \n47077     21296  2023-12-30 16:43:57             46953   bulgogi_s         1   \n47078     21323  2023-12-31 13:57:36             47018   bulgogi_s         2   \n\n      pizza_name size  price category                       ingredients month  \\\n0        하와이안 피자    M  21800      스페셜           토마토, 베이컨, 파인애플, 모짜렐라 치즈    01   \n1        하와이안 피자    M  21800      스페셜           토마토, 베이컨, 파인애플, 모짜렐라 치즈    01   \n2        하와이안 피자    M  21800      스페셜           토마토, 베이컨, 파인애플, 모짜렐라 치즈    01   \n3        하와이안 피자    M  21800      스페셜           토마토, 베이컨, 파인애플, 모짜렐라 치즈    01   \n4        하와이안 피자    M  21800      스페셜           토마토, 베이컨, 파인애플, 모짜렐라 치즈    01   \n...          ...  ...    ...      ...                               ...   ...   \n47074     불고기 피자    S  10800      스페셜  불고기, 불고기 소스, 버섯, 양파, 피망, 모짜렐라 치즈    12   \n47075     불고기 피자    S  10800      스페셜  불고기, 불고기 소스, 버섯, 양파, 피망, 모짜렐라 치즈    12   \n47076     불고기 피자    S  10800      스페셜  불고기, 불고기 소스, 버섯, 양파, 피망, 모짜렐라 치즈    12   \n47077     불고기 피자    S  10800      스페셜  불고기, 불고기 소스, 버섯, 양파, 피망, 모짜렐라 치즈    12   \n47078     불고기 피자    S  10800      스페셜  불고기, 불고기 소스, 버섯, 양파, 피망, 모짜렐라 치즈    12   \n\n      day  \n0      01  \n1      01  \n2      01  \n3      01  \n4      02  \n...    ..  \n47074  27  \n47075  28  \n47076  28  \n47077  30  \n47078  31  \n\n[47079 rows x 12 columns]",
      "text/html": "<div>\n<style scoped>\n    .dataframe tbody tr th:only-of-type {\n        vertical-align: middle;\n    }\n\n    .dataframe tbody tr th {\n        vertical-align: top;\n    }\n\n    .dataframe thead th {\n        text-align: right;\n    }\n</style>\n<table border=\"1\" class=\"dataframe\">\n  <thead>\n    <tr style=\"text-align: right;\">\n      <th></th>\n      <th>order_id</th>\n      <th>order_timestamp</th>\n      <th>order_details_id</th>\n      <th>pizza_id</th>\n      <th>quantity</th>\n      <th>pizza_name</th>\n      <th>size</th>\n      <th>price</th>\n      <th>category</th>\n      <th>ingredients</th>\n      <th>month</th>\n      <th>day</th>\n    </tr>\n  </thead>\n  <tbody>\n    <tr>\n      <th>0</th>\n      <td>1</td>\n      <td>2023-01-01 11:45:11</td>\n      <td>1</td>\n      <td>hawaiian_m</td>\n      <td>1</td>\n      <td>하와이안 피자</td>\n      <td>M</td>\n      <td>21800</td>\n      <td>스페셜</td>\n      <td>토마토, 베이컨, 파인애플, 모짜렐라 치즈</td>\n      <td>01</td>\n      <td>01</td>\n    </tr>\n    <tr>\n      <th>1</th>\n      <td>11</td>\n      <td>2023-01-01 12:46:51</td>\n      <td>27</td>\n      <td>hawaiian_m</td>\n      <td>1</td>\n      <td>하와이안 피자</td>\n      <td>M</td>\n      <td>21800</td>\n      <td>스페셜</td>\n      <td>토마토, 베이컨, 파인애플, 모짜렐라 치즈</td>\n      <td>01</td>\n      <td>01</td>\n    </tr>\n    <tr>\n      <th>2</th>\n      <td>17</td>\n      <td>2023-01-01 14:11:40</td>\n      <td>46</td>\n      <td>hawaiian_m</td>\n      <td>3</td>\n      <td>하와이안 피자</td>\n      <td>M</td>\n      <td>21800</td>\n      <td>스페셜</td>\n      <td>토마토, 베이컨, 파인애플, 모짜렐라 치즈</td>\n      <td>01</td>\n      <td>01</td>\n    </tr>\n    <tr>\n      <th>3</th>\n      <td>32</td>\n      <td>2023-01-01 19:01:13</td>\n      <td>76</td>\n      <td>hawaiian_m</td>\n      <td>1</td>\n      <td>하와이안 피자</td>\n      <td>M</td>\n      <td>21800</td>\n      <td>스페셜</td>\n      <td>토마토, 베이컨, 파인애플, 모짜렐라 치즈</td>\n      <td>01</td>\n      <td>01</td>\n    </tr>\n    <tr>\n      <th>4</th>\n      <td>60</td>\n      <td>2023-01-02 18:55:31</td>\n      <td>137</td>\n      <td>hawaiian_m</td>\n      <td>1</td>\n      <td>하와이안 피자</td>\n      <td>M</td>\n      <td>21800</td>\n      <td>스페셜</td>\n      <td>토마토, 베이컨, 파인애플, 모짜렐라 치즈</td>\n      <td>01</td>\n      <td>02</td>\n    </tr>\n    <tr>\n      <th>...</th>\n      <td>...</td>\n      <td>...</td>\n      <td>...</td>\n      <td>...</td>\n      <td>...</td>\n      <td>...</td>\n      <td>...</td>\n      <td>...</td>\n      <td>...</td>\n      <td>...</td>\n      <td>...</td>\n      <td>...</td>\n    </tr>\n    <tr>\n      <th>47074</th>\n      <td>21170</td>\n      <td>2023-12-27 11:54:11</td>\n      <td>46662</td>\n      <td>bulgogi_s</td>\n      <td>1</td>\n      <td>불고기 피자</td>\n      <td>S</td>\n      <td>10800</td>\n      <td>스페셜</td>\n      <td>불고기, 불고기 소스, 버섯, 양파, 피망, 모짜렐라 치즈</td>\n      <td>12</td>\n      <td>27</td>\n    </tr>\n    <tr>\n      <th>47075</th>\n      <td>21228</td>\n      <td>2023-12-28 12:04:56</td>\n      <td>46795</td>\n      <td>bulgogi_s</td>\n      <td>1</td>\n      <td>불고기 피자</td>\n      <td>S</td>\n      <td>10800</td>\n      <td>스페셜</td>\n      <td>불고기, 불고기 소스, 버섯, 양파, 피망, 모짜렐라 치즈</td>\n      <td>12</td>\n      <td>28</td>\n    </tr>\n    <tr>\n      <th>47076</th>\n      <td>21261</td>\n      <td>2023-12-28 18:27:31</td>\n      <td>46884</td>\n      <td>bulgogi_s</td>\n      <td>1</td>\n      <td>불고기 피자</td>\n      <td>S</td>\n      <td>10800</td>\n      <td>스페셜</td>\n      <td>불고기, 불고기 소스, 버섯, 양파, 피망, 모짜렐라 치즈</td>\n      <td>12</td>\n      <td>28</td>\n    </tr>\n    <tr>\n      <th>47077</th>\n      <td>21296</td>\n      <td>2023-12-30 16:43:57</td>\n      <td>46953</td>\n      <td>bulgogi_s</td>\n      <td>1</td>\n      <td>불고기 피자</td>\n      <td>S</td>\n      <td>10800</td>\n      <td>스페셜</td>\n      <td>불고기, 불고기 소스, 버섯, 양파, 피망, 모짜렐라 치즈</td>\n      <td>12</td>\n      <td>30</td>\n    </tr>\n    <tr>\n      <th>47078</th>\n      <td>21323</td>\n      <td>2023-12-31 13:57:36</td>\n      <td>47018</td>\n      <td>bulgogi_s</td>\n      <td>2</td>\n      <td>불고기 피자</td>\n      <td>S</td>\n      <td>10800</td>\n      <td>스페셜</td>\n      <td>불고기, 불고기 소스, 버섯, 양파, 피망, 모짜렐라 치즈</td>\n      <td>12</td>\n      <td>31</td>\n    </tr>\n  </tbody>\n</table>\n<p>47079 rows × 12 columns</p>\n</div>"
     },
     "execution_count": 799,
     "metadata": {},
     "output_type": "execute_result"
    }
   ],
   "source": [
    "pizza_df['month'] = sales['month']\n",
    "pizza_df['day'] = sales['day']\n",
    "pizza_df"
   ],
   "metadata": {
    "collapsed": false,
    "ExecuteTime": {
     "end_time": "2024-06-09T10:19:03.873723Z",
     "start_time": "2024-06-09T10:19:03.856643Z"
    }
   },
   "id": "a88c684545bbdaf9",
   "execution_count": 799
  },
  {
   "cell_type": "code",
   "outputs": [
    {
     "data": {
      "text/plain": "month\n01    88403200\n02    84750100\n03    93481700\n04    90563700\n05    94909200\n06    90760900\n07    95929400\n08    90563700\n09    84626700\n10    83337000\n11    92399300\n12    90530900\nName: price, dtype: int64"
     },
     "execution_count": 800,
     "metadata": {},
     "output_type": "execute_result"
    }
   ],
   "source": [
    "# # 월별 매출\n",
    "monthly_sales = pizza_df.groupby('month').sum(numeric_only=True)\n",
    "monthly_sales['price']"
   ],
   "metadata": {
    "collapsed": false,
    "ExecuteTime": {
     "end_time": "2024-06-09T10:19:03.910248Z",
     "start_time": "2024-06-09T10:19:03.877450Z"
    }
   },
   "id": "f6e21d570f58dc98",
   "execution_count": 800
  },
  {
   "cell_type": "code",
   "outputs": [
    {
     "data": {
      "text/plain": "Text(0.5, 0, '월')"
     },
     "execution_count": 801,
     "metadata": {},
     "output_type": "execute_result"
    },
    {
     "data": {
      "text/plain": "<Figure size 640x480 with 1 Axes>",
      "image/png": "[encoded data removed]"
     },
     "metadata": {},
     "output_type": "display_data"
    }
   ],
   "source": [
    "# 월별 매출 시각화\n",
    "sns.lineplot(monthly_sales['price'])\n",
    "plt.title('월별매출')\n",
    "plt.gca().yaxis.set_major_formatter(plt.FuncFormatter(lambda x, _: f'{x/10000:,.0f}'))\n",
    "plt.ylabel('매출(만원)')\n",
    "plt.xlabel('월')"
   ],
   "metadata": {
    "collapsed": false,
    "ExecuteTime": {
     "end_time": "2024-06-09T10:19:03.996842Z",
     "start_time": "2024-06-09T10:19:03.886928Z"
    }
   },
   "id": "6c8de8c377123867",
   "execution_count": 801
  },
  {
   "cell_type": "markdown",
   "source": [
    "9월과 10월에는 매출이 급격하게 감소함을 알 수 있다."
   ],
   "metadata": {
    "collapsed": false
   },
   "id": "27a38e687198e435"
  },
  {
   "cell_type": "markdown",
   "source": [
    "### to_datetime : format, dt 이용방법"
   ],
   "metadata": {
    "collapsed": false
   },
   "id": "1f93c8043aa74b41"
  },
  {
   "cell_type": "code",
   "outputs": [
    {
     "data": {
      "text/plain": "       order_id      order_timestamp  order_details_id    pizza_id  quantity  \\\n0             1  2023-01-01 11:45:11                 1  hawaiian_m         1   \n1            11  2023-01-01 12:46:51                27  hawaiian_m         1   \n2            17  2023-01-01 14:11:40                46  hawaiian_m         3   \n3            32  2023-01-01 19:01:13                76  hawaiian_m         1   \n4            60  2023-01-02 18:55:31               137  hawaiian_m         1   \n...         ...                  ...               ...         ...       ...   \n47074     21170  2023-12-27 11:54:11             46662   bulgogi_s         1   \n47075     21228  2023-12-28 12:04:56             46795   bulgogi_s         1   \n47076     21261  2023-12-28 18:27:31             46884   bulgogi_s         1   \n47077     21296  2023-12-30 16:43:57             46953   bulgogi_s         1   \n47078     21323  2023-12-31 13:57:36             47018   bulgogi_s         2   \n\n      pizza_name size  price category                       ingredients month  \\\n0        하와이안 피자    M  21800      스페셜           토마토, 베이컨, 파인애플, 모짜렐라 치즈    01   \n1        하와이안 피자    M  21800      스페셜           토마토, 베이컨, 파인애플, 모짜렐라 치즈    01   \n2        하와이안 피자    M  21800      스페셜           토마토, 베이컨, 파인애플, 모짜렐라 치즈    01   \n3        하와이안 피자    M  21800      스페셜           토마토, 베이컨, 파인애플, 모짜렐라 치즈    01   \n4        하와이안 피자    M  21800      스페셜           토마토, 베이컨, 파인애플, 모짜렐라 치즈    01   \n...          ...  ...    ...      ...                               ...   ...   \n47074     불고기 피자    S  10800      스페셜  불고기, 불고기 소스, 버섯, 양파, 피망, 모짜렐라 치즈    12   \n47075     불고기 피자    S  10800      스페셜  불고기, 불고기 소스, 버섯, 양파, 피망, 모짜렐라 치즈    12   \n47076     불고기 피자    S  10800      스페셜  불고기, 불고기 소스, 버섯, 양파, 피망, 모짜렐라 치즈    12   \n47077     불고기 피자    S  10800      스페셜  불고기, 불고기 소스, 버섯, 양파, 피망, 모짜렐라 치즈    12   \n47078     불고기 피자    S  10800      스페셜  불고기, 불고기 소스, 버섯, 양파, 피망, 모짜렐라 치즈    12   \n\n      day  \n0      01  \n1      01  \n2      01  \n3      01  \n4      02  \n...    ..  \n47074  27  \n47075  28  \n47076  28  \n47077  30  \n47078  31  \n\n[47079 rows x 12 columns]",
      "text/html": "<div>\n<style scoped>\n    .dataframe tbody tr th:only-of-type {\n        vertical-align: middle;\n    }\n\n    .dataframe tbody tr th {\n        vertical-align: top;\n    }\n\n    .dataframe thead th {\n        text-align: right;\n    }\n</style>\n<table border=\"1\" class=\"dataframe\">\n  <thead>\n    <tr style=\"text-align: right;\">\n      <th></th>\n      <th>order_id</th>\n      <th>order_timestamp</th>\n      <th>order_details_id</th>\n      <th>pizza_id</th>\n      <th>quantity</th>\n      <th>pizza_name</th>\n      <th>size</th>\n      <th>price</th>\n      <th>category</th>\n      <th>ingredients</th>\n      <th>month</th>\n      <th>day</th>\n    </tr>\n  </thead>\n  <tbody>\n    <tr>\n      <th>0</th>\n      <td>1</td>\n      <td>2023-01-01 11:45:11</td>\n      <td>1</td>\n      <td>hawaiian_m</td>\n      <td>1</td>\n      <td>하와이안 피자</td>\n      <td>M</td>\n      <td>21800</td>\n      <td>스페셜</td>\n      <td>토마토, 베이컨, 파인애플, 모짜렐라 치즈</td>\n      <td>01</td>\n      <td>01</td>\n    </tr>\n    <tr>\n      <th>1</th>\n      <td>11</td>\n      <td>2023-01-01 12:46:51</td>\n      <td>27</td>\n      <td>hawaiian_m</td>\n      <td>1</td>\n      <td>하와이안 피자</td>\n      <td>M</td>\n      <td>21800</td>\n      <td>스페셜</td>\n      <td>토마토, 베이컨, 파인애플, 모짜렐라 치즈</td>\n      <td>01</td>\n      <td>01</td>\n    </tr>\n    <tr>\n      <th>2</th>\n      <td>17</td>\n      <td>2023-01-01 14:11:40</td>\n      <td>46</td>\n      <td>hawaiian_m</td>\n      <td>3</td>\n      <td>하와이안 피자</td>\n      <td>M</td>\n      <td>21800</td>\n      <td>스페셜</td>\n      <td>토마토, 베이컨, 파인애플, 모짜렐라 치즈</td>\n      <td>01</td>\n      <td>01</td>\n    </tr>\n    <tr>\n      <th>3</th>\n      <td>32</td>\n      <td>2023-01-01 19:01:13</td>\n      <td>76</td>\n      <td>hawaiian_m</td>\n      <td>1</td>\n      <td>하와이안 피자</td>\n      <td>M</td>\n      <td>21800</td>\n      <td>스페셜</td>\n      <td>토마토, 베이컨, 파인애플, 모짜렐라 치즈</td>\n      <td>01</td>\n      <td>01</td>\n    </tr>\n    <tr>\n      <th>4</th>\n      <td>60</td>\n      <td>2023-01-02 18:55:31</td>\n      <td>137</td>\n      <td>hawaiian_m</td>\n      <td>1</td>\n      <td>하와이안 피자</td>\n      <td>M</td>\n      <td>21800</td>\n      <td>스페셜</td>\n      <td>토마토, 베이컨, 파인애플, 모짜렐라 치즈</td>\n      <td>01</td>\n      <td>02</td>\n    </tr>\n    <tr>\n      <th>...</th>\n      <td>...</td>\n      <td>...</td>\n      <td>...</td>\n      <td>...</td>\n      <td>...</td>\n      <td>...</td>\n      <td>...</td>\n      <td>...</td>\n      <td>...</td>\n      <td>...</td>\n      <td>...</td>\n      <td>...</td>\n    </tr>\n    <tr>\n      <th>47074</th>\n      <td>21170</td>\n      <td>2023-12-27 11:54:11</td>\n      <td>46662</td>\n      <td>bulgogi_s</td>\n      <td>1</td>\n      <td>불고기 피자</td>\n      <td>S</td>\n      <td>10800</td>\n      <td>스페셜</td>\n      <td>불고기, 불고기 소스, 버섯, 양파, 피망, 모짜렐라 치즈</td>\n      <td>12</td>\n      <td>27</td>\n    </tr>\n    <tr>\n      <th>47075</th>\n      <td>21228</td>\n      <td>2023-12-28 12:04:56</td>\n      <td>46795</td>\n      <td>bulgogi_s</td>\n      <td>1</td>\n      <td>불고기 피자</td>\n      <td>S</td>\n      <td>10800</td>\n      <td>스페셜</td>\n      <td>불고기, 불고기 소스, 버섯, 양파, 피망, 모짜렐라 치즈</td>\n      <td>12</td>\n      <td>28</td>\n    </tr>\n    <tr>\n      <th>47076</th>\n      <td>21261</td>\n      <td>2023-12-28 18:27:31</td>\n      <td>46884</td>\n      <td>bulgogi_s</td>\n      <td>1</td>\n      <td>불고기 피자</td>\n      <td>S</td>\n      <td>10800</td>\n      <td>스페셜</td>\n      <td>불고기, 불고기 소스, 버섯, 양파, 피망, 모짜렐라 치즈</td>\n      <td>12</td>\n      <td>28</td>\n    </tr>\n    <tr>\n      <th>47077</th>\n      <td>21296</td>\n      <td>2023-12-30 16:43:57</td>\n      <td>46953</td>\n      <td>bulgogi_s</td>\n      <td>1</td>\n      <td>불고기 피자</td>\n      <td>S</td>\n      <td>10800</td>\n      <td>스페셜</td>\n      <td>불고기, 불고기 소스, 버섯, 양파, 피망, 모짜렐라 치즈</td>\n      <td>12</td>\n      <td>30</td>\n    </tr>\n    <tr>\n      <th>47078</th>\n      <td>21323</td>\n      <td>2023-12-31 13:57:36</td>\n      <td>47018</td>\n      <td>bulgogi_s</td>\n      <td>2</td>\n      <td>불고기 피자</td>\n      <td>S</td>\n      <td>10800</td>\n      <td>스페셜</td>\n      <td>불고기, 불고기 소스, 버섯, 양파, 피망, 모짜렐라 치즈</td>\n      <td>12</td>\n      <td>31</td>\n    </tr>\n  </tbody>\n</table>\n<p>47079 rows × 12 columns</p>\n</div>"
     },
     "execution_count": 802,
     "metadata": {},
     "output_type": "execute_result"
    }
   ],
   "source": [
    "pizza_df"
   ],
   "metadata": {
    "collapsed": false,
    "ExecuteTime": {
     "end_time": "2024-06-09T10:19:04.052459Z",
     "start_time": "2024-06-09T10:19:03.993986Z"
    }
   },
   "id": "2678f92296f45652",
   "execution_count": 802
  },
  {
   "cell_type": "code",
   "outputs": [],
   "source": [
    "# order_timestamp의 컬럼의 타입을 변경\n",
    "pizza_df['order_timestamp'] = pd.to_datetime(pizza_df['order_timestamp'])"
   ],
   "metadata": {
    "collapsed": false,
    "ExecuteTime": {
     "end_time": "2024-06-09T10:19:04.064011Z",
     "start_time": "2024-06-09T10:19:04.007096Z"
    }
   },
   "id": "ba56f78032d23963",
   "execution_count": 803
  },
  {
   "cell_type": "code",
   "outputs": [],
   "source": [
    "pizza_df['year'] = pizza_df['order_timestamp'].dt.year"
   ],
   "metadata": {
    "collapsed": false,
    "ExecuteTime": {
     "end_time": "2024-06-09T10:19:04.064752Z",
     "start_time": "2024-06-09T10:19:04.012535Z"
    }
   },
   "id": "b08ad261a247eefd",
   "execution_count": 804
  },
  {
   "cell_type": "code",
   "outputs": [],
   "source": [
    "pizza_df['month'] = pizza_df['order_timestamp'].dt.month"
   ],
   "metadata": {
    "collapsed": false,
    "ExecuteTime": {
     "end_time": "2024-06-09T10:19:04.078778Z",
     "start_time": "2024-06-09T10:19:04.054081Z"
    }
   },
   "id": "6ae85df4659ffc9c",
   "execution_count": 805
  },
  {
   "cell_type": "code",
   "outputs": [],
   "source": [
    "pizza_df['day'] = pizza_df['order_timestamp'].dt.day"
   ],
   "metadata": {
    "collapsed": false,
    "ExecuteTime": {
     "end_time": "2024-06-09T10:19:04.110836Z",
     "start_time": "2024-06-09T10:19:04.079299Z"
    }
   },
   "id": "cdeae81f4b1ff1fb",
   "execution_count": 806
  },
  {
   "cell_type": "code",
   "outputs": [],
   "source": [
    "pizza_df['dayofweek'] = pizza_df['order_timestamp'].dt.dayofweek"
   ],
   "metadata": {
    "collapsed": false,
    "ExecuteTime": {
     "end_time": "2024-06-09T10:19:04.154467Z",
     "start_time": "2024-06-09T10:19:04.112679Z"
    }
   },
   "id": "74f3449ea55eb976",
   "execution_count": 807
  },
  {
   "cell_type": "code",
   "outputs": [
    {
     "data": {
      "text/plain": "       order_id     order_timestamp  order_details_id    pizza_id  quantity  \\\n0             1 2023-01-01 11:45:11                 1  hawaiian_m         1   \n1            11 2023-01-01 12:46:51                27  hawaiian_m         1   \n2            17 2023-01-01 14:11:40                46  hawaiian_m         3   \n3            32 2023-01-01 19:01:13                76  hawaiian_m         1   \n4            60 2023-01-02 18:55:31               137  hawaiian_m         1   \n...         ...                 ...               ...         ...       ...   \n47074     21170 2023-12-27 11:54:11             46662   bulgogi_s         1   \n47075     21228 2023-12-28 12:04:56             46795   bulgogi_s         1   \n47076     21261 2023-12-28 18:27:31             46884   bulgogi_s         1   \n47077     21296 2023-12-30 16:43:57             46953   bulgogi_s         1   \n47078     21323 2023-12-31 13:57:36             47018   bulgogi_s         2   \n\n      pizza_name size  price category                       ingredients  \\\n0        하와이안 피자    M  21800      스페셜           토마토, 베이컨, 파인애플, 모짜렐라 치즈   \n1        하와이안 피자    M  21800      스페셜           토마토, 베이컨, 파인애플, 모짜렐라 치즈   \n2        하와이안 피자    M  21800      스페셜           토마토, 베이컨, 파인애플, 모짜렐라 치즈   \n3        하와이안 피자    M  21800      스페셜           토마토, 베이컨, 파인애플, 모짜렐라 치즈   \n4        하와이안 피자    M  21800      스페셜           토마토, 베이컨, 파인애플, 모짜렐라 치즈   \n...          ...  ...    ...      ...                               ...   \n47074     불고기 피자    S  10800      스페셜  불고기, 불고기 소스, 버섯, 양파, 피망, 모짜렐라 치즈   \n47075     불고기 피자    S  10800      스페셜  불고기, 불고기 소스, 버섯, 양파, 피망, 모짜렐라 치즈   \n47076     불고기 피자    S  10800      스페셜  불고기, 불고기 소스, 버섯, 양파, 피망, 모짜렐라 치즈   \n47077     불고기 피자    S  10800      스페셜  불고기, 불고기 소스, 버섯, 양파, 피망, 모짜렐라 치즈   \n47078     불고기 피자    S  10800      스페셜  불고기, 불고기 소스, 버섯, 양파, 피망, 모짜렐라 치즈   \n\n       month  day  year  dayofweek  \n0          1    1  2023          6  \n1          1    1  2023          6  \n2          1    1  2023          6  \n3          1    1  2023          6  \n4          1    2  2023          0  \n...      ...  ...   ...        ...  \n47074     12   27  2023          2  \n47075     12   28  2023          3  \n47076     12   28  2023          3  \n47077     12   30  2023          5  \n47078     12   31  2023          6  \n\n[47079 rows x 14 columns]",
      "text/html": "<div>\n<style scoped>\n    .dataframe tbody tr th:only-of-type {\n        vertical-align: middle;\n    }\n\n    .dataframe tbody tr th {\n        vertical-align: top;\n    }\n\n    .dataframe thead th {\n        text-align: right;\n    }\n</style>\n<table border=\"1\" class=\"dataframe\">\n  <thead>\n    <tr style=\"text-align: right;\">\n      <th></th>\n      <th>order_id</th>\n      <th>order_timestamp</th>\n      <th>order_details_id</th>\n      <th>pizza_id</th>\n      <th>quantity</th>\n      <th>pizza_name</th>\n      <th>size</th>\n      <th>price</th>\n      <th>category</th>\n      <th>ingredients</th>\n      <th>month</th>\n      <th>day</th>\n      <th>year</th>\n      <th>dayofweek</th>\n    </tr>\n  </thead>\n  <tbody>\n    <tr>\n      <th>0</th>\n      <td>1</td>\n      <td>2023-01-01 11:45:11</td>\n      <td>1</td>\n      <td>hawaiian_m</td>\n      <td>1</td>\n      <td>하와이안 피자</td>\n      <td>M</td>\n      <td>21800</td>\n      <td>스페셜</td>\n      <td>토마토, 베이컨, 파인애플, 모짜렐라 치즈</td>\n      <td>1</td>\n      <td>1</td>\n      <td>2023</td>\n      <td>6</td>\n    </tr>\n    <tr>\n      <th>1</th>\n      <td>11</td>\n      <td>2023-01-01 12:46:51</td>\n      <td>27</td>\n      <td>hawaiian_m</td>\n      <td>1</td>\n      <td>하와이안 피자</td>\n      <td>M</td>\n      <td>21800</td>\n      <td>스페셜</td>\n      <td>토마토, 베이컨, 파인애플, 모짜렐라 치즈</td>\n      <td>1</td>\n      <td>1</td>\n      <td>2023</td>\n      <td>6</td>\n    </tr>\n    <tr>\n      <th>2</th>\n      <td>17</td>\n      <td>2023-01-01 14:11:40</td>\n      <td>46</td>\n      <td>hawaiian_m</td>\n      <td>3</td>\n      <td>하와이안 피자</td>\n      <td>M</td>\n      <td>21800</td>\n      <td>스페셜</td>\n      <td>토마토, 베이컨, 파인애플, 모짜렐라 치즈</td>\n      <td>1</td>\n      <td>1</td>\n      <td>2023</td>\n      <td>6</td>\n    </tr>\n    <tr>\n      <th>3</th>\n      <td>32</td>\n      <td>2023-01-01 19:01:13</td>\n      <td>76</td>\n      <td>hawaiian_m</td>\n      <td>1</td>\n      <td>하와이안 피자</td>\n      <td>M</td>\n      <td>21800</td>\n      <td>스페셜</td>\n      <td>토마토, 베이컨, 파인애플, 모짜렐라 치즈</td>\n      <td>1</td>\n      <td>1</td>\n      <td>2023</td>\n      <td>6</td>\n    </tr>\n    <tr>\n      <th>4</th>\n      <td>60</td>\n      <td>2023-01-02 18:55:31</td>\n      <td>137</td>\n      <td>hawaiian_m</td>\n      <td>1</td>\n      <td>하와이안 피자</td>\n      <td>M</td>\n      <td>21800</td>\n      <td>스페셜</td>\n      <td>토마토, 베이컨, 파인애플, 모짜렐라 치즈</td>\n      <td>1</td>\n      <td>2</td>\n      <td>2023</td>\n      <td>0</td>\n    </tr>\n    <tr>\n      <th>...</th>\n      <td>...</td>\n      <td>...</td>\n      <td>...</td>\n      <td>...</td>\n      <td>...</td>\n      <td>...</td>\n      <td>...</td>\n      <td>...</td>\n      <td>...</td>\n      <td>...</td>\n      <td>...</td>\n      <td>...</td>\n      <td>...</td>\n      <td>...</td>\n    </tr>\n    <tr>\n      <th>47074</th>\n      <td>21170</td>\n      <td>2023-12-27 11:54:11</td>\n      <td>46662</td>\n      <td>bulgogi_s</td>\n      <td>1</td>\n      <td>불고기 피자</td>\n      <td>S</td>\n      <td>10800</td>\n      <td>스페셜</td>\n      <td>불고기, 불고기 소스, 버섯, 양파, 피망, 모짜렐라 치즈</td>\n      <td>12</td>\n      <td>27</td>\n      <td>2023</td>\n      <td>2</td>\n    </tr>\n    <tr>\n      <th>47075</th>\n      <td>21228</td>\n      <td>2023-12-28 12:04:56</td>\n      <td>46795</td>\n      <td>bulgogi_s</td>\n      <td>1</td>\n      <td>불고기 피자</td>\n      <td>S</td>\n      <td>10800</td>\n      <td>스페셜</td>\n      <td>불고기, 불고기 소스, 버섯, 양파, 피망, 모짜렐라 치즈</td>\n      <td>12</td>\n      <td>28</td>\n      <td>2023</td>\n      <td>3</td>\n    </tr>\n    <tr>\n      <th>47076</th>\n      <td>21261</td>\n      <td>2023-12-28 18:27:31</td>\n      <td>46884</td>\n      <td>bulgogi_s</td>\n      <td>1</td>\n      <td>불고기 피자</td>\n      <td>S</td>\n      <td>10800</td>\n      <td>스페셜</td>\n      <td>불고기, 불고기 소스, 버섯, 양파, 피망, 모짜렐라 치즈</td>\n      <td>12</td>\n      <td>28</td>\n      <td>2023</td>\n      <td>3</td>\n    </tr>\n    <tr>\n      <th>47077</th>\n      <td>21296</td>\n      <td>2023-12-30 16:43:57</td>\n      <td>46953</td>\n      <td>bulgogi_s</td>\n      <td>1</td>\n      <td>불고기 피자</td>\n      <td>S</td>\n      <td>10800</td>\n      <td>스페셜</td>\n      <td>불고기, 불고기 소스, 버섯, 양파, 피망, 모짜렐라 치즈</td>\n      <td>12</td>\n      <td>30</td>\n      <td>2023</td>\n      <td>5</td>\n    </tr>\n    <tr>\n      <th>47078</th>\n      <td>21323</td>\n      <td>2023-12-31 13:57:36</td>\n      <td>47018</td>\n      <td>bulgogi_s</td>\n      <td>2</td>\n      <td>불고기 피자</td>\n      <td>S</td>\n      <td>10800</td>\n      <td>스페셜</td>\n      <td>불고기, 불고기 소스, 버섯, 양파, 피망, 모짜렐라 치즈</td>\n      <td>12</td>\n      <td>31</td>\n      <td>2023</td>\n      <td>6</td>\n    </tr>\n  </tbody>\n</table>\n<p>47079 rows × 14 columns</p>\n</div>"
     },
     "execution_count": 808,
     "metadata": {},
     "output_type": "execute_result"
    }
   ],
   "source": [
    "pizza_df"
   ],
   "metadata": {
    "collapsed": false,
    "ExecuteTime": {
     "end_time": "2024-06-09T10:19:04.176941Z",
     "start_time": "2024-06-09T10:19:04.157026Z"
    }
   },
   "id": "2894c9c31cfb0155",
   "execution_count": 808
  },
  {
   "cell_type": "code",
   "outputs": [],
   "source": [
    "# 월요일 매출\n",
    "mon = pizza_df.loc[pizza_df['dayofweek']==1,'price'].sum()\n",
    "tue = pizza_df.loc[pizza_df['dayofweek']==1,'price'].sum()\n",
    "wed = pizza_df.loc[pizza_df['dayofweek']==2,'price'].sum()\n",
    "thur = pizza_df.loc[pizza_df['dayofweek']==3,'price'].sum()\n",
    "fri = pizza_df.loc[pizza_df['dayofweek']==4,'price'].sum()\n",
    "sat = pizza_df.loc[pizza_df['dayofweek']==5,'price'].sum()\n",
    "sun = pizza_df.loc[pizza_df['dayofweek']==6,'price'].sum()"
   ],
   "metadata": {
    "collapsed": false,
    "ExecuteTime": {
     "end_time": "2024-06-09T10:19:04.217560Z",
     "start_time": "2024-06-09T10:19:04.164670Z"
    }
   },
   "id": "9d9522f4831a49fd",
   "execution_count": 809
  },
  {
   "cell_type": "code",
   "outputs": [],
   "source": [
    "data = {\n",
    "    '월':[mon],\n",
    "    '화':[tue],\n",
    "    '수':[wed],\n",
    "    '목':[thur],\n",
    "    '금':[fri],\n",
    "    '토':[sat],\n",
    "    '일':[sun]\n",
    "}\n",
    "dayofweek = pd.DataFrame(data)"
   ],
   "metadata": {
    "collapsed": false,
    "ExecuteTime": {
     "end_time": "2024-06-09T10:19:04.308422Z",
     "start_time": "2024-06-09T10:19:04.178841Z"
    }
   },
   "id": "287e5f7e6fed4acc",
   "execution_count": 810
  },
  {
   "cell_type": "code",
   "outputs": [
    {
     "data": {
      "text/plain": "           월          화          수          목          금          토          일\n0  152245600  152245600  157078500  160249900  175597700  159768800  135638800",
      "text/html": "<div>\n<style scoped>\n    .dataframe tbody tr th:only-of-type {\n        vertical-align: middle;\n    }\n\n    .dataframe tbody tr th {\n        vertical-align: top;\n    }\n\n    .dataframe thead th {\n        text-align: right;\n    }\n</style>\n<table border=\"1\" class=\"dataframe\">\n  <thead>\n    <tr style=\"text-align: right;\">\n      <th></th>\n      <th>월</th>\n      <th>화</th>\n      <th>수</th>\n      <th>목</th>\n      <th>금</th>\n      <th>토</th>\n      <th>일</th>\n    </tr>\n  </thead>\n  <tbody>\n    <tr>\n      <th>0</th>\n      <td>152245600</td>\n      <td>152245600</td>\n      <td>157078500</td>\n      <td>160249900</td>\n      <td>175597700</td>\n      <td>159768800</td>\n      <td>135638800</td>\n    </tr>\n  </tbody>\n</table>\n</div>"
     },
     "execution_count": 811,
     "metadata": {},
     "output_type": "execute_result"
    }
   ],
   "source": [
    "dayofweek"
   ],
   "metadata": {
    "collapsed": false,
    "ExecuteTime": {
     "end_time": "2024-06-09T10:19:04.349843Z",
     "start_time": "2024-06-09T10:19:04.300321Z"
    }
   },
   "id": "dfd672fece71ac21",
   "execution_count": 811
  },
  {
   "cell_type": "code",
   "outputs": [
    {
     "data": {
      "text/plain": "Text(0.5, 0, '요일')"
     },
     "execution_count": 812,
     "metadata": {},
     "output_type": "execute_result"
    },
    {
     "data": {
      "text/plain": "<Figure size 640x480 with 1 Axes>",
      "image/png": "[encoded data removed]"
     },
     "metadata": {},
     "output_type": "display_data"
    }
   ],
   "source": [
    "sns.barplot(data=dayofweek)\n",
    "plt.gca().yaxis.set_major_formatter(plt.FuncFormatter(lambda x, _: f'{x/100000:,.0f}'))\n",
    "plt.title('요일별 매출')\n",
    "plt.ylabel('매출(만원)')\n",
    "plt.xlabel('요일')"
   ],
   "metadata": {
    "collapsed": false,
    "ExecuteTime": {
     "end_time": "2024-06-09T10:19:04.561503Z",
     "start_time": "2024-06-09T10:19:04.350446Z"
    }
   },
   "id": "224905def419bd2c",
   "execution_count": 812
  },
  {
   "cell_type": "markdown",
   "source": [
    "## 03. 매장 분석2 : 시간에 따른 매출"
   ],
   "metadata": {
    "collapsed": false
   },
   "id": "6c21f021fa906b6e"
  },
  {
   "cell_type": "markdown",
   "source": [
    "### 시간대별 매출"
   ],
   "metadata": {
    "collapsed": false
   },
   "id": "baed1f14d50b17d2"
  },
  {
   "cell_type": "code",
   "outputs": [],
   "source": [
    "pizza_df['hour'] = pizza_df['order_timestamp'].dt.hour"
   ],
   "metadata": {
    "collapsed": false,
    "ExecuteTime": {
     "end_time": "2024-06-09T10:19:04.562184Z",
     "start_time": "2024-06-09T10:19:04.499484Z"
    }
   },
   "id": "6d4411555a6ddba3",
   "execution_count": 813
  },
  {
   "cell_type": "code",
   "outputs": [
    {
     "data": {
      "text/plain": "       order_id     order_timestamp  order_details_id    pizza_id  quantity  \\\n0             1 2023-01-01 11:45:11                 1  hawaiian_m         1   \n1            11 2023-01-01 12:46:51                27  hawaiian_m         1   \n2            17 2023-01-01 14:11:40                46  hawaiian_m         3   \n3            32 2023-01-01 19:01:13                76  hawaiian_m         1   \n4            60 2023-01-02 18:55:31               137  hawaiian_m         1   \n...         ...                 ...               ...         ...       ...   \n47074     21170 2023-12-27 11:54:11             46662   bulgogi_s         1   \n47075     21228 2023-12-28 12:04:56             46795   bulgogi_s         1   \n47076     21261 2023-12-28 18:27:31             46884   bulgogi_s         1   \n47077     21296 2023-12-30 16:43:57             46953   bulgogi_s         1   \n47078     21323 2023-12-31 13:57:36             47018   bulgogi_s         2   \n\n      pizza_name size  price category                       ingredients  \\\n0        하와이안 피자    M  21800      스페셜           토마토, 베이컨, 파인애플, 모짜렐라 치즈   \n1        하와이안 피자    M  21800      스페셜           토마토, 베이컨, 파인애플, 모짜렐라 치즈   \n2        하와이안 피자    M  21800      스페셜           토마토, 베이컨, 파인애플, 모짜렐라 치즈   \n3        하와이안 피자    M  21800      스페셜           토마토, 베이컨, 파인애플, 모짜렐라 치즈   \n4        하와이안 피자    M  21800      스페셜           토마토, 베이컨, 파인애플, 모짜렐라 치즈   \n...          ...  ...    ...      ...                               ...   \n47074     불고기 피자    S  10800      스페셜  불고기, 불고기 소스, 버섯, 양파, 피망, 모짜렐라 치즈   \n47075     불고기 피자    S  10800      스페셜  불고기, 불고기 소스, 버섯, 양파, 피망, 모짜렐라 치즈   \n47076     불고기 피자    S  10800      스페셜  불고기, 불고기 소스, 버섯, 양파, 피망, 모짜렐라 치즈   \n47077     불고기 피자    S  10800      스페셜  불고기, 불고기 소스, 버섯, 양파, 피망, 모짜렐라 치즈   \n47078     불고기 피자    S  10800      스페셜  불고기, 불고기 소스, 버섯, 양파, 피망, 모짜렐라 치즈   \n\n       month  day  year  dayofweek  hour  \n0          1    1  2023          6    11  \n1          1    1  2023          6    12  \n2          1    1  2023          6    14  \n3          1    1  2023          6    19  \n4          1    2  2023          0    18  \n...      ...  ...   ...        ...   ...  \n47074     12   27  2023          2    11  \n47075     12   28  2023          3    12  \n47076     12   28  2023          3    18  \n47077     12   30  2023          5    16  \n47078     12   31  2023          6    13  \n\n[47079 rows x 15 columns]",
      "text/html": "<div>\n<style scoped>\n    .dataframe tbody tr th:only-of-type {\n        vertical-align: middle;\n    }\n\n    .dataframe tbody tr th {\n        vertical-align: top;\n    }\n\n    .dataframe thead th {\n        text-align: right;\n    }\n</style>\n<table border=\"1\" class=\"dataframe\">\n  <thead>\n    <tr style=\"text-align: right;\">\n      <th></th>\n      <th>order_id</th>\n      <th>order_timestamp</th>\n      <th>order_details_id</th>\n      <th>pizza_id</th>\n      <th>quantity</th>\n      <th>pizza_name</th>\n      <th>size</th>\n      <th>price</th>\n      <th>category</th>\n      <th>ingredients</th>\n      <th>month</th>\n      <th>day</th>\n      <th>year</th>\n      <th>dayofweek</th>\n      <th>hour</th>\n    </tr>\n  </thead>\n  <tbody>\n    <tr>\n      <th>0</th>\n      <td>1</td>\n      <td>2023-01-01 11:45:11</td>\n      <td>1</td>\n      <td>hawaiian_m</td>\n      <td>1</td>\n      <td>하와이안 피자</td>\n      <td>M</td>\n      <td>21800</td>\n      <td>스페셜</td>\n      <td>토마토, 베이컨, 파인애플, 모짜렐라 치즈</td>\n      <td>1</td>\n      <td>1</td>\n      <td>2023</td>\n      <td>6</td>\n      <td>11</td>\n    </tr>\n    <tr>\n      <th>1</th>\n      <td>11</td>\n      <td>2023-01-01 12:46:51</td>\n      <td>27</td>\n      <td>hawaiian_m</td>\n      <td>1</td>\n      <td>하와이안 피자</td>\n      <td>M</td>\n      <td>21800</td>\n      <td>스페셜</td>\n      <td>토마토, 베이컨, 파인애플, 모짜렐라 치즈</td>\n      <td>1</td>\n      <td>1</td>\n      <td>2023</td>\n      <td>6</td>\n      <td>12</td>\n    </tr>\n    <tr>\n      <th>2</th>\n      <td>17</td>\n      <td>2023-01-01 14:11:40</td>\n      <td>46</td>\n      <td>hawaiian_m</td>\n      <td>3</td>\n      <td>하와이안 피자</td>\n      <td>M</td>\n      <td>21800</td>\n      <td>스페셜</td>\n      <td>토마토, 베이컨, 파인애플, 모짜렐라 치즈</td>\n      <td>1</td>\n      <td>1</td>\n      <td>2023</td>\n      <td>6</td>\n      <td>14</td>\n    </tr>\n    <tr>\n      <th>3</th>\n      <td>32</td>\n      <td>2023-01-01 19:01:13</td>\n      <td>76</td>\n      <td>hawaiian_m</td>\n      <td>1</td>\n      <td>하와이안 피자</td>\n      <td>M</td>\n      <td>21800</td>\n      <td>스페셜</td>\n      <td>토마토, 베이컨, 파인애플, 모짜렐라 치즈</td>\n      <td>1</td>\n      <td>1</td>\n      <td>2023</td>\n      <td>6</td>\n      <td>19</td>\n    </tr>\n    <tr>\n      <th>4</th>\n      <td>60</td>\n      <td>2023-01-02 18:55:31</td>\n      <td>137</td>\n      <td>hawaiian_m</td>\n      <td>1</td>\n      <td>하와이안 피자</td>\n      <td>M</td>\n      <td>21800</td>\n      <td>스페셜</td>\n      <td>토마토, 베이컨, 파인애플, 모짜렐라 치즈</td>\n      <td>1</td>\n      <td>2</td>\n      <td>2023</td>\n      <td>0</td>\n      <td>18</td>\n    </tr>\n    <tr>\n      <th>...</th>\n      <td>...</td>\n      <td>...</td>\n      <td>...</td>\n      <td>...</td>\n      <td>...</td>\n      <td>...</td>\n      <td>...</td>\n      <td>...</td>\n      <td>...</td>\n      <td>...</td>\n      <td>...</td>\n      <td>...</td>\n      <td>...</td>\n      <td>...</td>\n      <td>...</td>\n    </tr>\n    <tr>\n      <th>47074</th>\n      <td>21170</td>\n      <td>2023-12-27 11:54:11</td>\n      <td>46662</td>\n      <td>bulgogi_s</td>\n      <td>1</td>\n      <td>불고기 피자</td>\n      <td>S</td>\n      <td>10800</td>\n      <td>스페셜</td>\n      <td>불고기, 불고기 소스, 버섯, 양파, 피망, 모짜렐라 치즈</td>\n      <td>12</td>\n      <td>27</td>\n      <td>2023</td>\n      <td>2</td>\n      <td>11</td>\n    </tr>\n    <tr>\n      <th>47075</th>\n      <td>21228</td>\n      <td>2023-12-28 12:04:56</td>\n      <td>46795</td>\n      <td>bulgogi_s</td>\n      <td>1</td>\n      <td>불고기 피자</td>\n      <td>S</td>\n      <td>10800</td>\n      <td>스페셜</td>\n      <td>불고기, 불고기 소스, 버섯, 양파, 피망, 모짜렐라 치즈</td>\n      <td>12</td>\n      <td>28</td>\n      <td>2023</td>\n      <td>3</td>\n      <td>12</td>\n    </tr>\n    <tr>\n      <th>47076</th>\n      <td>21261</td>\n      <td>2023-12-28 18:27:31</td>\n      <td>46884</td>\n      <td>bulgogi_s</td>\n      <td>1</td>\n      <td>불고기 피자</td>\n      <td>S</td>\n      <td>10800</td>\n      <td>스페셜</td>\n      <td>불고기, 불고기 소스, 버섯, 양파, 피망, 모짜렐라 치즈</td>\n      <td>12</td>\n      <td>28</td>\n      <td>2023</td>\n      <td>3</td>\n      <td>18</td>\n    </tr>\n    <tr>\n      <th>47077</th>\n      <td>21296</td>\n      <td>2023-12-30 16:43:57</td>\n      <td>46953</td>\n      <td>bulgogi_s</td>\n      <td>1</td>\n      <td>불고기 피자</td>\n      <td>S</td>\n      <td>10800</td>\n      <td>스페셜</td>\n      <td>불고기, 불고기 소스, 버섯, 양파, 피망, 모짜렐라 치즈</td>\n      <td>12</td>\n      <td>30</td>\n      <td>2023</td>\n      <td>5</td>\n      <td>16</td>\n    </tr>\n    <tr>\n      <th>47078</th>\n      <td>21323</td>\n      <td>2023-12-31 13:57:36</td>\n      <td>47018</td>\n      <td>bulgogi_s</td>\n      <td>2</td>\n      <td>불고기 피자</td>\n      <td>S</td>\n      <td>10800</td>\n      <td>스페셜</td>\n      <td>불고기, 불고기 소스, 버섯, 양파, 피망, 모짜렐라 치즈</td>\n      <td>12</td>\n      <td>31</td>\n      <td>2023</td>\n      <td>6</td>\n      <td>13</td>\n    </tr>\n  </tbody>\n</table>\n<p>47079 rows × 15 columns</p>\n</div>"
     },
     "execution_count": 814,
     "metadata": {},
     "output_type": "execute_result"
    }
   ],
   "source": [
    "pizza_df"
   ],
   "metadata": {
    "collapsed": false,
    "ExecuteTime": {
     "end_time": "2024-06-09T10:19:04.564199Z",
     "start_time": "2024-06-09T10:19:04.499584Z"
    }
   },
   "id": "f88ed338eed69199",
   "execution_count": 814
  },
  {
   "cell_type": "code",
   "outputs": [
    {
     "data": {
      "text/plain": "1248    10\n0       11\n1       12\n7       13\n2       14\n20      15\n32      16\n17      17\n4       18\n3       19\n12      20\n55      21\n6       22\n1237    23\nName: hour, dtype: int32"
     },
     "execution_count": 815,
     "metadata": {},
     "output_type": "execute_result"
    }
   ],
   "source": [
    "pizza_df['hour'].drop_duplicates().sort_values(ascending=True)"
   ],
   "metadata": {
    "collapsed": false,
    "ExecuteTime": {
     "end_time": "2024-06-09T10:19:04.575522Z",
     "start_time": "2024-06-09T10:19:04.499684Z"
    }
   },
   "id": "c9eec2f9d669ba86",
   "execution_count": 815
  },
  {
   "cell_type": "code",
   "outputs": [],
   "source": [
    "# 시간별 매출\n",
    "hour_10 = pizza_df.loc[pizza_df['hour']==10,'price'].sum()\n",
    "hour_11 = pizza_df.loc[pizza_df['hour']==11,'price'].sum()\n",
    "hour_12 = pizza_df.loc[pizza_df['hour']==12,'price'].sum()\n",
    "hour_13 = pizza_df.loc[pizza_df['hour']==13,'price'].sum()\n",
    "hour_14 = pizza_df.loc[pizza_df['hour']==14,'price'].sum()\n",
    "hour_15 = pizza_df.loc[pizza_df['hour']==15,'price'].sum()\n",
    "hour_16 = pizza_df.loc[pizza_df['hour']==16,'price'].sum()\n",
    "hour_17 = pizza_df.loc[pizza_df['hour']==17,'price'].sum()\n",
    "hour_18 = pizza_df.loc[pizza_df['hour']==18,'price'].sum()\n",
    "hour_19 = pizza_df.loc[pizza_df['hour']==19,'price'].sum()\n",
    "hour_20 = pizza_df.loc[pizza_df['hour']==20,'price'].sum()\n",
    "hour_21 = pizza_df.loc[pizza_df['hour']==21,'price'].sum()\n",
    "hour_22 = pizza_df.loc[pizza_df['hour']==22,'price'].sum()\n",
    "hour_23 = pizza_df.loc[pizza_df['hour']==23,'price'].sum()"
   ],
   "metadata": {
    "collapsed": false,
    "ExecuteTime": {
     "end_time": "2024-06-09T10:19:04.577854Z",
     "start_time": "2024-06-09T10:19:04.508298Z"
    }
   },
   "id": "7d5c9f5490e63580",
   "execution_count": 816
  },
  {
   "cell_type": "code",
   "outputs": [],
   "source": [
    "data = {\n",
    "    '10' : [hour_10],\n",
    "    '11' : [hour_11],\n",
    "    '12' : [hour_12],\n",
    "    '13' : [hour_13],\n",
    "    '14' : [hour_14],\n",
    "    '15' : [hour_15],\n",
    "    '16' : [hour_16],\n",
    "    '17' : [hour_17],\n",
    "    '18' : [hour_18],\n",
    "    '19' : [hour_19],\n",
    "    '20' : [hour_20],\n",
    "    '21' : [hour_21],\n",
    "    '22' : [hour_22],\n",
    "    '23' : [hour_23]\n",
    "}\n",
    "\n",
    "hour_sales = pd.DataFrame(data)"
   ],
   "metadata": {
    "collapsed": false,
    "ExecuteTime": {
     "end_time": "2024-06-09T10:19:04.586439Z",
     "start_time": "2024-06-09T10:19:04.518810Z"
    }
   },
   "id": "24a2ba77d805dda6",
   "execution_count": 817
  },
  {
   "cell_type": "code",
   "outputs": [
    {
     "data": {
      "text/plain": "       10        11         12         13        14        15        16  \\\n0  461000  61702700  124718500  130669500  77242900  76500600  99942400   \n\n          17         18        19        20        21        22       23  \n0  116664600  119506400  98604900  81616300  58340000  32574000  1712000  ",
      "text/html": "<div>\n<style scoped>\n    .dataframe tbody tr th:only-of-type {\n        vertical-align: middle;\n    }\n\n    .dataframe tbody tr th {\n        vertical-align: top;\n    }\n\n    .dataframe thead th {\n        text-align: right;\n    }\n</style>\n<table border=\"1\" class=\"dataframe\">\n  <thead>\n    <tr style=\"text-align: right;\">\n      <th></th>\n      <th>10</th>\n      <th>11</th>\n      <th>12</th>\n      <th>13</th>\n      <th>14</th>\n      <th>15</th>\n      <th>16</th>\n      <th>17</th>\n      <th>18</th>\n      <th>19</th>\n      <th>20</th>\n      <th>21</th>\n      <th>22</th>\n      <th>23</th>\n    </tr>\n  </thead>\n  <tbody>\n    <tr>\n      <th>0</th>\n      <td>461000</td>\n      <td>61702700</td>\n      <td>124718500</td>\n      <td>130669500</td>\n      <td>77242900</td>\n      <td>76500600</td>\n      <td>99942400</td>\n      <td>116664600</td>\n      <td>119506400</td>\n      <td>98604900</td>\n      <td>81616300</td>\n      <td>58340000</td>\n      <td>32574000</td>\n      <td>1712000</td>\n    </tr>\n  </tbody>\n</table>\n</div>"
     },
     "execution_count": 818,
     "metadata": {},
     "output_type": "execute_result"
    }
   ],
   "source": [
    "hour_sales"
   ],
   "metadata": {
    "collapsed": false,
    "ExecuteTime": {
     "end_time": "2024-06-09T10:19:04.588743Z",
     "start_time": "2024-06-09T10:19:04.525714Z"
    }
   },
   "id": "28c0e630a64ddaa4",
   "execution_count": 818
  },
  {
   "cell_type": "code",
   "outputs": [
    {
     "data": {
      "text/plain": "Text(0.5, 1.0, '시간대별 매출')"
     },
     "execution_count": 821,
     "metadata": {},
     "output_type": "execute_result"
    },
    {
     "data": {
      "text/plain": "<Figure size 640x480 with 1 Axes>",
      "image/png": "[encoded data removed]"
     },
     "metadata": {},
     "output_type": "display_data"
    }
   ],
   "source": [
    "sns.barplot(data=hour_sales)\n",
    "plt.gca().yaxis.set_major_formatter(plt.FuncFormatter(lambda x, _: f'{x/100000:,.0f}'))\n",
    "plt.xlabel('시')\n",
    "plt.ylabel('만원')\n",
    "plt.title('시간대별 매출')"
   ],
   "metadata": {
    "collapsed": false,
    "ExecuteTime": {
     "end_time": "2024-06-09T10:19:30.258108Z",
     "start_time": "2024-06-09T10:19:30.112666Z"
    }
   },
   "id": "d1708bd2417b6692",
   "execution_count": 821
  },
  {
   "cell_type": "code",
   "outputs": [],
   "source": [],
   "metadata": {
    "collapsed": false,
    "ExecuteTime": {
     "end_time": "2024-06-09T10:19:05.191310Z",
     "start_time": "2024-06-09T10:19:05.189182Z"
    }
   },
   "id": "d4857e6823f7537e",
   "execution_count": 819
  }
 ],
 "metadata": {
  "kernelspec": {
   "display_name": "Python 3",
   "language": "python",
   "name": "python3"
  },
  "language_info": {
   "codemirror_mode": {
    "name": "ipython",
    "version": 2
   },
   "file_extension": ".py",
   "mimetype": "text/x-python",
   "name": "python",
   "nbconvert_exporter": "python",
   "pygments_lexer": "ipython2",
   "version": "2.7.6"
  }
 },
 "nbformat": 4,
 "nbformat_minor": 5
}
