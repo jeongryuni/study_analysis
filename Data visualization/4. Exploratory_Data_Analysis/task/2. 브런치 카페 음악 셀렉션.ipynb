{
 "cells": [
  {
   "cell_type": "code",
   "execution_count": 1,
   "id": "initial_id",
   "metadata": {
    "collapsed": true,
    "ExecuteTime": {
     "end_time": "2024-05-02T08:57:37.799784Z",
     "start_time": "2024-05-02T08:57:37.797686Z"
    }
   },
   "outputs": [],
   "source": [
    "import pandas as pd\n",
    "import seaborn as sns"
   ]
  },
  {
   "cell_type": "code",
   "outputs": [
    {
     "data": {
      "text/plain": "                               Music  Slow songs or fast songs     Dance  \\\nMusic                       1.000000                  0.075426  0.066719   \nSlow songs or fast songs    0.075426                  1.000000  0.188217   \nDance                       0.066719                  0.188217  1.000000   \nFolk                        0.027648                 -0.062023  0.065863   \nCountry                    -0.014272                 -0.072138  0.055106   \n...                              ...                       ...       ...   \nSpending on healthy eating  0.073037                 -0.027398  0.026210   \nAge                        -0.078058                  0.010998  0.031215   \nHeight                     -0.068002                  0.106873 -0.012681   \nWeight                     -0.128233                  0.125870  0.014024   \nNumber of siblings         -0.011585                  0.002352  0.003952   \n\n                                Folk   Country  Classical music   Musical  \\\nMusic                       0.027648 -0.014272         0.055648  0.056730   \nSlow songs or fast songs   -0.062023 -0.072138        -0.159021 -0.078479   \nDance                       0.065863  0.055106        -0.093125  0.067430   \nFolk                        1.000000  0.391850         0.366988  0.263987   \nCountry                     0.391850  1.000000         0.257474  0.202831   \n...                              ...       ...              ...       ...   \nSpending on healthy eating -0.013442  0.007146         0.077416  0.064933   \nAge                         0.132414  0.074586         0.035176  0.014553   \nHeight                     -0.076549  0.024685        -0.005057 -0.240144   \nWeight                     -0.013412  0.073452         0.010132 -0.152645   \nNumber of siblings          0.089963  0.035615         0.065981  0.063997   \n\n                                 Pop      Rock  Metal or Hardrock  ...  \\\nMusic                       0.059967  0.149958           0.016043  ...   \nSlow songs or fast songs    0.054375 -0.018347           0.050913  ...   \nDance                       0.424794 -0.147867          -0.241477  ...   \nFolk                        0.023641  0.056471           0.062454  ...   \nCountry                     0.000716  0.129917           0.115289  ...   \n...                              ...       ...                ...  ...   \nSpending on healthy eating -0.025233  0.030247          -0.005333  ...   \nAge                         0.020440 -0.000670           0.004109  ...   \nHeight                     -0.133551 -0.024931           0.116562  ...   \nWeight                     -0.093742  0.007529           0.168364  ...   \nNumber of siblings         -0.056471 -0.012299           0.011554  ...   \n\n                            Shopping centres  Branded clothing  \\\nMusic                               0.093707          0.016673   \nSlow songs or fast songs            0.064778          0.002680   \nDance                               0.189977          0.053353   \nFolk                               -0.069797         -0.129808   \nCountry                            -0.071510         -0.057090   \n...                                      ...               ...   \nSpending on healthy eating          0.106373          0.178066   \nAge                                -0.133800         -0.066627   \nHeight                             -0.136491          0.146116   \nWeight                             -0.151023          0.101246   \nNumber of siblings                 -0.060550         -0.041153   \n\n                            Entertainment spending  Spending on looks  \\\nMusic                                     0.043828           0.091142   \nSlow songs or fast songs                  0.106225           0.024667   \nDance                                     0.078635           0.184652   \nFolk                                     -0.099580          -0.121036   \nCountry                                  -0.065920          -0.095447   \n...                                            ...                ...   \nSpending on healthy eating                0.148477           0.237851   \nAge                                      -0.032284          -0.073129   \nHeight                                    0.165349          -0.089903   \nWeight                                    0.141377          -0.085356   \nNumber of siblings                        0.030314          -0.041508   \n\n                            Spending on gadgets  Spending on healthy eating  \\\nMusic                                  0.014790                    0.073037   \nSlow songs or fast songs               0.036608                   -0.027398   \nDance                                  0.078517                    0.026210   \nFolk                                  -0.155832                   -0.013442   \nCountry                                0.000729                    0.007146   \n...                                         ...                         ...   \nSpending on healthy eating             0.243666                    1.000000   \nAge                                   -0.012082                    0.015248   \nHeight                                 0.235986                    0.019720   \nWeight                                 0.244790                    0.029572   \nNumber of siblings                    -0.025614                   -0.082342   \n\n                                 Age    Height    Weight  Number of siblings  \nMusic                      -0.078058 -0.068002 -0.128233           -0.011585  \nSlow songs or fast songs    0.010998  0.106873  0.125870            0.002352  \nDance                       0.031215 -0.012681  0.014024            0.003952  \nFolk                        0.132414 -0.076549 -0.013412            0.089963  \nCountry                     0.074586  0.024685  0.073452            0.035615  \n...                              ...       ...       ...                 ...  \nSpending on healthy eating  0.015248  0.019720  0.029572           -0.082342  \nAge                         1.000000  0.122711  0.238893            0.089174  \nHeight                      0.122711  1.000000  0.735923           -0.005442  \nWeight                      0.238893  0.735923  1.000000           -0.026374  \nNumber of siblings          0.089174 -0.005442 -0.026374            1.000000  \n\n[139 rows x 139 columns]",
      "text/html": "<div>\n<style scoped>\n    .dataframe tbody tr th:only-of-type {\n        vertical-align: middle;\n    }\n\n    .dataframe tbody tr th {\n        vertical-align: top;\n    }\n\n    .dataframe thead th {\n        text-align: right;\n    }\n</style>\n<table border=\"1\" class=\"dataframe\">\n  <thead>\n    <tr style=\"text-align: right;\">\n      <th></th>\n      <th>Music</th>\n      <th>Slow songs or fast songs</th>\n      <th>Dance</th>\n      <th>Folk</th>\n      <th>Country</th>\n      <th>Classical music</th>\n      <th>Musical</th>\n      <th>Pop</th>\n      <th>Rock</th>\n      <th>Metal or Hardrock</th>\n      <th>...</th>\n      <th>Shopping centres</th>\n      <th>Branded clothing</th>\n      <th>Entertainment spending</th>\n      <th>Spending on looks</th>\n      <th>Spending on gadgets</th>\n      <th>Spending on healthy eating</th>\n      <th>Age</th>\n      <th>Height</th>\n      <th>Weight</th>\n      <th>Number of siblings</th>\n    </tr>\n  </thead>\n  <tbody>\n    <tr>\n      <th>Music</th>\n      <td>1.000000</td>\n      <td>0.075426</td>\n      <td>0.066719</td>\n      <td>0.027648</td>\n      <td>-0.014272</td>\n      <td>0.055648</td>\n      <td>0.056730</td>\n      <td>0.059967</td>\n      <td>0.149958</td>\n      <td>0.016043</td>\n      <td>...</td>\n      <td>0.093707</td>\n      <td>0.016673</td>\n      <td>0.043828</td>\n      <td>0.091142</td>\n      <td>0.014790</td>\n      <td>0.073037</td>\n      <td>-0.078058</td>\n      <td>-0.068002</td>\n      <td>-0.128233</td>\n      <td>-0.011585</td>\n    </tr>\n    <tr>\n      <th>Slow songs or fast songs</th>\n      <td>0.075426</td>\n      <td>1.000000</td>\n      <td>0.188217</td>\n      <td>-0.062023</td>\n      <td>-0.072138</td>\n      <td>-0.159021</td>\n      <td>-0.078479</td>\n      <td>0.054375</td>\n      <td>-0.018347</td>\n      <td>0.050913</td>\n      <td>...</td>\n      <td>0.064778</td>\n      <td>0.002680</td>\n      <td>0.106225</td>\n      <td>0.024667</td>\n      <td>0.036608</td>\n      <td>-0.027398</td>\n      <td>0.010998</td>\n      <td>0.106873</td>\n      <td>0.125870</td>\n      <td>0.002352</td>\n    </tr>\n    <tr>\n      <th>Dance</th>\n      <td>0.066719</td>\n      <td>0.188217</td>\n      <td>1.000000</td>\n      <td>0.065863</td>\n      <td>0.055106</td>\n      <td>-0.093125</td>\n      <td>0.067430</td>\n      <td>0.424794</td>\n      <td>-0.147867</td>\n      <td>-0.241477</td>\n      <td>...</td>\n      <td>0.189977</td>\n      <td>0.053353</td>\n      <td>0.078635</td>\n      <td>0.184652</td>\n      <td>0.078517</td>\n      <td>0.026210</td>\n      <td>0.031215</td>\n      <td>-0.012681</td>\n      <td>0.014024</td>\n      <td>0.003952</td>\n    </tr>\n    <tr>\n      <th>Folk</th>\n      <td>0.027648</td>\n      <td>-0.062023</td>\n      <td>0.065863</td>\n      <td>1.000000</td>\n      <td>0.391850</td>\n      <td>0.366988</td>\n      <td>0.263987</td>\n      <td>0.023641</td>\n      <td>0.056471</td>\n      <td>0.062454</td>\n      <td>...</td>\n      <td>-0.069797</td>\n      <td>-0.129808</td>\n      <td>-0.099580</td>\n      <td>-0.121036</td>\n      <td>-0.155832</td>\n      <td>-0.013442</td>\n      <td>0.132414</td>\n      <td>-0.076549</td>\n      <td>-0.013412</td>\n      <td>0.089963</td>\n    </tr>\n    <tr>\n      <th>Country</th>\n      <td>-0.014272</td>\n      <td>-0.072138</td>\n      <td>0.055106</td>\n      <td>0.391850</td>\n      <td>1.000000</td>\n      <td>0.257474</td>\n      <td>0.202831</td>\n      <td>0.000716</td>\n      <td>0.129917</td>\n      <td>0.115289</td>\n      <td>...</td>\n      <td>-0.071510</td>\n      <td>-0.057090</td>\n      <td>-0.065920</td>\n      <td>-0.095447</td>\n      <td>0.000729</td>\n      <td>0.007146</td>\n      <td>0.074586</td>\n      <td>0.024685</td>\n      <td>0.073452</td>\n      <td>0.035615</td>\n    </tr>\n    <tr>\n      <th>...</th>\n      <td>...</td>\n      <td>...</td>\n      <td>...</td>\n      <td>...</td>\n      <td>...</td>\n      <td>...</td>\n      <td>...</td>\n      <td>...</td>\n      <td>...</td>\n      <td>...</td>\n      <td>...</td>\n      <td>...</td>\n      <td>...</td>\n      <td>...</td>\n      <td>...</td>\n      <td>...</td>\n      <td>...</td>\n      <td>...</td>\n      <td>...</td>\n      <td>...</td>\n      <td>...</td>\n    </tr>\n    <tr>\n      <th>Spending on healthy eating</th>\n      <td>0.073037</td>\n      <td>-0.027398</td>\n      <td>0.026210</td>\n      <td>-0.013442</td>\n      <td>0.007146</td>\n      <td>0.077416</td>\n      <td>0.064933</td>\n      <td>-0.025233</td>\n      <td>0.030247</td>\n      <td>-0.005333</td>\n      <td>...</td>\n      <td>0.106373</td>\n      <td>0.178066</td>\n      <td>0.148477</td>\n      <td>0.237851</td>\n      <td>0.243666</td>\n      <td>1.000000</td>\n      <td>0.015248</td>\n      <td>0.019720</td>\n      <td>0.029572</td>\n      <td>-0.082342</td>\n    </tr>\n    <tr>\n      <th>Age</th>\n      <td>-0.078058</td>\n      <td>0.010998</td>\n      <td>0.031215</td>\n      <td>0.132414</td>\n      <td>0.074586</td>\n      <td>0.035176</td>\n      <td>0.014553</td>\n      <td>0.020440</td>\n      <td>-0.000670</td>\n      <td>0.004109</td>\n      <td>...</td>\n      <td>-0.133800</td>\n      <td>-0.066627</td>\n      <td>-0.032284</td>\n      <td>-0.073129</td>\n      <td>-0.012082</td>\n      <td>0.015248</td>\n      <td>1.000000</td>\n      <td>0.122711</td>\n      <td>0.238893</td>\n      <td>0.089174</td>\n    </tr>\n    <tr>\n      <th>Height</th>\n      <td>-0.068002</td>\n      <td>0.106873</td>\n      <td>-0.012681</td>\n      <td>-0.076549</td>\n      <td>0.024685</td>\n      <td>-0.005057</td>\n      <td>-0.240144</td>\n      <td>-0.133551</td>\n      <td>-0.024931</td>\n      <td>0.116562</td>\n      <td>...</td>\n      <td>-0.136491</td>\n      <td>0.146116</td>\n      <td>0.165349</td>\n      <td>-0.089903</td>\n      <td>0.235986</td>\n      <td>0.019720</td>\n      <td>0.122711</td>\n      <td>1.000000</td>\n      <td>0.735923</td>\n      <td>-0.005442</td>\n    </tr>\n    <tr>\n      <th>Weight</th>\n      <td>-0.128233</td>\n      <td>0.125870</td>\n      <td>0.014024</td>\n      <td>-0.013412</td>\n      <td>0.073452</td>\n      <td>0.010132</td>\n      <td>-0.152645</td>\n      <td>-0.093742</td>\n      <td>0.007529</td>\n      <td>0.168364</td>\n      <td>...</td>\n      <td>-0.151023</td>\n      <td>0.101246</td>\n      <td>0.141377</td>\n      <td>-0.085356</td>\n      <td>0.244790</td>\n      <td>0.029572</td>\n      <td>0.238893</td>\n      <td>0.735923</td>\n      <td>1.000000</td>\n      <td>-0.026374</td>\n    </tr>\n    <tr>\n      <th>Number of siblings</th>\n      <td>-0.011585</td>\n      <td>0.002352</td>\n      <td>0.003952</td>\n      <td>0.089963</td>\n      <td>0.035615</td>\n      <td>0.065981</td>\n      <td>0.063997</td>\n      <td>-0.056471</td>\n      <td>-0.012299</td>\n      <td>0.011554</td>\n      <td>...</td>\n      <td>-0.060550</td>\n      <td>-0.041153</td>\n      <td>0.030314</td>\n      <td>-0.041508</td>\n      <td>-0.025614</td>\n      <td>-0.082342</td>\n      <td>0.089174</td>\n      <td>-0.005442</td>\n      <td>-0.026374</td>\n      <td>1.000000</td>\n    </tr>\n  </tbody>\n</table>\n<p>139 rows × 139 columns</p>\n</div>"
     },
     "execution_count": 2,
     "metadata": {},
     "output_type": "execute_result"
    }
   ],
   "source": [
    "df = pd.read_csv('data/young_survey.csv')\n",
    "df.corr(numeric_only=True)"
   ],
   "metadata": {
    "collapsed": false,
    "ExecuteTime": {
     "end_time": "2024-05-02T08:57:37.854758Z",
     "start_time": "2024-05-02T08:57:37.801393Z"
    }
   },
   "id": "c4fa3e7ffc33d19a",
   "execution_count": 2
  },
  {
   "cell_type": "code",
   "outputs": [],
   "source": [
    "brunch_df = df.corr(numeric_only=True)['Getting up']"
   ],
   "metadata": {
    "collapsed": false,
    "ExecuteTime": {
     "end_time": "2024-05-02T08:57:37.897174Z",
     "start_time": "2024-05-02T08:57:37.853462Z"
    }
   },
   "id": "2faf1646a3a74c6e",
   "execution_count": 3
  },
  {
   "cell_type": "code",
   "outputs": [
    {
     "data": {
      "text/plain": "Slow songs or fast songs   -0.052613\nDance                       0.027249\nFolk                       -0.049612\nCountry                    -0.025315\nClassical music             0.014285\nMusical                     0.011869\nPop                         0.079101\nRock                        0.105245\nMetal or Hardrock          -0.026769\nPunk                       -0.029189\nHiphop, Rap                 0.038980\nReggae, Ska                -0.008434\nSwing, Jazz                 0.019556\nRock n roll                 0.028889\nAlternative                 0.027540\nLatino                     -0.015060\nTechno, Trance              0.019863\nOpera                      -0.071819\nName: Getting up, dtype: float64"
     },
     "execution_count": 4,
     "metadata": {},
     "output_type": "execute_result"
    }
   ],
   "source": [
    "brunch_df[1:19]"
   ],
   "metadata": {
    "collapsed": false,
    "ExecuteTime": {
     "end_time": "2024-05-02T08:57:37.965533Z",
     "start_time": "2024-05-02T08:57:37.890302Z"
    }
   },
   "id": "4ac90ab417fb490c",
   "execution_count": 4
  },
  {
   "cell_type": "code",
   "outputs": [
    {
     "data": {
      "text/plain": "Opera                      -0.071819\nSlow songs or fast songs   -0.052613\nFolk                       -0.049612\nPunk                       -0.029189\nMetal or Hardrock          -0.026769\nCountry                    -0.025315\nLatino                     -0.015060\nReggae, Ska                -0.008434\nMusical                     0.011869\nClassical music             0.014285\nSwing, Jazz                 0.019556\nTechno, Trance              0.019863\nDance                       0.027249\nAlternative                 0.027540\nRock n roll                 0.028889\nHiphop, Rap                 0.038980\nPop                         0.079101\nRock                        0.105245\nName: Getting up, dtype: float64"
     },
     "execution_count": 5,
     "metadata": {},
     "output_type": "execute_result"
    }
   ],
   "source": [
    "brunch_df[1:19].sort_values(ascending=True)"
   ],
   "metadata": {
    "collapsed": false,
    "ExecuteTime": {
     "end_time": "2024-05-02T08:57:37.973470Z",
     "start_time": "2024-05-02T08:57:37.895128Z"
    }
   },
   "id": "8a7b8be75d18d113",
   "execution_count": 5
  }
 ],
 "metadata": {
  "kernelspec": {
   "display_name": "Python 3",
   "language": "python",
   "name": "python3"
  },
  "language_info": {
   "codemirror_mode": {
    "name": "ipython",
    "version": 2
   },
   "file_extension": ".py",
   "mimetype": "text/x-python",
   "name": "python",
   "nbconvert_exporter": "python",
   "pygments_lexer": "ipython2",
   "version": "2.7.6"
  }
 },
 "nbformat": 4,
 "nbformat_minor": 5
}
