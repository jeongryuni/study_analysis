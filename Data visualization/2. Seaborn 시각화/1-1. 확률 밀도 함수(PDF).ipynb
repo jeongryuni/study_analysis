{
 "cells": [
  {
   "cell_type": "markdown",
   "source": [
    "## 확률 밀도 함수 (PDF :Probability Density Function)\n",
    "-- 확률 밀도 함수는 데이터셋의 분포를 나타낸다.\n",
    "-- 특정 구간의 확률은 그래프 아래 그 구간의 면적과 동일하다.\n",
    "-- 그래프 아래의 모든 면적을 더하면 1이 된다."
   ],
   "metadata": {
    "collapsed": false
   },
   "id": "3ad6f2b269d5de57"
  }
 ],
 "metadata": {
  "kernelspec": {
   "display_name": "Python 3",
   "language": "python",
   "name": "python3"
  },
  "language_info": {
   "codemirror_mode": {
    "name": "ipython",
    "version": 2
   },
   "file_extension": ".py",
   "mimetype": "text/x-python",
   "name": "python",
   "nbconvert_exporter": "python",
   "pygments_lexer": "ipython2",
   "version": "2.7.6"
  }
 },
 "nbformat": 4,
 "nbformat_minor": 5
}
