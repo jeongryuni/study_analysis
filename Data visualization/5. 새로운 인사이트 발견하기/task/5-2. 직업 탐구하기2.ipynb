{
 "cells": [
  {
   "cell_type": "markdown",
   "source": [
    "## 실습 설명\n",
    "이번에는 여자 비율이 높은 직업과, 남자 비율이 높은 직업이 무엇인지 궁금한데요.\n",
    "\n",
    "groupby 문법을 사용해서 '여성 비율'이 높은 순으로 직업을 나열해 보세요.\n",
    "\n",
    "DataFrame이 아닌 Series로, 'gender'에 대한 값만 아래와 같이 출력되어야 합니다."
   ],
   "metadata": {
    "collapsed": false
   },
   "id": "ae1091c98b96569b"
  },
  {
   "cell_type": "code",
   "outputs": [
    {
     "data": {
      "text/plain": "     age gender     occupation\n0     24      M     technician\n1     53      F          other\n2     23      M         writer\n3     24      M     technician\n4     33      F          other\n..   ...    ...            ...\n938   26      F        student\n939   32      M  administrator\n940   20      M        student\n941   48      F      librarian\n942   22      M        student\n\n[943 rows x 3 columns]",
      "text/html": "<div>\n<style scoped>\n    .dataframe tbody tr th:only-of-type {\n        vertical-align: middle;\n    }\n\n    .dataframe tbody tr th {\n        vertical-align: top;\n    }\n\n    .dataframe thead th {\n        text-align: right;\n    }\n</style>\n<table border=\"1\" class=\"dataframe\">\n  <thead>\n    <tr style=\"text-align: right;\">\n      <th></th>\n      <th>age</th>\n      <th>gender</th>\n      <th>occupation</th>\n    </tr>\n  </thead>\n  <tbody>\n    <tr>\n      <th>0</th>\n      <td>24</td>\n      <td>M</td>\n      <td>technician</td>\n    </tr>\n    <tr>\n      <th>1</th>\n      <td>53</td>\n      <td>F</td>\n      <td>other</td>\n    </tr>\n    <tr>\n      <th>2</th>\n      <td>23</td>\n      <td>M</td>\n      <td>writer</td>\n    </tr>\n    <tr>\n      <th>3</th>\n      <td>24</td>\n      <td>M</td>\n      <td>technician</td>\n    </tr>\n    <tr>\n      <th>4</th>\n      <td>33</td>\n      <td>F</td>\n      <td>other</td>\n    </tr>\n    <tr>\n      <th>...</th>\n      <td>...</td>\n      <td>...</td>\n      <td>...</td>\n    </tr>\n    <tr>\n      <th>938</th>\n      <td>26</td>\n      <td>F</td>\n      <td>student</td>\n    </tr>\n    <tr>\n      <th>939</th>\n      <td>32</td>\n      <td>M</td>\n      <td>administrator</td>\n    </tr>\n    <tr>\n      <th>940</th>\n      <td>20</td>\n      <td>M</td>\n      <td>student</td>\n    </tr>\n    <tr>\n      <th>941</th>\n      <td>48</td>\n      <td>F</td>\n      <td>librarian</td>\n    </tr>\n    <tr>\n      <th>942</th>\n      <td>22</td>\n      <td>M</td>\n      <td>student</td>\n    </tr>\n  </tbody>\n</table>\n<p>943 rows × 3 columns</p>\n</div>"
     },
     "execution_count": 42,
     "metadata": {},
     "output_type": "execute_result"
    }
   ],
   "source": [
    "import pandas as pd\n",
    "\n",
    "df = pd.read_csv('data/occupations.csv')\n",
    "df"
   ],
   "metadata": {
    "collapsed": false,
    "ExecuteTime": {
     "end_time": "2024-05-07T08:43:27.703928Z",
     "start_time": "2024-05-07T08:43:27.694775Z"
    }
   },
   "id": "cbcde0e59769ca0a",
   "execution_count": 42
  },
  {
   "cell_type": "code",
   "outputs": [],
   "source": [
    "df.loc[df['gender'] == 'M', 'gender'] = 0\n",
    "df.loc[df['gender'] == 'F', 'gender'] = 1"
   ],
   "metadata": {
    "collapsed": true,
    "ExecuteTime": {
     "end_time": "2024-05-07T08:43:27.710051Z",
     "start_time": "2024-05-07T08:43:27.703257Z"
    }
   },
   "id": "initial_id",
   "execution_count": 43
  },
  {
   "cell_type": "code",
   "outputs": [
    {
     "data": {
      "text/plain": "     age gender     occupation\n0     24      0     technician\n1     53      1          other\n2     23      0         writer\n3     24      0     technician\n4     33      1          other\n..   ...    ...            ...\n938   26      1        student\n939   32      0  administrator\n940   20      0        student\n941   48      1      librarian\n942   22      0        student\n\n[943 rows x 3 columns]",
      "text/html": "<div>\n<style scoped>\n    .dataframe tbody tr th:only-of-type {\n        vertical-align: middle;\n    }\n\n    .dataframe tbody tr th {\n        vertical-align: top;\n    }\n\n    .dataframe thead th {\n        text-align: right;\n    }\n</style>\n<table border=\"1\" class=\"dataframe\">\n  <thead>\n    <tr style=\"text-align: right;\">\n      <th></th>\n      <th>age</th>\n      <th>gender</th>\n      <th>occupation</th>\n    </tr>\n  </thead>\n  <tbody>\n    <tr>\n      <th>0</th>\n      <td>24</td>\n      <td>0</td>\n      <td>technician</td>\n    </tr>\n    <tr>\n      <th>1</th>\n      <td>53</td>\n      <td>1</td>\n      <td>other</td>\n    </tr>\n    <tr>\n      <th>2</th>\n      <td>23</td>\n      <td>0</td>\n      <td>writer</td>\n    </tr>\n    <tr>\n      <th>3</th>\n      <td>24</td>\n      <td>0</td>\n      <td>technician</td>\n    </tr>\n    <tr>\n      <th>4</th>\n      <td>33</td>\n      <td>1</td>\n      <td>other</td>\n    </tr>\n    <tr>\n      <th>...</th>\n      <td>...</td>\n      <td>...</td>\n      <td>...</td>\n    </tr>\n    <tr>\n      <th>938</th>\n      <td>26</td>\n      <td>1</td>\n      <td>student</td>\n    </tr>\n    <tr>\n      <th>939</th>\n      <td>32</td>\n      <td>0</td>\n      <td>administrator</td>\n    </tr>\n    <tr>\n      <th>940</th>\n      <td>20</td>\n      <td>0</td>\n      <td>student</td>\n    </tr>\n    <tr>\n      <th>941</th>\n      <td>48</td>\n      <td>1</td>\n      <td>librarian</td>\n    </tr>\n    <tr>\n      <th>942</th>\n      <td>22</td>\n      <td>0</td>\n      <td>student</td>\n    </tr>\n  </tbody>\n</table>\n<p>943 rows × 3 columns</p>\n</div>"
     },
     "execution_count": 44,
     "metadata": {},
     "output_type": "execute_result"
    }
   ],
   "source": [
    "df"
   ],
   "metadata": {
    "collapsed": false,
    "ExecuteTime": {
     "end_time": "2024-05-07T08:43:27.715990Z",
     "start_time": "2024-05-07T08:43:27.711908Z"
    }
   },
   "id": "c13324faeec4c572",
   "execution_count": 44
  },
  {
   "cell_type": "code",
   "outputs": [
    {
     "data": {
      "text/plain": "<pandas.core.groupby.generic.DataFrameGroupBy object at 0x13fad3c10>"
     },
     "execution_count": 56,
     "metadata": {},
     "output_type": "execute_result"
    }
   ],
   "source": [
    "df_group = df.groupby('occupation')\n",
    "df_group"
   ],
   "metadata": {
    "collapsed": false,
    "ExecuteTime": {
     "end_time": "2024-05-07T08:48:41.393167Z",
     "start_time": "2024-05-07T08:48:41.390060Z"
    }
   },
   "id": "f74c1f229aea04ac",
   "execution_count": 56
  },
  {
   "cell_type": "code",
   "outputs": [
    {
     "data": {
      "text/plain": "occupation\nadministrator    0.455696\nartist           0.464286\ndoctor                0.0\neducator         0.273684\nengineer         0.029851\nentertainment    0.111111\nexecutive         0.09375\nhealthcare         0.6875\nhomemaker        0.857143\nlawyer           0.166667\nlibrarian        0.568627\nmarketing        0.384615\nnone             0.444444\nother            0.342857\nprogrammer       0.090909\nretired          0.071429\nsalesman             0.25\nscientist        0.096774\nstudent          0.306122\ntechnician       0.037037\nwriter           0.422222\nName: gender, dtype: object"
     },
     "execution_count": 60,
     "metadata": {},
     "output_type": "execute_result"
    }
   ],
   "source": [
    "gender_mean = df_group['gender'].mean()\n",
    "gender_mean"
   ],
   "metadata": {
    "collapsed": false,
    "ExecuteTime": {
     "end_time": "2024-05-07T08:50:46.072957Z",
     "start_time": "2024-05-07T08:50:46.054080Z"
    }
   },
   "id": "f7de5402ee0aa18f",
   "execution_count": 60
  },
  {
   "cell_type": "code",
   "outputs": [
    {
     "data": {
      "text/plain": "occupation\nhomemaker        0.857143\nhealthcare         0.6875\nlibrarian        0.568627\nartist           0.464286\nadministrator    0.455696\nnone             0.444444\nwriter           0.422222\nmarketing        0.384615\nother            0.342857\nstudent          0.306122\neducator         0.273684\nsalesman             0.25\nlawyer           0.166667\nentertainment    0.111111\nscientist        0.096774\nexecutive         0.09375\nprogrammer       0.090909\nretired          0.071429\ntechnician       0.037037\nengineer         0.029851\ndoctor                0.0\nName: gender, dtype: object"
     },
     "execution_count": 63,
     "metadata": {},
     "output_type": "execute_result"
    }
   ],
   "source": [
    "gender_mean.sort_values(ascending=False)"
   ],
   "metadata": {
    "collapsed": false,
    "ExecuteTime": {
     "end_time": "2024-05-07T08:51:29.641435Z",
     "start_time": "2024-05-07T08:51:29.637998Z"
    }
   },
   "id": "78008198654583b4",
   "execution_count": 63
  }
 ],
 "metadata": {
  "kernelspec": {
   "display_name": "Python 3",
   "language": "python",
   "name": "python3"
  },
  "language_info": {
   "codemirror_mode": {
    "name": "ipython",
    "version": 2
   },
   "file_extension": ".py",
   "mimetype": "text/x-python",
   "name": "python",
   "nbconvert_exporter": "python",
   "pygments_lexer": "ipython2",
   "version": "2.7.6"
  }
 },
 "nbformat": 4,
 "nbformat_minor": 5
}
