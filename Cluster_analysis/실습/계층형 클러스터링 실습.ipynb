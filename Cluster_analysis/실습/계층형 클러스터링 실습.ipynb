{
 "cells": [
  {
   "cell_type": "code",
   "execution_count": 5,
   "id": "initial_id",
   "metadata": {
    "collapsed": true,
    "ExecuteTime": {
     "end_time": "2024-07-02T07:18:20.202952Z",
     "start_time": "2024-07-02T07:18:20.191467Z"
    }
   },
   "outputs": [],
   "source": [
    "import pandas as pd\n",
    "from scipy.cluster.hierarchy import dendrogram, linkage, cut_tree\n",
    "import matplotlib.pyplot as plt\n",
    "\n",
    "scaled_df = pd.read_csv('../data/scaled_data.csv', index_col=[0])"
   ]
  },
  {
   "cell_type": "code",
   "outputs": [],
   "source": [
    "#모델 학습\n",
    "model = linkage(scaled_df, 'ward')"
   ],
   "metadata": {
    "collapsed": false,
    "ExecuteTime": {
     "end_time": "2024-07-02T07:19:04.867021Z",
     "start_time": "2024-07-02T07:19:04.861951Z"
    }
   },
   "id": "3c00c4c6a508cc6d",
   "execution_count": 6
  },
  {
   "cell_type": "code",
   "outputs": [
    {
     "data": {
      "text/plain": "label_agg\n0    134\n1     66\n2     25\nName: count, dtype: int64"
     },
     "execution_count": 8,
     "metadata": {},
     "output_type": "execute_result"
    }
   ],
   "source": [
    "# 고객별 클러스터 라벨 구하기\n",
    "cluster_num = 3\n",
    "\n",
    "scaled_df['label_agg'] = cut_tree(model, cluster_num)\n",
    "\n",
    "# 각 클러스터에 포함된 데이터 개수 확인\n",
    "scaled_df['label_agg'].value_counts()"
   ],
   "metadata": {
    "collapsed": false,
    "ExecuteTime": {
     "end_time": "2024-07-02T07:20:44.519232Z",
     "start_time": "2024-07-02T07:20:44.499716Z"
    }
   },
   "id": "cd72f5823fe7879c",
   "execution_count": 8
  }
 ],
 "metadata": {
  "kernelspec": {
   "display_name": "Python 3",
   "language": "python",
   "name": "python3"
  },
  "language_info": {
   "codemirror_mode": {
    "name": "ipython",
    "version": 2
   },
   "file_extension": ".py",
   "mimetype": "text/x-python",
   "name": "python",
   "nbconvert_exporter": "python",
   "pygments_lexer": "ipython2",
   "version": "2.7.6"
  }
 },
 "nbformat": 4,
 "nbformat_minor": 5
}
